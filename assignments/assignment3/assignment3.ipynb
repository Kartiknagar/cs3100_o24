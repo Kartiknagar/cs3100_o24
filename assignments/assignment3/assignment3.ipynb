{
 "cells": [
  {
   "cell_type": "markdown",
   "metadata": {},
   "source": [
    "Before you turn this problem in, make sure everything runs as expected. First, **restart the kernel** (in the menubar, select Kernel$\\rightarrow$Restart) and then **run all cells** (in the menubar, select Cell$\\rightarrow$Run All).\n",
    "\n",
    "Make sure you add your code only in the place where it says `YOUR CODE HERE` or \"YOUR ANSWER HERE\". You must remove the line containing the `raise` command. Add your name and roll number below. If you have discussed any assignment problem with another student, mention the name/roll number of the student along with the problem number as a comment in the box below (using `(* comment *)`)."
   ]
  },
  {
   "cell_type": "code",
   "execution_count": null,
   "metadata": {},
   "outputs": [],
   "source": [
    "let name = \"\"\n",
    "let rollno = \"\""
   ]
  },
  {
   "cell_type": "markdown",
   "metadata": {},
   "source": [
    "## Important notes about grading:\n",
    "\n",
    "1. All code you submit must compile. Programs that do not compile will receive an automatic zero. If you are having trouble getting your assignment to compile, please contact the TAs or the instructor. \n",
    "2. Make sure you do not add any new cells. You must write your code in the designated place only. We use an autograder to grade the submissions, and if your code is not in it's designated place, or you have added a new cell, the autograder may not work correctly. In particular, executing the last cell of the file always adds a new cell at the end, so you must delete this newly added cell.\n",
    "3. All assignments submitted after the deadline will be considered late, and will consume your grace days. \n",
    "4. Your code will also be tested on private testcases, with equal weightage for each public and private testcase. Make sure you test your code on your own testcases as well."
   ]
  },
  {
   "cell_type": "markdown",
   "metadata": {
    "deletable": false,
    "editable": false,
    "nbgrader": {
     "cell_type": "markdown",
     "checksum": "4a482350c4c533e29035f72039d94aec",
     "grade": false,
     "grade_id": "cell-17b894a32de272cd",
     "locked": true,
     "schema_version": 3,
     "solution": false,
     "task": false
    }
   },
   "source": [
    "# Mutability and Modules\n",
    "\n",
    "In this assignment, you will design and implement a couple of mutable data structures and operations on them.\n",
    "\n",
    "## Problem 1\n",
    "\n",
    "Implement structures `IntShowable` and `FloatShowable` that satisfy the following signature. Use `string_of_int: int -> string` and `string_of_float: float -> string` for the corresponding `string_of_t` functions."
   ]
  },
  {
   "cell_type": "code",
   "execution_count": null,
   "metadata": {
    "deletable": false,
    "editable": false,
    "nbgrader": {
     "cell_type": "code",
     "checksum": "d13973bede139512cdb7efc4f5050e5b",
     "grade": false,
     "grade_id": "cell-04b036908715fddb",
     "locked": true,
     "schema_version": 3,
     "solution": false,
     "task": false
    }
   },
   "outputs": [],
   "source": [
    "module type Showable = sig\n",
    "  type t\n",
    "  val string_of_t : t -> string\n",
    "end"
   ]
  },
  {
   "cell_type": "code",
   "execution_count": null,
   "metadata": {
    "deletable": false,
    "nbgrader": {
     "cell_type": "code",
     "checksum": "525dbc643c51667af9098de842d0d467",
     "grade": false,
     "grade_id": "cell-158d909bf026ab70",
     "locked": false,
     "schema_version": 3,
     "solution": true,
     "task": false
    }
   },
   "outputs": [],
   "source": [
    "(* Implement modules IntShowable and FloatShowable below. DO NOT CHANGE THE SHARING CONSTRAINTS *)\n",
    "\n",
    "\n",
    "module IntShowable:Showable with type t = int =\n",
    "(* YOUR CODE HERE *)\n",
    "raise (Failure \"Not implemented\")\n",
    "end\n",
    "\n",
    "module FloatShowable: Showable with type t = float =\n",
    "struct\n",
    "(* YOUR CODE HERE *)\n",
    "raise (Failure \"Not implemented\")\n",
    "end\n"
   ]
  },
  {
   "cell_type": "code",
   "execution_count": null,
   "metadata": {
    "deletable": false,
    "editable": false,
    "nbgrader": {
     "cell_type": "code",
     "checksum": "39058e04b028f19189a95569792f8c50",
     "grade": true,
     "grade_id": "cell-e2c519b404ae59d8",
     "locked": true,
     "points": 5,
     "schema_version": 3,
     "solution": false,
     "task": false
    }
   },
   "outputs": [],
   "source": [
    "(* 5 points *)\n",
    "assert (IntShowable.string_of_t 10 = \"10\");\n",
    "assert (FloatShowable.string_of_t 0.0 = \"0.\")"
   ]
  },
  {
   "cell_type": "markdown",
   "metadata": {
    "deletable": false,
    "editable": false,
    "nbgrader": {
     "cell_type": "markdown",
     "checksum": "5457cfb81ecf1dce730313c3198af639",
     "grade": false,
     "grade_id": "cell-78af33faae62f0b2",
     "locked": true,
     "schema_version": 3,
     "solution": false,
     "task": false
    }
   },
   "source": [
    "## Problem 2\n",
    "\n",
    "Implement a functor \n",
    "\n",
    "```ocaml\n",
    "module MakeNode : \n",
    "  functor (C : Showable) -> \n",
    "    DoublyLinkedListNode with type content = C.t\n",
    "``` \n",
    "\n",
    "where `DoublyLinkedListNode` is the following module type. Use the definition of a doubly linked list node from the lectures (however it will no longer be parameterized by a type variable). You need to ensure that the content field is also mutable."
   ]
  },
  {
   "cell_type": "code",
   "execution_count": null,
   "metadata": {
    "deletable": false,
    "editable": false,
    "nbgrader": {
     "cell_type": "code",
     "checksum": "7d7cad9c2c1cc5985f3e935228b88f50",
     "grade": false,
     "grade_id": "cell-510c52c519be0f60",
     "locked": true,
     "schema_version": 3,
     "solution": false,
     "task": false
    }
   },
   "outputs": [],
   "source": [
    "module type DoublyLinkedListNode = sig\n",
    "  type t\n",
    "  (** The type of doubly linked list node *)\n",
    "  \n",
    "  type content\n",
    "  (** The type of content stored in the doubly linked list node *)\n",
    "\n",
    "  val create : content -> t \n",
    "  (** create a new doubly linked list node with [content] as the content. \n",
    "      The next and previous nodes are [None]. *)\n",
    "  \n",
    "  val get_next : t -> t option\n",
    "  (** [get_next t] returns [Some t'] if [t'] is the successor node of [t]. \n",
    "      If [t] has no successor, then return [None] *)\n",
    "      \n",
    "  val get_prev : t -> t option\n",
    "  (** [get_prev t] returns [Some t'] if [t'] is the predecessor node of [t]. \n",
    "      If [t] has no predecessor, then return [None] *)\n",
    "      \n",
    "  val get_content : t -> content\n",
    "  (** [content t] returns the content [c] of node [t] *)\n",
    "      \n",
    "  val set_next : t -> t option -> unit\n",
    "  (** [set_next t t'] updates the next node of [t] to be [t'] *)\n",
    "  \n",
    "  val set_prev : t -> t option -> unit\n",
    "  (** [set_prev t t'] updates the prev node of [t] to be [t'] *)\n",
    "  \n",
    "  val set_content : t -> content -> unit\n",
    "  (** [set_content t c] updates the content of [t] to be [c] *)\n",
    "  \n",
    "  val string_of_content : t -> string\n",
    "  (** [string_of_content t] returns the string form of content stored in the node t *)\n",
    "end"
   ]
  },
  {
   "cell_type": "code",
   "execution_count": null,
   "metadata": {
    "deletable": false,
    "nbgrader": {
     "cell_type": "code",
     "checksum": "420bc2e181e6363e3f79f9c43cebe182",
     "grade": false,
     "grade_id": "cell-ef73360426263f29",
     "locked": false,
     "schema_version": 3,
     "solution": true,
     "task": false
    }
   },
   "outputs": [],
   "source": [
    "(* Implement the functor MakeNode. DO NOT CHANGE THE SHARING CONSTRAINTS *)\n",
    "\n",
    "\n",
    "module MakeNode (C : Showable) : DoublyLinkedListNode with type content = C.t = struct\n",
    "(* YOUR CODE HERE *)\n",
    "raise (Failure \"Not implemented\")\n",
    "end"
   ]
  },
  {
   "cell_type": "code",
   "execution_count": null,
   "metadata": {
    "deletable": false,
    "editable": false,
    "nbgrader": {
     "cell_type": "code",
     "checksum": "691f56b9a1cd9b97ffd012a280e5a7f1",
     "grade": false,
     "grade_id": "cell-a571bf541c8042c1",
     "locked": true,
     "schema_version": 3,
     "solution": false,
     "task": false
    }
   },
   "outputs": [],
   "source": [
    "module IntNode = MakeNode(IntShowable)"
   ]
  },
  {
   "cell_type": "code",
   "execution_count": null,
   "metadata": {
    "deletable": false,
    "editable": false,
    "nbgrader": {
     "cell_type": "code",
     "checksum": "7523ef70be961a2acb091dff1d55adc5",
     "grade": true,
     "grade_id": "cell-33796bd0b9bbeaaa",
     "locked": true,
     "points": 4,
     "schema_version": 3,
     "solution": false,
     "task": false
    }
   },
   "outputs": [],
   "source": [
    "(* 4 points *)\n",
    "let open IntNode in \n",
    "let i1 = create 1 in\n",
    "assert (get_content i1 = 1);"
   ]
  },
  {
   "cell_type": "code",
   "execution_count": null,
   "metadata": {
    "deletable": false,
    "editable": false,
    "nbgrader": {
     "cell_type": "code",
     "checksum": "46dada636f05c92a62c8cb3f00296a56",
     "grade": true,
     "grade_id": "cell-9ac4ed1728b424da",
     "locked": true,
     "points": 6,
     "schema_version": 3,
     "solution": false,
     "task": false
    }
   },
   "outputs": [],
   "source": [
    "(* 6 points *)\n",
    "let open IntNode in \n",
    "let i1,i2,i3 = create 1, create 2, create 3 in\n",
    "set_next i1 @@ Some i2;\n",
    "set_next i2 @@ Some i3;\n",
    "set_prev i2 @@ Some i1;\n",
    "set_prev i3 @@ Some i2;\n",
    "let _ = assert (match get_next i1 with None -> false | Some i2 -> get_content i2 = 2) in\n",
    "()"
   ]
  },
  {
   "cell_type": "markdown",
   "metadata": {
    "deletable": false,
    "editable": false,
    "nbgrader": {
     "cell_type": "markdown",
     "checksum": "4a8fdfdb5c0ea88fc3bcf6aac38682e5",
     "grade": false,
     "grade_id": "cell-6c01cad3824f060d",
     "locked": true,
     "schema_version": 3,
     "solution": false,
     "task": false
    }
   },
   "source": [
    "## Problem 3\n",
    "\n",
    "Implement a functor \n",
    "\n",
    "```ocaml \n",
    "module MakeList : \n",
    "  functor (N : DoublyLinkedListNode) -> \n",
    "    DoublyLinkedList with type node = N.t \n",
    "                      and type content = N.content\n",
    "```\n",
    "\n",
    "where `DoublyLinkedList` is the following module type. Use the definition of doubly linked list from the lectures.\n"
   ]
  },
  {
   "cell_type": "code",
   "execution_count": null,
   "metadata": {
    "deletable": false,
    "editable": false,
    "nbgrader": {
     "cell_type": "code",
     "checksum": "860e4b0ab9160afa8b902a43dcd78f94",
     "grade": false,
     "grade_id": "cell-672e858c8c679b2e",
     "locked": true,
     "schema_version": 3,
     "solution": false,
     "task": false
    }
   },
   "outputs": [],
   "source": [
    "module type DoublyLinkedList = sig\n",
    "  type t \n",
    "  (** The type of doubly linked list *)\n",
    "  \n",
    "  type node\n",
    "  (** The type of a doubly linked list node *)\n",
    "  \n",
    "  type content\n",
    "  (** The type of content stored in the [node] of doubly linked list *)\n",
    "    \n",
    "  val create : unit -> t \n",
    "  (** Creates a new (empty) doubly linked list *)\n",
    "  \n",
    "  val assign : t -> node option -> unit\n",
    "  (** [assign t n] makes the node as the head node of the list. \n",
    "      The original contents of the list are dropped. *)\n",
    "  \n",
    "  val t_of_list : content list -> t\n",
    "  (** [t_of_list l] returns a new doubly linked list with the list of \n",
    "      elements from the list [l]. *)\n",
    "  \n",
    "  val is_empty : t -> bool\n",
    "  (** [is_empty l] return true if [t] is empty *)\n",
    "  \n",
    "  val first : t -> node option\n",
    "  (** [first l] return [Some n] if the list is non-empty. Otherwise, return [None] *)\n",
    "  \n",
    "  val last : t -> node option\n",
    "  (** [last l] returns the last node in the list. If the list is empty, return None**)\n",
    "  \n",
    "  val insert_first : t -> content -> node\n",
    "  (** [insert_first l c] inserts a new doubly linked list node [n] as the first \n",
    "      node in [l] with [c] as the content. Returns [n]. *)\n",
    "      \n",
    "  val insert_after : node -> content -> node\n",
    "  (** [insert_after n c] inserts a new node [n'] with content [c] after the node [n].\n",
    "      Returns [n']. *)\n",
    "      \n",
    "  val insert_before : t -> node -> content -> node\n",
    "  (** [insert_before n c] inserts a new node [n'] with content [c] before the node [n] in \n",
    "      the list t. Returns [n']. *)\n",
    "  \n",
    "  val remove : t -> node -> unit\n",
    "  (** [remove l n] removes the node [n] from the list [l] *)\n",
    "  \n",
    "  val iter : t -> (content -> unit) -> unit\n",
    "  (** [iter l f] applies [f] to each element of the list in the list order. *)\n",
    "  \n",
    "  val iter_node : t -> (node -> unit) -> unit\n",
    "  (** [iter_node l f] applies [f] to each node of the list in the list order. \n",
    "      [f] may delete the current node or insert a new node after the current node. \n",
    "      In either case, [iter_node] is applied to the rest of the original list. *)\n",
    "  \n",
    "  val find_node : t -> (node -> bool) -> node option\n",
    "  (** [find_node l f] applies the boolean function f on each node of the list in list order,\n",
    "      and returns the first node in the list that satisfies f. If no node in the list satisfies f, \n",
    "      then it returns None.\n",
    "  **)\n",
    "      \n",
    "  val string_of_t : t -> string\n",
    "  (** [string_of_t (t_of_list [1;2;3])] returns the string \"[1->2->3]\".\n",
    "      [string_of_t (t_of_list [])] returns the string \"[]\" *)\n",
    "\n",
    "  val get_at_index : t -> int -> node option\n",
    "  (** get_at_index l i returns node at index i. Assume that indexing starts from 0. If there is no node\n",
    "  at the given index, return None.*)\n",
    "  \n",
    "  val size : t -> int\n",
    "  (** returns the size of the list, i.e. the number of nodes in the list*)\n",
    "end"
   ]
  },
  {
   "cell_type": "code",
   "execution_count": null,
   "metadata": {
    "deletable": false,
    "nbgrader": {
     "cell_type": "code",
     "checksum": "3f1525d55414a5b24efb8a7d508bd648",
     "grade": false,
     "grade_id": "cell-37a66fdc4f8f3b4b",
     "locked": false,
     "schema_version": 3,
     "solution": true,
     "task": false
    }
   },
   "outputs": [],
   "source": [
    "(* Implement the functor MakeList. DO NOT CHANGE THE SHARING CONSTRAINTS *)\n",
    "\n",
    "\n",
    "module MakeList (N : DoublyLinkedListNode) : DoublyLinkedList with type content = N.content \n",
    "                                                               and type node = N.t = \n",
    "struct\n",
    "  (* YOUR CODE HERE *)\n",
    "  raise (Failure \"Not implemented\")\n",
    "end\n",
    "\n"
   ]
  },
  {
   "cell_type": "code",
   "execution_count": null,
   "metadata": {
    "deletable": false,
    "editable": false,
    "nbgrader": {
     "cell_type": "code",
     "checksum": "07adeb89a32ce14f74ee1b62c1777050",
     "grade": true,
     "grade_id": "cell-13adb3683de17ec0",
     "locked": true,
     "points": 20,
     "schema_version": 3,
     "solution": false,
     "task": false
    }
   },
   "outputs": [],
   "source": [
    "(* 20 points *)\n",
    "let module L = MakeList(IntNode) in\n",
    "\n",
    "let open L in\n",
    "assert (is_empty (t_of_list []));\n",
    "\n",
    "let l = t_of_list [1;2;3] in\n",
    "assert (not @@ is_empty l);\n",
    "\n",
    "let n = match first l with \n",
    "| None -> failwith \"impossible\" \n",
    "| Some n -> n\n",
    "in\n",
    "assert (1 = IntNode.get_content n);\n",
    "\n",
    "let n = match last l with \n",
    "| None -> failwith \"impossible\" \n",
    "| Some n -> n\n",
    "in\n",
    "assert (3 = IntNode.get_content n);\n",
    "\n",
    "\n",
    "L.(assign l (first (t_of_list [4;5;6])));\n",
    "match first l with\n",
    "| None -> failwith \"impossible\"\n",
    "| Some n -> assert (IntNode.get_content n = 4);\n",
    "\n",
    "let l = t_of_list [4;5;6] in\n",
    "let n = get_at_index l 1 in\n",
    "match n with\n",
    "| None -> failwith \"impossible\"\n",
    "| Some n -> assert (IntNode.get_content n = 5); let _ = insert_after n 7 in\n",
    "assert (string_of_t l = \"[4->5->7->6]\")\n",
    "\n"
   ]
  },
  {
   "cell_type": "code",
   "execution_count": null,
   "metadata": {
    "deletable": false,
    "editable": false,
    "nbgrader": {
     "cell_type": "code",
     "checksum": "126ab9920460bd7a20719a94c3c49a4c",
     "grade": true,
     "grade_id": "cell-77b4b373e05637e5",
     "locked": true,
     "points": 5,
     "schema_version": 3,
     "solution": false,
     "task": false
    }
   },
   "outputs": [],
   "source": [
    "(* 5 points *)\n",
    "let module L = MakeList(IntNode) in\n",
    "\n",
    "let open L in\n",
    "let l = t_of_list [1;2;3] in\n",
    "let n1 = match first l with\n",
    "  | Some n1 -> n1\n",
    "  | None -> failwith \"impossible\"\n",
    "in\n",
    "let n2 = match IntNode.get_next n1 with\n",
    "  | Some n2 -> n2\n",
    "  | None -> failwith \"impossible\"\n",
    "in\n",
    "remove l n2;\n",
    "let n3 = match IntNode.get_next n1 with\n",
    "  | Some n3 -> n3\n",
    "  | None -> failwith \"impossible\"\n",
    "in\n",
    "let _ = assert (IntNode.get_content n3 = 3) in\n",
    "remove l n1;\n",
    "match first l with\n",
    "| None -> failwith \"impossible\"\n",
    "| Some n3 -> assert (IntNode.get_content n3 = 3)\n"
   ]
  },
  {
   "cell_type": "code",
   "execution_count": null,
   "metadata": {
    "deletable": false,
    "editable": false,
    "nbgrader": {
     "cell_type": "code",
     "checksum": "d2eefd698609376d702068943d83d47f",
     "grade": true,
     "grade_id": "cell-ee91aa7878aa72ef",
     "locked": true,
     "points": 10,
     "schema_version": 3,
     "solution": false,
     "task": false
    }
   },
   "outputs": [],
   "source": [
    "(* 10 points *)\n",
    "let module L = MakeList(IntNode) in\n",
    "let open L in\n",
    "let l = t_of_list [1;2;3] in\n",
    "let s = ref 0 in\n",
    "iter l (fun c -> s := !s + c);\n",
    "assert (!s = 6);\n",
    "iter_node l (fun n -> if IntNode.get_content n mod 2 == 0 then remove l n);\n",
    "let n1 = match first l with\n",
    "  | None -> failwith \"impossible\"\n",
    "  | Some n -> n\n",
    "in\n",
    "assert (IntNode.get_content n1 = 1)\n"
   ]
  },
  {
   "cell_type": "markdown",
   "metadata": {
    "deletable": false,
    "editable": false,
    "nbgrader": {
     "cell_type": "markdown",
     "checksum": "5c14e94da65eb9c4c72409018ce6e4aa",
     "grade": false,
     "grade_id": "cell-12c1e09421150805",
     "locked": true,
     "schema_version": 3,
     "solution": false,
     "task": false
    }
   },
   "source": [
    "## Problem 4\n",
    "\n",
    "In the next couple of problems, the goal is to implement a database using the doubly linked list module from the previous problem. A database stores a collection of *records* (different from OCaml records), where each record consists of a *key* and a *value*, which themselves are a collection of fields (also called *schema* in database terminology). For example, in a student database, the key would be roll number, while the value would consist of fields such as name, DOB, stream, semester, etc. The key may also consist of multiple fields, for example, in a database storing details about faculty advisor of students, the key would be both the student roll number and the faculty name. The point is that for every key instance, there would be at most one record with that key in the database (in database terminology, this is also called the primary key constraint).\n",
    "\n",
    "First, we create module types `Key` and `Value`:\n"
   ]
  },
  {
   "cell_type": "code",
   "execution_count": null,
   "metadata": {
    "deletable": false,
    "editable": false,
    "nbgrader": {
     "cell_type": "code",
     "checksum": "599b63cb80ea2bbaced2dffc95d1166e",
     "grade": false,
     "grade_id": "cell-cb6dfe34e0b34dbd",
     "locked": true,
     "schema_version": 3,
     "solution": false,
     "task": false
    }
   },
   "outputs": [],
   "source": [
    "module type Key = sig\n",
    "  type t\n",
    "  val compare : t -> t -> int\n",
    "  val string_of_t : t -> string\n",
    "end\n",
    "\n",
    "module type Value = Showable"
   ]
  },
  {
   "cell_type": "markdown",
   "metadata": {
    "deletable": false,
    "editable": false,
    "nbgrader": {
     "cell_type": "markdown",
     "checksum": "c9e9e59a5954088795d0d024e107df5c",
     "grade": false,
     "grade_id": "cell-09b6792f44d80ec2",
     "locked": true,
     "schema_version": 3,
     "solution": false,
     "task": false
    }
   },
   "source": [
    "`compare k1 k2` returns a value strictly greater than `0` if `k1 > k2`, it returns `0` if `k1 = k2` and returns a value strictly less than `0` if `k1 < k2`.  Depending on the schema, we will create different modules of types `Key` and `Value`.\n",
    "\n",
    "Now, implement the functor:\n",
    "\n",
    "```ocaml\n",
    "module MakeRecord : \n",
    "  functor (K : Key) (V: Value) -> \n",
    "    Record with type key_type = K.t\n",
    "           with type value_type = V.t \n",
    "``` \n",
    " \n",
    "where the `Record` module type is defined below:"
   ]
  },
  {
   "cell_type": "code",
   "execution_count": null,
   "metadata": {
    "deletable": false,
    "editable": false,
    "nbgrader": {
     "cell_type": "code",
     "checksum": "ba38ed71d7721a5d69056c2ec9f095c1",
     "grade": false,
     "grade_id": "cell-cfdba79360d207f5",
     "locked": true,
     "schema_version": 3,
     "solution": false,
     "task": false
    }
   },
   "outputs": [],
   "source": [
    "module type Record = sig\n",
    "  type key_type\n",
    "  type value_type\n",
    "  type t\n",
    "  (* type of the record *)\n",
    "  \n",
    "  val create_record: key_type -> value_type -> t\n",
    "  (* create k v creates a new record containing k and v *)\n",
    "  \n",
    "  val get_key : t -> key_type\n",
    "  (* get_key r returns the key stored in r *)\n",
    "  \n",
    "  val get_value : t -> value_type\n",
    "  (* get_value r returns the value stored in r *)\n",
    "  \n",
    "  val string_of_t : t -> string\n",
    "  (* string_of_t r returns a string of the form \"k:v\" where k and v are the key and value stored in r. \n",
    "     Use string_ot_t functions of the key and value modules *)\n",
    "end"
   ]
  },
  {
   "cell_type": "code",
   "execution_count": null,
   "metadata": {
    "deletable": false,
    "nbgrader": {
     "cell_type": "code",
     "checksum": "00e9338c25d58fc6811a45000c01c023",
     "grade": false,
     "grade_id": "cell-408bcffc4a499832",
     "locked": false,
     "schema_version": 3,
     "solution": true,
     "task": false
    }
   },
   "outputs": [],
   "source": [
    "(* DO NOT CHANGE THE SHARING CONSTRAINTS *)\n",
    "\n",
    "module MakeRecord (K : Key) (V: Value) : Record with type key_type = K.t\n",
    "                                                with type value_type = V.t = struct\n",
    "    (* YOUR CODE HERE *)\n",
    "    raise (Failure \"Not implemented\")\n",
    "end"
   ]
  },
  {
   "cell_type": "code",
   "execution_count": null,
   "metadata": {
    "deletable": false,
    "editable": false,
    "nbgrader": {
     "cell_type": "code",
     "checksum": "8323d0c74a8db4bdfdc0fd8f171c0775",
     "grade": true,
     "grade_id": "cell-7bb407937b146751",
     "locked": true,
     "points": 10,
     "schema_version": 3,
     "solution": false,
     "task": false
    }
   },
   "outputs": [],
   "source": [
    "(* 10 points *)\n",
    "module StudentsKey:Key with type t = string = struct\n",
    "  type t = string\n",
    "  let compare = String.compare\n",
    "  let string_of_t k = k \n",
    "end\n",
    "\n",
    "type student_value_type = {name: string; hostel: string; cgpa: float}\n",
    "\n",
    "module StudentsValue:Value with type t = student_value_type = struct\n",
    "  type t = student_value_type\n",
    "  let string_of_t v = v.name ^ \", \" ^ v.hostel ^ \", \" ^ (string_of_float v.cgpa)\n",
    "end\n",
    "\n",
    "module StudentsRecord = MakeRecord (StudentsKey) (StudentsValue)\n",
    "\n",
    "let sk1 = \"AE19S078\";;\n",
    "let sv1 = {name = \"Pearce\"; hostel = \"Jamuna\"; cgpa = 7.57};;\n",
    "let sr1 = StudentsRecord.create_record sk1 sv1;;\n",
    "assert (StudentsRecord.string_of_t sr1 = \"AE19S078:Pearce, Jamuna, 7.57\")\n",
    "let sk2 = \"AE23D016\";;\n",
    "let sv2 = {name = \"Bobbe\"; hostel = \"Mandakini\"; cgpa = 6.93};;\n",
    "let sr2 = StudentsRecord.create_record sk2 sv2;;\n",
    "assert (StudentsValue.string_of_t (StudentsRecord.get_value sr2)= \"Bobbe, Mandakini, 6.93\")\n",
    "\n",
    "module FacultyKey:Key with type t = string = struct\n",
    "  type t = string\n",
    "  let compare = String.compare\n",
    "  let string_of_t k = k \n",
    "end\n",
    "\n",
    "type faculty_value_type = {name:string; designation:string; salary:float}\n",
    "\n",
    "module FacultyValue:Value with type t = faculty_value_type = struct\n",
    "  type t = faculty_value_type\n",
    "  let string_of_t v = v.name ^ \", \" ^ v.designation ^ \", \" ^ (string_of_float v.salary)\n",
    "end\n",
    "\n",
    "module FacultyRecord = MakeRecord (FacultyKey) (FacultyValue)\n",
    "\n",
    "let ck1 = \"CS15\";;\n",
    "let cv1 = {name=\"Elvin\"; designation=\"Asst. Professor\"; salary=10000.0};;\n",
    "let ck2 = \"CS10\";;\n",
    "let cv2 = {name=\"Gaston\"; designation=\"Assoc. Professor\"; salary=20000.0};;\n",
    "\n",
    "let cr1 = FacultyRecord.create_record ck1 cv1;;\n",
    "assert(FacultyRecord.string_of_t cr1 = \"CS15:Elvin, Asst. Professor, 10000.\")\n",
    "let cr2 = FacultyRecord.create_record ck2 cv2;;\n",
    "assert(FacultyRecord.get_key cr2 = \"CS10\")\n",
    "\n"
   ]
  },
  {
   "cell_type": "markdown",
   "metadata": {
    "deletable": false,
    "editable": false,
    "nbgrader": {
     "cell_type": "markdown",
     "checksum": "c06a3ec12038249900ab110bf8ba4722",
     "grade": false,
     "grade_id": "cell-a00dd0941ecb4fd6",
     "locked": true,
     "schema_version": 3,
     "solution": false,
     "task": false
    }
   },
   "source": [
    "## Problem 5\n",
    "\n",
    "Next, implement the function:\n",
    "\n",
    "```ocaml\n",
    "module MakeDatabase : \n",
    "  functor (K : Key) (V: Value) -> \n",
    "    Database with type key_type = K.t\n",
    "             with type value_type = V.t \n",
    "             with type record_type = MakeRecord (K)(V).t\n",
    "``` \n",
    "\n",
    "where the module type `Database` is defined below. You must use the doubly linked list module from Problem 3 to store the records. For this, you need to call the MakeList functor with an appropriate module as argument. Each node in the doubly linked list will store a record. Further, you need to ensure that records are stored in increasing order of their keys (using the `compare` function of the `Key` module). \n",
    "\n",
    "As part of the `Database` module, you will need to implement a number of methods for accessing and updating records  which are typically provided by a database. Since you will be internally using the `DoublyLinkedList` module to store the records, you will have to use the methods of `DoublyLinkedList` to access and update the appropriate nodes (or their content) of the linked list. "
   ]
  },
  {
   "cell_type": "code",
   "execution_count": null,
   "metadata": {
    "deletable": false,
    "editable": false,
    "nbgrader": {
     "cell_type": "code",
     "checksum": "01784948228bd1c357f1ef5cf86447c2",
     "grade": false,
     "grade_id": "cell-b2a7055ea9efb846",
     "locked": true,
     "schema_version": 3,
     "solution": false,
     "task": false
    }
   },
   "outputs": [],
   "source": [
    "exception PrimaryKeyViolation\n",
    "\n",
    "module type Database = sig\n",
    "  type key_type\n",
    "  type value_type\n",
    "  type record_type\n",
    "  type t\n",
    "  (* the type of the database. Must be the type t from the DoublyLinkedList module *)\n",
    "  \n",
    "  val create_database : unit ->  t\n",
    "  (* Creates an empty database *)\n",
    "  \n",
    "  val insert_record : t -> key_type -> value_type -> unit\n",
    "  (** insert_record d k v inserts a new record with key k and value v in d \n",
    "      in such a way that the list d should remain sorted. If there already exists a record in d with key k, \n",
    "      then you should generate a PrimaryKeyViolation exception**)\n",
    "  \n",
    "  val select_record : t -> key_type -> record_type option\n",
    "  (** select_record d k returns the (unique) record in the list d with key k. \n",
    "      If no such record exists, it should return the string None. **)\n",
    "      \n",
    "  val select_range_record : t -> key_type -> key_type -> record_type list\n",
    "  (** select_range_record d k1 k2 returns a list records present in d whose keys lie \n",
    "      between k1 and k2 (inclusive). The list must be sorted in ascending order of the keys.\n",
    "      You can assume that k1 < k2.**)\n",
    "      \n",
    "   val select_by_predicate : t -> (record_type -> bool) -> record_type list\n",
    "  (** select_by_predicate d f returns a list of all records in d which satisfy the predicate f.\n",
    "      This list must be sorted in increasing order. If no records satisfy f, the list will be empty **)\n",
    "  \n",
    "  val update_record : t -> key_type -> value_type -> unit\n",
    "  (** update_record d k v updates the record containing key k to have the value v. If the database\n",
    "      does not contain any such record, it remains unchanged.**)\n",
    "  \n",
    "  val update_range_record : t -> key_type -> key_type -> value_type -> unit\n",
    "  (** update_range_record d k1 k2 v updates all the records in d containing keys \n",
    "      between k1 to k2 (inclusive) to have the value v. If the database\n",
    "      does not contain any such record, it remains unchanged.\n",
    "      You can assume that k1 < k2.**)\n",
    "      \n",
    "  val update_by_predicate: t -> (record_type -> bool) -> value_type -> unit\n",
    "  (** update_by_predicate d f v updates all records which satisfy the predicate f by changing\n",
    "      the value to v. Rest of the database remains unchanged. **)\n",
    "      \n",
    "  val delete_record : t -> key_type -> unit\n",
    "  (** delete_record d k deletes the record containing key k in d (if such a record is present),\n",
    "      leaving the rest of the database unchanged.\n",
    "  **)\n",
    "  \n",
    "  val delete_by_predicate: t -> (record_type -> bool) -> unit\n",
    "  (** delete_by_predicate d f deletes all records of the database which satisfy the predicate f, \n",
    "      leaving the rest of the database unchanged.\n",
    "  **)\n",
    "  \n",
    "  val select_min_record : t -> record_type option\n",
    "  (** select_min_record d returns the record with the smallest key in the database,\n",
    "      or None if the database is empty\n",
    "  **)\n",
    "  \n",
    "  val select_max_record : t -> record_type option\n",
    "  (** select_min_record d returns the record with the largest key in the database,\n",
    "      or None if the database is empty\n",
    "  **)\n",
    "  \n",
    "  val select_all : t -> record_type list\n",
    "  (** select_all d returns a list all the records in the database, sorted in increasing\n",
    "      order according to the keys\n",
    "  **)\n",
    "\n",
    "end\n"
   ]
  },
  {
   "cell_type": "code",
   "execution_count": null,
   "metadata": {
    "deletable": false,
    "nbgrader": {
     "cell_type": "code",
     "checksum": "22029675824023745f4b47308ec7f896",
     "grade": false,
     "grade_id": "cell-582552e6e2febff4",
     "locked": false,
     "schema_version": 3,
     "solution": true,
     "task": false
    }
   },
   "outputs": [],
   "source": [
    "(* Implement the MakeDatabase functor below. DO NOT CHANGE THE SHARING CONSTRAINTS. *)\n",
    "\n",
    "exception PrimaryKeyViolation\n",
    "\n",
    "module MakeDatabase (K: Key) (V: Value) : Database with type key_type = K.t\n",
    "                                                   with type value_type = V.t\n",
    "                                                   with type record_type = MakeRecord (K) (V).t\n",
    "                                                   = struct\n",
    "  (* YOUR CODE HERE *)\n",
    "  raise (Failure \"Not implemented\")\n",
    "end\n"
   ]
  },
  {
   "cell_type": "code",
   "execution_count": null,
   "metadata": {
    "deletable": false,
    "editable": false,
    "nbgrader": {
     "cell_type": "code",
     "checksum": "63aaf304b2b7aa20a03f4e6b33c86914",
     "grade": false,
     "grade_id": "cell-aad1d61975349d0f",
     "locked": true,
     "schema_version": 3,
     "solution": false,
     "task": false
    }
   },
   "outputs": [],
   "source": [
    "\n",
    "module StudentsKey:Key with type t = string = struct\n",
    "  type t = string\n",
    "  let compare = String.compare\n",
    "  let string_of_t k = k \n",
    "end\n",
    "\n",
    "type student_value_type = {name: string; hostel: string; cgpa: float}\n",
    "\n",
    "module StudentsValue:Value with type t = student_value_type = struct\n",
    "  type t = student_value_type\n",
    "  let string_of_t v = v.name ^ \", \" ^ v.hostel ^ \", \" ^ (string_of_float v.cgpa)\n",
    "end\n",
    "\n",
    "module StudentsRecord = MakeRecord (StudentsKey) (StudentsValue)\n",
    "\n",
    "module StudentsTable = MakeDatabase (StudentsKey) (StudentsValue)\n",
    "\n",
    "module FacultyKey:Key with type t = string = struct\n",
    "  type t = string\n",
    "  let compare = String.compare\n",
    "  let string_of_t k = k \n",
    "end\n",
    "\n",
    "type faculty_value_type = {name:string; designation:string; salary:float}\n",
    "\n",
    "module FacultyValue:Value with type t = faculty_value_type = struct\n",
    "  type t = faculty_value_type\n",
    "  let string_of_t v = v.name ^ \", \" ^ v.designation ^ \", \" ^ (string_of_float v.salary)\n",
    "end\n",
    "\n",
    "module FacultyTable = MakeDatabase (FacultyKey) (FacultyValue)\n",
    "\n",
    "module FacultyRecord = MakeRecord (FacultyKey) (FacultyValue)\n",
    "\n",
    "\n",
    "module CourseKey:Key with type t = string = struct\n",
    "  type t = string\n",
    "  let compare = String.compare\n",
    "  let string_of_t k = k \n",
    "end\n",
    "\n",
    "type course_value_type = {name:string; semester:string; facultyname:string}\n",
    "\n",
    "module CourseValue:Value with type t = course_value_type = struct\n",
    "  type t = course_value_type\n",
    "  let string_of_t v = v.name ^ \", \" ^ v.semester ^ \", \" ^ v.facultyname\n",
    "end\n",
    "\n",
    "module CourseRecord = MakeRecord (CourseKey) (CourseValue)\n",
    "\n",
    "module CourseTable = MakeDatabase (CourseKey) (CourseValue) \n"
   ]
  },
  {
   "cell_type": "code",
   "execution_count": null,
   "metadata": {
    "deletable": false,
    "editable": false,
    "nbgrader": {
     "cell_type": "code",
     "checksum": "8b0a4b1cb3bddc60df333bfd3c5ea9a7",
     "grade": true,
     "grade_id": "cell-cc53801e0a30ad70",
     "locked": true,
     "points": 10,
     "schema_version": 3,
     "solution": false,
     "task": false
    }
   },
   "outputs": [],
   "source": [
    "(* 10 points *)\n",
    "let sk1 = \"AE19S078\";;\n",
    "let sv1 = {name = \"Pearce\"; hostel = \"Jamuna\"; cgpa = 7.57};;\n",
    "let sd = StudentsTable.create_database ();;\n",
    "let _ = StudentsTable.insert_record sd sk1 sv1;;\n",
    "let f (r: StudentsRecord.t) = StudentsRecord.get_key r = \"AE19S078\";;\n",
    "let l = StudentsTable.select_by_predicate sd f;;\n",
    "match l with\n",
    "| [] -> failwith \"impossible\"\n",
    "| x :: xs -> assert (StudentsRecord.string_of_t x = \"AE19S078:Pearce, Jamuna, 7.57\" && xs = []);;\n",
    "let f (r: StudentsRecord.t) = let v = StudentsRecord.get_value r in v.hostel = \"Mandakini\";;\n",
    "let l = StudentsTable.select_by_predicate sd f;;\n",
    "match l with\n",
    "| [] -> ()\n",
    "| _ -> failwith \"impossible\" \n",
    "let r = StudentsTable.select_record sd sk1;;\n",
    "match r with\n",
    "| None -> failwith \"Error\"\n",
    "| Some r -> assert (StudentsRecord.string_of_t r = \"AE19S078:Pearce, Jamuna, 7.57\")\n"
   ]
  },
  {
   "cell_type": "code",
   "execution_count": null,
   "metadata": {
    "deletable": false,
    "editable": false,
    "nbgrader": {
     "cell_type": "code",
     "checksum": "cba0f62366beea62c1b2bde2d5b7d824",
     "grade": true,
     "grade_id": "cell-e41aa1abb55a7082",
     "locked": true,
     "points": 30,
     "schema_version": 3,
     "solution": false,
     "task": false
    }
   },
   "outputs": [],
   "source": [
    "let ck1 = \"CS6508\";;\n",
    "let cv1 = {name=\"NLP\"; semester=\"EVEN\"; facultyname=\"BVRR\"};;\n",
    "let ck2 = \"CS6044\";;\n",
    "let cv2 = {name=\"Speech Technology\"; semester=\"ODD\"; facultyname=\"RAVI\"};;\n",
    "let ck3 = \"CS6422\";;\n",
    "let cv3 = {name=\"Advanced Wireless Communication and Networks\"; semester=\"EVEN\"; facultyname=\"AYON\"};;\n",
    "let ck4 = \"CS6196\";;\n",
    "let cv4 = {name=\"Stochastic Optimization\"; semester = \"ODD\"; facultyname=\"KKR\"};;\n",
    "let cd = CourseTable.create_database ();;\n",
    "let _ = CourseTable.insert_record cd ck1 cv1;;\n",
    "let _ = CourseTable.insert_record cd ck2 cv2;;\n",
    "let _ = CourseTable.insert_record cd ck3 cv3;;\n",
    "let _ = CourseTable.insert_record cd ck4 cv4;;\n",
    "assert (List.map (fun r -> CourseRecord.string_of_t r) (CourseTable.select_range_record cd \"CS6196\" \"CS6480\") \n",
    "    = [\"CS6196:Stochastic Optimization, ODD, KKR\"; \"CS6422:Advanced Wireless Communication and Networks, EVEN, AYON\"]);;\n",
    "assert (List.map (fun r -> CourseRecord.string_of_t r) \n",
    "        (CourseTable.select_by_predicate cd (fun r -> let v = CourseRecord.get_value r in v.semester=\"ODD\")) = \n",
    "        [\"CS6044:Speech Technology, ODD, RAVI\";\"CS6196:Stochastic Optimization, ODD, KKR\"]);;\n",
    "let _ = CourseTable.update_record cd \"CS6196\" {name=\"Multi-armed bandits\"; semester = \"EVEN\"; facultyname=\"BVRR\"};;\n",
    "let _ = CourseTable.update_record cd \"CS6521\" {name=\"Speech Technology\"; semester=\"ODD\"; facultyname=\"RAVI\"};;\n",
    "assert (List.map (fun r -> CourseRecord.string_of_t r) (CourseTable.select_all cd) = [\"CS6044:Speech Technology, ODD, RAVI\";\n",
    "   \"CS6196:Multi-armed bandits, EVEN, BVRR\";\n",
    "   \"CS6422:Advanced Wireless Communication and Networks, EVEN, AYON\";\n",
    "   \"CS6508:NLP, EVEN, BVRR\"] );;\n",
    "let minr = CourseTable.select_min_record cd in\n",
    "match minr with\n",
    "| None -> failwith \"impossible\"\n",
    "| Some r -> assert (CourseRecord.string_of_t r = \"CS6044:Speech Technology, ODD, RAVI\");;\n",
    "let _ = CourseTable.delete_by_predicate cd (fun r -> let v = CourseRecord.get_value r in v.facultyname=\"BVRR\");;\n",
    "assert (List.map (fun r -> CourseRecord.string_of_t r) (CourseTable.select_all cd) = [\"CS6044:Speech Technology, ODD, RAVI\";\n",
    "   \"CS6422:Advanced Wireless Communication and Networks, EVEN, AYON\"] );;\n",
    "let nv = {name=\"Speech Technology\"; semester=\"EVEN\"; facultyname=\"RAVI\"};;\n",
    "let _ = CourseTable.update_by_predicate cd (fun r -> let k = CourseRecord.get_key r in k = \"CS6044\") nv;;\n",
    "assert (List.map (fun r -> CourseRecord.string_of_t r) (CourseTable.select_all cd) = [\"CS6044:Speech Technology, EVEN, RAVI\";\n",
    "   \"CS6422:Advanced Wireless Communication and Networks, EVEN, AYON\"] );;"
   ]
  }
 ],
 "metadata": {
  "kernelspec": {
   "display_name": "OCaml 4.10",
   "language": "OCaml",
   "name": "ocaml-jupyter"
  },
  "language_info": {
   "codemirror_mode": "text/x-ocaml",
   "file_extension": ".ml",
   "mimetype": "text/x-ocaml",
   "name": "OCaml",
   "nbconverter_exporter": null,
   "pygments_lexer": "OCaml",
   "version": "4.10.0"
  }
 },
 "nbformat": 4,
 "nbformat_minor": 2
}
