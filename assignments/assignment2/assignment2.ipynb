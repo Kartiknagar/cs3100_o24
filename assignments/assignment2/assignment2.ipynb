{
 "cells": [
  {
   "cell_type": "markdown",
   "metadata": {},
   "source": [
    "Before you turn this problem in, make sure everything runs as expected. First, **restart the kernel** (in the menubar, select Kernel$\\rightarrow$Restart) and then **run all cells** (in the menubar, select Cell$\\rightarrow$Run All).\n",
    "\n",
    "Make sure you add your code only in the place where it says `YOUR CODE HERE` or \"YOUR ANSWER HERE\". You must remove the line containing the `raise` command. Add your name and roll number below. If you have discussed any assignment problem with another student, mention the name/roll number of the student along with the problem number as a comment in the box below (using `(* comment *)`)."
   ]
  },
  {
   "cell_type": "code",
   "execution_count": null,
   "metadata": {},
   "outputs": [],
   "source": [
    "let name = \"\"\n",
    "let rollno = \"\""
   ]
  },
  {
   "cell_type": "markdown",
   "metadata": {},
   "source": [
    "## Important notes about grading:\n",
    "\n",
    "1. All code you submit must compile. Programs that do not compile will receive an automatic zero. If you are having trouble getting your assignment to compile, please contact the TAs or the instructor. \n",
    "2. Make sure you do not add any new cells. You must write your code in the designated place only. We use an autograder to grade the submissions, and if your code is not in it's designated place, or you have added a new cell, the autograder may not work correctly. In particular, executing the last cell of the file always adds a new cell at the end, so you must delete this newly added cell.\n",
    "3. All assignments submitted after the deadline will be considered late, and will consume your grace days. \n",
    "4. Your code will also be tested on private testcases, with equal weightage for each public and private testcase. Make sure you test your code on your own testcases as well."
   ]
  },
  {
   "cell_type": "markdown",
   "metadata": {
    "deletable": false,
    "editable": false,
    "nbgrader": {
     "cell_type": "markdown",
     "checksum": "bbeead77b028dcf31a6bc94e84a08c93",
     "grade": false,
     "grade_id": "cell-7c7cac7907d9700a",
     "locked": true,
     "schema_version": 3,
     "solution": false
    }
   },
   "source": [
    "# Lambda Calculus Interpreter\n",
    "\n",
    "In this assignment, you will implement a lambda calculus interpreter which can reduce any lambda term to its normal form. The abstract syntax tree (AST) for lambda expressions is the one that we have seen in class:\n",
    "\n",
    "\n",
    "```ocaml\n",
    "type expr = \n",
    "  | Var of string\n",
    "  | Lam of string * expr\n",
    "  | App of expr * expr\n",
    "```\n",
    "\n",
    "\n",
    "You are provided a parser function `parse_string` that converts a string to this AST and a printer function `string_of_expr` that converts the AST to string. For example, "
   ]
  },
  {
   "cell_type": "code",
   "execution_count": null,
   "metadata": {
    "deletable": false,
    "editable": false,
    "nbgrader": {
     "cell_type": "code",
     "checksum": "52ec513522bbeea55ff57211ad27443f",
     "grade": false,
     "grade_id": "cell-23e1b5549d80c9d4",
     "locked": true,
     "schema_version": 3,
     "solution": false
    }
   },
   "outputs": [],
   "source": [
    "#use \"init.ml\"\n",
    "open Syntax\n",
    "let parse_string = Lambda_parse.parse_string\n",
    "let string_of_expr = string_of_expr\n",
    "\n",
    "let _ = parse_string \"(\\\\x.x) (\\\\y.y)\"\n",
    "let _ = string_of_expr (App (Var \"x\",Lam(\"y\",App(Var \"y\", Var \"x\"))))"
   ]
  },
  {
   "cell_type": "markdown",
   "metadata": {
    "deletable": false,
    "editable": false,
    "nbgrader": {
     "cell_type": "markdown",
     "checksum": "b1ba01e64f4189f0b326fa3910eb8f48",
     "grade": false,
     "grade_id": "cell-194c2c247afe7d06",
     "locked": true,
     "schema_version": 3,
     "solution": false
    }
   },
   "source": [
    "You will need some helper functions to operate over sets. Since we have not studied set data structure in OCaml, we will use lists instead and implement set functionality on top of lists. **You can use any function from the OCaml list standard library for this assignment.** The documentation for OCaml list module is available in the [OCaml manual](https://v2.ocaml.org/api/List.html). **There is no requirement to make any function tail-recursive in this assignment.**"
   ]
  },
  {
   "cell_type": "markdown",
   "metadata": {
    "deletable": false,
    "editable": false,
    "nbgrader": {
     "cell_type": "markdown",
     "checksum": "bf1003bf6e6578d15846a3309d6d4b36",
     "grade": false,
     "grade_id": "cell-32cbd4bef27f6b23",
     "locked": true,
     "schema_version": 3,
     "solution": false
    }
   },
   "source": [
    "## Problem 1\n",
    "\n",
    "Implement a function\n",
    "\n",
    "```ocaml\n",
    "mem : 'a -> 'a list -> bool\n",
    "```\n",
    "\n",
    "`mem e l` returns `true` if the element `e` is present in the list. Otherwise, it returns false. "
   ]
  },
  {
   "cell_type": "code",
   "execution_count": null,
   "metadata": {
    "deletable": false,
    "nbgrader": {
     "cell_type": "code",
     "checksum": "982c4de66be8386f73ebda833847e8fb",
     "grade": false,
     "grade_id": "cell-206225a8fc096ef3",
     "locked": false,
     "schema_version": 3,
     "solution": true
    }
   },
   "outputs": [],
   "source": [
    "let mem e l = \n",
    "  (* YOUR CODE HERE *)\n",
    "  raise (Failure \"Not implemented\")"
   ]
  },
  {
   "cell_type": "code",
   "execution_count": null,
   "metadata": {
    "deletable": false,
    "editable": false,
    "nbgrader": {
     "cell_type": "code",
     "checksum": "307673c2297acfaf755d2ded13b6d7ca",
     "grade": true,
     "grade_id": "cell-625148cc24b57f40",
     "locked": true,
     "points": 5,
     "schema_version": 3,
     "solution": false
    }
   },
   "outputs": [],
   "source": [
    "(* 5 points *)\n",
    "assert (mem \"b\" [\"a\";\"b\";\"c\"] = true);\n",
    "assert (mem \"x\" [\"a\";\"b\";\"c\"] = false)"
   ]
  },
  {
   "cell_type": "markdown",
   "metadata": {
    "deletable": false,
    "editable": false,
    "nbgrader": {
     "cell_type": "markdown",
     "checksum": "ec1a3f5a615f21535810ec2c82d2b383",
     "grade": false,
     "grade_id": "cell-d4ea1587202cb359",
     "locked": true,
     "schema_version": 3,
     "solution": false,
     "task": false
    }
   },
   "source": [
    "## Problem 2\n",
    "\n",
    "Implement a function\n",
    "\n",
    "```ocaml\n",
    "remove_duplicates : 'a list -> 'a list\n",
    "```\n",
    "\n",
    "such that for every element `v` in the input list `l`, there is exactly one instance of `v` in the output list `remove_duplicates l`. Further, ordering of any two elements `v1` and `v2` in the output list is based on the ordering of the first instance of `v1` and `v2` in the input list.  For example, `remove_duplicates [1;2;2;3;1;1;1;4;4;2;2]= [1;2;3;4]`. `remove` from Assignment-1 might be handy here.\n"
   ]
  },
  {
   "cell_type": "code",
   "execution_count": null,
   "metadata": {
    "deletable": false,
    "nbgrader": {
     "cell_type": "code",
     "checksum": "0ca6858a952d989856306c900dcc7e8f",
     "grade": false,
     "grade_id": "cell-4dd11e969c04a997",
     "locked": false,
     "schema_version": 3,
     "solution": true,
     "task": false
    }
   },
   "outputs": [],
   "source": [
    "let rec remove_duplicates l = \n",
    "  (* YOUR CODE HERE *)\n",
    "  raise (Failure \"Not implemented\")"
   ]
  },
  {
   "cell_type": "code",
   "execution_count": null,
   "metadata": {
    "deletable": false,
    "editable": false,
    "nbgrader": {
     "cell_type": "code",
     "checksum": "462f5b9e06de382cd2fd5469fa018f65",
     "grade": true,
     "grade_id": "cell-73687fe02c21e253",
     "locked": true,
     "points": 5,
     "schema_version": 3,
     "solution": false,
     "task": false
    }
   },
   "outputs": [],
   "source": [
    "(* 5 points *)\n",
    "assert (remove_duplicates [1;2;2;3;1;1;1;4;4;2;2] = [1; 2; 3; 4]);\n",
    "assert (remove_duplicates [1;1;1;1;1] = [1])"
   ]
  },
  {
   "cell_type": "markdown",
   "metadata": {
    "deletable": false,
    "editable": false,
    "nbgrader": {
     "cell_type": "markdown",
     "checksum": "1716781cb8e13e162c3deac59f0bb16e",
     "grade": false,
     "grade_id": "cell-c33b1d8b7804ea79",
     "locked": true,
     "schema_version": 3,
     "solution": false
    }
   },
   "source": [
    "## Problem 3\n",
    "\n",
    "Implement a function\n",
    "\n",
    "```ocaml\n",
    "union : string list -> string list -> string list\n",
    "```\n",
    "\n",
    "`union l1 l2` performs set union of strings in `l1` and `l2`. That is, the output list should contain exactly one instance of every string in the input lists `l1` and `l2`. Further, the elements in the output list must be lexicographically sorted. You can use the functions `List.sort` and `remove_duplicates` to implement union. Here is an example of using `List.sort`. "
   ]
  },
  {
   "cell_type": "code",
   "execution_count": null,
   "metadata": {
    "deletable": false,
    "editable": false,
    "nbgrader": {
     "cell_type": "code",
     "checksum": "7ffc0220b4463a829ac120e15090ee3a",
     "grade": false,
     "grade_id": "cell-873b9c400e58dce1",
     "locked": true,
     "schema_version": 3,
     "solution": false
    }
   },
   "outputs": [],
   "source": [
    "assert (List.sort String.compare [\"x\";\"a\";\"b\";\"m\"] = [\"a\";\"b\";\"m\";\"x\"])"
   ]
  },
  {
   "cell_type": "markdown",
   "metadata": {
    "deletable": false,
    "editable": false,
    "nbgrader": {
     "cell_type": "markdown",
     "checksum": "5f9db78698a6b9f5ace2a50439c7eef5",
     "grade": false,
     "grade_id": "cell-ac8b85924181cc76",
     "locked": true,
     "schema_version": 3,
     "solution": false,
     "task": false
    }
   },
   "source": [
    "`List.sort` is a higher-order function that takes an input a binary `compare` function. For this problem, you can use the function `String.compare`, since the `union` function only operates over string lists."
   ]
  },
  {
   "cell_type": "code",
   "execution_count": null,
   "metadata": {
    "deletable": false,
    "nbgrader": {
     "cell_type": "code",
     "checksum": "b6072019c1e4df6000334a0cb9820e2d",
     "grade": false,
     "grade_id": "cell-e498f15f8517e45a",
     "locked": false,
     "schema_version": 3,
     "solution": true
    }
   },
   "outputs": [],
   "source": [
    "let union l1 l2 = \n",
    "  (* YOUR CODE HERE *)\n",
    "  raise (Failure \"Not implemented\")"
   ]
  },
  {
   "cell_type": "code",
   "execution_count": null,
   "metadata": {
    "deletable": false,
    "editable": false,
    "nbgrader": {
     "cell_type": "code",
     "checksum": "f392712c83943e7a69d2692533c032cf",
     "grade": true,
     "grade_id": "cell-42c81525ae442418",
     "locked": true,
     "points": 5,
     "schema_version": 3,
     "solution": false
    }
   },
   "outputs": [],
   "source": [
    "(* 5 points *)\n",
    "assert (union [\"a\"; \"c\"; \"b\"] [\"d\"; \"b\"; \"x\"; \"a\"] = [\"a\"; \"b\"; \"c\"; \"d\"; \"x\"]);\n",
    "assert (union [\"a\";\"b\"] [\"c\"] = [\"a\";\"b\";\"c\"])"
   ]
  },
  {
   "cell_type": "markdown",
   "metadata": {
    "deletable": false,
    "editable": false,
    "nbgrader": {
     "cell_type": "markdown",
     "checksum": "30b735949680c6255e2b4018a4454c3b",
     "grade": false,
     "grade_id": "cell-f1dd9619dc756101",
     "locked": true,
     "schema_version": 3,
     "solution": false
    }
   },
   "source": [
    "## Substitution\n",
    "\n",
    "At the heart of reducing lambda expressions is substitution. Recall from the lecture that substitution requires us to generate fresh variable names that are different from every other name used in the current context. We will use the following helper function to generate fresh names."
   ]
  },
  {
   "cell_type": "code",
   "execution_count": null,
   "metadata": {
    "deletable": false,
    "editable": false,
    "nbgrader": {
     "cell_type": "code",
     "checksum": "e9ecf224ca8aa69242d6d9a5e3fd5565",
     "grade": false,
     "grade_id": "cell-3b59cbec9a54505f",
     "locked": true,
     "schema_version": 3,
     "solution": false
    }
   },
   "outputs": [],
   "source": [
    "let r = ref 0 \n",
    "\n",
    "let r' = r\n",
    "                                                                                    \n",
    "let fresh s =                                                                       \n",
    "  let v = !r in                                                                     \n",
    "  r := !r + 1;                                                                      \n",
    "  s ^ (string_of_int v)"
   ]
  },
  {
   "cell_type": "markdown",
   "metadata": {
    "deletable": false,
    "editable": false,
    "nbgrader": {
     "cell_type": "markdown",
     "checksum": "f2a0457a468910ece58905ff5117eee0",
     "grade": false,
     "grade_id": "cell-74338145db045aa3",
     "locked": true,
     "schema_version": 3,
     "solution": false
    }
   },
   "source": [
    "It uses mutability features of OCaml which we will study in later lectures. You can use the `fresh` function as follows:"
   ]
  },
  {
   "cell_type": "code",
   "execution_count": null,
   "metadata": {
    "deletable": false,
    "editable": false,
    "nbgrader": {
     "cell_type": "code",
     "checksum": "5f6a272761c2c68bb4bf0a24d535be2c",
     "grade": false,
     "grade_id": "cell-5b0d0f27bb9cce3e",
     "locked": true,
     "schema_version": 3,
     "solution": false
    }
   },
   "outputs": [],
   "source": [
    "let a0 = fresh \"a\"\n",
    "let a1 = fresh \"a\""
   ]
  },
  {
   "cell_type": "markdown",
   "metadata": {
    "deletable": false,
    "editable": false,
    "nbgrader": {
     "cell_type": "markdown",
     "checksum": "2f929c7e3289f588544ec18c4893ca96",
     "grade": false,
     "grade_id": "cell-666e566f0f467962",
     "locked": true,
     "schema_version": 3,
     "solution": false,
     "task": false
    }
   },
   "source": [
    "That is, `fresh s` generates a new string obtained by appending `s` with a number. Every call to `fresh s` is guaranteed to append a different number to `s` compared to all the previous calls.  "
   ]
  },
  {
   "cell_type": "markdown",
   "metadata": {
    "deletable": false,
    "editable": false,
    "nbgrader": {
     "cell_type": "markdown",
     "checksum": "684cf798661daf632ee4517551ac26b1",
     "grade": false,
     "grade_id": "cell-6cf021100ee65b2a",
     "locked": true,
     "schema_version": 3,
     "solution": false,
     "task": false
    }
   },
   "source": [
    "## Problem 4\n",
    "\n",
    "Implement a function \n",
    "\n",
    "```ocaml\n",
    "fresh2: string -> string list -> string\n",
    "```\n",
    "\n",
    "such that `fresh2 s l` returns a version of string `s` that is guaranteed to be different from every string in `l`. For example, `fresh2 \"a\" [\"a0\";\"a1\";\"b1\";\"a2\"]` cannot return `a0`, `a1` or `a2`, but can return any other version (e.g. `a3`). You should use the `fresh` function in the definition of `fresh2`. See the testcases for more clarity."
   ]
  },
  {
   "cell_type": "code",
   "execution_count": null,
   "metadata": {
    "deletable": false,
    "nbgrader": {
     "cell_type": "code",
     "checksum": "479344647ef8ea92d4823172ffcb75b5",
     "grade": false,
     "grade_id": "cell-a2baabb3cd58c967",
     "locked": false,
     "schema_version": 3,
     "solution": true,
     "task": false
    }
   },
   "outputs": [],
   "source": [
    "let rec fresh2 s vars = \n",
    "  (* YOUR CODE HERE *)\n",
    "  raise (Failure \"Not implemented\")"
   ]
  },
  {
   "cell_type": "code",
   "execution_count": null,
   "metadata": {
    "deletable": false,
    "editable": false,
    "nbgrader": {
     "cell_type": "code",
     "checksum": "e9b54f36c59a41a109e97ae1c419a6b3",
     "grade": true,
     "grade_id": "cell-9e688c81a2e6f4bf",
     "locked": true,
     "points": 10,
     "schema_version": 3,
     "solution": false,
     "task": false
    }
   },
   "outputs": [],
   "source": [
    "(* 10 points *)\n",
    "assert (List.exists (fun s -> s = (fresh2 \"a\" [\"a0\";\"a1\";\"b0\"])) [\"a0\";\"a1\";\"b0\"] = false);\n",
    "assert (List.exists (fun s -> s = (fresh2 \"b\" [\"a0\";\"a1\";\"b0\"])) [\"a0\";\"a1\";\"b0\"] = false)\n"
   ]
  },
  {
   "cell_type": "markdown",
   "metadata": {
    "deletable": false,
    "editable": false,
    "nbgrader": {
     "cell_type": "markdown",
     "checksum": "29d75acec7b01df24028fa759de6a4d3",
     "grade": false,
     "grade_id": "cell-f675a808f6af1a01",
     "locked": true,
     "schema_version": 3,
     "solution": false
    }
   },
   "source": [
    "## Problem 5\n",
    "\n",
    "Implement a function \n",
    "\n",
    "```ocaml\n",
    "free_variables: expr -> string list\n",
    "```\n",
    "\n",
    "that returns the free variables in the given lambda term. You can use the function ` union` defined earlier. The function `remove` from Assignment-1 can be used for removing an element from a set."
   ]
  },
  {
   "cell_type": "code",
   "execution_count": null,
   "metadata": {
    "deletable": false,
    "nbgrader": {
     "cell_type": "code",
     "checksum": "661276b4380182a3d81dfea20c8cf4c7",
     "grade": false,
     "grade_id": "cell-8ad0bb22f3fca6ed",
     "locked": false,
     "schema_version": 3,
     "solution": true
    }
   },
   "outputs": [],
   "source": [
    "let rec free_variables e = \n",
    "  (* YOUR CODE HERE *)\n",
    "  raise (Failure \"Not implemented\")"
   ]
  },
  {
   "cell_type": "code",
   "execution_count": null,
   "metadata": {
    "deletable": false,
    "editable": false,
    "nbgrader": {
     "cell_type": "code",
     "checksum": "68fd5c0c270891af1004e660e01ac257",
     "grade": true,
     "grade_id": "cell-67d38d859ec6173a",
     "locked": true,
     "points": 10,
     "schema_version": 3,
     "solution": false
    }
   },
   "outputs": [],
   "source": [
    "(* 10 points *)\n",
    "assert (free_variables (parse_string \"\\\\x.x\") = []);\n",
    "assert (free_variables (parse_string \"\\\\x.y\") = [\"y\"]);\n",
    "assert (free_variables (parse_string \"\\\\x.x (\\\\y. y)\") = [])\n"
   ]
  },
  {
   "cell_type": "markdown",
   "metadata": {
    "deletable": false,
    "editable": false,
    "nbgrader": {
     "cell_type": "markdown",
     "checksum": "97f3a132983dfd1eea3f055de621c845",
     "grade": false,
     "grade_id": "cell-1c48542a53d45ed8",
     "locked": true,
     "schema_version": 3,
     "solution": false
    }
   },
   "source": [
    "## Problem 6\n",
    "\n",
    "Implement the function\n",
    "\n",
    "```ocaml\n",
    "substitute : expr -> string -> expr -> expr\n",
    "```\n",
    "\n",
    "where `substitute e x v` does `e[v/x]`. Please use the precise definition of substitute from the lectures. For renaming `\"x\"` in `Lam(\"x\",e)`, you must use a fresh variable which can be obtained by calling `fresh \"x\"`. "
   ]
  },
  {
   "cell_type": "code",
   "execution_count": null,
   "metadata": {
    "deletable": false,
    "nbgrader": {
     "cell_type": "code",
     "checksum": "d1d5e6ca2267f51586b5cc185097dba1",
     "grade": false,
     "grade_id": "cell-c659e5c57a377290",
     "locked": false,
     "schema_version": 3,
     "solution": true
    }
   },
   "outputs": [],
   "source": [
    "let rec substitute expr a b =\n",
    "  (* YOUR CODE HERE *)\n",
    "  raise (Failure \"Not implemented\")"
   ]
  },
  {
   "cell_type": "code",
   "execution_count": null,
   "metadata": {
    "deletable": false,
    "editable": false,
    "nbgrader": {
     "cell_type": "code",
     "checksum": "8fff2f280370006c44e6be1407433661",
     "grade": true,
     "grade_id": "cell-d15558191ca8be99",
     "locked": true,
     "points": 10,
     "schema_version": 3,
     "solution": false
    }
   },
   "outputs": [],
   "source": [
    "(* 10 points *)\n",
    "assert (alpha_equiv \n",
    "          (substitute (parse_string \"\\\\y.x\") \"x\" (parse_string \"\\\\z.z w\")) \n",
    "          (parse_string \"λy.λz.z w\"));\n",
    "assert (alpha_equiv \n",
    "          (substitute (parse_string \"\\\\x.x\") \"x\" (parse_string \"y\"))\n",
    "          (parse_string \"λx.x\"));\n",
    "assert (alpha_equiv \n",
    "          (substitute (parse_string \"\\\\x.y\") \"y\" (parse_string \"x\"))\n",
    "          (parse_string \"λx0.x\"))"
   ]
  },
  {
   "cell_type": "markdown",
   "metadata": {
    "deletable": false,
    "editable": false,
    "nbgrader": {
     "cell_type": "markdown",
     "checksum": "616a109d5c83dfad7feff04dc5ac0d9f",
     "grade": false,
     "grade_id": "cell-3940e1a06c2967ae",
     "locked": true,
     "schema_version": 3,
     "solution": false,
     "task": false
    }
   },
   "source": [
    "## Problem 7\n",
    "\n",
    "Implement the function\n",
    "\n",
    "```ocaml\n",
    "alpha_eq : expr -> expr -> bool\n",
    "```\n",
    "\n",
    "where `alpha_eq e1 e2` returns `true` if the lambda expressions `e1` and `e2` are $\\alpha$-equivalent, `false` otherwise. Please use the precise definition of $\\alpha$-equivalence from the lectures. You will need to use the `fresh2` function defined earlier in Problem 4."
   ]
  },
  {
   "cell_type": "code",
   "execution_count": null,
   "metadata": {
    "deletable": false,
    "nbgrader": {
     "cell_type": "code",
     "checksum": "09e7948637de33783da523fdd32e539c",
     "grade": false,
     "grade_id": "cell-eb52b8099ce39ff0",
     "locked": false,
     "schema_version": 3,
     "solution": true,
     "task": false
    }
   },
   "outputs": [],
   "source": [
    "let rec alpha_eq expr1 expr2 = \n",
    "    (* YOUR CODE HERE *)\n",
    "    raise (Failure \"Not implemented\")"
   ]
  },
  {
   "cell_type": "code",
   "execution_count": null,
   "metadata": {
    "deletable": false,
    "editable": false,
    "nbgrader": {
     "cell_type": "code",
     "checksum": "e003523c84c970a00a8f283714445441",
     "grade": true,
     "grade_id": "cell-d23597deb430fb31",
     "locked": true,
     "points": 10,
     "schema_version": 3,
     "solution": false,
     "task": false
    }
   },
   "outputs": [],
   "source": [
    "(* 10 points *)\n",
    "assert (alpha_eq (parse_string \"\\\\x.x\") (parse_string \"\\\\y.y \"));\n",
    "assert (alpha_eq (parse_string \"\\\\x. \\\\y. y\") (parse_string \"\\\\p. \\\\q. q\"));\n",
    "assert (alpha_eq (parse_string \"\\\\x. \\\\y. \\\\z. x y z\") (parse_string \"\\\\y. \\\\z. \\\\x. y z x\"))\n",
    "\n",
    "\n"
   ]
  },
  {
   "cell_type": "markdown",
   "metadata": {
    "deletable": false,
    "editable": false,
    "nbgrader": {
     "cell_type": "markdown",
     "checksum": "f9b41fcc7a2232cd7015812e900f20ba",
     "grade": false,
     "grade_id": "cell-a4f28d0f25c541d5",
     "locked": true,
     "schema_version": 3,
     "solution": false,
     "task": false
    }
   },
   "source": [
    "## Problem 8\n",
    "\n",
    "In this question, we will demonstrate Church-Rosser Theorem and uniqueness of $\\beta$-normal forms. First, implement the function\n",
    "\n",
    "\n",
    "```ocaml\n",
    "beta_reduce_one_step : expr -> expr list\n",
    "```\n",
    "\n",
    "which performs **one** step of full $\\beta$-reduction on its input lambda expression, and outputs a list of lambda-expressions which can be obtained after one step. If no step can be performed (i.e the input expression is in $\\beta$-normal form), then the output will be an empty list. The lambda-expressions in the output can be in any order.\n",
    "\n",
    "Next, implement the function\n",
    "\n",
    "```ocaml\n",
    "beta_reduce : expr -> expr list \n",
    "```\n",
    "\n",
    "which performs full $\\beta$-reduction on its input lambda expression until it reaches $\\beta$-normal form. For this, you need to repeatedly invoke the `beta_reduce_one_step` function. Note that you need to explore all possible $\\beta$-reductions. The output is a list of $\\beta$-normal forms that you can achieve through all possible reduction paths (see the testcases for more clarity).\n",
    "\n",
    "However, Church-Rosser theorem guarantees that you will achieve the same $\\beta$-normal form through all reduction paths. Hence, the output should contain the same $\\beta$-normal form repeated multiple times, with the number of repetitions being equal to the number of possible $\\beta$-reduction paths.\n",
    "\n",
    "Now, use `beta_reduce` to implement the function\n",
    "\n",
    "```ocaml\n",
    "beta_normal_form: expr -> expr\n",
    "```\n",
    "\n",
    "which returns the unique $\\beta$-normal form of its input lambda expression.\n"
   ]
  },
  {
   "cell_type": "code",
   "execution_count": null,
   "metadata": {
    "deletable": false,
    "nbgrader": {
     "cell_type": "code",
     "checksum": "2874b62f8b87cdecdf7f0f383a965bcc",
     "grade": false,
     "grade_id": "cell-bed846480aaf1da8",
     "locked": false,
     "schema_version": 3,
     "solution": true,
     "task": false
    }
   },
   "outputs": [],
   "source": [
    "let rec beta_reduce_one_step e = \n",
    "    (* YOUR CODE HERE *)\n",
    "    raise (Failure \"Not implemented\")\n",
    "    \n",
    "let beta_reduce e =    \n",
    "        (* YOUR CODE HERE *)\n",
    "        raise (Failure \"Not implemented\")\n",
    "let beta_normal_form e = \n",
    "        (* YOUR CODE HERE *)\n",
    "        raise (Failure \"Not implemented\")\n"
   ]
  },
  {
   "cell_type": "code",
   "execution_count": null,
   "metadata": {
    "deletable": false,
    "editable": false,
    "nbgrader": {
     "cell_type": "code",
     "checksum": "a63676382297b0d4b8810f89b5e7075b",
     "grade": true,
     "grade_id": "cell-41fe3cf7ee2fd5ee",
     "locked": true,
     "points": 10,
     "schema_version": 3,
     "solution": false,
     "task": false
    }
   },
   "outputs": [],
   "source": [
    "(* 10 points *)\n",
    "let _ = assert (List.length (beta_reduce (parse_string \"(\\\\ x.x x) ((\\\\x. y) z)\")) = 3)\n",
    "let _ = List.map (fun e -> assert (alpha_equiv e (parse_string \"y y\")))\n",
    "    (beta_reduce (parse_string \"(\\\\ x.x x) ((\\\\x. y) z)\"))\n",
    "let _ = assert (alpha_equiv (beta_normal_form (parse_string \"(\\\\ x.x x) ((\\\\x. y) z)\")) (parse_string \"y y\") )\n",
    "\n",
    "let _ = assert (List.length (beta_reduce (parse_string \"(\\\\ t. \\\\ f. t) x y\")) = 1)\n",
    "let _ = assert (alpha_equiv (beta_normal_form (parse_string \"(\\\\ t. \\\\ f. t) x y\")) (parse_string \"x\") )\n",
    "\n",
    "let _ = assert (List.length (beta_reduce (parse_string \"(\\\\ t. \\\\ f. t) (\\\\ x.x) y\")) = 1)\n",
    "let _ = assert (alpha_equiv (beta_normal_form (parse_string \"(\\\\ t. \\\\ f. t) (\\\\ x.x) y\")) (parse_string \"\\\\ x.x\") )\n"
   ]
  },
  {
   "cell_type": "code",
   "execution_count": null,
   "metadata": {
    "deletable": false,
    "editable": false,
    "nbgrader": {
     "cell_type": "code",
     "checksum": "bea39e0211943f9bd1cc0a577b6a92e0",
     "grade": true,
     "grade_id": "cell-82ddc96e10e198dd",
     "locked": true,
     "points": 10,
     "schema_version": 3,
     "solution": false,
     "task": false
    }
   },
   "outputs": [],
   "source": [
    "(* 10 points *)\n",
    "let zero = parse_string \"\\\\f.\\\\x. x\" \n",
    "let one = parse_string \"\\\\f.\\\\x. f x\" \n",
    "let two = parse_string \"\\\\f.\\\\x. f (f x)\" \n",
    "let three = parse_string \"\\\\f.\\\\x. f (f (f x))\" \n",
    "\n",
    "let plus = parse_string \"λm. λn. λs. λz. m s (n s z)\" \n",
    "let mult = parse_string \"λm. λn. λs. λz. m (n s) z\" \n",
    "\n",
    "let _ = assert (alpha_equiv (beta_normal_form (App (App (plus, one), two))) three)\n",
    "let _ = assert (alpha_equiv (beta_normal_form (App (App (mult, one), three))) three)"
   ]
  },
  {
   "cell_type": "markdown",
   "metadata": {
    "deletable": false,
    "editable": false,
    "nbgrader": {
     "cell_type": "markdown",
     "checksum": "75175cc4c3b34dcca176b3399be30f73",
     "grade": false,
     "grade_id": "cell-12fc14b9f5ad1bc3",
     "locked": true,
     "schema_version": 3,
     "solution": false,
     "task": false
    }
   },
   "source": [
    "## Problem 9\n",
    "\n",
    "Implement the function \n",
    "\n",
    "```ocaml\n",
    "beta_eq : expr -> expr -> bool\n",
    "```\n",
    "\n",
    "where `beta_eq e1 e2` returns `true` if the lambda expressions `e1` and `e2` are $\\beta$-equivalent, `false` otherwise. Please use the precise definition of $\\beta$-equivalence from the lectures. The `alpha_eq` and `beta_normal_form` functions defined in the previous problems might be useful."
   ]
  },
  {
   "cell_type": "code",
   "execution_count": null,
   "metadata": {
    "deletable": false,
    "nbgrader": {
     "cell_type": "code",
     "checksum": "f9af5189585137ba82d4a6b3f50152fc",
     "grade": false,
     "grade_id": "cell-c1b1375c4e0fcc83",
     "locked": false,
     "schema_version": 3,
     "solution": true,
     "task": false
    }
   },
   "outputs": [],
   "source": [
    "let beta_eq e1 e2 = \n",
    "    (* YOUR CODE HERE *)\n",
    "    raise (Failure \"Not implemented\")\n",
    "  "
   ]
  },
  {
   "cell_type": "code",
   "execution_count": null,
   "metadata": {
    "deletable": false,
    "editable": false,
    "nbgrader": {
     "cell_type": "code",
     "checksum": "600f8c4af17d01cd1030c78808cb0fff",
     "grade": true,
     "grade_id": "cell-3bd3e0e6187af09d",
     "locked": true,
     "points": 10,
     "schema_version": 3,
     "solution": false,
     "task": false
    }
   },
   "outputs": [],
   "source": [
    "(* 10 points *)\n",
    "assert (beta_eq (parse_string \"(\\\\ x.x x) ((\\\\x. y) z)\") (parse_string \"y y\") );\n",
    "assert (beta_eq (parse_string \"(\\\\ t. \\\\ f. t) x y\") (parse_string \"x\"));\n",
    "assert (beta_eq (parse_string \"(\\\\ t. \\\\ f. t) (\\\\ x.x) y\") (parse_string \"\\\\ y.y\"))"
   ]
  },
  {
   "cell_type": "markdown",
   "metadata": {
    "deletable": false,
    "editable": false,
    "nbgrader": {
     "cell_type": "markdown",
     "checksum": "aa0a68a43ed6a7ad1b6084c87e91331f",
     "grade": false,
     "grade_id": "cell-266917f13ff65c87",
     "locked": true,
     "schema_version": 3,
     "solution": false,
     "task": false
    }
   },
   "source": [
    "## Problem 10\n",
    "\n",
    "In this problem, we will repeat the steps in Problems 9,10 but for $\\beta \\eta$-reduction and $\\beta \\eta$-equivalence of lambda-expressions. Implement the following functions:\n",
    "\n",
    "```ocaml\n",
    "beta_eta_reduce_one_step : expr -> expr list\n",
    "```\n",
    "\n",
    "```ocaml\n",
    "beta_eta_reduce : expr -> expr list \n",
    "```\n",
    "\n",
    "```ocaml\n",
    "beta_eta_normal_form: expr -> expr\n",
    "```\n",
    "\n",
    "```ocaml\n",
    "beta_eta_eq : expr -> expr -> bool\n",
    "```\n",
    "\n",
    "Use the precise definition of $\\beta \\eta$-reduction and $\\beta \\eta$-equivalence from the lectures. You can use your implementations from the earlier problems."
   ]
  },
  {
   "cell_type": "code",
   "execution_count": null,
   "metadata": {
    "deletable": false,
    "nbgrader": {
     "cell_type": "code",
     "checksum": "1a9072f763caced641d7a4f67fdf106b",
     "grade": false,
     "grade_id": "cell-8572530d8f782acf",
     "locked": false,
     "schema_version": 3,
     "solution": true,
     "task": false
    }
   },
   "outputs": [],
   "source": [
    "let rec beta_eta_reduce_one_step e = \n",
    "    (* YOUR CODE HERE *)\n",
    "    raise (Failure \"Not implemented\")\n",
    "\n",
    "let beta_eta_reduce e =     \n",
    "    (* YOUR CODE HERE *)\n",
    "    raise (Failure \"Not implemented\")\n",
    "    \n",
    "let beta_eta_normal_form e = \n",
    "    (* YOUR CODE HERE *)\n",
    "    raise (Failure \"Not implemented\")\n",
    "\n",
    "let beta_eta_eq e1 e2 = \n",
    "    (* YOUR CODE HERE *)\n",
    "    raise (Failure \"Not implemented\")"
   ]
  },
  {
   "cell_type": "code",
   "execution_count": null,
   "metadata": {
    "deletable": false,
    "editable": false,
    "nbgrader": {
     "cell_type": "code",
     "checksum": "c2bab428c52fe95027daa4a075ac97bd",
     "grade": true,
     "grade_id": "cell-33c21ddb14bf7695",
     "locked": true,
     "points": 15,
     "schema_version": 3,
     "solution": false,
     "task": false
    }
   },
   "outputs": [],
   "source": [
    "(* 15 points *)\n",
    "let _ = assert (List.length (beta_eta_reduce (parse_string \"\\\\x. f x\")) = 1)\n",
    "let _ = assert (alpha_equiv (beta_eta_normal_form (parse_string \"\\\\x. f x\")) (parse_string \"f\") )\n",
    "let _ = assert (beta_eta_eq (parse_string \"\\\\x. f x\") (parse_string \"f\"))\n",
    "\n",
    "let _ = assert (List.length (beta_eta_reduce (parse_string \"(\\\\ x.x x) ((\\\\x. y) z)\")) = 3)\n",
    "let _ = List.map (fun e -> assert (alpha_equiv e (parse_string \"y y\")))\n",
    "    (beta_eta_reduce (parse_string \"(\\\\ x.x x) ((\\\\x. y) z)\"))\n",
    "let _ = assert (alpha_equiv (beta_eta_normal_form (parse_string \"(\\\\ x.x x) ((\\\\x. y) z)\")) (parse_string \"y y\") )\n",
    "\n",
    "let _ = assert (List.length (beta_eta_reduce (parse_string \"(\\\\ t. \\\\ f. t) (\\\\ x. g x) y\")) = 3)\n",
    "let _ = assert (beta_eta_eq  (parse_string \"(\\\\ t. \\\\ f. t) (\\\\ x. g x) y\") (parse_string \"g\") )\n"
   ]
  }
 ],
 "metadata": {
  "kernelspec": {
   "display_name": "OCaml 4.10",
   "language": "OCaml",
   "name": "ocaml-jupyter"
  },
  "language_info": {
   "codemirror_mode": "text/x-ocaml",
   "file_extension": ".ml",
   "mimetype": "text/x-ocaml",
   "name": "OCaml",
   "nbconverter_exporter": null,
   "pygments_lexer": "OCaml",
   "version": "4.10.0"
  }
 },
 "nbformat": 4,
 "nbformat_minor": 2
}
