{
 "cells": [
  {
   "cell_type": "markdown",
   "metadata": {},
   "source": [
    "Before you turn this problem in, make sure everything runs as expected. First, **restart the kernel** (in the menubar, select Kernel$\\rightarrow$Restart) and then **run all cells** (in the menubar, select Cell$\\rightarrow$Run All).\n",
    "\n",
    "Make sure you add your code only in the place where it says `YOUR CODE HERE` or \"YOUR ANSWER HERE\". You must remove the line containing the `raise` command. Add your name and roll number below. If you have discussed any assignment problem with another student, mention the name/roll number of the student along with the problem number as a comment in the box below (using `(* comment *)`)."
   ]
  },
  {
   "cell_type": "code",
   "execution_count": null,
   "metadata": {},
   "outputs": [],
   "source": [
    "let name = \"\"\n",
    "let rollno = \"\""
   ]
  },
  {
   "cell_type": "markdown",
   "metadata": {},
   "source": [
    "## Important notes about grading:\n",
    "\n",
    "1. All code you submit must compile. Programs that do not compile will receive an automatic zero. If you are having trouble getting your assignment to compile, please contact the TAs or the instructor. \n",
    "2. Make sure you do not add any new cells. You must write your code in the designated place only. We use an autograder to grade the submissions, and if your code is not in it's designated place, or you have added a new cell, the autograder may not work correctly. In particular, executing the last cell of the file always adds a new cell at the end, so you must delete this newly added cell.\n",
    "3. All assignments submitted after the deadline will be considered late, and will consume your grace days. \n",
    "4. **Usage of library functions:** No library function is allowed unless it is explicitly mentioned in the question. Any unauthorized usage of a library function will result in 0 marks for that question.\n",
    "5. Your code will also be tested on private testcases, with equal weightage for each public and private testcase."
   ]
  },
  {
   "cell_type": "markdown",
   "metadata": {
    "deletable": false,
    "editable": false,
    "nbgrader": {
     "cell_type": "markdown",
     "checksum": "2bfdd1ba4d2de5c005be2097cfa33722",
     "grade": false,
     "grade_id": "cell-2e036c6d8c7fb8c0",
     "locked": true,
     "schema_version": 3,
     "solution": false,
     "task": false
    }
   },
   "source": [
    "## Problem 1\n",
    "\n",
    "Implement a function\n",
    "\n",
    "```ocaml\n",
    "find_freq : 'a -> 'a list -> int\n",
    "```\n",
    "\n",
    "such that `find_freq v l` should return the number of times `v` is present in the list `l`."
   ]
  },
  {
   "cell_type": "code",
   "execution_count": null,
   "metadata": {
    "deletable": false,
    "nbgrader": {
     "cell_type": "code",
     "checksum": "1d76567174e228f85d7b69c48b6eb5ae",
     "grade": false,
     "grade_id": "cell-42dbd6d0d9c53262",
     "locked": false,
     "schema_version": 3,
     "solution": true,
     "task": false
    }
   },
   "outputs": [],
   "source": [
    "let rec find_freq v l = \n",
    "(* YOUR CODE HERE *)\n",
    "raise (Failure \"Not implemented\")"
   ]
  },
  {
   "cell_type": "code",
   "execution_count": null,
   "metadata": {
    "deletable": false,
    "editable": false,
    "nbgrader": {
     "cell_type": "code",
     "checksum": "b4c69d58d157db9ab126c364fec8f0f7",
     "grade": true,
     "grade_id": "cell-89523cdb60f8ccef",
     "locked": true,
     "points": 15,
     "schema_version": 3,
     "solution": false,
     "task": false
    }
   },
   "outputs": [],
   "source": [
    "(* 15 points *)\n",
    "assert (find_freq 2 [1;2;2;4;5] = 2)\n",
    ";assert (find_freq 5 [1;2;3;4] = 0)"
   ]
  },
  {
   "cell_type": "markdown",
   "metadata": {
    "deletable": false,
    "editable": false,
    "nbgrader": {
     "cell_type": "markdown",
     "checksum": "64e442ebc2d85231eda3d5ad696c1e5f",
     "grade": false,
     "grade_id": "cell-d9e7460a2004e59c",
     "locked": true,
     "schema_version": 3,
     "solution": false,
     "task": false
    }
   },
   "source": [
    "## Problem 2\n",
    "\n",
    "Consider a robot which can only move on a straight line, either left or right from its current position. Suppose you are given a set of instructions as a list `l` of strings, where each instruction is either the string `\"L\"` or `\"R\"`. If the instruction is `\"L\"`, then the robot should move one step to the left, and if the instruction is `\"R\"`, then the robot should move one step to the right. Implement a function count_moves:\n",
    "\n",
    "```ocaml\n",
    "count_moves : int -> string list -> int\n",
    "```\n",
    "\n",
    "which takes as input the original position of the robot and a list of instructions, and counts the number of moves made by the robot while executing the instructions."
   ]
  },
  {
   "cell_type": "code",
   "execution_count": null,
   "metadata": {
    "deletable": false,
    "nbgrader": {
     "cell_type": "code",
     "checksum": "5ca96a15d27a201a0232ea52e8babe84",
     "grade": false,
     "grade_id": "cell-dde487de40e8e6ea",
     "locked": false,
     "schema_version": 3,
     "solution": true,
     "task": false
    }
   },
   "outputs": [],
   "source": [
    "let rec count_moves s l = \n",
    "(* YOUR CODE HERE *)\n",
    "raise (Failure \"Not implemented\")"
   ]
  },
  {
   "cell_type": "code",
   "execution_count": null,
   "metadata": {
    "deletable": false,
    "editable": false,
    "nbgrader": {
     "cell_type": "code",
     "checksum": "0c0eeb447ae8c93aa57d9c90605eab32",
     "grade": true,
     "grade_id": "cell-53a730948e0a4b64",
     "locked": true,
     "points": 15,
     "schema_version": 3,
     "solution": false,
     "task": false
    }
   },
   "outputs": [],
   "source": [
    "(* 15 points *)\n",
    "assert (count_moves 1 [\"L\";\"R\"] = 2)"
   ]
  },
  {
   "cell_type": "markdown",
   "metadata": {
    "deletable": false,
    "editable": false,
    "nbgrader": {
     "cell_type": "markdown",
     "checksum": "f105d06d4151ce5ebe4055f7c615cf59",
     "grade": false,
     "grade_id": "cell-f43a1a7110fdd2f6",
     "locked": true,
     "schema_version": 3,
     "solution": false,
     "task": false
    }
   },
   "source": [
    "## Problem 3\n",
    "\n",
    "Following on from problem 2, implement a function \n",
    "\n",
    "```ocaml\n",
    "final_position : int -> string list -> int\n",
    "```\n",
    "\n",
    "which takes as input the original position of the robot and a list of instructions, and returns the final position of the robot after executing all the instructions. (Hint: `find_freq` from Problem 1 may be handy)"
   ]
  },
  {
   "cell_type": "code",
   "execution_count": null,
   "metadata": {
    "deletable": false,
    "nbgrader": {
     "cell_type": "code",
     "checksum": "538255240066d38dd05589e9c4134c36",
     "grade": false,
     "grade_id": "cell-ab8740ed17faebe4",
     "locked": false,
     "schema_version": 3,
     "solution": true,
     "task": false
    }
   },
   "outputs": [],
   "source": [
    "let rec final_position s l = \n",
    "(* YOUR CODE HERE *)\n",
    "raise (Failure \"Not implemented\")"
   ]
  },
  {
   "cell_type": "code",
   "execution_count": null,
   "metadata": {
    "deletable": false,
    "editable": false,
    "nbgrader": {
     "cell_type": "code",
     "checksum": "7c4bb63211a206632c283dabdfc42a1f",
     "grade": true,
     "grade_id": "cell-0f2c502a584566af",
     "locked": true,
     "points": 15,
     "schema_version": 3,
     "solution": false,
     "task": false
    }
   },
   "outputs": [],
   "source": [
    "(* 15 points *)\n",
    "assert (final_position 10 [\"L\";\"R\"] = 10)"
   ]
  },
  {
   "cell_type": "markdown",
   "metadata": {
    "deletable": false,
    "editable": false,
    "nbgrader": {
     "cell_type": "markdown",
     "checksum": "ca729cfa646ddd4bfaac1327fb2d351b",
     "grade": false,
     "grade_id": "cell-0ce6fbd5766e66e1",
     "locked": true,
     "schema_version": 3,
     "solution": false,
     "task": false
    }
   },
   "source": [
    "## Problem 4\n",
    "\n",
    "Implement a function \n",
    "\n",
    "```ocaml\n",
    "insert_at : 'a -> int -> 'a list -> 'a list\n",
    "```\n",
    "\n",
    "such that `insert_at v i l` should insert `v` at the index `i` in list `l` and return the resultant list. Note that indexing starts from 0. If index `i` exceeds the length of `l`, then `v` should be inserted at the end of the list. The behavior is undefined if `i` $<0$ (i.e. we will not test for such values). "
   ]
  },
  {
   "cell_type": "code",
   "execution_count": null,
   "metadata": {
    "deletable": false,
    "nbgrader": {
     "cell_type": "code",
     "checksum": "f5f40681e8e068a456fbefbd1f5f2736",
     "grade": false,
     "grade_id": "cell-d741dc96c880b9b5",
     "locked": false,
     "schema_version": 3,
     "solution": true,
     "task": false
    }
   },
   "outputs": [],
   "source": [
    "let rec insert_at v i lst =\n",
    "  (* YOUR CODE HERE *)\n",
    "  raise (Failure \"Not implemented\")"
   ]
  },
  {
   "cell_type": "code",
   "execution_count": null,
   "metadata": {
    "deletable": false,
    "editable": false,
    "nbgrader": {
     "cell_type": "code",
     "checksum": "ed83c753782b12130c9fd4178bfff5de",
     "grade": true,
     "grade_id": "cell-198064874b755efe",
     "locked": true,
     "points": 15,
     "schema_version": 3,
     "solution": false,
     "task": false
    }
   },
   "outputs": [],
   "source": [
    "(* 15 points *)\n",
    "assert (insert_at 1 0 [2] = [1;2]);\n",
    "assert (insert_at 10 4 [1; 2; 3; 4] = [1;2;3;4;10])"
   ]
  },
  {
   "cell_type": "markdown",
   "metadata": {
    "deletable": false,
    "editable": false,
    "nbgrader": {
     "cell_type": "markdown",
     "checksum": "0a737ac54ae8627b835b826efda4aca3",
     "grade": false,
     "grade_id": "cell-b571ffe5fd301657",
     "locked": true,
     "schema_version": 3,
     "solution": false,
     "task": false
    }
   },
   "source": [
    "## Problem 5\n",
    "\n",
    "Implement a function\n",
    "\n",
    "```ocaml\n",
    "remove : 'a -> 'a list -> 'a list\n",
    "```\n",
    "\n",
    "such that `remove v l` should remove every occurrence of `v` from the list `l`, and return the resultant list. Further, you need to ensure that the implementation is tail-recursive. You can use the library function List.rev (which reverses a list) in your implementation. More information on the List module is here: https://ocaml.org/manual/5.2/api/List.html. Note that this is the only library function allowed.\n",
    "\n",
    "There will be a 50% penalty if your implementation is not tail-recursive."
   ]
  },
  {
   "cell_type": "code",
   "execution_count": null,
   "metadata": {
    "deletable": false,
    "nbgrader": {
     "cell_type": "code",
     "checksum": "bd286ba4b5f14f7ed46035fb2dd95064",
     "grade": false,
     "grade_id": "cell-9edc7695dfbf3748",
     "locked": false,
     "schema_version": 3,
     "solution": true,
     "task": false
    }
   },
   "outputs": [],
   "source": [
    "let remove v l =\n",
    "  (* YOUR CODE HERE *)\n",
    "  raise (Failure \"Not implemented\")"
   ]
  },
  {
   "cell_type": "code",
   "execution_count": null,
   "metadata": {
    "deletable": false,
    "editable": false,
    "nbgrader": {
     "cell_type": "code",
     "checksum": "8d3fb1e97dcdbf402e74cb33758501f6",
     "grade": true,
     "grade_id": "cell-1759d3ed2b1c8ebb",
     "locked": true,
     "points": 15,
     "schema_version": 3,
     "solution": false,
     "task": false
    }
   },
   "outputs": [],
   "source": [
    "(* 15 points *)\n",
    "assert (remove \"d\" [\"a\";\"b\";\"c\";\"d\"] = [\"a\";\"b\";\"c\"]);\n",
    "assert (remove 2 [1;2;3;2;4;5] = [1;3;4;5])\n"
   ]
  },
  {
   "cell_type": "markdown",
   "metadata": {
    "deletable": false,
    "editable": false,
    "nbgrader": {
     "cell_type": "markdown",
     "checksum": "245524c1aa88835e1ad9a52edc0ee1f6",
     "grade": false,
     "grade_id": "cell-099ae4fc45970f80",
     "locked": true,
     "schema_version": 3,
     "solution": false,
     "task": false
    }
   },
   "source": [
    "## Problem 6\n",
    "\n",
    "In this problem, we will implement a method to compute similarity between two lists. This could be used, for example, in plagiarism detection to detect similarity between two documents (by representing a document as a list of strings).\n",
    "\n",
    "First, we associate each list with a mathematical vector, represented as a list of numbers. The indices of the vector correspond to elements of the list, and the value at each index is how many times that element occurs in the list.\n",
    "\n",
    "For example, for the lists `l1 = [\"a\";\"b\";\"c\";\"d\"]` and `l2 = [\"d\";\"d\";\"d\";\"b\"]`, we first compute vectors of length 4, accounting for all the unique elements in the two lists. The vectors for l1 and l2 would be as follows:\n",
    "\n",
    "| | `\"a\"` | `\"b\"` | `\"c\"` | `\"d\"` |\n",
    "|--- | --- | --- | --- | --- |\n",
    "| l1 | 1 | 1 | 1 |1|\n",
    "| l2 | 0 | 1 | 0| 3|\n",
    "\n",
    "These can be represented as the integer lists `d1 = [1;1;1;1]` and `d2 = [0;1;0;3]`. \n",
    "\n",
    "We define the **overlap** between two lists as the dot product of the two list vectors. The dot product is as per the standard definition, i.e. multiply the values of the elements at the same indices in the two vectors and sum them all up. We denote this by d1 $\\cdot$ d2. In the above case, the overlap would be 4.\n",
    "\n",
    "The **similarity score** between two lists is then obtained using the following formula:\n",
    "\n",
    "$\\frac{d1 \\cdot d2}{max(||d1||, ||d2||)}$\n",
    "\n",
    "Here, $||d||$ denotes the magnitude of the vector, obtained by taking the dot product of the vector with itself (i.e. $||d|| = d \\cdot d$). Note that the similarity score of a list with itself will be 1, and if two lists have no elements in common, then the similarity score will be 0. In general, the similarity score will be always between 0 and 1. In our running example, the similarity score would be $\\frac{4}{max(4,10)} = 0.4$\n",
    "\n",
    "First, implement a function \n",
    "\n",
    "```ocaml\n",
    "overlap : 'a list -> 'a list -> int\n",
    "```\n",
    "\n",
    "which computes the overlap between two lists. Then, use this function to implement\n",
    "\n",
    "```ocaml\n",
    "sim_score : 'a list -> 'a list -> float\n",
    "```\n",
    "\n",
    "to compute the similarity score. You can use the function `float_of_int : int -> float` to cast an int value to a float value.  Apart from this, you are not allowed to use any other library functions in this problem. Any solution using other library functions will get 0 marks. The functions `find_freq` and `remove` from earlier problems will come in handy.\n",
    "\n",
    "You can assume that `sim_score` will only be called with non-empty lists.\n"
   ]
  },
  {
   "cell_type": "code",
   "execution_count": null,
   "metadata": {
    "deletable": false,
    "nbgrader": {
     "cell_type": "code",
     "checksum": "cbd61231133b689a4ab220e42ec10d23",
     "grade": false,
     "grade_id": "cell-a49121b6ebd0cbe8",
     "locked": false,
     "schema_version": 3,
     "solution": true,
     "task": false
    }
   },
   "outputs": [],
   "source": [
    "let rec overlap l1 l2 = \n",
    "  (* YOUR CODE HERE *)\n",
    "  raise (Failure \"Not implemented\")\n",
    "\n",
    "let sim_score l1 l2 = \n",
    "(* YOUR CODE HERE *)\n",
    "raise (Failure \"Not implemented\")"
   ]
  },
  {
   "cell_type": "code",
   "execution_count": null,
   "metadata": {
    "deletable": false,
    "editable": false,
    "nbgrader": {
     "cell_type": "code",
     "checksum": "f73418473f99759fd0c6e8eb2483b7aa",
     "grade": true,
     "grade_id": "cell-0ec3a97265e6ea89",
     "locked": true,
     "points": 25,
     "schema_version": 3,
     "solution": false,
     "task": false
    }
   },
   "outputs": [],
   "source": [
    "(* 25 points *)\n",
    "assert (sim_score [\"a\";\"b\";\"c\";\"d\"] [\"d\";\"d\";\"d\";\"b\"] = 0.4);\n",
    "assert (sim_score [\"a\";\"b\";\"c\";\"d\"] [\"b\";\"a\"] = 0.5);\n",
    "assert (sim_score [\"a\";\"b\";\"c\";\"d\"] [\"b\";\"a\";\"d\"] = 0.75)\n",
    "\n"
   ]
  }
 ],
 "metadata": {
  "kernelspec": {
   "display_name": "OCaml 4.10",
   "language": "OCaml",
   "name": "ocaml-jupyter"
  },
  "language_info": {
   "codemirror_mode": "text/x-ocaml",
   "file_extension": ".ml",
   "mimetype": "text/x-ocaml",
   "name": "OCaml",
   "nbconverter_exporter": null,
   "pygments_lexer": "OCaml",
   "version": "4.10.0"
  }
 },
 "nbformat": 4,
 "nbformat_minor": 2
}
