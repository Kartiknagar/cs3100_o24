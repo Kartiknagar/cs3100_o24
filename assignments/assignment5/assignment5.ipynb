{
 "cells": [
  {
   "cell_type": "markdown",
   "metadata": {},
   "source": [
    "Before you turn this problem in, make sure everything runs as expected. First, **restart the kernel** (in the menubar, select Kernel$\\rightarrow$Restart) and then **run all cells** (in the menubar, select Cell$\\rightarrow$Run All).\n",
    "\n",
    "Make sure you add your code only in the place where it says `YOUR CODE HERE` or \"YOUR ANSWER HERE\". You must remove the line containing the `raise` command. Add your name and roll number below. If you have discussed any assignment problem with another student, mention the name/roll number of the student along with the problem number as a comment in the box below (using `(* comment *)`)."
   ]
  },
  {
   "cell_type": "code",
   "execution_count": null,
   "metadata": {},
   "outputs": [],
   "source": [
    "let name = \"\"\n",
    "let rollno = \"\""
   ]
  },
  {
   "cell_type": "markdown",
   "metadata": {},
   "source": [
    "## Important notes about grading:\n",
    "\n",
    "1. All code you submit must compile. Programs that do not compile will receive an automatic zero. If you are having trouble getting your assignment to compile, please contact the TAs or the instructor. \n",
    "2. Make sure you do not add any new cells. You must write your code in the designated place only. We use an autograder to grade the submissions, and if your code is not in it's designated place, or you have added a new cell, the autograder may not work correctly. In particular, executing the last cell of the file always adds a new cell at the end, so you must delete this newly added cell.\n",
    "3. All assignments submitted after the deadline will be considered late, and will consume your grace days. \n",
    "4. Your code will also be tested on private testcases, with equal weightage for each public and private testcase. Make sure you test your code on your own testcases as well."
   ]
  },
  {
   "cell_type": "markdown",
   "metadata": {
    "deletable": false,
    "editable": false,
    "nbgrader": {
     "cell_type": "markdown",
     "checksum": "9eaa0dad4e6782a0ab041715eea861b4",
     "grade": false,
     "grade_id": "cell-fccdd152af2cd140",
     "locked": true,
     "schema_version": 3,
     "solution": false,
     "task": false
    }
   },
   "source": [
    "# Lambda Calculus in Prolog\n",
    "\n",
    "In this assignment, we will re-implement the lambda calculus interpreter, but this time in Prolog. \n",
    "\n",
    "A lambda-term is either a variable, abstraction or application, which we will represent using the following Prolog functions: `var/1`, `lam/2` and `app/2`. The representation is similar to the OCaml `expr` variant type defined in Assignment-2, with the variant constructors in OCaml being replaced by functions in Prolog. The variable names will be Prolog constants (instead of strings used in OCaml). Following is the recursive definition of the mapping $M$ from lambda terms to prolog terms ($T,T1,T2$ are lambda terms):\n",
    "\n",
    "| Lambda Term, $S$    | Prolog Term, $M(S)$ |\n",
    "| -------- | ------- |\n",
    "| $x$  | `var(x)`   |\n",
    "| $\\lambda x. T$ | `lam(x,M(T))` |\n",
    "| $T1\\ T2$ | `app(M(T1),M(T2))` | \n",
    "\n",
    "So, for example, $\\lambda x.x$ would be represented by the Prolog term `lam(x,var(x))`, while $(\\lambda x.x)\\ y$ would be represented by `app(lam(x,var(x)),var(y))`.\n",
    "\n"
   ]
  },
  {
   "cell_type": "markdown",
   "metadata": {
    "deletable": false,
    "editable": false,
    "nbgrader": {
     "cell_type": "markdown",
     "checksum": "5235004e8aeaf6cb7f9e106e146f647c",
     "grade": false,
     "grade_id": "cell-b18757be04944f57",
     "locked": true,
     "schema_version": 3,
     "solution": false,
     "task": false
    }
   },
   "source": [
    "## Problem 1\n",
    "\n",
    "Implement the predicate `free(T,X)` which should evaluate to `true` if `X` is free in the lambda-term `T`. Use the precise definition of free variables from the lectures. "
   ]
  },
  {
   "cell_type": "code",
   "execution_count": null,
   "metadata": {
    "deletable": false,
    "nbgrader": {
     "cell_type": "code",
     "checksum": "ac2a51387d1698312b93a5f477309979",
     "grade": false,
     "grade_id": "cell-8a81381a3891ca79",
     "locked": false,
     "schema_version": 3,
     "solution": true,
     "task": false
    }
   },
   "outputs": [],
   "source": [
    "/* YOUR CODE HERE (delete the abort) */\n",
    "?- abort."
   ]
  },
  {
   "cell_type": "code",
   "execution_count": null,
   "metadata": {
    "deletable": false,
    "editable": false,
    "nbgrader": {
     "cell_type": "code",
     "checksum": "d600e1b15020d91a6ebe39dbff29db76",
     "grade": true,
     "grade_id": "cell-3ab44c06f80c32b5",
     "locked": true,
     "points": 5,
     "schema_version": 3,
     "solution": false,
     "task": false
    }
   },
   "outputs": [],
   "source": [
    "/* 5 points */\n",
    "?- not(free(lam(x,var(x)),x)) -> true; abort. \n",
    "?- free(lam(x,var(y)),y) -> true; abort.\n",
    "?- not(free(lam(x,app(var(x),lam(y,var(y)))),X)) -> true; abort."
   ]
  },
  {
   "cell_type": "markdown",
   "metadata": {
    "deletable": false,
    "editable": false,
    "nbgrader": {
     "cell_type": "markdown",
     "checksum": "cf4a8c1de2a18e36794d881de82cf0f2",
     "grade": false,
     "grade_id": "cell-71fbfc178e2d61bd",
     "locked": true,
     "schema_version": 3,
     "solution": false,
     "task": false
    }
   },
   "source": [
    "To implement substitution, we first need the ability to generate a fresh variable which is not free in certain terms. To express different versions of a variable, we use the function `con/2`, where the first argument is the variable and the second argument is the version number. So, for example, `con(z,0)` and `con(z,1)` would be different versions of the variable `z`. We now define the following predicate `fresh/4`:"
   ]
  },
  {
   "cell_type": "code",
   "execution_count": null,
   "metadata": {
    "deletable": false,
    "editable": false,
    "nbgrader": {
     "cell_type": "code",
     "checksum": "8281dc71609573675599a697cbe8a075",
     "grade": false,
     "grade_id": "cell-02d6b321cad17e93",
     "locked": true,
     "schema_version": 3,
     "solution": false,
     "task": false
    }
   },
   "outputs": [],
   "source": [
    "fresh2(con(X,N),T1,T2,con(X,N)) :- not(free(T1,con(X,N))),not(free(T2,con(X,N))),!.\n",
    "fresh2(con(X,N),T1,T2,con(X,P)) :- M is N + 1, fresh2(con(X,M),T1,T2,con(X,P)). \n",
    "fresh(X,T1,T2,con(X,P)) :- fresh2(con(X,0),T1,T2,con(X,P))."
   ]
  },
  {
   "cell_type": "markdown",
   "metadata": {
    "deletable": false,
    "editable": false,
    "nbgrader": {
     "cell_type": "markdown",
     "checksum": "15ca00c5ec85237159b1b4654d7c1438",
     "grade": false,
     "grade_id": "cell-7b8eed83d589e5c5",
     "locked": true,
     "schema_version": 3,
     "solution": false,
     "task": false
    }
   },
   "source": [
    "`fresh(X,T1,T2,con(X,N))` will be `true` if `con(X,N)` is a version of variable `X` that is not free in the two lambda terms `T1` and `T2`. `fresh` predicate is in turn defined using `fresh2` which repeatedly generates new versions of `X` until it finds a version that is not free in `T1` and `T2`. You will have to use `fresh` in the following problems."
   ]
  },
  {
   "cell_type": "markdown",
   "metadata": {
    "deletable": false,
    "editable": false,
    "nbgrader": {
     "cell_type": "markdown",
     "checksum": "6e4225100f30fbafa5a8b59f54bf24f5",
     "grade": false,
     "grade_id": "cell-8e970bb55d98c0c2",
     "locked": true,
     "schema_version": 3,
     "solution": false,
     "task": false
    }
   },
   "source": [
    "## Problem 2\n",
    "\n",
    "Implement the predicate\n",
    "\n",
    "```prolog\n",
    "substitute(T,S,X,Tp)\n",
    "```\n",
    "\n",
    "such that the lambda term `Tp` is obtained by substituting `S` for `X` in `T`. That is, `Tp = T[S/X]`. Use the precise definition of substitution from the lectures. You will need to use the `fresh` function. "
   ]
  },
  {
   "cell_type": "code",
   "execution_count": null,
   "metadata": {
    "deletable": false,
    "nbgrader": {
     "cell_type": "code",
     "checksum": "5521c65977049d1503f84f18b36d16be",
     "grade": false,
     "grade_id": "cell-11eb4b43f1dea883",
     "locked": false,
     "schema_version": 3,
     "solution": true,
     "task": false
    }
   },
   "outputs": [],
   "source": [
    "/* YOUR CODE HERE (delete the abort) */\n",
    "?- abort."
   ]
  },
  {
   "cell_type": "code",
   "execution_count": null,
   "metadata": {
    "deletable": false,
    "editable": false,
    "nbgrader": {
     "cell_type": "code",
     "checksum": "f8280192e4f1388b35974cf1983581fc",
     "grade": true,
     "grade_id": "cell-37d35d558a789c51",
     "locked": true,
     "points": 15,
     "schema_version": 3,
     "solution": false,
     "task": false
    }
   },
   "outputs": [],
   "source": [
    "/* 15 points */\n",
    "?- substitute(lam(y,var(x)),lam(z,app(var(z),var(w))),x,X), X = lam(y, lam(z, app(var(z), var(w)))) -> true; abort.\n",
    "?- substitute(lam(x,var(x)), var(y), x, X), X = lam(x,var(x)) -> true; abort."
   ]
  },
  {
   "cell_type": "markdown",
   "metadata": {
    "deletable": false,
    "editable": false,
    "nbgrader": {
     "cell_type": "markdown",
     "checksum": "f9bd2a91dc418f76e8b35436a89c778a",
     "grade": false,
     "grade_id": "cell-ebe5ffa7772420c7",
     "locked": true,
     "schema_version": 3,
     "solution": false,
     "task": false
    }
   },
   "source": [
    "## Problem 3\n",
    "\n",
    "Implement the predicate\n",
    "\n",
    "```prolog\n",
    "alphaEq(T1,T2)\n",
    "```\n",
    "\n",
    "which should evaluate to `true` if T1 and T2 are $\\alpha$-equivalent, `false` otherwise. Use the precise definition of $\\alpha$-equivalence from the lectures. You will need to use the `fresh` predicate and the `substitute` predicate defined in Problem-2."
   ]
  },
  {
   "cell_type": "code",
   "execution_count": null,
   "metadata": {
    "deletable": false,
    "nbgrader": {
     "cell_type": "code",
     "checksum": "bc12fd06eb5401a535b044999393dd17",
     "grade": false,
     "grade_id": "cell-43354419c3d2fd23",
     "locked": false,
     "schema_version": 3,
     "solution": true,
     "task": false
    }
   },
   "outputs": [],
   "source": [
    "/* YOUR CODE HERE (delete the abort) */\n",
    "?- abort."
   ]
  },
  {
   "cell_type": "code",
   "execution_count": null,
   "metadata": {
    "deletable": false,
    "editable": false,
    "nbgrader": {
     "cell_type": "code",
     "checksum": "ddb645da0a5197cd68b4dc9399f10536",
     "grade": true,
     "grade_id": "cell-1b407fc43b930ff5",
     "locked": true,
     "points": 10,
     "schema_version": 3,
     "solution": false,
     "task": false
    }
   },
   "outputs": [],
   "source": [
    "/* 10 points */\n",
    "?- alphaEq(lam(x, var(x)), lam(y, var(y))) -> true; abort.\n",
    "?- alphaEq(lam(x,lam(y,var(y))), lam(p,lam(q,var(q)))) -> true; abort.\n",
    "?- alphaEq(lam(x, lam(y, lam(z, (app(app(var(x),var(y)), var(z)))))), lam(y, lam(z, lam(x, (app(app(var(y),var(z)), var(x))))))) -> true; abort."
   ]
  },
  {
   "cell_type": "markdown",
   "metadata": {
    "deletable": false,
    "editable": false,
    "nbgrader": {
     "cell_type": "markdown",
     "checksum": "240720850c2434e9c44f7be854699c8a",
     "grade": false,
     "grade_id": "cell-4fea2bcdb8672a3b",
     "locked": true,
     "schema_version": 3,
     "solution": false,
     "task": false
    }
   },
   "source": [
    "## Problem 4\n",
    "\n",
    "Implement the predicate\n",
    "\n",
    "```prolog\n",
    "beta_reduce_one_step(T1,T2)\n",
    "```\n",
    "\n",
    "such that it should evaluate to `true` if T2 is obtained after one step of full $\\beta$-reduction from T1. You need to directly encode the inference rules of full $\\beta$-reduction."
   ]
  },
  {
   "cell_type": "code",
   "execution_count": null,
   "metadata": {
    "deletable": false,
    "nbgrader": {
     "cell_type": "code",
     "checksum": "69c534841747ad522d1844c3d40f62b9",
     "grade": false,
     "grade_id": "cell-4670be924aec250f",
     "locked": false,
     "schema_version": 3,
     "solution": true,
     "task": false
    }
   },
   "outputs": [],
   "source": [
    "/* YOUR CODE HERE (delete the abort) */\n",
    "?- abort."
   ]
  },
  {
   "cell_type": "code",
   "execution_count": null,
   "metadata": {
    "deletable": false,
    "editable": false,
    "nbgrader": {
     "cell_type": "code",
     "checksum": "0ceaf1e50e19d2b99fdb137e27cd9fdb",
     "grade": true,
     "grade_id": "cell-75e567cf8e02cf5e",
     "locked": true,
     "points": 10,
     "schema_version": 3,
     "solution": false,
     "task": false
    }
   },
   "outputs": [],
   "source": [
    "/* 10 points */\n",
    "/* Note: aggregate_all is a built-in Prolog predicate which counts the number of satisfying assignments\n",
    "of the variable X in the variable Count. */\n",
    "\n",
    "/* \"(λx. x x) ((λx. y) z)\" */\n",
    "?- aggregate_all(count, beta_reduce_one_step(app(lam(x,app(var(x),var(x))), app(lam(x,var(y)),var(z))), X), Count),\n",
    "  Count = 2 -> true; abort.\n",
    "?- beta_reduce_one_step(app(lam(x,app(var(x),var(x))), app(lam(x,var(y)),var(z))), X),\n",
    " alphaEq(X,app(app(lam(x, var(y)), var(z)), app(lam(x, var(y)), var(z)))) -> true; abort.\n",
    "?- beta_reduce_one_step(app(lam(x,app(var(x),var(x))), app(lam(x,var(y)),var(z))), X), \n",
    " alphaEq(X, app(lam(x, app(var(x), var(x))), var(y))) -> true; abort.\n",
    "\n",
    "/* \"(λt. λf. t) x y\" */\n",
    "?- aggregate_all(count, beta_reduce_one_step(app(app(lam(t,lam(f,var(t))),var(x)),var(y)), X), Count), \n",
    " Count = 1 -> true; abort.\n",
    "?- beta_reduce_one_step(app(app(lam(t,lam(f,var(t))),var(x)),var(y)), X), alphaEq(X,app(lam(f, var(x)), var(y)))\n",
    " -> true; abort.\n",
    " \n",
    "/* \"(λt. λf. t) (λx.x) y\" */  \n",
    "?- aggregate_all(count, beta_reduce_one_step(app(app(lam(t,lam(f,var(t))),lam(x, var(x))),var(y)),X),Count),\n",
    " Count = 1 -> true; abort.\n",
    "?- beta_reduce_one_step(app(app(lam(t,lam(f,var(t))),lam(x, var(x))),var(y)),X),\n",
    " alphaEq(X,app(lam(f, lam(x, var(x))), var(y))) -> true; abort.\n",
    " \n",
    "/* \"(λx.y) ((λx.x x) (λx.x x))\" */\n",
    "?- aggregate_all(count, beta_reduce_one_step(app(lam(x,var(y)),app(lam(x,app(var(x),var(x))),lam(x,app(var(x),var(x))))),X),Count),\n",
    " Count = 2 -> true; abort.\n",
    "?- beta_reduce_one_step(app(lam(x,var(y)),app(lam(x,app(var(x),var(x))),lam(x,app(var(x),var(x))))),X),\n",
    " alphaEq(X,var(y)) -> true; abort.\n",
    "?- beta_reduce_one_step(app(lam(x,var(y)),app(lam(x,app(var(x),var(x))),lam(x,app(var(x),var(x))))),X),\n",
    " alphaEq(X,app(lam(x,var(y)),app(lam(x,app(var(x),var(x))),lam(x,app(var(x),var(x)))))) -> true; abort.\n",
    "\n",
    "/* \"x y z\" */\n",
    "?- aggregate_all(count, beta_reduce_one_step(app(app(var(x),var(y)),var(z)),X),Count),\n",
    " Count = 0 -> true; abort.\n",
    "\n",
    "\n"
   ]
  },
  {
   "cell_type": "markdown",
   "metadata": {
    "deletable": false,
    "editable": false,
    "nbgrader": {
     "cell_type": "markdown",
     "checksum": "91c2dd424393d40090d56d0cf836af27",
     "grade": false,
     "grade_id": "cell-c6fc791406f49bb2",
     "locked": true,
     "schema_version": 3,
     "solution": false,
     "task": false
    }
   },
   "source": [
    "## Problem 5\n",
    "\n",
    "Implement the predicate\n",
    "\n",
    "```prolog\n",
    "beta_normal_form(T1,T2)\n",
    "```\n",
    "\n",
    "which should evaluate to `true` if T2 is the $\\beta$-normal form of T1 according to full $\\beta$-reduction. For this, you need to repeatedly apply `beta_reduce_one_step` until it cannot be applied any further."
   ]
  },
  {
   "cell_type": "code",
   "execution_count": null,
   "metadata": {
    "deletable": false,
    "nbgrader": {
     "cell_type": "code",
     "checksum": "1137935ace922a3abfe9fe8845e04d63",
     "grade": false,
     "grade_id": "cell-34c04e23a8ccbfaa",
     "locked": false,
     "schema_version": 3,
     "solution": true,
     "task": false
    }
   },
   "outputs": [],
   "source": [
    "/* YOUR CODE HERE (delete the abort) */\n",
    "?- abort."
   ]
  },
  {
   "cell_type": "code",
   "execution_count": null,
   "metadata": {
    "deletable": false,
    "editable": false,
    "nbgrader": {
     "cell_type": "code",
     "checksum": "4eec909cd65492d8ec4a6a5e46cbc0fc",
     "grade": true,
     "grade_id": "cell-1b3ae97d6fa21bfb",
     "locked": true,
     "points": 5,
     "schema_version": 3,
     "solution": false,
     "task": false
    }
   },
   "outputs": [],
   "source": [
    "/* 5 points */\n",
    "?- beta_normal_form(app(lam(x,app(var(x),var(x))), app(lam(x,var(y)),var(z))), X),\n",
    " alphaEq(X,app(var(y), var(y))) -> true; abort.\n",
    "?- beta_normal_form(app(app(lam(t,lam(f,var(t))),var(x)),var(y)), X), alphaEq(X,var(x))\n",
    " -> true; abort.\n",
    "?- beta_normal_form(app(app(lam(t,lam(f,var(t))),lam(x, var(x))),var(y)),X),\n",
    " alphaEq(X,lam(x, var(x))) -> true; abort.\n",
    "?- beta_normal_form(app(app(var(x),var(y)),var(z)),X),\n",
    " alphaEq(X,app(app(var(x),var(y)),var(z))) -> true; abort.\n",
    "\n"
   ]
  },
  {
   "cell_type": "markdown",
   "metadata": {
    "deletable": false,
    "editable": false,
    "nbgrader": {
     "cell_type": "markdown",
     "checksum": "4239aa9e87c43753128f0980294da481",
     "grade": false,
     "grade_id": "cell-1a301288439bad2a",
     "locked": true,
     "schema_version": 3,
     "solution": false,
     "task": false
    }
   },
   "source": [
    "## Problem 6\n",
    "\n",
    "Implement the predicate\n",
    "\n",
    "```prolog\n",
    "normal_order_one_step(T1,T2)\n",
    "```\n",
    "\n",
    "which should evaluate to `true` if T2 can be obtained after one step of applying normal-order reduction to T1. For this, you need to directly encode the inference rules of normal-order reduction.\n",
    "\n",
    "Now, implement the predicate\n",
    "\n",
    "```prolog\n",
    "normal_order_normal_form(T1,T2)\n",
    "```\n",
    "\n",
    "which should evaluate to `true` if T2 is the $\\beta$-normal form of T1 according to normal order reduction. For this, you need to repeatedly apply `normal_order_one_step` until it cannot be applied any further."
   ]
  },
  {
   "cell_type": "code",
   "execution_count": null,
   "metadata": {
    "deletable": false,
    "nbgrader": {
     "cell_type": "code",
     "checksum": "800e9d3f342e4bf25f7f0d49c05b9b90",
     "grade": false,
     "grade_id": "cell-6658e6bbf8d4f9f7",
     "locked": false,
     "schema_version": 3,
     "solution": true,
     "task": false
    }
   },
   "outputs": [],
   "source": [
    "/* YOUR CODE HERE (delete the abort) */\n",
    "?- abort."
   ]
  },
  {
   "cell_type": "code",
   "execution_count": null,
   "metadata": {
    "deletable": false,
    "editable": false,
    "nbgrader": {
     "cell_type": "code",
     "checksum": "1a327d7cdb6d4619de139d2f97fe250e",
     "grade": true,
     "grade_id": "cell-cdc7c341fe7b9cb5",
     "locked": true,
     "points": 15,
     "schema_version": 3,
     "solution": false,
     "task": false
    }
   },
   "outputs": [],
   "source": [
    "/* 15 points */\n",
    "\n",
    "/* \"(λx. x x) ((λx. y) z)\" */\n",
    "?- aggregate_all(count, normal_order_one_step(app(lam(x,app(var(x),var(x))), app(lam(x,var(y)),var(z))), X), Count),\n",
    "  Count = 1 -> true; abort.\n",
    "?- normal_order_one_step(app(lam(x,app(var(x),var(x))), app(lam(x,var(y)),var(z))), X),\n",
    " alphaEq(X,app(app(lam(x, var(y)), var(z)), app(lam(x, var(y)), var(z)))) -> true; abort.\n",
    "?- normal_order_one_step(app(lam(x,app(var(x),var(x))), app(lam(x,var(y)),var(z))), X), \n",
    " not(alphaEq(X, app(lam(x, app(var(x), var(x))), var(y)))) -> true; abort.\n",
    "?- normal_order_normal_form(app(lam(x,app(var(x),var(x))), app(lam(x,var(y)),var(z))), X),\n",
    " alphaEq(X,app(var(y), var(y))) -> true; abort.\n",
    "\n",
    "/* \"(λt. λf. t) x y\" */\n",
    "?- aggregate_all(count, normal_order_one_step(app(app(lam(t,lam(f,var(t))),var(x)),var(y)), X), Count), \n",
    " Count = 1 -> true; abort.\n",
    "?- normal_order_one_step(app(app(lam(t,lam(f,var(t))),var(x)),var(y)), X), alphaEq(X,app(lam(f, var(x)), var(y)))\n",
    " -> true; abort.\n",
    "?- normal_order_normal_form(app(app(lam(t,lam(f,var(t))),var(x)),var(y)), X), alphaEq(X,var(x))\n",
    " -> true; abort.\n",
    " \n",
    "/* \"(λt. λf. t) (λx.x) y\" */ \n",
    "?- aggregate_all(count, normal_order_one_step(app(app(lam(t,lam(f,var(t))),lam(x, var(x))),var(y)),X),Count),\n",
    " Count = 1 -> true; abort.\n",
    "?- normal_order_one_step(app(app(lam(t,lam(f,var(t))),lam(x, var(x))),var(y)),X),\n",
    " alphaEq(X,app(lam(f, lam(x, var(x))), var(y))) -> true; abort.\n",
    "?- normal_order_normal_form(app(app(lam(t,lam(f,var(t))),lam(x, var(x))),var(y)),X),\n",
    " alphaEq(X,lam(x, var(x))) -> true; abort.\n",
    " \n",
    "/* \"(λx.y) ((λx.x x) (λx.x x))\" */\n",
    "?- aggregate_all(count, normal_order_one_step(app(lam(x,var(y)),app(lam(x,app(var(x),var(x))),lam(x,app(var(x),var(x))))),X),Count),\n",
    " Count = 1 -> true; abort.\n",
    "?- normal_order_one_step(app(lam(x,var(y)),app(lam(x,app(var(x),var(x))),lam(x,app(var(x),var(x))))),X),\n",
    " alphaEq(X,var(y)) -> true; abort.\n",
    "\n",
    "/* \"x y z\" */\n",
    "?- aggregate_all(count, normal_order_one_step(app(app(var(x),var(y)),var(z)),X),Count),\n",
    " Count = 0 -> true; abort.\n",
    "\n",
    "\n"
   ]
  },
  {
   "cell_type": "markdown",
   "metadata": {
    "deletable": false,
    "editable": false,
    "nbgrader": {
     "cell_type": "markdown",
     "checksum": "f366dd7b5d9361f6f012a7a1ee03c2b7",
     "grade": false,
     "grade_id": "cell-9b9197a66a98bcda",
     "locked": true,
     "schema_version": 3,
     "solution": false,
     "task": false
    }
   },
   "source": [
    "## Problem 7\n",
    "\n",
    "Implement the predicate\n",
    "\n",
    "```prolog\n",
    "call_by_name_one_step(T1,T2)\n",
    "```\n",
    "\n",
    "which should evaluate to `true` if T2 can be obtained after one step of applying call-by-name reduction to T1. For this, you need to directly encode the inference rules of call-by-name reduction.\n",
    "\n",
    "Now, implement the predicate\n",
    "\n",
    "```prolog\n",
    "call_by_name_normal_form(T1,T2)\n",
    "```\n",
    "\n",
    "which should evaluate to `true` if T2 is the $\\beta$-normal form of T1 according to call-by-name reduction. For this, you need to repeatedly apply `call_by_name_one_step` until it cannot be applied any further."
   ]
  },
  {
   "cell_type": "code",
   "execution_count": null,
   "metadata": {
    "deletable": false,
    "nbgrader": {
     "cell_type": "code",
     "checksum": "d64b2305a4780b3c706b8333e785dca8",
     "grade": false,
     "grade_id": "cell-fe071a54a1c005f7",
     "locked": false,
     "schema_version": 3,
     "solution": true,
     "task": false
    }
   },
   "outputs": [],
   "source": [
    "/* YOUR CODE HERE (delete the abort) */\n",
    "?- abort."
   ]
  },
  {
   "cell_type": "code",
   "execution_count": null,
   "metadata": {
    "deletable": false,
    "editable": false,
    "nbgrader": {
     "cell_type": "code",
     "checksum": "f786fcdc0ca52da64f95b3a7149d7227",
     "grade": true,
     "grade_id": "cell-f8094b67909f155e",
     "locked": true,
     "points": 15,
     "schema_version": 3,
     "solution": false,
     "task": false
    }
   },
   "outputs": [],
   "source": [
    "/* 15 points */\n",
    "\n",
    "/* \"(λx. x x) ((λx. y) z)\" */\n",
    "?- aggregate_all(count, call_by_name_one_step(app(lam(x,app(var(x),var(x))), app(lam(x,var(y)),var(z))), X), Count),\n",
    "  Count = 1 -> true; abort.\n",
    "?- call_by_name_one_step(app(lam(x,app(var(x),var(x))), app(lam(x,var(y)),var(z))), X),\n",
    " alphaEq(X,app(app(lam(x, var(y)), var(z)), app(lam(x, var(y)), var(z)))) -> true; abort.\n",
    "?- call_by_name_one_step(app(lam(x,app(var(x),var(x))), app(lam(x,var(y)),var(z))), X), \n",
    " not(alphaEq(X, app(lam(x, app(var(x), var(x))), var(y)))) -> true; abort.\n",
    "?- call_by_name_normal_form(app(lam(x,app(var(x),var(x))), app(lam(x,var(y)),var(z))), X),\n",
    " alphaEq(X,app(var(y), app(lam(x, var(y)), var(z)))) -> true; abort.\n",
    "\n",
    "/* \"(λt. λf. t) x y\" */\n",
    "?- aggregate_all(count, call_by_name_one_step(app(app(lam(t,lam(f,var(t))),var(x)),var(y)), X), Count), \n",
    " Count = 1 -> true; abort.\n",
    "?- call_by_name_one_step(app(app(lam(t,lam(f,var(t))),var(x)),var(y)), X), alphaEq(X,app(lam(f, var(x)), var(y)))\n",
    " -> true; abort.\n",
    "?- call_by_name_normal_form(app(app(lam(t,lam(f,var(t))),var(x)),var(y)), X), alphaEq(X,var(x))\n",
    " -> true; abort.\n",
    "\n",
    "/* \"(λt. λf. t) (λx.x) y\" */ \n",
    "?- aggregate_all(count, call_by_name_one_step(app(app(lam(t,lam(f,var(t))),lam(x, var(x))),var(y)),X),Count),\n",
    " Count = 1 -> true; abort.\n",
    "?- call_by_name_one_step(app(app(lam(t,lam(f,var(t))),lam(x, var(x))),var(y)),X),\n",
    " alphaEq(X,app(lam(f, lam(x, var(x))), var(y))) -> true; abort.\n",
    "?- call_by_name_normal_form(app(app(lam(t,lam(f,var(t))),lam(x, var(x))),var(y)),X),\n",
    " alphaEq(X,lam(x, var(x))) -> true; abort.\n",
    " \n",
    "/* \"(λx.y) ((λx.x x) (λx.x x))\" */\n",
    "?- aggregate_all(count, call_by_name_one_step(app(lam(x,var(y)),app(lam(x,app(var(x),var(x))),lam(x,app(var(x),var(x))))),X),Count),\n",
    " Count = 1 -> true; abort.\n",
    "?- call_by_name_one_step(app(lam(x,var(y)),app(lam(x,app(var(x),var(x))),lam(x,app(var(x),var(x))))),X),\n",
    " alphaEq(X,var(y)) -> true; abort.\n",
    " \n",
    "/* \"x y z\" */\n",
    "?- aggregate_all(count, call_by_name_one_step(app(app(var(x),var(y)),var(z)),X),Count),\n",
    " Count = 0 -> true; abort.\n",
    "\n",
    "\n"
   ]
  },
  {
   "cell_type": "markdown",
   "metadata": {
    "deletable": false,
    "editable": false,
    "nbgrader": {
     "cell_type": "markdown",
     "checksum": "4fcdc62f5c631f9e3fdcfd45017da7ac",
     "grade": false,
     "grade_id": "cell-43de6c787ed16b3c",
     "locked": true,
     "schema_version": 3,
     "solution": false,
     "task": false
    }
   },
   "source": [
    "## Problem 8\n",
    "\n",
    "Implement the predicate\n",
    "\n",
    "```prolog\n",
    "call_by_value_one_step(T1,T2)\n",
    "```\n",
    "\n",
    "which should evaluate to `true` if T2 can be obtained after one step of applying call-by-value reduction to T1. For this, you need to directly encode the inference rules of call-by-value reduction.\n",
    "\n",
    "Now, implement the predicate\n",
    "\n",
    "```prolog\n",
    "call_by_value_normal_form(T1,T2)\n",
    "```\n",
    "\n",
    "which should evaluate to `true` if T2 is the $\\beta$-normal form of T1 according to call-by-value reduction. For this, you need to repeatedly apply `call_by_value_one_step` until it cannot be applied any further."
   ]
  },
  {
   "cell_type": "code",
   "execution_count": null,
   "metadata": {
    "deletable": false,
    "nbgrader": {
     "cell_type": "code",
     "checksum": "f605a800468fcddc6fda7dd27279ebab",
     "grade": false,
     "grade_id": "cell-2e2535aaa0537d16",
     "locked": false,
     "schema_version": 3,
     "solution": true,
     "task": false
    }
   },
   "outputs": [],
   "source": [
    "/* YOUR CODE HERE (delete the abort) */\n",
    "?- abort."
   ]
  },
  {
   "cell_type": "code",
   "execution_count": null,
   "metadata": {
    "deletable": false,
    "editable": false,
    "nbgrader": {
     "cell_type": "code",
     "checksum": "e89cd4750f7ff16ca2ac2b474fa3bec0",
     "grade": true,
     "grade_id": "cell-48f793200f5a29e1",
     "locked": true,
     "points": 15,
     "schema_version": 3,
     "solution": false,
     "task": false
    }
   },
   "outputs": [],
   "source": [
    "/* 15 points */\n",
    "\n",
    "/* \"(λx. x x) ((λx. y) z)\" */\n",
    "?- aggregate_all(count, call_by_value_one_step(app(lam(x,app(var(x),var(x))), app(lam(x,var(y)),var(z))), X), Count),\n",
    "  Count = 1 -> true; abort.\n",
    "?- call_by_value_one_step(app(lam(x,app(var(x),var(x))), app(lam(x,var(y)),var(z))), X),\n",
    " alphaEq(X,app(lam(x, app(var(x), var(x))), var(y))) -> true; abort.\n",
    "?- call_by_value_one_step(app(lam(x,app(var(x),var(x))), app(lam(x,var(y)),var(z))), X), \n",
    " not(alphaEq(X, app(app(lam(x, var(y)), var(z)), app(lam(x, var(y)), var(z))))) -> true; abort.\n",
    "?- call_by_value_normal_form(app(lam(x,app(var(x),var(x))), app(lam(x,var(y)),var(z))), X),\n",
    " alphaEq(X,app(var(y), var(y))) -> true; abort.\n",
    "\n",
    "/* \"(λt. λf. t) x y\" */\n",
    "?- aggregate_all(count, call_by_value_one_step(app(app(lam(t,lam(f,var(t))),var(x)),var(y)), X), Count), \n",
    " Count = 1 -> true; abort.\n",
    "?- call_by_value_one_step(app(app(lam(t,lam(f,var(t))),var(x)),var(y)), X), alphaEq(X,app(lam(f, var(x)), var(y)))\n",
    " -> true; abort.\n",
    "?- call_by_value_normal_form(app(app(lam(t,lam(f,var(t))),var(x)),var(y)), X), alphaEq(X,var(x))\n",
    " -> true; abort.\n",
    "\n",
    "/* \"(λt. λf. t) (λx.x) y\" */ \n",
    "?- aggregate_all(count, call_by_value_one_step(app(app(lam(t,lam(f,var(t))),lam(x, var(x))),var(y)),X),Count),\n",
    " Count = 1 -> true; abort.\n",
    "?- call_by_value_one_step(app(app(lam(t,lam(f,var(t))),lam(x, var(x))),var(y)),X),\n",
    " alphaEq(X,app(lam(f, lam(x, var(x))), var(y))) -> true; abort.\n",
    "?- call_by_value_normal_form(app(app(lam(t,lam(f,var(t))),lam(x, var(x))),var(y)),X),\n",
    " alphaEq(X,lam(x, var(x))) -> true; abort.\n",
    "\n",
    "/* \"(λx.y) ((λx.x x) (λx.x x))\" */\n",
    "?- aggregate_all(count, call_by_value_one_step(app(lam(x,var(y)),app(lam(x,app(var(x),var(x))),lam(x,app(var(x),var(x))))),X),Count),\n",
    " Count = 1 -> true; abort.\n",
    "?- call_by_value_one_step(app(lam(x,var(y)),app(lam(x,app(var(x),var(x))),lam(x,app(var(x),var(x))))),X),\n",
    " alphaEq(X,app(lam(x,var(y)),app(lam(x,app(var(x),var(x))),lam(x,app(var(x),var(x)))))) -> true; abort.\n",
    "\n",
    "/* \"x y z\" */\n",
    "?- aggregate_all(count, call_by_value_one_step(app(app(var(x),var(y)),var(z)),X),Count),\n",
    " Count = 0 -> true; abort.\n",
    "\n"
   ]
  },
  {
   "cell_type": "code",
   "execution_count": null,
   "metadata": {
    "deletable": false,
    "editable": false,
    "nbgrader": {
     "cell_type": "code",
     "checksum": "88d5a3fafb4fe2552dc66510372584c2",
     "grade": true,
     "grade_id": "cell-5122f9c6eb5c59a0",
     "locked": true,
     "points": 10,
     "schema_version": 3,
     "solution": false,
     "task": false
    }
   },
   "outputs": [],
   "source": [
    "/* 10 points */\n",
    "/* app(app(plus,one),two) */\n",
    "?- normal_order_normal_form(app(app(lam(m,lam(n,lam(s,lam(z,app(app(var(m),var(s)),app(app(var(n),var(s)),var(z))))))),\n",
    "lam(f,lam(x,app(var(f),var(x))))),lam(f,lam(x,app(var(f),app(var(f),var(x)))))),X),\n",
    "alphaEq(X,lam(f,lam(x,app(var(f),app(var(f),app(var(f),var(x))))))) -> true; abort.\n",
    "\n",
    "\n",
    "/* app(app(mult,one),three) */\n",
    "?- normal_order_normal_form(app(app(lam(m,lam(n,lam(s,lam(z,app(app(var(m),app(var(n),var(s))),var(z)))))),\n",
    "lam(f,lam(x,app(var(f),var(x))))),lam(f,lam(x,app(var(f),app(var(f),app(var(f),var(x))))))),X),\n",
    "alphaEq(X,lam(f,lam(x,app(var(f),app(var(f),app(var(f),var(x))))))) -> true; abort.\n",
    "\n",
    "/* app(app(mult,zero),three) */\n",
    "?- normal_order_normal_form(app(app(lam(m,lam(n,lam(s,lam(z,app(app(var(m),app(var(n),var(s))),var(z)))))),\n",
    "lam(f,lam(x,var(x)))),lam(f,lam(x,app(var(f),app(var(f),app(var(f),var(x))))))),X),\n",
    "alphaEq(X,lam(f,lam(x,var(x)))) -> true; abort.\n",
    "\n",
    "\n"
   ]
  }
 ],
 "metadata": {
  "kernelspec": {
   "display_name": "SWI-Prolog",
   "language": "",
   "name": "jswipl"
  },
  "language_info": {
   "mimetype": "text/plain",
   "name": "swipl"
  }
 },
 "nbformat": 4,
 "nbformat_minor": 2
}
