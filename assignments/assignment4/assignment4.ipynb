{
 "cells": [
  {
   "cell_type": "markdown",
   "metadata": {},
   "source": [
    "Before you turn this problem in, make sure everything runs as expected. First, **restart the kernel** (in the menubar, select Kernel$\\rightarrow$Restart) and then **run all cells** (in the menubar, select Cell$\\rightarrow$Run All).\n",
    "\n",
    "Make sure you add your code only in the place where it says `YOUR CODE HERE` or \"YOUR ANSWER HERE\". You must remove the line containing the `?- abort` command. Add your name and roll number below. If you have discussed any assignment problem with another student, mention the name/roll number of the student along with the problem number as a comment in the box below (using `(* comment *)`)."
   ]
  },
  {
   "cell_type": "code",
   "execution_count": null,
   "metadata": {},
   "outputs": [],
   "source": [
    "let name = \"\"\n",
    "let rollno = \"\""
   ]
  },
  {
   "cell_type": "markdown",
   "metadata": {},
   "source": [
    "## Important notes about grading:\n",
    "\n",
    "1. All code you submit must compile. Programs that do not compile will receive an automatic zero. If you are having trouble getting your assignment to compile, please contact the TAs or the instructor. \n",
    "2. Make sure you do not add any new cells. You must write your code in the designated place only. We use an autograder to grade the submissions, and if your code is not in it's designated place, or you have added a new cell, the autograder may not work correctly. In particular, executing the last cell of the file always adds a new cell at the end, so you must delete this newly added cell.\n",
    "3. All assignments submitted after the deadline will be considered late, and will consume your grace days. \n",
    "4. Your code will also be tested on private testcases, with equal weightage for each public and private testcase. Make sure you test your code on your own testcases as well."
   ]
  },
  {
   "cell_type": "markdown",
   "metadata": {
    "deletable": false,
    "editable": false,
    "nbgrader": {
     "cell_type": "markdown",
     "checksum": "bdb6ca594258723138e4def11529e72d",
     "grade": false,
     "grade_id": "cell-fccdd152af2cd140",
     "locked": true,
     "schema_version": 3,
     "solution": false,
     "task": false
    }
   },
   "source": [
    "Let us implement a few facts about natural numbers using church encoding. Use the constant `0` for representing `0` and `s(X)` to represent the successor function.\n",
    "\n",
    "## Problem 1\n",
    "\n",
    "Implement the predicate `natural_number` such that the following tests pass. "
   ]
  },
  {
   "cell_type": "code",
   "execution_count": null,
   "metadata": {
    "deletable": false,
    "nbgrader": {
     "cell_type": "code",
     "checksum": "ac2a51387d1698312b93a5f477309979",
     "grade": false,
     "grade_id": "cell-8a81381a3891ca79",
     "locked": false,
     "schema_version": 3,
     "solution": true,
     "task": false
    }
   },
   "outputs": [],
   "source": [
    "/* YOUR CODE HERE (delete the abort) */\n",
    "?- abort."
   ]
  },
  {
   "cell_type": "code",
   "execution_count": null,
   "metadata": {
    "deletable": false,
    "editable": false,
    "nbgrader": {
     "cell_type": "code",
     "checksum": "52dfe2fbb08a7124981d574cf66e116e",
     "grade": true,
     "grade_id": "cell-3ab44c06f80c32b5",
     "locked": true,
     "points": 5,
     "schema_version": 3,
     "solution": false,
     "task": false
    }
   },
   "outputs": [],
   "source": [
    "/* 5 points */\n",
    "?- natural_number(0) -> true; abort.\n",
    "?- natural_number(s(s(s(0)))) -> true; abort.\n",
    "?- not(natural_number(s(s(z)))) -> true; abort."
   ]
  },
  {
   "cell_type": "markdown",
   "metadata": {
    "deletable": false,
    "editable": false,
    "nbgrader": {
     "cell_type": "markdown",
     "checksum": "80f1c1f189ed41caff9a18e9cfeae8d9",
     "grade": false,
     "grade_id": "cell-4ede557b4c1d3470",
     "locked": true,
     "schema_version": 3,
     "solution": false,
     "task": false
    }
   },
   "source": [
    "BTW, the strange syntax above is Prolog's way of writing if-then-else. \n",
    "\n",
    "```\n",
    "if g then t else f\n",
    "```\n",
    "\n",
    "gets translated to \n",
    "\n",
    "```\n",
    "g -> t; f\n",
    "```\n",
    "\n",
    "where `g` is the goal.\n",
    "\n",
    "Similarly, `not(F)` will be `true` if `F` evaluates to `false`.\n",
    "\n",
    "We haven't covered this in class so far and you will never need to use this syntax in any problem in this assignment.\n",
    "\n"
   ]
  },
  {
   "cell_type": "markdown",
   "metadata": {
    "deletable": false,
    "editable": false,
    "nbgrader": {
     "cell_type": "markdown",
     "checksum": "a849b6e79414dae4e1f88d20fbe33650",
     "grade": false,
     "grade_id": "cell-8e519928107bae06",
     "locked": true,
     "schema_version": 3,
     "solution": false,
     "task": false
    }
   },
   "source": [
    "## Problem 2\n",
    "\n",
    "Implement the predicate\n",
    "\n",
    "```prolog\n",
    "le(X,Y)\n",
    "```\n",
    "\n",
    "which states that `X <= Y`. Encode the following axioms for the \"less than or equal to\" relation:\n",
    "\n",
    "\\\\[\n",
    "\\begin{array}{c}\n",
    "\\forall x. natural\\_number(x) \\implies le(0,x)\\\\\n",
    "\\forall x,y. le(x,y) \\implies le(s(x),s(y))\n",
    "\\end{array}\n",
    "\\\\]"
   ]
  },
  {
   "cell_type": "code",
   "execution_count": null,
   "metadata": {
    "deletable": false,
    "nbgrader": {
     "cell_type": "code",
     "checksum": "056fb47232c533ae0c7be11487001f2f",
     "grade": false,
     "grade_id": "cell-9e1da4e9676fccd1",
     "locked": false,
     "schema_version": 3,
     "solution": true,
     "task": false
    }
   },
   "outputs": [],
   "source": [
    "/* YOUR CODE HERE (delete the abort) */\n",
    "?- abort."
   ]
  },
  {
   "cell_type": "code",
   "execution_count": null,
   "metadata": {
    "deletable": false,
    "editable": false,
    "nbgrader": {
     "cell_type": "code",
     "checksum": "51a098534816c671458606396ad08a51",
     "grade": true,
     "grade_id": "cell-cc51d0af55ebca2f",
     "locked": true,
     "points": 5,
     "schema_version": 3,
     "solution": false,
     "task": false
    }
   },
   "outputs": [],
   "source": [
    "/* 5 points */\n",
    "?- le(0,s(0)) -> true; abort.\n",
    "?- le(s(s(0)), s(s(s(0)))) -> true; abort."
   ]
  },
  {
   "cell_type": "markdown",
   "metadata": {
    "deletable": false,
    "editable": false,
    "nbgrader": {
     "cell_type": "markdown",
     "checksum": "165a637fd691e488682b46609dfe73da",
     "grade": false,
     "grade_id": "cell-2b1ba176d6028343",
     "locked": true,
     "schema_version": 3,
     "solution": false,
     "task": false
    }
   },
   "source": [
    "## Problem 3\n",
    "\n",
    "Implement the predicate\n",
    "\n",
    "```prolog\n",
    "diff(X,Y,Z)\n",
    "```\n",
    "\n",
    "over natural numbers `X,Y,Z` such that `diff(X,Y,Z)` is true if the difference between X and Y is Z. The difference between X and Y is simply X-Y. For example `diff(s(0), s(0), 0)` and `diff(s(s(s(0))), s(0), s(s(0)))` should be true, while `diff(s(0), s(0), s(0))` and `diff(s(0), s(s(0)), s(0))` should be false.  **Do not use any in-built arithmetic operation or any other auxiliary predicate. The facts and rules should directly define `diff`.** **Hint:** See the encoding of `le` in problem-2, and follow a similar format."
   ]
  },
  {
   "cell_type": "code",
   "execution_count": null,
   "metadata": {
    "deletable": false,
    "nbgrader": {
     "cell_type": "code",
     "checksum": "fa94401b34461e71421f23c3a9cef65a",
     "grade": false,
     "grade_id": "cell-a8aa31c422985bdf",
     "locked": false,
     "schema_version": 3,
     "solution": true,
     "task": false
    }
   },
   "outputs": [],
   "source": [
    "/* YOUR CODE HERE (delete the abort) */\n",
    "?- abort."
   ]
  },
  {
   "cell_type": "code",
   "execution_count": null,
   "metadata": {
    "deletable": false,
    "editable": false,
    "nbgrader": {
     "cell_type": "code",
     "checksum": "b93defff42437716d72ab0d5420f06fc",
     "grade": true,
     "grade_id": "cell-dfdc21c20b2a7570",
     "locked": true,
     "points": 10,
     "schema_version": 3,
     "solution": false,
     "task": false
    }
   },
   "outputs": [],
   "source": [
    "/* 10 points */\n",
    "?- diff(s(0), s(0), 0) -> true; abort.\n",
    "?- diff(s(s(s(0))), s(0), s(s(0))) -> true; abort.\n",
    "?- not(diff(s(0), s(0), s(0))) -> true; abort.\n"
   ]
  },
  {
   "cell_type": "markdown",
   "metadata": {
    "deletable": false,
    "editable": false,
    "nbgrader": {
     "cell_type": "markdown",
     "checksum": "feb3281272532416c409d32859cd905d",
     "grade": false,
     "grade_id": "cell-d021e7da76e9a062",
     "locked": true,
     "schema_version": 3,
     "solution": false,
     "task": false
    }
   },
   "source": [
    "## Problem 4\n",
    "\n",
    "Implement the predicate\n",
    "\n",
    "```prolog\n",
    "multiple(X,Y)\n",
    "```\n",
    "\n",
    "over natural numbers `X,Y` such that `multiple(X,Y)` is true if Y is a multiple of X, i.e. Y is obtained by adding X with itself multiple number of times. For example `multiple(s(s(0)), s(s(0)))` and `multiple(s(s(0)), s(s(s(s(0)))))` should be true, while `multiple(s(s(0)),0)` and `multiple(s(s(0)),s(s(s(0))))` should be false. **Do not use any in-built arithmetic operation or any other auxiliary predicate apart from `diff`. The facts and rules should directly define `multiple`.**  **Hint**: Use the `diff` predicate from Problem-3.\n"
   ]
  },
  {
   "cell_type": "code",
   "execution_count": null,
   "metadata": {
    "deletable": false,
    "nbgrader": {
     "cell_type": "code",
     "checksum": "ee47cb2bd0351e129b45db4a53f74b4e",
     "grade": false,
     "grade_id": "cell-4ce1378ec53699ff",
     "locked": false,
     "schema_version": 3,
     "solution": true,
     "task": false
    }
   },
   "outputs": [],
   "source": [
    "/* YOUR CODE HERE (delete the abort) */\n",
    "?- abort."
   ]
  },
  {
   "cell_type": "code",
   "execution_count": null,
   "metadata": {
    "deletable": false,
    "editable": false,
    "nbgrader": {
     "cell_type": "code",
     "checksum": "db36f39727672064611943cdf9ec1116",
     "grade": true,
     "grade_id": "cell-9c7ae74362959bbe",
     "locked": true,
     "points": 10,
     "schema_version": 3,
     "solution": false,
     "task": false
    }
   },
   "outputs": [],
   "source": [
    "/* 10 points */\n",
    "\n",
    "?- multiple(s(s(0)), s(s(0))) -> true; abort.\n",
    "?- multiple(s(s(0)), s(s(s(s(0))))) -> true; abort.\n",
    "?- not(multiple(s(s(0)),s(s(s(0))))) -> true; abort.\n"
   ]
  },
  {
   "cell_type": "markdown",
   "metadata": {
    "deletable": false,
    "editable": false,
    "nbgrader": {
     "cell_type": "markdown",
     "checksum": "89f15222d0be4973d79da57751805042",
     "grade": false,
     "grade_id": "cell-ec5ea96b99ca078d",
     "locked": true,
     "schema_version": 3,
     "solution": false,
     "task": false
    }
   },
   "source": [
    "## Problem 5\n",
    "\n",
    "Consider an alternative way of defining natural numbers as follows:\n",
    "\n",
    "```prolog\n",
    "natural_number2(1).\n",
    "natural_number2(1+X) :- natural_number2(X).\n",
    "```\n",
    "\n",
    "Note that + is used as a binary function, and 0 is not defined to be a `natural_number2`. Define a predicate `convert(X,Y)` which relates the two natural number predicates, i.e. `X` should be a `natural_number`, and `Y` should be its equivalent number, but according to the `natural_number2` predicate. See the testcases for more clarity."
   ]
  },
  {
   "cell_type": "code",
   "execution_count": null,
   "metadata": {
    "deletable": false,
    "nbgrader": {
     "cell_type": "code",
     "checksum": "c7cc6ceb4b4658cd2d941c8292cf0cdf",
     "grade": false,
     "grade_id": "cell-90497ee1842c2704",
     "locked": false,
     "schema_version": 3,
     "solution": true,
     "task": false
    }
   },
   "outputs": [],
   "source": [
    "natural_number2(1).\n",
    "natural_number2(1+X) :- natural_number2(X).\n",
    "\n",
    "/* YOUR CODE HERE (delete the abort) */\n",
    "?- abort."
   ]
  },
  {
   "cell_type": "code",
   "execution_count": null,
   "metadata": {
    "deletable": false,
    "editable": false,
    "nbgrader": {
     "cell_type": "code",
     "checksum": "0e883c464b9c6d012d3558ed8d774444",
     "grade": true,
     "grade_id": "cell-25999ef0ae9a30a5",
     "locked": true,
     "points": 10,
     "schema_version": 3,
     "solution": false,
     "task": false
    }
   },
   "outputs": [],
   "source": [
    "/* 10 points */\n",
    "?- convert(s(s(0)),X), X = 1+1 -> true; abort.\n",
    "?- convert(s(s(s(0))),X), X = 1+(1+1)-> true; abort.\n",
    "?- not(convert(0,X)) -> true; abort.\n"
   ]
  },
  {
   "cell_type": "markdown",
   "metadata": {
    "deletable": false,
    "editable": false,
    "nbgrader": {
     "cell_type": "markdown",
     "checksum": "56abcb6bb26444e652f9753e8f133f18",
     "grade": false,
     "grade_id": "cell-9b9197a66a98bcda",
     "locked": true,
     "schema_version": 3,
     "solution": false,
     "task": false
    }
   },
   "source": [
    "# Programming with Lists\n",
    "\n",
    "Let's implement some programs over lists.\n",
    "\n",
    "## Problem 6\n",
    "\n",
    "Implement a predicate `adjacent(X,Y,Zs)` which should hold if `X` and `Y` are adjacent (i.e. next to each other in that order) in the list `Zs`, otherwise it should be `false`."
   ]
  },
  {
   "cell_type": "code",
   "execution_count": null,
   "metadata": {
    "deletable": false,
    "nbgrader": {
     "cell_type": "code",
     "checksum": "63854e71e5718dfa5fd3430f43212c73",
     "grade": false,
     "grade_id": "cell-6d246bd26b988eb4",
     "locked": false,
     "schema_version": 3,
     "solution": true,
     "task": false
    }
   },
   "outputs": [],
   "source": [
    "/* YOUR CODE HERE (delete the abort) */\n",
    "?- abort."
   ]
  },
  {
   "cell_type": "code",
   "execution_count": null,
   "metadata": {
    "deletable": false,
    "editable": false,
    "nbgrader": {
     "cell_type": "code",
     "checksum": "ea2dc87c37c8b5b0b1277374b83e4041",
     "grade": true,
     "grade_id": "cell-01cb9dd12c6f127b",
     "locked": true,
     "points": 10,
     "schema_version": 3,
     "solution": false,
     "task": false
    }
   },
   "outputs": [],
   "source": [
    "/* 10 points */\n",
    "?- adjacent(3,4,[1,2,3,4,5]) -> true; abort.\n",
    "?- not(adjacent(3,4,[1,2,4,3,5])) -> true; abort.\n",
    "?- adjacent(1,3,[1,2,3,1,3,1,3]) -> true; abort.\n"
   ]
  },
  {
   "cell_type": "markdown",
   "metadata": {},
   "source": [
    "## Problem 7\n",
    "\n",
    "Implement a predicate `double(List,ListList)`, where every element in `List` appears twice in `ListList`, e.g. `double([1,2,3],[1,1,2,2,3,3])` is true. The ordering of elements in `List` is preserved in `ListList`. "
   ]
  },
  {
   "cell_type": "code",
   "execution_count": null,
   "metadata": {
    "deletable": false,
    "nbgrader": {
     "cell_type": "code",
     "checksum": "c7cba9cadb75e5b86d7419868a42fdd6",
     "grade": false,
     "grade_id": "cell-c4aa50d8c7f1a41a",
     "locked": false,
     "schema_version": 3,
     "solution": true,
     "task": false
    }
   },
   "outputs": [],
   "source": [
    "/* YOUR CODE HERE (delete the abort) */\n",
    "?- abort."
   ]
  },
  {
   "cell_type": "code",
   "execution_count": null,
   "metadata": {
    "deletable": false,
    "editable": false,
    "nbgrader": {
     "cell_type": "code",
     "checksum": "13e2cf7a707d1a5bb6a6a0250353f213",
     "grade": true,
     "grade_id": "cell-17a2b3a38dfada22",
     "locked": true,
     "points": 10,
     "schema_version": 3,
     "solution": false,
     "task": false
    }
   },
   "outputs": [],
   "source": [
    "/* 10 points */\n",
    "?- double([1,2,3],[1,1,2,2,3,3]) -> true; abort.\n",
    "?- double([1,1,1,1], [1,1,1,1,1,1,1,1]) -> true; abort.\n"
   ]
  },
  {
   "cell_type": "markdown",
   "metadata": {
    "deletable": false,
    "editable": false,
    "nbgrader": {
     "cell_type": "markdown",
     "checksum": "b303de035b1037dd9c0e7d2e69cb6204",
     "grade": false,
     "grade_id": "cell-43de6c787ed16b3c",
     "locked": true,
     "schema_version": 3,
     "solution": false,
     "task": false
    }
   },
   "source": [
    "## Problem 8\n",
    "\n",
    "Implement a predicate `flatten(LL,L)` which flattens a list of lists `LL` into the list `L`. The corresponding OCaml implementation of `flatten` is given below:\n",
    "\n",
    "```ocaml\n",
    "let rec flatten ll = match ll with\n",
    "| [] -> []\n",
    "| [[]] -> []\n",
    "| [] :: t -> flatten t\n",
    "| [h] :: t -> h :: flatten t\n",
    "| [h :: t1] :: t2 -> h :: (flatten (t1 :: t2))\n",
    "```"
   ]
  },
  {
   "cell_type": "code",
   "execution_count": null,
   "metadata": {
    "deletable": false,
    "nbgrader": {
     "cell_type": "code",
     "checksum": "f605a800468fcddc6fda7dd27279ebab",
     "grade": false,
     "grade_id": "cell-2e2535aaa0537d16",
     "locked": false,
     "schema_version": 3,
     "solution": true,
     "task": false
    }
   },
   "outputs": [],
   "source": [
    "/* YOUR CODE HERE (delete the abort) */\n",
    "?- abort."
   ]
  },
  {
   "cell_type": "code",
   "execution_count": null,
   "metadata": {
    "deletable": false,
    "editable": false,
    "nbgrader": {
     "cell_type": "code",
     "checksum": "f79e4e11846de456bea1e674ea04c907",
     "grade": true,
     "grade_id": "cell-48f793200f5a29e1",
     "locked": true,
     "points": 10,
     "schema_version": 3,
     "solution": false,
     "task": false
    }
   },
   "outputs": [],
   "source": [
    "/* 10 points */\n",
    "?- flatten([[1],[1]],[1,1]) -> true; abort.\n",
    "?- flatten([[1,2],[3,4],[5,6]],[1,2,3,4,5,6]) -> true; abort."
   ]
  },
  {
   "cell_type": "markdown",
   "metadata": {
    "deletable": false,
    "editable": false,
    "nbgrader": {
     "cell_type": "markdown",
     "checksum": "f6f5117e6b590100d0c2295814e0dbdd",
     "grade": false,
     "grade_id": "cell-529ec33d88c62591",
     "locked": true,
     "schema_version": 3,
     "solution": false,
     "task": false
    }
   },
   "source": [
    "## Problem 9\n",
    "\n",
    "Implement a predicate `sorted(L)` which returns `true` if `L` is a sorted list of `natural_number`s in non-decreasing order. Use the `natural_number` and `le` predicates defined in problems 1 and 2."
   ]
  },
  {
   "cell_type": "code",
   "execution_count": null,
   "metadata": {
    "deletable": false,
    "nbgrader": {
     "cell_type": "code",
     "checksum": "ee444c548f6bc644c67ff3ca9f69144a",
     "grade": false,
     "grade_id": "cell-b0d5ab6ae0524545",
     "locked": false,
     "schema_version": 3,
     "solution": true,
     "task": false
    }
   },
   "outputs": [],
   "source": [
    "/* YOUR CODE HERE (delete the abort) */\n",
    "?- abort."
   ]
  },
  {
   "cell_type": "code",
   "execution_count": null,
   "metadata": {
    "deletable": false,
    "editable": false,
    "nbgrader": {
     "cell_type": "code",
     "checksum": "6f1bf70de882fad3a75fcb58f29de786",
     "grade": true,
     "grade_id": "cell-041d3999d1d51d1d",
     "locked": true,
     "points": 10,
     "schema_version": 3,
     "solution": false,
     "task": false
    }
   },
   "outputs": [],
   "source": [
    "/* 10 points */\n",
    "?- sorted([0,s(0),s(s(0))]) -> true; abort.\n",
    "?- not(sorted([0,s(0),s(s(0)),s(0),s(s(0))])) -> true; abort."
   ]
  },
  {
   "cell_type": "markdown",
   "metadata": {
    "deletable": false,
    "editable": false,
    "nbgrader": {
     "cell_type": "markdown",
     "checksum": "d9b4e102f0dd9e0c33f56614b9ef0c2c",
     "grade": false,
     "grade_id": "cell-8b58afdf69cc0819",
     "locked": true,
     "schema_version": 3,
     "solution": false,
     "task": false
    }
   },
   "source": [
    "## Problem 10\n",
    "\n",
    "Implement a predicate `max(L,X)`, where `L` is a list of `natural_number`s, and `X` should be the maximum `natural_number` in `L`. (**Hint**: Defining an auxiliary predicate `member(X,L)` might be useful. `member(X,L)` is `true` if `X` is present in `L`, `false` otherwise.)"
   ]
  },
  {
   "cell_type": "code",
   "execution_count": null,
   "metadata": {
    "deletable": false,
    "nbgrader": {
     "cell_type": "code",
     "checksum": "91d88602c87a7dcd47b335bf5cec39e4",
     "grade": false,
     "grade_id": "cell-c4b724b7d70f08bf",
     "locked": false,
     "schema_version": 3,
     "solution": true,
     "task": false
    }
   },
   "outputs": [],
   "source": [
    "/* YOUR CODE HERE (delete the abort) */\n",
    "?- abort."
   ]
  },
  {
   "cell_type": "code",
   "execution_count": null,
   "metadata": {
    "deletable": false,
    "editable": false,
    "nbgrader": {
     "cell_type": "code",
     "checksum": "4e3fc5c882a6103714c921c6e7cd57d2",
     "grade": true,
     "grade_id": "cell-412effaa15fb5707",
     "locked": true,
     "points": 10,
     "schema_version": 3,
     "solution": false,
     "task": false
    }
   },
   "outputs": [],
   "source": [
    "/* 10 points */\n",
    "?- max([0,s(0),s(s(0)),s(s(s(0))),s(s(s(s(0))))],s(s(s(s(0))))) -> true; abort.\n",
    "?- max([s(0),s(s(0)),0,s(0)],s(s(0))) -> true; abort.\n",
    "?- not(max([0,1,2],2)) -> true; abort."
   ]
  },
  {
   "cell_type": "markdown",
   "metadata": {
    "deletable": false,
    "editable": false,
    "nbgrader": {
     "cell_type": "markdown",
     "checksum": "7ab47cbaef3f0b1200dde7b70fc308ba",
     "grade": false,
     "grade_id": "cell-3468e0b0aca58b56",
     "locked": true,
     "schema_version": 3,
     "solution": false,
     "task": false
    }
   },
   "source": [
    "## Problem 11\n",
    "\n",
    "Consider the predicate `binary_tree` defined as follows:\n",
    "\n",
    "```prolog\n",
    "binary_tree(null).\n",
    "binary_tree(tree(Element,Left,Right)) :- binary_tree(Left), binary_tree(Right).\n",
    "```\n",
    "\n",
    "Define a predicate `sum_tree(TreeOfIntegers,Sum)` which holds if `Sum` is the sum of the integer elements in `TreeOfIntegers`."
   ]
  },
  {
   "cell_type": "code",
   "execution_count": null,
   "metadata": {
    "deletable": false,
    "nbgrader": {
     "cell_type": "code",
     "checksum": "5971a2689ca133df6e8a68b36fa28aec",
     "grade": false,
     "grade_id": "cell-064998a845700af7",
     "locked": false,
     "schema_version": 3,
     "solution": true,
     "task": false
    }
   },
   "outputs": [],
   "source": [
    "binary_tree(null).\n",
    "binary_tree(tree(Element,Left,Right)) :- binary_tree(Left), binary_tree(Right).\n",
    "\n",
    "/* YOUR CODE HERE (delete the abort) */\n",
    "?- abort."
   ]
  },
  {
   "cell_type": "code",
   "execution_count": null,
   "metadata": {
    "deletable": false,
    "editable": false,
    "nbgrader": {
     "cell_type": "code",
     "checksum": "828998bf550421b16f199db1023cb4d2",
     "grade": true,
     "grade_id": "cell-bda19747bf826d95",
     "locked": true,
     "points": 10,
     "schema_version": 3,
     "solution": false,
     "task": false
    }
   },
   "outputs": [],
   "source": [
    "/* 10 points */\n",
    "?- sum_tree(tree(1,tree(2,null,null),tree(3,null,null)), 6) -> true; abort.\n",
    "?- sum_tree(tree(1,null,null),1) -> true; abort."
   ]
  }
 ],
 "metadata": {
  "kernelspec": {
   "display_name": "SWI-Prolog",
   "language": "",
   "name": "jswipl"
  },
  "language_info": {
   "mimetype": "text/plain",
   "name": "swipl"
  }
 },
 "nbformat": 4,
 "nbformat_minor": 2
}
