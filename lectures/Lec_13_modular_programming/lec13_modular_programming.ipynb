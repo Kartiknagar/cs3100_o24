{
 "cells": [
  {
   "cell_type": "markdown",
   "metadata": {
    "slideshow": {
     "slide_type": "slide"
    }
   },
   "source": [
    "<center>\n",
    "\n",
    "<h1 style=\"text-align:center\"> Modular Programming </h1>\n",
    "</center>"
   ]
  },
  {
   "cell_type": "markdown",
   "metadata": {
    "slideshow": {
     "slide_type": "slide"
    }
   },
   "source": [
    "## Review\n",
    "\n",
    "* Previously\n",
    "  + How to build small programs\n",
    "  \n",
    "* This lecture\n",
    "  + How to build at scale: Structures, Signatures, Functors.\n",
    "  \n",
    "$\n",
    "\\require{color}\n",
    "\\newcommand{\\cred}[1]{{\\color{\\red}{\\text{#1}}}}\n",
    "\\newcommand{\\cgreen}[1]{{\\color{\\green}{\\text{#1}}}}\n",
    "$"
   ]
  },
  {
   "cell_type": "markdown",
   "metadata": {
    "slideshow": {
     "slide_type": "slide"
    }
   },
   "source": [
    "## Scale\n",
    "\n",
    "* **Assignment 1 & 2** : ~100 lines of code\n",
    "* **OCaml** : 375000 lines of code\n",
    "* **Hubble space telescope** : 2 million lines of code\n",
    "* **Facebook** : 60 million lines of code (estimated)\n",
    "* **Google (all services)** : 2 billion lines of code (estimated)\n",
    "\n",
    "https://informationisbeautiful.net/visualizations/million-lines-of-code/\n",
    "\n",
    "...can’t be done by one person\n",
    "\n",
    "...no individual programmer can understand all the details\n",
    "\n",
    "...$\\cred{too complex to build with OCaml we’ve seen so far}$"
   ]
  },
  {
   "cell_type": "markdown",
   "metadata": {
    "slideshow": {
     "slide_type": "slide"
    }
   },
   "source": [
    "## Modularity\n",
    "\n",
    "* Code comprises of individual **Modules**\n",
    "* Developed separately\n",
    "  + Reason $\\cgreen{locally}$, not $\\cred{globally}$.\n",
    "* Clearly specified **Interfaces** for using the modules\n",
    "\n",
    "<center>\n",
    "\n",
    "<img src=\"modules.png\" width=250>\n",
    "</center>"
   ]
  },
  {
   "cell_type": "markdown",
   "metadata": {
    "slideshow": {
     "slide_type": "slide"
    }
   },
   "source": [
    "## Features of modularity\n",
    "\n",
    "* **Namespacing**\n",
    "  + Provide way to name a collection of related features (`List`, `Set`)\n",
    "  + Avoid name clashes with similarly named features from different collections (`insert` in `List` and `Set`)"
   ]
  },
  {
   "cell_type": "markdown",
   "metadata": {
    "slideshow": {
     "slide_type": "slide"
    }
   },
   "source": [
    "## Features of modularity\n",
    "\n",
    "* **Abstraction**\n",
    "  + Hide the details of implementation\n",
    "  + Avoid the user breaking invariants implicit in the code.\n",
    "    + Example: LIFO property while implementing a stack using `List`. \n",
    "    + User sorts the list which will break the LIFO property.\n",
    "  + Transparently change the implementation without breaking the code of the client (i.e. user) of the module.\n",
    "    + Implement stack with an `Array` rather than a `List`."
   ]
  },
  {
   "cell_type": "markdown",
   "metadata": {
    "slideshow": {
     "slide_type": "slide"
    }
   },
   "source": [
    "## Features of modularity\n",
    "\n",
    "* **Code reuse**\n",
    "  + Avoid reimplementing features that are already present.\n",
    "  + Implementing stack using `List` : Reuse `List` functions such as `is_empty` and `length`."
   ]
  },
  {
   "cell_type": "markdown",
   "metadata": {
    "slideshow": {
     "slide_type": "slide"
    }
   },
   "source": [
    "## OCaml Features for Modularity\n",
    "\n",
    "* **Namespacing:** Structure\n",
    "* **Abstraction:** Signature\n",
    "* **Code Reuse:** Functors, includes, and sharing constraints."
   ]
  },
  {
   "cell_type": "markdown",
   "metadata": {
    "slideshow": {
     "slide_type": "slide"
    }
   },
   "source": [
    "## Structure\n",
    "\n",
    "* A collection of **definitions**.\n",
    "* Evaluated in order\n",
    "* Structure value can be bound to a name\n",
    "\n",
    "The syntax is \n",
    "\n",
    "```ocaml\n",
    "module Module_name = struct \n",
    "  (* collection of definitions *) \n",
    "end\n",
    "```"
   ]
  },
  {
   "cell_type": "markdown",
   "metadata": {
    "slideshow": {
     "slide_type": "slide"
    }
   },
   "source": [
    "## Structure\n",
    "\n",
    "+ Let us implement a purely functional stack using OCaml's built-in list data structure.\n",
    "+ In a purely functional data structure, \"update\" operations return a new version of the data structure.\n",
    "  + In a stack, push and pop return a new version of the stack."
   ]
  },
  {
   "cell_type": "code",
   "execution_count": 1,
   "metadata": {},
   "outputs": [
    {
     "data": {
      "text/plain": [
       "module Stack :\n",
       "  sig\n",
       "    val empty : 'a list\n",
       "    val push : 'a -> 'a list -> 'a list\n",
       "    val pop : 'a list -> ('a * 'a list) option\n",
       "    val depth : 'a list -> int\n",
       "  end\n"
      ]
     },
     "execution_count": 1,
     "metadata": {},
     "output_type": "execute_result"
    }
   ],
   "source": [
    "module Stack = struct\n",
    "  let empty = []\n",
    "  let push v s = v::s\n",
    "  let pop s = match s with\n",
    "  | [] -> None\n",
    "  | x::xs -> Some (x, xs)\n",
    "  let depth s = List.length s\n",
    "end"
   ]
  },
  {
   "cell_type": "markdown",
   "metadata": {
    "slideshow": {
     "slide_type": "slide"
    }
   },
   "source": [
    "## Structures provide namespacing"
   ]
  },
  {
   "cell_type": "code",
   "execution_count": 2,
   "metadata": {},
   "outputs": [
    {
     "data": {
      "text/plain": [
       "- : 'a list = []\n"
      ]
     },
     "execution_count": 2,
     "metadata": {},
     "output_type": "execute_result"
    }
   ],
   "source": [
    "Stack.empty"
   ]
  },
  {
   "cell_type": "code",
   "execution_count": 3,
   "metadata": {
    "scrolled": true
   },
   "outputs": [
    {
     "ename": "error",
     "evalue": "compile_error",
     "output_type": "error",
     "traceback": [
      "File \"[3]\", line 1, characters 0-5:\n1 | empty\n    ^^^^^\nError: Unbound value empty\n"
     ]
    }
   ],
   "source": [
    "empty"
   ]
  },
  {
   "cell_type": "markdown",
   "metadata": {
    "slideshow": {
     "slide_type": "slide"
    }
   },
   "source": [
    "## Signature\n",
    "\n",
    "* A collection of **declarations**.\n",
    "* No evaluation, only used for type-checking. \n",
    "* Signature type can also be bound to a name. \n",
    "\n",
    "```ocaml\n",
    "module type Module_type_name = sig\n",
    "  (* collection of declaration *)\n",
    "end\n",
    "```"
   ]
  },
  {
   "cell_type": "markdown",
   "metadata": {
    "slideshow": {
     "slide_type": "slide"
    }
   },
   "source": [
    "## Stack Signature"
   ]
  },
  {
   "cell_type": "code",
   "execution_count": 4,
   "metadata": {
    "scrolled": true
   },
   "outputs": [
    {
     "data": {
      "text/plain": [
       "module type StackType =\n",
       "  sig\n",
       "    val empty : 'a list\n",
       "    val push : 'a -> 'a list -> 'a list\n",
       "    val pop : 'a list -> ('a * 'a list) option\n",
       "    val depth : 'a list -> int\n",
       "  end\n"
      ]
     },
     "execution_count": 4,
     "metadata": {},
     "output_type": "execute_result"
    }
   ],
   "source": [
    "module type StackType = sig\n",
    "  val empty : 'a list\n",
    "  val push : 'a -> 'a list -> 'a list\n",
    "  val pop : 'a list -> ('a * 'a list) option\n",
    "  val depth : 'a list -> int\n",
    "end"
   ]
  },
  {
   "cell_type": "markdown",
   "metadata": {
    "slideshow": {
     "slide_type": "slide"
    }
   },
   "source": [
    "## Handy Jupyter Functions \n",
    "\n",
    "Jupyter (really the OCaml top-level) has the following handy functions to display the modules and module signatures."
   ]
  },
  {
   "cell_type": "code",
   "execution_count": 5,
   "metadata": {
    "scrolled": true
   },
   "outputs": [
    {
     "name": "stdout",
     "output_type": "stream",
     "text": [
      "module Stack :\n",
      "  sig\n",
      "    val empty : 'a list\n",
      "    val push : 'a -> 'a list -> 'a list\n",
      "    val pop : 'a list -> ('a * 'a list) option\n",
      "    val depth : 'a list -> int\n",
      "  end\n"
     ]
    }
   ],
   "source": [
    "#show_module Stack"
   ]
  },
  {
   "cell_type": "code",
   "execution_count": 6,
   "metadata": {},
   "outputs": [
    {
     "name": "stdout",
     "output_type": "stream",
     "text": [
      "module type StackType =\n",
      "  sig\n",
      "    val empty : 'a list\n",
      "    val push : 'a -> 'a list -> 'a list\n",
      "    val pop : 'a list -> ('a * 'a list) option\n",
      "    val depth : 'a list -> int\n",
      "  end\n"
     ]
    }
   ],
   "source": [
    "#show_module_type StackType"
   ]
  },
  {
   "cell_type": "markdown",
   "metadata": {
    "slideshow": {
     "slide_type": "slide"
    }
   },
   "source": [
    "## Explicit Signatures"
   ]
  },
  {
   "cell_type": "code",
   "execution_count": 7,
   "metadata": {},
   "outputs": [
    {
     "data": {
      "text/plain": [
       "module M : StackType\n"
      ]
     },
     "execution_count": 7,
     "metadata": {},
     "output_type": "execute_result"
    }
   ],
   "source": [
    "module M : StackType = Stack"
   ]
  },
  {
   "cell_type": "markdown",
   "metadata": {
    "slideshow": {
     "slide_type": "slide"
    }
   },
   "source": [
    "## Hiding functionality with explicit signatures"
   ]
  },
  {
   "cell_type": "code",
   "execution_count": 8,
   "metadata": {},
   "outputs": [
    {
     "data": {
      "text/plain": [
       "module M : sig val empty : 'a list end\n"
      ]
     },
     "execution_count": 8,
     "metadata": {},
     "output_type": "execute_result"
    }
   ],
   "source": [
    "module M : (sig \n",
    "  val empty : 'a list \n",
    "end) = Stack"
   ]
  },
  {
   "cell_type": "code",
   "execution_count": 12,
   "metadata": {},
   "outputs": [
    {
     "data": {
      "text/plain": [
       "- : 'a list = []\n"
      ]
     },
     "execution_count": 12,
     "metadata": {},
     "output_type": "execute_result"
    },
    {
     "data": {
      "text/plain": [
       "- : int list = [1]\n"
      ]
     },
     "execution_count": 12,
     "metadata": {},
     "output_type": "execute_result"
    }
   ],
   "source": [
    "Stack.empty;;\n",
    "Stack.push 1 Stack.empty"
   ]
  },
  {
   "cell_type": "code",
   "execution_count": 11,
   "metadata": {},
   "outputs": [
    {
     "data": {
      "text/plain": [
       "- : 'a list = []\n"
      ]
     },
     "execution_count": 11,
     "metadata": {},
     "output_type": "execute_result"
    },
    {
     "ename": "error",
     "evalue": "compile_error",
     "output_type": "error",
     "traceback": [
      "File \"[11]\", line 2, characters 0-6:\n2 | M.push 1 M.empty\n    ^^^^^^\nError: Unbound value M.push\n"
     ]
    }
   ],
   "source": [
    "M.empty;;\n",
    "M.push 1 M.empty"
   ]
  },
  {
   "cell_type": "markdown",
   "metadata": {
    "slideshow": {
     "slide_type": "slide"
    }
   },
   "source": [
    "## Opening modules\n",
    "\n",
    "* Use `open` to make available all the definitions from the module"
   ]
  },
  {
   "cell_type": "code",
   "execution_count": 11,
   "metadata": {},
   "outputs": [],
   "source": [
    "open Stack"
   ]
  },
  {
   "cell_type": "code",
   "execution_count": 12,
   "metadata": {},
   "outputs": [
    {
     "data": {
      "text/plain": [
       "- : 'a list = []\n"
      ]
     },
     "execution_count": 12,
     "metadata": {},
     "output_type": "execute_result"
    }
   ],
   "source": [
    "empty"
   ]
  },
  {
   "cell_type": "markdown",
   "metadata": {
    "slideshow": {
     "slide_type": "slide"
    }
   },
   "source": [
    "## Including module functionality\n",
    "\n",
    "* `include` allows new modules to be constructed by extending earlier modules (Code reuse)."
   ]
  },
  {
   "cell_type": "code",
   "execution_count": 20,
   "metadata": {},
   "outputs": [
    {
     "data": {
      "text/plain": [
       "module Stack :\n",
       "  sig\n",
       "    val empty : 'a list\n",
       "    val push : 'a -> 'a list -> 'a list\n",
       "    val pop : 'a list -> ('a * 'a list) option\n",
       "    val depth : 'a list -> int\n",
       "    val is_empty : 'a list -> bool\n",
       "  end\n"
      ]
     },
     "execution_count": 20,
     "metadata": {},
     "output_type": "execute_result"
    }
   ],
   "source": [
    "module Stack = struct\n",
    "  include Stack\n",
    "  let is_empty s = match s with\n",
    "  | [] -> true\n",
    "  | _ -> false\n",
    "end"
   ]
  },
  {
   "cell_type": "markdown",
   "metadata": {
    "slideshow": {
     "slide_type": "slide"
    }
   },
   "source": [
    "## Include on signatures\n",
    "\n",
    "`include` also works on signatures to define other signatures."
   ]
  },
  {
   "cell_type": "code",
   "execution_count": 21,
   "metadata": {},
   "outputs": [
    {
     "data": {
      "text/plain": [
       "module type MT =\n",
       "  sig\n",
       "    val empty : 'a list\n",
       "    val push : 'a -> 'a list -> 'a list\n",
       "    val pop : 'a list -> ('a * 'a list) option\n",
       "    val depth : 'a list -> int\n",
       "    val is_empty : 'a list -> bool\n",
       "  end\n"
      ]
     },
     "execution_count": 21,
     "metadata": {},
     "output_type": "execute_result"
    }
   ],
   "source": [
    "module type MT = sig\n",
    "  include StackType\n",
    "  val is_empty : 'a list -> bool\n",
    "end"
   ]
  },
  {
   "cell_type": "markdown",
   "metadata": {
    "slideshow": {
     "slide_type": "slide"
    }
   },
   "source": [
    "## Abstract types\n",
    "\n",
    "* So far we have only seen how to collect definitions under a common name (Namespacing)\n",
    "  + The implementation details are still visible."
   ]
  },
  {
   "cell_type": "code",
   "execution_count": 22,
   "metadata": {},
   "outputs": [
    {
     "data": {
      "text/plain": [
       "val s : int list = [3; 2; 1]\n"
      ]
     },
     "execution_count": 22,
     "metadata": {},
     "output_type": "execute_result"
    }
   ],
   "source": [
    "let s = Stack.empty |> Stack.push 1 |> Stack.push 2 |> Stack.push 3"
   ]
  },
  {
   "cell_type": "markdown",
   "metadata": {
    "slideshow": {
     "slide_type": "fragment"
    }
   },
   "source": [
    "Aside: `|>` is called the pipelining operator in OCaml. The above is equivalent to:"
   ]
  },
  {
   "cell_type": "code",
   "execution_count": 23,
   "metadata": {
    "slideshow": {
     "slide_type": "fragment"
    }
   },
   "outputs": [
    {
     "data": {
      "text/plain": [
       "val s1 : int list = [3; 2; 1]\n"
      ]
     },
     "execution_count": 23,
     "metadata": {},
     "output_type": "execute_result"
    }
   ],
   "source": [
    "let s1 = Stack.push 3 (Stack.push 2 (Stack.push 1 Stack.empty))"
   ]
  },
  {
   "cell_type": "markdown",
   "metadata": {
    "slideshow": {
     "slide_type": "fragment"
    }
   },
   "source": [
    "`s` is of type `int list`\n",
    "\n",
    "Can do non-sensical operations for a stack such as `List.sort`."
   ]
  },
  {
   "cell_type": "code",
   "execution_count": 24,
   "metadata": {},
   "outputs": [
    {
     "data": {
      "text/plain": [
       "- : int list = [1; 2; 3]\n"
      ]
     },
     "execution_count": 24,
     "metadata": {},
     "output_type": "execute_result"
    }
   ],
   "source": [
    "List.sort (-) s"
   ]
  },
  {
   "cell_type": "markdown",
   "metadata": {
    "slideshow": {
     "slide_type": "slide"
    }
   },
   "source": [
    "## Abstract stack\n",
    "\n",
    "**Abstract** the type of stack such that only those operations allowed by the interface are applicable. \n",
    "\n",
    "Define the stack signature with abstract stack type."
   ]
  },
  {
   "cell_type": "code",
   "execution_count": 25,
   "metadata": {
    "scrolled": true
   },
   "outputs": [
    {
     "data": {
      "text/plain": [
       "module type AbsStackType =\n",
       "  sig\n",
       "    type 'a t\n",
       "    val empty : 'a t\n",
       "    val push : 'a -> 'a t -> 'a t\n",
       "    val pop : 'a t -> ('a * 'a t) option\n",
       "    val depth : 'a t -> int\n",
       "    val is_empty : 'a t -> bool\n",
       "  end\n"
      ]
     },
     "execution_count": 25,
     "metadata": {},
     "output_type": "execute_result"
    }
   ],
   "source": [
    "module type AbsStackType = sig\n",
    "  type 'a t (* abstract type *)\n",
    "  val empty    : 'a t\n",
    "  val push     : 'a -> 'a t -> 'a t\n",
    "  val pop      : 'a t -> ('a * 'a t) option\n",
    "  val depth    : 'a t -> int\n",
    "  val is_empty : 'a t -> bool\n",
    "end"
   ]
  },
  {
   "cell_type": "markdown",
   "metadata": {
    "slideshow": {
     "slide_type": "slide"
    }
   },
   "source": [
    "## Abstract stack"
   ]
  },
  {
   "cell_type": "code",
   "execution_count": 26,
   "metadata": {},
   "outputs": [
    {
     "data": {
      "text/plain": [
       "module AbsStack : AbsStackType\n"
      ]
     },
     "execution_count": 26,
     "metadata": {},
     "output_type": "execute_result"
    }
   ],
   "source": [
    "module AbsStack : AbsStackType = struct\n",
    "  type 'a t = 'a list\n",
    "  include Stack\n",
    "end"
   ]
  },
  {
   "cell_type": "code",
   "execution_count": 27,
   "metadata": {},
   "outputs": [
    {
     "data": {
      "text/plain": [
       "val s : int AbsStack.t = <abstr>\n"
      ]
     },
     "execution_count": 27,
     "metadata": {},
     "output_type": "execute_result"
    }
   ],
   "source": [
    "let s = AbsStack.empty |> AbsStack.push 1 |> AbsStack.push 2 |> AbsStack.push 3;;"
   ]
  },
  {
   "cell_type": "code",
   "execution_count": 28,
   "metadata": {},
   "outputs": [
    {
     "data": {
      "text/plain": [
       "- : (int * int AbsStack.t) option = Some (3, <abstr>)\n"
      ]
     },
     "execution_count": 28,
     "metadata": {},
     "output_type": "execute_result"
    }
   ],
   "source": [
    "AbsStack.pop s"
   ]
  },
  {
   "cell_type": "code",
   "execution_count": 29,
   "metadata": {},
   "outputs": [
    {
     "ename": "error",
     "evalue": "compile_error",
     "output_type": "error",
     "traceback": [
      "File \"[29]\", line 1, characters 14-15:\n1 | List.sort (-) s\n                  ^\nError: This expression has type int AbsStack.t\n       but an expression was expected of type int list\n"
     ]
    }
   ],
   "source": [
    "List.sort (-) s"
   ]
  },
  {
   "cell_type": "markdown",
   "metadata": {
    "slideshow": {
     "slide_type": "slide"
    }
   },
   "source": [
    "## Abstraction\n",
    "\n",
    "* Interfaces with abstract types are **contracts** between the *implementer* and the *user*.\n",
    "* User can interact with the values of the type only using the API\n",
    "  + No way to sort the internal list anymore.\n",
    "* Implementer can transparently change the internals of the implementation \n",
    "  + Implement the stack with an array rather than list\n",
    "  + As long as the same API is preserved, the user code does not break."
   ]
  },
  {
   "cell_type": "markdown",
   "metadata": {
    "slideshow": {
     "slide_type": "slide"
    }
   },
   "source": [
    "## Hiding internals using module types"
   ]
  },
  {
   "cell_type": "code",
   "execution_count": 27,
   "metadata": {},
   "outputs": [
    {
     "data": {
      "text/plain": [
       "module M1 : sig type t = int val v : t end\n"
      ]
     },
     "execution_count": 27,
     "metadata": {},
     "output_type": "execute_result"
    },
    {
     "data": {
      "text/plain": [
       "- : M1.t = 5\n"
      ]
     },
     "execution_count": 27,
     "metadata": {},
     "output_type": "execute_result"
    }
   ],
   "source": [
    "module M1 = struct\n",
    "  type t = int\n",
    "  let v : t = 5\n",
    "end;;\n",
    "\n",
    "M1.v"
   ]
  },
  {
   "cell_type": "code",
   "execution_count": 33,
   "metadata": {},
   "outputs": [
    {
     "data": {
      "text/plain": [
       "module type T = sig type t val v : t end\n"
      ]
     },
     "execution_count": 33,
     "metadata": {},
     "output_type": "execute_result"
    },
    {
     "data": {
      "text/plain": [
       "module M2 : T\n"
      ]
     },
     "execution_count": 33,
     "metadata": {},
     "output_type": "execute_result"
    },
    {
     "data": {
      "text/plain": [
       "- : M2.t = <abstr>\n"
      ]
     },
     "execution_count": 33,
     "metadata": {},
     "output_type": "execute_result"
    }
   ],
   "source": [
    "module type T = sig\n",
    "  type t\n",
    "  val v : t\n",
    "end;;\n",
    "\n",
    "module M2: T = struct type t = int let v : t = 5 end;;\n",
    "\n",
    "M2.v"
   ]
  },
  {
   "cell_type": "markdown",
   "metadata": {
    "slideshow": {
     "slide_type": "slide"
    }
   },
   "source": [
    "## Stack using user-defined list"
   ]
  },
  {
   "cell_type": "code",
   "execution_count": 23,
   "metadata": {},
   "outputs": [
    {
     "data": {
      "text/plain": [
       "module AbsVariantStack : AbsStackType\n"
      ]
     },
     "execution_count": 23,
     "metadata": {},
     "output_type": "execute_result"
    }
   ],
   "source": [
    "module AbsVariantStack : AbsStackType = struct\n",
    "  type 'a t = \n",
    "  | Nil \n",
    "  | Cons of 'a * 'a t\n",
    "  \n",
    "  let empty = Nil\n",
    "  \n",
    "  let rec depth_aux acc l = match l with\n",
    "  | Nil -> acc\n",
    "  | Cons (x, xs) -> depth_aux (1+acc) xs\n",
    "  \n",
    "  let depth l = depth_aux 0 l\n",
    "  \n",
    "  let push v s = Cons (v,s)\n",
    "  \n",
    "  let pop s = match s with Nil -> None | Cons (x,xs) -> Some (x,xs)\n",
    "  \n",
    "  let is_empty s = match s with Nil -> true | _ -> false\n",
    "end"
   ]
  },
  {
   "cell_type": "markdown",
   "metadata": {
    "slideshow": {
     "slide_type": "slide"
    }
   },
   "source": [
    "## Two Stack Modules"
   ]
  },
  {
   "cell_type": "code",
   "execution_count": null,
   "metadata": {},
   "outputs": [],
   "source": [
    "#show_module AbsStack;;\n",
    "#show_module AbsVariantStack;;\n",
    "#show_module_type AbsStackType;;\n"
   ]
  },
  {
   "cell_type": "markdown",
   "metadata": {},
   "source": [
    "Wherever the user uses the `AbsStack`, we can replace that with `AbsVariantStack` and the user code wouldn't be able to tell the difference. "
   ]
  },
  {
   "cell_type": "markdown",
   "metadata": {
    "slideshow": {
     "slide_type": "slide"
    }
   },
   "source": [
    "## Two languages\n",
    "\n",
    "* OCaml is a stratified language.\n",
    "  + Values + Expressions and Types at term level.\n",
    "  + Structures and Signatures at module level.\n",
    "* Structures are (generally) not first-class in OCaml.\n",
    "  + OCaml has **first-class modules**, which we will not cover in this class.\n",
    "* What is the equivalent of functions at the module level?\n",
    "  + And why would we need it?\n",
    "* **Functors**\n",
    "  + Functions that take structures and return other structures."
   ]
  },
  {
   "cell_type": "markdown",
   "metadata": {
    "slideshow": {
     "slide_type": "slide"
    }
   },
   "source": [
    "## Identity functor\n",
    "\n",
    "The simplest function is the identity function"
   ]
  },
  {
   "cell_type": "code",
   "execution_count": 33,
   "metadata": {},
   "outputs": [
    {
     "data": {
      "text/plain": [
       "val id : int -> int = <fun>\n"
      ]
     },
     "execution_count": 33,
     "metadata": {},
     "output_type": "execute_result"
    }
   ],
   "source": [
    "let id (x : int) : int = x"
   ]
  },
  {
   "cell_type": "markdown",
   "metadata": {
    "slideshow": {
     "slide_type": "fragment"
    }
   },
   "source": [
    "At the module level, we can correspondingly define"
   ]
  },
  {
   "cell_type": "code",
   "execution_count": 34,
   "metadata": {},
   "outputs": [
    {
     "data": {
      "text/plain": [
       "module type T = sig type t val v : t end\n"
      ]
     },
     "execution_count": 34,
     "metadata": {},
     "output_type": "execute_result"
    }
   ],
   "source": [
    "module type T = sig \n",
    "  type t \n",
    "  val v : t \n",
    "end"
   ]
  },
  {
   "cell_type": "code",
   "execution_count": 35,
   "metadata": {},
   "outputs": [
    {
     "data": {
      "text/plain": [
       "module Id : functor (X : T) -> T\n"
      ]
     },
     "execution_count": 35,
     "metadata": {},
     "output_type": "execute_result"
    }
   ],
   "source": [
    "module Id (X : T) : T = X"
   ]
  },
  {
   "cell_type": "markdown",
   "metadata": {
    "slideshow": {
     "slide_type": "slide"
    }
   },
   "source": [
    "## Applying Identity functor"
   ]
  },
  {
   "cell_type": "code",
   "execution_count": 36,
   "metadata": {},
   "outputs": [
    {
     "data": {
      "text/plain": [
       "- : int = 5\n"
      ]
     },
     "execution_count": 36,
     "metadata": {},
     "output_type": "execute_result"
    }
   ],
   "source": [
    "id 5"
   ]
  },
  {
   "cell_type": "markdown",
   "metadata": {},
   "source": [
    "Similarly:"
   ]
  },
  {
   "cell_type": "code",
   "execution_count": 37,
   "metadata": {},
   "outputs": [
    {
     "data": {
      "text/plain": [
       "module M : sig type t = int val v : int end\n"
      ]
     },
     "execution_count": 37,
     "metadata": {},
     "output_type": "execute_result"
    }
   ],
   "source": [
    "module M = struct \n",
    "  type t = int\n",
    "  let v = 10\n",
    "end"
   ]
  },
  {
   "cell_type": "code",
   "execution_count": 38,
   "metadata": {},
   "outputs": [
    {
     "data": {
      "text/plain": [
       "module M' : sig type t = Id(M).t val v : t end\n"
      ]
     },
     "execution_count": 38,
     "metadata": {},
     "output_type": "execute_result"
    }
   ],
   "source": [
    "module M' = Id(M)"
   ]
  },
  {
   "cell_type": "markdown",
   "metadata": {
    "slideshow": {
     "slide_type": "slide"
    }
   },
   "source": [
    "## Type equality under abstraction\n",
    "\n",
    "* We know `M` and `M'` are the same modules.\n",
    "  + Let's ask whether `M.v = M'.v`."
   ]
  },
  {
   "cell_type": "code",
   "execution_count": 39,
   "metadata": {
    "scrolled": true
   },
   "outputs": [
    {
     "ename": "error",
     "evalue": "compile_error",
     "output_type": "error",
     "traceback": [
      "File \"[39]\", line 1, characters 6-10:\n1 | M.v = M'.v\n          ^^^^\nError: This expression has type M'.t = Id(M).t\n       but an expression was expected of type int\n"
     ]
    }
   ],
   "source": [
    "M.v = M'.v"
   ]
  },
  {
   "cell_type": "markdown",
   "metadata": {},
   "source": [
    "* While the compiler knows that the type `M.t` is `int`, the type `M'.t` (return type of functor) is **abstract**\n",
    "  + Compiler does not know that `M.t` is the same type as `M'.t`. "
   ]
  },
  {
   "cell_type": "markdown",
   "metadata": {
    "slideshow": {
     "slide_type": "slide"
    }
   },
   "source": [
    "## Sharing constraints\n",
    "\n",
    "* Use **sharing constraints** to let the compiler know about type equalities.\n",
    "* Sharing constraints make the module types _less abstract / more concrete_. \n",
    "\n",
    "Consider the original identity functor definition"
   ]
  },
  {
   "cell_type": "code",
   "execution_count": null,
   "metadata": {},
   "outputs": [],
   "source": [
    "module Id (X : T) : T = X"
   ]
  },
  {
   "cell_type": "markdown",
   "metadata": {
    "slideshow": {
     "slide_type": "fragment"
    }
   },
   "source": [
    "Now consider the identity functor with sharing constraint on the return type `T`"
   ]
  },
  {
   "cell_type": "code",
   "execution_count": 40,
   "metadata": {},
   "outputs": [
    {
     "data": {
      "text/plain": [
       "module Id2 : functor (X : T) -> sig type t = X.t val v : t end\n"
      ]
     },
     "execution_count": 40,
     "metadata": {},
     "output_type": "execute_result"
    }
   ],
   "source": [
    "module Id2 (X : T) : (T with type t = X.t)\n",
    "  = X"
   ]
  },
  {
   "cell_type": "markdown",
   "metadata": {
    "slideshow": {
     "slide_type": "slide"
    }
   },
   "source": [
    "## Sharing Constraints"
   ]
  },
  {
   "cell_type": "code",
   "execution_count": 41,
   "metadata": {},
   "outputs": [
    {
     "data": {
      "text/plain": [
       "module M2 : sig type t = M.t val v : t end\n"
      ]
     },
     "execution_count": 41,
     "metadata": {},
     "output_type": "execute_result"
    }
   ],
   "source": [
    "module M2 = Id2(M)"
   ]
  },
  {
   "cell_type": "code",
   "execution_count": 42,
   "metadata": {},
   "outputs": [
    {
     "data": {
      "text/plain": [
       "- : bool = true\n"
      ]
     },
     "execution_count": 42,
     "metadata": {},
     "output_type": "execute_result"
    }
   ],
   "source": [
    "M2.v = M.v"
   ]
  },
  {
   "cell_type": "markdown",
   "metadata": {
    "slideshow": {
     "slide_type": "slide"
    }
   },
   "source": [
    "## Multiple sharing constraints"
   ]
  },
  {
   "cell_type": "code",
   "execution_count": null,
   "metadata": {
    "scrolled": true
   },
   "outputs": [],
   "source": [
    "module type T2 = sig \n",
    "  type t\n",
    "  type u \n",
    "end\n",
    "\n",
    "module Id2 (X2 : T2) : \n",
    "  (T2 with type t = X2.t\n",
    "       and type u = X2.u) = struct \n",
    "  type t = X2.t\n",
    "  type u = X2.u\n",
    "end"
   ]
  },
  {
   "cell_type": "markdown",
   "metadata": {
    "slideshow": {
     "slide_type": "slide"
    }
   },
   "source": [
    "## Functor Example: Serializable List\n",
    "\n",
    "* Write a `string_of_list` and `list_of_string` functions for _any typed_ list.\n",
    "    + We need to know how to convert the list element to string and vice-versa.\n",
    "* For an `int list`, we can write:"
   ]
  },
  {
   "cell_type": "code",
   "execution_count": null,
   "metadata": {},
   "outputs": [],
   "source": [
    "let string_of_list l = \n",
    "  let rec loop acc l = match l with\n",
    "    | [] -> acc\n",
    "    | [x] -> acc ^ (string_of_int x)\n",
    "    | x::xs -> loop (acc ^ (string_of_int x) ^ \";\") xs\n",
    "  in\n",
    "  \"[\" ^ (loop \"\" l) ^ \"]\"  "
   ]
  },
  {
   "cell_type": "code",
   "execution_count": null,
   "metadata": {},
   "outputs": [],
   "source": [
    "string_of_list [1;2;3]"
   ]
  },
  {
   "cell_type": "markdown",
   "metadata": {
    "slideshow": {
     "slide_type": "slide"
    }
   },
   "source": [
    "## Functor Example: Serializable List"
   ]
  },
  {
   "cell_type": "code",
   "execution_count": null,
   "metadata": {},
   "outputs": [],
   "source": [
    "let list_of_string s =\n",
    "  let s = String.sub s 1 (String.length s - 2) in\n",
    "  List.map int_of_string (String.split_on_char ';' s)"
   ]
  },
  {
   "cell_type": "code",
   "execution_count": null,
   "metadata": {},
   "outputs": [],
   "source": [
    "list_of_string \"[1;2;3]\""
   ]
  },
  {
   "cell_type": "markdown",
   "metadata": {
    "slideshow": {
     "slide_type": "slide"
    }
   },
   "source": [
    "## Generalise\n",
    "\n",
    "What about float, tuples, records, etc? Use **Functors**."
   ]
  },
  {
   "cell_type": "code",
   "execution_count": null,
   "metadata": {},
   "outputs": [],
   "source": [
    "module type Serializable = sig\n",
    "  type t\n",
    "  val t_of_string : string -> t\n",
    "  val string_of_t : t -> string\n",
    "end"
   ]
  },
  {
   "cell_type": "markdown",
   "metadata": {
    "slideshow": {
     "slide_type": "slide"
    }
   },
   "source": [
    "## Generalise\n",
    "\n",
    "What about float, tuples, records, etc? Use **Functors**."
   ]
  },
  {
   "cell_type": "code",
   "execution_count": null,
   "metadata": {},
   "outputs": [],
   "source": [
    "module SerializableList (C : Serializable) = struct\n",
    "  type t = C.t list\n",
    "  \n",
    "  let string_of_t l = \n",
    "    let rec loop acc l = match l with\n",
    "      | [] -> acc\n",
    "      | [x] -> acc ^ (C.string_of_t x)\n",
    "      | x::xs -> loop (acc ^ (C.string_of_t x) ^ \";\") xs\n",
    "    in\n",
    "    \"[\" ^ (loop \"\" l) ^ \"]\"  \n",
    "    \n",
    "  let t_of_string s =\n",
    "    let s = String.sub s 1 (String.length s - 2) in\n",
    "    List.map C.t_of_string (String.split_on_char ';' s)\n",
    "end"
   ]
  },
  {
   "cell_type": "markdown",
   "metadata": {
    "slideshow": {
     "slide_type": "slide"
    }
   },
   "source": [
    "## SerializableFloatList"
   ]
  },
  {
   "cell_type": "code",
   "execution_count": null,
   "metadata": {},
   "outputs": [],
   "source": [
    "module SerializableFloatList = SerializableList (struct \n",
    "  type t = float\n",
    "  let t_of_string = float_of_string\n",
    "  let string_of_t = string_of_float\n",
    "end)"
   ]
  },
  {
   "cell_type": "markdown",
   "metadata": {
    "slideshow": {
     "slide_type": "slide"
    }
   },
   "source": [
    "## SerializableFloatList"
   ]
  },
  {
   "cell_type": "code",
   "execution_count": null,
   "metadata": {},
   "outputs": [],
   "source": [
    "SerializableFloatList.string_of_t [1.4;2.3;3.4]"
   ]
  },
  {
   "cell_type": "code",
   "execution_count": null,
   "metadata": {},
   "outputs": [],
   "source": [
    "SerializableFloatList.t_of_string \"[1.4;2.3;3.4]\""
   ]
  },
  {
   "cell_type": "markdown",
   "metadata": {
    "slideshow": {
     "slide_type": "slide"
    }
   },
   "source": [
    "## SerializableStringList"
   ]
  },
  {
   "cell_type": "code",
   "execution_count": null,
   "metadata": {
    "scrolled": true
   },
   "outputs": [],
   "source": [
    "module SerializableStringList = SerializableList (struct \n",
    "  type t = string\n",
    "  let t_of_string x = x\n",
    "  let string_of_t x = x\n",
    "end)"
   ]
  },
  {
   "cell_type": "markdown",
   "metadata": {
    "slideshow": {
     "slide_type": "slide"
    }
   },
   "source": [
    "## SerializableStringList"
   ]
  },
  {
   "cell_type": "code",
   "execution_count": null,
   "metadata": {},
   "outputs": [],
   "source": [
    "SerializableStringList.string_of_t [\"Et\";\"tu,\";\"Brute?\"]"
   ]
  },
  {
   "cell_type": "code",
   "execution_count": null,
   "metadata": {},
   "outputs": [],
   "source": [
    "SerializableStringList.t_of_string \"[Et;tu,;Brute?]\""
   ]
  },
  {
   "cell_type": "markdown",
   "metadata": {
    "slideshow": {
     "slide_type": "slide"
    }
   },
   "source": [
    "## Behold the power of abstraction\n",
    "\n",
    "Observe that the signature of `SerializableFloatList` is also `Serializable`."
   ]
  },
  {
   "cell_type": "code",
   "execution_count": null,
   "metadata": {
    "scrolled": true
   },
   "outputs": [],
   "source": [
    "module SerializableFloatListList = SerializableList (SerializableFloatList)"
   ]
  },
  {
   "cell_type": "code",
   "execution_count": null,
   "metadata": {},
   "outputs": [],
   "source": [
    "SerializableFloatListList.string_of_t [[1.1]; [2.1;2.2]; [3.1;3.2;3.3]]"
   ]
  }
 ],
 "metadata": {
  "celltoolbar": "Slideshow",
  "kernelspec": {
   "display_name": "OCaml 4.10",
   "language": "OCaml",
   "name": "ocaml-jupyter"
  },
  "language_info": {
   "codemirror_mode": "text/x-ocaml",
   "file_extension": ".ml",
   "mimetype": "text/x-ocaml",
   "name": "OCaml",
   "nbconverter_exporter": null,
   "pygments_lexer": "OCaml",
   "version": "4.10.0"
  }
 },
 "nbformat": 4,
 "nbformat_minor": 2
}
