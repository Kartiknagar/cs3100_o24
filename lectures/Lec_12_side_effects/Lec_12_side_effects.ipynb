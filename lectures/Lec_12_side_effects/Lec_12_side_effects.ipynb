{
 "cells": [
  {
   "cell_type": "markdown",
   "metadata": {
    "slideshow": {
     "slide_type": "slide"
    }
   },
   "source": [
    "<center>\n",
    "\n",
    "<h1 style=\"text-align:center\"> (Side) Effects </h1>\n",
    "</center>"
   ]
  },
  {
   "cell_type": "markdown",
   "metadata": {
    "slideshow": {
     "slide_type": "slide"
    }
   },
   "source": [
    "## Why Side Effects\n",
    "\n",
    "* We have only used **purely functional** feature of OCaml\n",
    "* Our study of lambda calculus used only **purely functional** features"
   ]
  },
  {
   "cell_type": "markdown",
   "metadata": {
    "slideshow": {
     "slide_type": "fragment"
    }
   },
   "source": [
    "* Not quite true!\n",
    "  + We have used `print_endline`, `printf` and other features to display our results to screen.\n",
    "  + We have used `fresh` function to implement substitution in Lambda Calculus.\n",
    "* It is sometimes useful to write programs that have **side effects**"
   ]
  },
  {
   "cell_type": "markdown",
   "metadata": {
    "slideshow": {
     "slide_type": "slide"
    }
   },
   "source": [
    "## Side effects\n",
    "\n",
    "Side effects include\n",
    "\n",
    "* Mutating (i.e., destructively updating) the values of program state. \n",
    "* Reading from standard input, printing to standard output.\n",
    "* Reading and writing to files, sockets, pipes etc.\n",
    "* ...\n",
    "* Composing, sending and receiving emails, editing documents, writing this slide, etc."
   ]
  },
  {
   "cell_type": "markdown",
   "metadata": {
    "slideshow": {
     "slide_type": "slide"
    }
   },
   "source": [
    "## Side effects in OCaml\n",
    "\n",
    "* OCaml programs can include side effects\n",
    "* Features\n",
    "  + Mutations: Reference cells, Arrays, Mutable record fields\n",
    "  + I/O of all sorts\n",
    "* In this lecture, **Mutations**\n",
    "\n",
    "$\n",
    "\\require{color}\n",
    "\\newcommand{\\cpurple}[1]{{\\color{\\purple}{\\text{#1}}}}\n",
    "\\newcommand{\\cred}[1]{{\\color{\\red}{\\text{#1}}}}\n",
    "$"
   ]
  },
  {
   "cell_type": "markdown",
   "metadata": {
    "slideshow": {
     "slide_type": "slide"
    }
   },
   "source": [
    "## Reference cells\n",
    "\n",
    "* Aka \"refs\" or \"ref cell\"\n",
    "* Essentially a pointer to a location in memory\n",
    "* The binding of a variable to a ref cell is $\\cpurple{immutable}$ \n",
    "  + but the contents of the ref cell may $\\cred{change}$."
   ]
  },
  {
   "cell_type": "markdown",
   "metadata": {
    "slideshow": {
     "slide_type": "slide"
    }
   },
   "source": [
    "## Reference cells\n",
    "\n",
    "Allocate new ref cells with `ref`"
   ]
  },
  {
   "cell_type": "code",
   "execution_count": null,
   "metadata": {},
   "outputs": [],
   "source": [
    "let r = ref 1"
   ]
  },
  {
   "cell_type": "markdown",
   "metadata": {},
   "source": [
    "Update using `:=` and read using `!`."
   ]
  },
  {
   "cell_type": "code",
   "execution_count": null,
   "metadata": {},
   "outputs": [],
   "source": [
    "r := !r + 1"
   ]
  },
  {
   "cell_type": "code",
   "execution_count": null,
   "metadata": {},
   "outputs": [],
   "source": [
    "!r"
   ]
  },
  {
   "cell_type": "markdown",
   "metadata": {
    "slideshow": {
     "slide_type": "slide"
    }
   },
   "source": [
    "## Reference Cells: Types"
   ]
  },
  {
   "cell_type": "code",
   "execution_count": null,
   "metadata": {},
   "outputs": [],
   "source": [
    "ref"
   ]
  },
  {
   "cell_type": "code",
   "execution_count": null,
   "metadata": {},
   "outputs": [],
   "source": [
    "(!)"
   ]
  },
  {
   "cell_type": "code",
   "execution_count": null,
   "metadata": {},
   "outputs": [],
   "source": [
    "(:=)"
   ]
  },
  {
   "cell_type": "markdown",
   "metadata": {
    "slideshow": {
     "slide_type": "slide"
    }
   },
   "source": [
    "## Sequencing using `;`\n",
    "\n",
    "We can chain together expressions with side effects using the semi-colon operator"
   ]
  },
  {
   "cell_type": "code",
   "execution_count": null,
   "metadata": {},
   "outputs": [],
   "source": [
    "r := !r + 1;\n",
    "!r"
   ]
  },
  {
   "cell_type": "markdown",
   "metadata": {
    "slideshow": {
     "slide_type": "fragment"
    }
   },
   "source": [
    "This is equivalent to"
   ]
  },
  {
   "cell_type": "code",
   "execution_count": null,
   "metadata": {},
   "outputs": [],
   "source": [
    "let _ = r := !r + 1 in\n",
    "!r"
   ]
  },
  {
   "cell_type": "markdown",
   "metadata": {
    "slideshow": {
     "slide_type": "slide"
    }
   },
   "source": [
    "## Implementing a counter"
   ]
  },
  {
   "cell_type": "code",
   "execution_count": null,
   "metadata": {},
   "outputs": [],
   "source": [
    "let make_counter init =\n",
    "  let c = ref init in\n",
    "  fun () -> \n",
    "    (c := !c + 1; !c)"
   ]
  },
  {
   "cell_type": "code",
   "execution_count": null,
   "metadata": {},
   "outputs": [],
   "source": [
    "let next = make_counter 0"
   ]
  },
  {
   "cell_type": "code",
   "execution_count": null,
   "metadata": {},
   "outputs": [],
   "source": [
    "next ()"
   ]
  },
  {
   "cell_type": "code",
   "execution_count": null,
   "metadata": {},
   "outputs": [],
   "source": [
    "next ()"
   ]
  },
  {
   "cell_type": "markdown",
   "metadata": {
    "slideshow": {
     "slide_type": "fragment"
    }
   },
   "source": [
    "Aside: A function of the form `fun () -> ...` is also called a **thunk**."
   ]
  },
  {
   "cell_type": "markdown",
   "metadata": {
    "slideshow": {
     "slide_type": "slide"
    }
   },
   "source": [
    "## Side effects make reasoning hard\n",
    "\n",
    "* **Referential transparency** allows replacing $e$ with $v$ if $e =_{\\beta} v$.\n",
    "* Side effects break referential transparency."
   ]
  },
  {
   "cell_type": "markdown",
   "metadata": {
    "slideshow": {
     "slide_type": "slide"
    }
   },
   "source": [
    "## Referential transparency\n",
    "\n",
    "Consider the function `foo`:"
   ]
  },
  {
   "cell_type": "code",
   "execution_count": null,
   "metadata": {},
   "outputs": [],
   "source": [
    "let foo x = x + 1"
   ]
  },
  {
   "cell_type": "code",
   "execution_count": null,
   "metadata": {},
   "outputs": [],
   "source": [
    "let baz = foo 10"
   ]
  },
  {
   "cell_type": "markdown",
   "metadata": {
    "slideshow": {
     "slide_type": "fragment"
    }
   },
   "source": [
    "`baz` can now be optimised to"
   ]
  },
  {
   "cell_type": "code",
   "execution_count": null,
   "metadata": {},
   "outputs": [],
   "source": [
    "let baz = 11"
   ]
  },
  {
   "cell_type": "markdown",
   "metadata": {
    "slideshow": {
     "slide_type": "slide"
    }
   },
   "source": [
    "## Referential transparency\n",
    "\n",
    "Consider the function `bar`:"
   ]
  },
  {
   "cell_type": "code",
   "execution_count": null,
   "metadata": {},
   "outputs": [],
   "source": [
    "let next = make_counter 0\n",
    "let bar x = x + next()"
   ]
  },
  {
   "cell_type": "code",
   "execution_count": null,
   "metadata": {},
   "outputs": [],
   "source": [
    "let qux = bar 10"
   ]
  },
  {
   "cell_type": "markdown",
   "metadata": {
    "slideshow": {
     "slide_type": "fragment"
    }
   },
   "source": [
    "Can we now optimise `qux` to:"
   ]
  },
  {
   "cell_type": "code",
   "execution_count": null,
   "metadata": {},
   "outputs": [],
   "source": [
    "let qux = 11"
   ]
  },
  {
   "cell_type": "markdown",
   "metadata": {},
   "source": [
    "**NO!** Referential transparency breaks under side effects. "
   ]
  },
  {
   "cell_type": "markdown",
   "metadata": {
    "slideshow": {
     "slide_type": "slide"
    }
   },
   "source": [
    "## Example: Implementing pointers using `ref`\n",
    "\n",
    "Desired properties:\n",
    "* Points to a location whose value can be changed\n",
    "* Can be `null`"
   ]
  },
  {
   "cell_type": "code",
   "execution_count": null,
   "metadata": {},
   "outputs": [],
   "source": [
    "type 'a pointer = 'a option ref"
   ]
  },
  {
   "cell_type": "code",
   "execution_count": null,
   "metadata": {},
   "outputs": [],
   "source": [
    "let malloc (v : 'a) : 'a pointer = ref (Some v)"
   ]
  },
  {
   "cell_type": "code",
   "execution_count": null,
   "metadata": {},
   "outputs": [],
   "source": [
    "let p = malloc 42"
   ]
  },
  {
   "cell_type": "markdown",
   "metadata": {
    "slideshow": {
     "slide_type": "slide"
    }
   },
   "source": [
    "## Example: Implementing pointers using `ref`"
   ]
  },
  {
   "cell_type": "code",
   "execution_count": null,
   "metadata": {},
   "outputs": [],
   "source": [
    "exception Segfault\n",
    "\n",
    "let deref (p : 'a pointer) : 'a = \n",
    "  match !p with\n",
    "  | None -> raise Segfault\n",
    "  | Some v -> v"
   ]
  },
  {
   "cell_type": "code",
   "execution_count": null,
   "metadata": {},
   "outputs": [],
   "source": [
    "deref p"
   ]
  },
  {
   "cell_type": "code",
   "execution_count": null,
   "metadata": {},
   "outputs": [],
   "source": [
    "deref (ref None)"
   ]
  },
  {
   "cell_type": "code",
   "execution_count": null,
   "metadata": {},
   "outputs": [],
   "source": [
    "let assign (p : 'a pointer) (v: 'a option) : unit = \n",
    "  p := v"
   ]
  },
  {
   "cell_type": "code",
   "execution_count": null,
   "metadata": {},
   "outputs": [],
   "source": [
    "assign p (Some 2);\n",
    "deref p"
   ]
  },
  {
   "cell_type": "markdown",
   "metadata": {
    "slideshow": {
     "slide_type": "slide"
    }
   },
   "source": [
    "## Example 2: Recursive functions without `rec` keyword"
   ]
  },
  {
   "cell_type": "code",
   "execution_count": null,
   "metadata": {},
   "outputs": [],
   "source": [
    "let rec fact n = if n = 0 then 1 else n * fact (n-1)"
   ]
  },
  {
   "cell_type": "code",
   "execution_count": null,
   "metadata": {},
   "outputs": [],
   "source": [
    "fact 5"
   ]
  },
  {
   "cell_type": "markdown",
   "metadata": {},
   "source": [
    "Let's implement `fact` without using `rec` but with function references!"
   ]
  },
  {
   "cell_type": "markdown",
   "metadata": {
    "slideshow": {
     "slide_type": "slide"
    }
   },
   "source": [
    "## Example 2: Recursive functions without `rec` keyword\n",
    "\n",
    "Step 1: Declare a function reference to a dummy function. Need to ensure that the type matches the function to be implemented."
   ]
  },
  {
   "cell_type": "code",
   "execution_count": null,
   "metadata": {},
   "outputs": [],
   "source": [
    "let fact0 = ref (fun x -> x + 0)"
   ]
  },
  {
   "cell_type": "markdown",
   "metadata": {},
   "source": [
    "Step 2: Redefine the original function without `rec` keyword, replacing the recursive call with the function reference."
   ]
  },
  {
   "cell_type": "code",
   "execution_count": null,
   "metadata": {},
   "outputs": [],
   "source": [
    "let fact_norec n = if n = 0 then 1 else n * !fact0 (n-1)"
   ]
  },
  {
   "cell_type": "markdown",
   "metadata": {
    "slideshow": {
     "slide_type": "slide"
    }
   },
   "source": [
    "## Example 2: Recursive functions without `rec` keyword\n",
    "\n",
    "Step 3: Assign the function reference to the newly defined function"
   ]
  },
  {
   "cell_type": "code",
   "execution_count": null,
   "metadata": {},
   "outputs": [],
   "source": [
    "fact0 := fact_norec"
   ]
  },
  {
   "cell_type": "code",
   "execution_count": null,
   "metadata": {},
   "outputs": [],
   "source": [
    "fact_norec 5"
   ]
  },
  {
   "cell_type": "markdown",
   "metadata": {},
   "source": [
    "Also called \"tying the recursive knot\"."
   ]
  },
  {
   "cell_type": "markdown",
   "metadata": {
    "slideshow": {
     "slide_type": "slide"
    }
   },
   "source": [
    "## Aliases\n",
    "\n",
    "References may create aliases.\n",
    "\n",
    "What is the result of this program?"
   ]
  },
  {
   "cell_type": "code",
   "execution_count": null,
   "metadata": {},
   "outputs": [],
   "source": [
    "let x = ref 10 in\n",
    "let y = ref 10 in\n",
    "let z = x in \n",
    "z := !z + 1;\n",
    "!x + !y"
   ]
  },
  {
   "cell_type": "markdown",
   "metadata": {
    "slideshow": {
     "slide_type": "fragment"
    }
   },
   "source": [
    "<center>\n",
    "    \n",
    "<img src=\"heap2.svg\" width=\"350\">\n",
    "</center>\n",
    "\n",
    "* Variables `z` and `x` are said to be **aliases**\n",
    "  + They refer to the same object in the program heap."
   ]
  },
  {
   "cell_type": "markdown",
   "metadata": {
    "slideshow": {
     "slide_type": "slide"
    }
   },
   "source": [
    "## Equality\n",
    "\n",
    "* The `=` that we have been using is known as **structural equality**\n",
    "  + Checks whether the values are structurally equal. \n",
    "  + `[1;2;3] = [1;2;3]` evaluates to `true`. \n",
    "* Because of references, one may also want to ask whether two expressions are **aliases**\n",
    "  + This equality is known as **physical equality**.\n",
    "  + OCaml uses `==` to check for physical equality."
   ]
  },
  {
   "cell_type": "markdown",
   "metadata": {
    "slideshow": {
     "slide_type": "slide"
    }
   },
   "source": [
    "## Equality : Types"
   ]
  },
  {
   "cell_type": "code",
   "execution_count": null,
   "metadata": {},
   "outputs": [],
   "source": [
    "(=)"
   ]
  },
  {
   "cell_type": "code",
   "execution_count": null,
   "metadata": {},
   "outputs": [],
   "source": [
    "(==)"
   ]
  },
  {
   "cell_type": "markdown",
   "metadata": {
    "slideshow": {
     "slide_type": "slide"
    }
   },
   "source": [
    "## Equality : Quiz\n",
    "```ocaml\n",
    "let l1 = [1;2;3];; \n",
    "let l2 = l1;; \n",
    "let l3 = [1;2;3];;\n",
    "let r1 = ref l1;;\n",
    "let r2 = r1;;\n",
    "let r3 = ref l3;;\n",
    "```\n",
    "which of the following are true?\n",
    "\n",
    "(1)`l1 = l2` (2)`l1 == l2` (3) `l1 = l3` (4) `l1 == l3`  (5) `l1 = [1;2;3]`\n",
    "\n",
    "(6) `l1 == [1;2;3]` (7) `r1 == r2`  (8) `r1 = r2` (9) `r1 == r3` (10) `r1 = r3`"
   ]
  },
  {
   "cell_type": "markdown",
   "metadata": {
    "slideshow": {
     "slide_type": "slide"
    }
   },
   "source": [
    "## Equality : Quiz"
   ]
  },
  {
   "cell_type": "code",
   "execution_count": null,
   "metadata": {},
   "outputs": [],
   "source": [
    "let l1 = [1;2;3];; \n",
    "let l2 = l1;; \n",
    "let l3 = [1;2;3];;\n",
    "let r1 = ref l1;;\n",
    "let r2 = r1;;\n",
    "let r3 = ref l3;;"
   ]
  },
  {
   "cell_type": "markdown",
   "metadata": {
    "slideshow": {
     "slide_type": "slide"
    }
   },
   "source": [
    "## Equality\n",
    "\n",
    "Which of the following are true?\n",
    "\n",
    "(1)`l1 = l2` (2)`l1 == l2` (3) `l1 = l3` (4) `l1 == l3`  (5) `l1 = [1;2;3]`\n",
    "\n",
    "(6) `l1 == [1;2;3]` (7) `r1 == r2`  (8) `r1 = r2` (9) `r1 == r3` (10) `r1 = r3`\n",
    "\n",
    "References are structurally equal iff their contents are structurally equal."
   ]
  },
  {
   "cell_type": "code",
   "execution_count": null,
   "metadata": {},
   "outputs": [],
   "source": [
    "l1 == l2"
   ]
  },
  {
   "cell_type": "markdown",
   "metadata": {
    "slideshow": {
     "slide_type": "slide"
    }
   },
   "source": [
    "## Mutable Record Fields\n",
    "\n",
    "Ref cells are essentially syntactic sugar over **mutable record fields**.\n",
    "\n",
    "```ocaml\n",
    "type 'a ref = { mutable contents: 'a }\n",
    "let ref x = { contents = x }\n",
    "let ( ! ) r = r.contents\n",
    "let ( := ) r newval = r.contents <- newval\n",
    "```\n",
    "\n",
    "* This type is declared in `Pervasives`\n"
   ]
  },
  {
   "cell_type": "markdown",
   "metadata": {
    "slideshow": {
     "slide_type": "slide"
    }
   },
   "source": [
    "## Doubly-linked list"
   ]
  },
  {
   "cell_type": "code",
   "execution_count": null,
   "metadata": {},
   "outputs": [],
   "source": [
    "(* The type of elements *)\n",
    "type 'a node = { \n",
    "  v : 'a;\n",
    "  mutable next : 'a node option;\n",
    "  mutable prev : 'a node option\n",
    "}\n",
    "\n",
    "(* The type of list *)\n",
    "type 'a dllist = 'a node option ref"
   ]
  },
  {
   "cell_type": "markdown",
   "metadata": {
    "slideshow": {
     "slide_type": "slide"
    }
   },
   "source": [
    "## Double-linked list"
   ]
  },
  {
   "cell_type": "code",
   "execution_count": null,
   "metadata": {},
   "outputs": [],
   "source": [
    "let create () : 'a dllist = ref None\n",
    "let first (t : 'a dllist) = !t\n",
    "let is_empty (t : 'a dllist) = !t = None\n",
    "\n",
    "let v node = node.v\n",
    "let next node = node.next\n",
    "let prev node = node.prev"
   ]
  },
  {
   "cell_type": "markdown",
   "metadata": {
    "slideshow": {
     "slide_type": "slide"
    }
   },
   "source": [
    "## Doubly-linked list"
   ]
  },
  {
   "cell_type": "code",
   "execution_count": null,
   "metadata": {},
   "outputs": [],
   "source": [
    "(* [insert_first t v] inserts a new node [n] with value [v] \n",
    "   as the first node in the list [t]. Returns [n]. *)\n",
    "let insert_first (t : 'a dllist) v =\n",
    "  let n = { prev = None; next = !t; v = v} in\n",
    "  begin match !t with\n",
    "  | Some old_first -> old_first.prev <- Some n\n",
    "  | None -> ()\n",
    "  end;\n",
    "  t := Some n;\n",
    "  n"
   ]
  },
  {
   "cell_type": "markdown",
   "metadata": {
    "slideshow": {
     "slide_type": "slide"
    }
   },
   "source": [
    "## Doubly-linked list"
   ]
  },
  {
   "cell_type": "code",
   "execution_count": null,
   "metadata": {},
   "outputs": [],
   "source": [
    "(* [insert_after n v] inserts a new node [n'] whose value \n",
    "   is [v] after the node [n]. Returns [n']. *)\n",
    "let insert_after n v =\n",
    "  let n' = { v = v; prev = Some n; next = n.next } in\n",
    "  begin match n.next with\n",
    "  | Some old_next -> old_next.prev <- Some n'\n",
    "  | None -> ()\n",
    "  end;\n",
    "  n.next <- Some n';\n",
    "  n'"
   ]
  },
  {
   "cell_type": "markdown",
   "metadata": {
    "slideshow": {
     "slide_type": "slide"
    }
   },
   "source": [
    "## Doubly-linked list"
   ]
  },
  {
   "cell_type": "code",
   "execution_count": null,
   "metadata": {},
   "outputs": [],
   "source": [
    "(* [remove t n] removes the node [n] from the list [t] *)\n",
    "let remove (t:'a dllist) n =\n",
    "  begin match n.prev with\n",
    "  | Some prev -> prev.next <- n.next\n",
    "  | None -> t := n.next\n",
    "  end;\n",
    "  begin match n.next with\n",
    "  | Some next -> next.prev <- n.prev;\n",
    "  | None -> ()\n",
    "  end;\n",
    "  n.prev <- None;\n",
    "  n.next <- None"
   ]
  },
  {
   "cell_type": "markdown",
   "metadata": {
    "slideshow": {
     "slide_type": "slide"
    }
   },
   "source": [
    "## Doubly-linked list"
   ]
  },
  {
   "cell_type": "code",
   "execution_count": null,
   "metadata": {},
   "outputs": [],
   "source": [
    "(* [iter t f] applies [f] on each value in the list \n",
    "   from left to right *)\n",
    "let iter (t : 'a dllist) (f : 'a -> unit) =\n",
    "  let rec loop l = match l with\n",
    "    | None -> ()\n",
    "    | Some el -> f (v el); loop (next el)\n",
    "  in\n",
    "  loop !t"
   ]
  },
  {
   "cell_type": "markdown",
   "metadata": {
    "slideshow": {
     "slide_type": "slide"
    }
   },
   "source": [
    "## Doubly-linked list"
   ]
  },
  {
   "cell_type": "code",
   "execution_count": null,
   "metadata": {},
   "outputs": [],
   "source": [
    "let l = create ();;\n",
    "let n0 = insert_first l 0;;\n",
    "let n1 = insert_after n0 1;;\n",
    "insert_after n1 2"
   ]
  },
  {
   "cell_type": "markdown",
   "metadata": {
    "slideshow": {
     "slide_type": "slide"
    }
   },
   "source": [
    "## Doubly-linked list"
   ]
  },
  {
   "cell_type": "code",
   "execution_count": null,
   "metadata": {
    "scrolled": false
   },
   "outputs": [],
   "source": [
    "iter l (Printf.printf \"%d\\n%!\")"
   ]
  },
  {
   "cell_type": "markdown",
   "metadata": {
    "slideshow": {
     "slide_type": "slide"
    }
   },
   "source": [
    "## Arrays\n",
    "\n",
    "Collection type with efficient random access."
   ]
  },
  {
   "cell_type": "code",
   "execution_count": null,
   "metadata": {},
   "outputs": [],
   "source": [
    "let a = [| 1;2;3 |]"
   ]
  },
  {
   "cell_type": "markdown",
   "metadata": {},
   "source": [
    "Array elements are retrieved using `a.(i)` syntax where `a` is the array and `i` is the index."
   ]
  },
  {
   "cell_type": "code",
   "execution_count": null,
   "metadata": {},
   "outputs": [],
   "source": [
    "a.(0)"
   ]
  },
  {
   "cell_type": "markdown",
   "metadata": {},
   "source": [
    "Arrays bounds are checked at access."
   ]
  },
  {
   "cell_type": "code",
   "execution_count": null,
   "metadata": {},
   "outputs": [],
   "source": [
    "a.(3)"
   ]
  },
  {
   "cell_type": "markdown",
   "metadata": {
    "slideshow": {
     "slide_type": "slide"
    }
   },
   "source": [
    "## Arrays"
   ]
  },
  {
   "cell_type": "markdown",
   "metadata": {},
   "source": [
    "Array can be updated with `<-` syntax."
   ]
  },
  {
   "cell_type": "code",
   "execution_count": null,
   "metadata": {},
   "outputs": [],
   "source": [
    "a.(1) <- 0; \n",
    "a"
   ]
  },
  {
   "cell_type": "code",
   "execution_count": null,
   "metadata": {},
   "outputs": [],
   "source": [
    "a.(1)"
   ]
  },
  {
   "cell_type": "markdown",
   "metadata": {},
   "source": [
    "* Arrays behave very similar to arrays in C\n",
    " + See [Array module](https://caml.inria.fr/pub/docs/manual-ocaml/libref/Array.html) documentation in the OCaml standard library"
   ]
  },
  {
   "cell_type": "markdown",
   "metadata": {
    "slideshow": {
     "slide_type": "slide"
    }
   },
   "source": [
    "## Benefits of immutability\n",
    "\n",
    "* Programmer doesn’t have to think about aliasing\n",
    "    + can concentrate on other aspects of code\n",
    "* Language implementation is free to share objects on the heap, which is cheap\n",
    "* Often easier to reason about whether code is correct\n",
    "* Perfect fit for concurrent programming\n",
    "\n",
    "But\n",
    "* Some data structures (hash tables, arrays, ...) are more efficient if imperative\n",
    "\n",
    "Recommendation\n",
    "\n",
    "* Use immutable data structures unless performance can't be compromised"
   ]
  }
 ],
 "metadata": {
  "celltoolbar": "Slideshow",
  "kernelspec": {
   "display_name": "OCaml 4.10",
   "language": "OCaml",
   "name": "ocaml-jupyter"
  },
  "language_info": {
   "codemirror_mode": "text/x-ocaml",
   "file_extension": ".ml",
   "mimetype": "text/x-ocaml",
   "name": "OCaml",
   "nbconverter_exporter": null,
   "pygments_lexer": "OCaml",
   "version": "4.10.0"
  }
 },
 "nbformat": 4,
 "nbformat_minor": 2
}
