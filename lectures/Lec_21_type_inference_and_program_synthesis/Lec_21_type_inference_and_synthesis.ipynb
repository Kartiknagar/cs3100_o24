{
 "cells": [
  {
   "cell_type": "markdown",
   "metadata": {
    "slideshow": {
     "slide_type": "slide"
    }
   },
   "source": [
    "<center>\n",
    "\n",
    "<h1> Using Prolog for Type Inference and Program Synthesis </h1>\n",
    "</center>\n",
    "\n",
    "$\n",
    "\\require{color}\n",
    "\\newcommand{\\cr}[1]{{\\color{\\red}{#1}}}\n",
    "\\newcommand{\\pair}[2]{\\langle #1, #2 \\rangle}\n",
    "\\newcommand{\\fst}[1]{{\\sf fst} ~#1}\n",
    "\\newcommand{\\snd}[1]{{\\sf snd} ~#1}\n",
    "\\newcommand{\\inl}[2]{{\\sf inl} ~[#1] ~#2}\n",
    "\\newcommand{\\inr}[2]{{\\sf inr} ~[#1] ~#2}\n",
    "\\newcommand{\\case}[5]{{\\sf case} ~#1~ {\\sf of} ~{\\sf inl}~#2 \\Rightarrow #3 ~|~ {\\sf inr}~#4 \\Rightarrow #5}\n",
    "\\newcommand{\\unitv}{{\\tt (~)}}\n",
    "\\newcommand{\\inferrule}[3]{\\displaystyle{\\frac{#1}{#2}~~{\\small #3}}}\n",
    "\\newcommand{\\infrl}[3]{\\displaystyle{\\frac{#1}{#2}}}\n",
    "$"
   ]
  },
  {
   "cell_type": "markdown",
   "metadata": {
    "slideshow": {
     "slide_type": "slide"
    }
   },
   "source": [
    "## This lecture\n",
    "\n",
    "* Applications of Prolog\n",
    "  + Type Inference for STLC\n",
    "  + Program synthesis."
   ]
  },
  {
   "cell_type": "markdown",
   "metadata": {
    "slideshow": {
     "slide_type": "slide"
    }
   },
   "source": [
    "## Type Inference for STLC\n",
    "\n",
    "Let us develop a type inference procedure for Simply Typed Lambda Calculus (STLC).\n",
    "\n",
    "Recall the terms in STLC:\n",
    "\n",
    "\\\\[\n",
    "\\begin{array}{rcll}\n",
    "M,N & ≔ & x & \\text{(variable)} \\\\\n",
    "    & \\mid & M~N & \\text{(application)} \\\\\n",
    "    & \\mid & \\lambda x:A.M & \\text{(abstraction)}\\\\\n",
    "    & \\mid & \\pair{M}{N} & \\text{(pair)}\\\\\n",
    "    & \\mid & \\fst{M} & \\text{(project-1)}\\\\\n",
    "    & \\mid & \\snd{M} & \\text{(project-2)} \\\\\n",
    "    & \\mid & \\unitv & \\text{(unit)}\n",
    "\\end{array}\n",
    "\\\\]"
   ]
  },
  {
   "cell_type": "markdown",
   "metadata": {
    "slideshow": {
     "slide_type": "slide"
    }
   },
   "source": [
    "## STLC Typing Rules\n",
    "\n",
    "\\\\[\n",
    "\\begin{array}{cc}\n",
    "\\inferrule{}{\\Gamma,x:A \\vdash x:A}{(var)} &\n",
    "\\inferrule{}{\\Gamma \\vdash \\unitv : 1}{(unit)} \\\\ \\\\\n",
    "\\inferrule{\\Gamma \\vdash M : A \\rightarrow B \\quad \\Gamma \\vdash N : A}{\\Gamma \\vdash M~N : B}{(\\rightarrow elim)} &\n",
    "\\inferrule{\\Gamma,x:A \\vdash M : B}{\\Gamma \\vdash \\lambda x:A.M : A \\rightarrow B}{(\\rightarrow intro)} \\\\ \\\\\n",
    "\\inferrule{\\Gamma \\vdash M : A \\times B}{\\Gamma \\vdash \\fst{M} : A}{(\\times ~elim1)} &\n",
    "\\inferrule{\\Gamma \\vdash M : A \\times B}{\\Gamma \\vdash \\snd{M} : B}{(\\times ~elim2)} \\\\ \\\\\n",
    "\\end{array}\n",
    "\\\\]\n",
    "\n",
    "\\\\[\n",
    "\\inferrule{\\Gamma \\vdash M : A \\quad \\Gamma \\vdash N : B}{\\Gamma \\vdash \\pair{M}{N} : A \\times B}{(\\times ~intro)}\n",
    "\\\\]"
   ]
  },
  {
   "cell_type": "markdown",
   "metadata": {
    "slideshow": {
     "slide_type": "slide"
    }
   },
   "source": [
    "## Type Checking to Type Inference\n",
    "\n",
    "* STLC rules are presented in a way that you can easily do type inference. \n",
    "* The standard Hindley-Milner type inference algorithm for STLC has to define the following things\n",
    "  + Type schemes (types with variables in them)\n",
    "  + Unification of type schemes\n",
    "  + Substitution for variables in type schemes.\n",
    "* Luckily Prolog provides all of these\n",
    "  + Type schemes -> Prolog terms with variables, \n",
    "  + Unification -> Prolog unification\n",
    "  + Substitution -> Prolog substitution. "
   ]
  },
  {
   "cell_type": "markdown",
   "metadata": {
    "slideshow": {
     "slide_type": "slide"
    }
   },
   "source": [
    "## Remove simple types & add polymorphism\n",
    "\n",
    "* Since we have type schemes (variables in terms), we can infer **polymorphic types**!\n",
    "* Rather than writing $\\lambda x:A.M$, we just write $\\lambda x.M$.\n",
    "  + We will infer the principal (most general) type for $x$.\n",
    "* We will also include integers, booleans, + and < on integers, if-then-else."
   ]
  },
  {
   "cell_type": "markdown",
   "metadata": {
    "slideshow": {
     "slide_type": "slide"
    }
   },
   "source": [
    "## Occurs check\n",
    "\n",
    "We will enable occurs check so that the term $\\lambda x.x~x$ (self-application) will be ill-typed."
   ]
  },
  {
   "cell_type": "code",
   "execution_count": null,
   "metadata": {},
   "outputs": [],
   "source": [
    "?- set_prolog_flag(occurs_check,true)."
   ]
  },
  {
   "cell_type": "markdown",
   "metadata": {
    "slideshow": {
     "slide_type": "slide"
    }
   },
   "source": [
    "## Typing Judgement\n",
    "\n",
    "We model the typing environment $\\Gamma$ as a list of variable and type pairs. \n",
    "\n",
    "We implement the predicate `lookup/3` to lookup the type of a variable in the environment. "
   ]
  },
  {
   "cell_type": "code",
   "execution_count": null,
   "metadata": {},
   "outputs": [],
   "source": [
    "lookup([(X,A)|T],X,A).\n",
    "lookup([(Y,_)|T],X,A) :-  X \\== Y, lookup(T,X,A)."
   ]
  },
  {
   "cell_type": "markdown",
   "metadata": {},
   "source": [
    "Observe that we are using ` X \\== Y` which holds when `X` does not unify with `Y`."
   ]
  },
  {
   "cell_type": "markdown",
   "metadata": {
    "slideshow": {
     "slide_type": "slide"
    }
   },
   "source": [
    "## Typing rules\n",
    "\n",
    "Next we encode the typing rules as they are specified in the STLC typing rules.\n",
    "\n",
    "\\\\[\n",
    "\\begin{array}{cc}\n",
    "\\inferrule{}{\\Gamma,x:A \\vdash x:A}{(var)} &\n",
    "\\inferrule{}{\\Gamma \\vdash \\unitv : 1}{(unit)} \\\\ \\\\\n",
    "\\inferrule{\\Gamma \\vdash M : A \\rightarrow B \\quad \\Gamma \\vdash N : A}{\\Gamma \\vdash M~N : B}{(\\rightarrow elim)} &\n",
    "\\inferrule{\\Gamma,x:A \\vdash M : B}{\\Gamma \\vdash \\lambda x:A.M : A \\rightarrow B}{(\\rightarrow intro)} \\\\ \\\\\n",
    "\\inferrule{\\Gamma \\vdash M : A \\times B}{\\Gamma \\vdash \\fst{M} : A}{(\\times ~elim1)} &\n",
    "\\inferrule{\\Gamma \\vdash M : A \\times B}{\\Gamma \\vdash \\snd{M} : B}{(\\times ~elim2)}\n",
    "\\end{array}\n",
    "\\\\]\n",
    "\n",
    "\\\\[\n",
    "\\inferrule{\\Gamma \\vdash M : A \\quad \\Gamma \\vdash N : B}{\\Gamma \\vdash \\pair{M}{N} : A \\times B}{(\\times ~intro)}\n",
    "\\\\]"
   ]
  },
  {
   "cell_type": "markdown",
   "metadata": {
    "slideshow": {
     "slide_type": "slide"
    }
   },
   "source": [
    "## STLC Terms\n",
    "\n",
    "We will use functions for specifying different forms of STLC terms:\n",
    "\n",
    "\\\\[\n",
    "\\begin{array}{rclll}\n",
    "M,N & ≔ & x & \\text{(variable)} & \\texttt{var(x)}\\\\\n",
    " & \\mid & M~N & \\text{(application)} & \\texttt{app(M,N)} \\\\\n",
    "    & \\mid & \\lambda x.M & \\text{(abstraction)} & \\texttt{lam(x,M)}\\\\\n",
    "    & \\mid & \\pair{M}{N} & \\text{(pair)} & \\texttt{pair(M,N)}\\\\\n",
    "    & \\mid & \\fst{M} & \\text{(project-1)} & \\texttt{fst(M)}\\\\\n",
    "    & \\mid & \\snd{M} & \\text{(project-2)} & \\texttt{snd(M)}\\\\\n",
    "    & \\mid & \\unitv & \\text{(unit)} & \\texttt{u}\n",
    "\\end{array}\n",
    "\\\\]"
   ]
  },
  {
   "cell_type": "markdown",
   "metadata": {
    "slideshow": {
     "slide_type": "slide"
    }
   },
   "source": [
    "## Typing rules\n",
    "\n",
    "Next we encode the typing rules as they are specified in the STLC typing rules. We will define the predicate `type(G,M,A)`, which corresponds to the typing judgement $\\Gamma \\vdash M : A$"
   ]
  },
  {
   "cell_type": "code",
   "execution_count": null,
   "metadata": {
    "slideshow": {
     "slide_type": "fragment"
    }
   },
   "outputs": [],
   "source": [
    "/* unit */     type(G,u,unit).                                          \n",
    "/* -> elim */  type(G,app(M,N),B)           :- type(G,M,A -> B),type(G,N,A). \n",
    "/* -> intro */ type(G,lam(X,M),A -> B)      :- type([(X,A)|G],M,B).          \n",
    "/* X elim1 */  type(G,fst(M),A)             :- type(G,M,A * B).              \n",
    "/* X elim2 */  type(G,snd(M),B)             :- type(G,M,A * B).              \n",
    "/* X intro */  type(G,pair(M,N),A * B)      :- type(G,M,A), type(G,N,B).     \n",
    "/* var */      type(G,var(X),A)             :- lookup(G,X,A).                "
   ]
  },
  {
   "cell_type": "markdown",
   "metadata": {
    "slideshow": {
     "slide_type": "slide"
    }
   },
   "source": [
    "## Typing rules\n",
    "\n",
    "Add new typing rules for the additional terms and operators involving integers, booleans and if-then-else. "
   ]
  },
  {
   "cell_type": "code",
   "execution_count": null,
   "metadata": {},
   "outputs": [],
   "source": [
    "type(G, X, int)        :- integer(X).\n",
    "type(G, true, bool).\n",
    "type(G, false, bool).\n",
    "type(G, A + B, int)    :- type(G,A,int), type(G,B,int).\n",
    "type(G, A - B, int)    :- type(G,A,int), type(G,B,int).\n",
    "type(G, A < B, bool)   :- type(G,A,int), type(G,B,int).\n",
    "type(G, ite(A,B,C), T) :- type(G,A,bool), type(G,B,T), type(G,C,T)."
   ]
  },
  {
   "cell_type": "code",
   "execution_count": null,
   "metadata": {},
   "outputs": [],
   "source": [
    "type(Term,Type) :- type([],Term,Type)."
   ]
  },
  {
   "cell_type": "markdown",
   "metadata": {
    "slideshow": {
     "slide_type": "slide"
    }
   },
   "source": [
    "## Type inference\n",
    "\n",
    "Now we can infer the type of programs written in STLC.\n",
    "\n",
    "What is the type of $1+2$?"
   ]
  },
  {
   "cell_type": "code",
   "execution_count": null,
   "metadata": {},
   "outputs": [],
   "source": [
    "?- type(1+2,X)."
   ]
  },
  {
   "cell_type": "markdown",
   "metadata": {
    "slideshow": {
     "slide_type": "fragment"
    }
   },
   "source": [
    "what is the type of $\\lambda x.\\lambda y. \\text{if } x < y \\text{ then } x+y \\text{ else } x-y$?"
   ]
  },
  {
   "cell_type": "code",
   "execution_count": null,
   "metadata": {
    "slideshow": {
     "slide_type": "fragment"
    }
   },
   "outputs": [],
   "source": [
    "?- X = var(x), Y = var(y), type(lam(x,lam(y,ite(X < Y,X+Y,X-Y))),T)."
   ]
  },
  {
   "cell_type": "markdown",
   "metadata": {
    "slideshow": {
     "slide_type": "fragment"
    }
   },
   "source": [
    "It is `int -> int -> int`."
   ]
  },
  {
   "cell_type": "markdown",
   "metadata": {
    "slideshow": {
     "slide_type": "slide"
    }
   },
   "source": [
    "## Type inference\n",
    "\n",
    "We can also infer polymorphic types.\n",
    "\n",
    "What is the type of $\\lambda x.\\text{fst}(x)+1$?"
   ]
  },
  {
   "cell_type": "code",
   "execution_count": null,
   "metadata": {},
   "outputs": [],
   "source": [
    "?- X = var(x), type(lam(x,fst(X)+1),T)."
   ]
  },
  {
   "cell_type": "markdown",
   "metadata": {
    "slideshow": {
     "slide_type": "fragment"
    }
   },
   "source": [
    "It is `int * 'a -> int`."
   ]
  },
  {
   "cell_type": "markdown",
   "metadata": {
    "slideshow": {
     "slide_type": "slide"
    }
   },
   "source": [
    "## Type inference"
   ]
  },
  {
   "cell_type": "markdown",
   "metadata": {},
   "source": [
    "What is the type of $\\lambda f. \\lambda x.f~x$?"
   ]
  },
  {
   "cell_type": "code",
   "execution_count": null,
   "metadata": {},
   "outputs": [],
   "source": [
    "?- F = var(f), X = var(x), type(lam(f,lam(x,app(F,X))),T)."
   ]
  },
  {
   "cell_type": "markdown",
   "metadata": {
    "slideshow": {
     "slide_type": "fragment"
    }
   },
   "source": [
    "It is `('a -> 'b) -> ('a -> 'b)` or equivalently `('a -> 'b) -> 'a -> 'b`"
   ]
  },
  {
   "cell_type": "markdown",
   "metadata": {
    "slideshow": {
     "slide_type": "slide"
    }
   },
   "source": [
    "## Type Inference\n",
    "\n",
    "* We cannot infer types for every program.\n",
    "  + such programs do not have a valid STLC type.\n",
    "  \n",
    "What is the type of $\\lambda x.x~x$?"
   ]
  },
  {
   "cell_type": "code",
   "execution_count": null,
   "metadata": {},
   "outputs": [],
   "source": [
    "?- X = var(x), type(lam(x,app(X,X)),T)."
   ]
  },
  {
   "cell_type": "markdown",
   "metadata": {
    "slideshow": {
     "slide_type": "fragment"
    }
   },
   "source": [
    "What is the type of `if true then 0 else false`?"
   ]
  },
  {
   "cell_type": "code",
   "execution_count": null,
   "metadata": {
    "slideshow": {
     "slide_type": "fragment"
    }
   },
   "outputs": [],
   "source": [
    "?- type(ite(true,0,false),T)."
   ]
  },
  {
   "cell_type": "markdown",
   "metadata": {
    "slideshow": {
     "slide_type": "slide"
    }
   },
   "source": [
    "## Program synthesis\n",
    "\n",
    "* Program synthesis is generating programs according to a given specification. \n",
    "* Our specifications are types!\n",
    "  + A query of the form `type(X,A)` can find lambda terms `X` whose type is `A`.\n",
    "* Let's generate lambda terms that correspond to a particular type. \n",
    "  + We will bound the size of the lambda term. \n",
    "  + Otherwise, Prolog starts to explore down infinite paths\n",
    "    * programs have no bounded length and Prolog uses DFS.\n",
    "* Let's use the depth of the AST in order to iteratively search starting from depth of 0."
   ]
  },
  {
   "cell_type": "markdown",
   "metadata": {
    "slideshow": {
     "slide_type": "slide"
    }
   },
   "source": [
    "## Bounded predecessor\n",
    "\n",
    "Defines the predecessor for numbers >= 0."
   ]
  },
  {
   "cell_type": "code",
   "execution_count": null,
   "metadata": {},
   "outputs": [],
   "source": [
    "pred(N,P) :- N >= 0, P is N - 1."
   ]
  },
  {
   "cell_type": "markdown",
   "metadata": {
    "slideshow": {
     "slide_type": "slide"
    }
   },
   "source": [
    "## Add depth to the type checking rules"
   ]
  },
  {
   "cell_type": "code",
   "execution_count": null,
   "metadata": {
    "scrolled": true
   },
   "outputs": [],
   "source": [
    "type(_,u,unit,D) :- \n",
    "  pred(D,_).\n",
    "/* OLD RULE for -> elim ==> type(G,app(M,N),B) :- type(G,M,A -> B),type(G,N,A). */\n",
    "type(G,app(M,N),B,D) :- \n",
    "  pred(D,DD), type(G,M,A -> B,DD),type(G,N,A,DD).             \n",
    "type(G,lam(X,M),A -> B, D) :-                                                  \n",
    "  pred(D,DD), type([(X,A)|G],M,B, DD).                                              \n",
    "type(G,fst(M),A,D) :-                                                               \n",
    "  pred(D,DD), type(G,M,A * _,DD).                                                   \n",
    "type(G,snd(M),B,D) :-                                                               \n",
    "  pred(D,DD), type(G,M,_ * B,DD).                                                   \n",
    "type(G,pair(M,N),A * B,D) :-                                                        \n",
    "  pred(D,DD), type(G,M,A,DD), type(G,N,B,DD).                                       \n",
    "type(G,var(X),A,D) :-                                                               \n",
    "  pred(D,_), lookup(G,X,A).                                                         "
   ]
  },
  {
   "cell_type": "markdown",
   "metadata": {
    "slideshow": {
     "slide_type": "slide"
    }
   },
   "source": [
    "## Add depth to the type checking rules."
   ]
  },
  {
   "cell_type": "code",
   "execution_count": null,
   "metadata": {},
   "outputs": [],
   "source": [
    "type(_,X,int,D) :-                                                                  \n",
    "  pred(D,_), integer(X).                                                            \n",
    "type(_,D,int,D) :-                                                                  \n",
    "  pred(D,_).                                                                        \n",
    "type(_,true,bool,D) :-                                                              \n",
    "  pred(D,_).                                                                        \n",
    "type(_,false,bool,D) :-                                                             \n",
    "  pred(D,_).                                                                        \n",
    "type(G,A + B,int,D) :-                                                              \n",
    "  pred(D,DD), type(G,A,int,DD), type(G,B,int,DD).                                   \n",
    "type(G,A < B,bool,D) :-                                                             \n",
    "  pred(D,DD), type(G,A,int,DD), type(G,B,int,DD).                                   \n",
    "type(G,ite(A,B,C),T,D) :-                                                           \n",
    "  pred(D,DD), type(G,A,bool,DD), type(G,B,T,DD), type(G,C,T,DD)."
   ]
  },
  {
   "cell_type": "markdown",
   "metadata": {
    "slideshow": {
     "slide_type": "slide"
    }
   },
   "source": [
    "## Generate depth\n",
    "\n",
    "Define a function `gen/3` which generates all values within given bounds (inclusive).\n"
   ]
  },
  {
   "cell_type": "code",
   "execution_count": null,
   "metadata": {
    "slideshow": {
     "slide_type": "-"
    }
   },
   "outputs": [],
   "source": [
    "gen(S,E,S).\n",
    "gen(S,E,P) :- S < E, S2 is S+1, gen(S2,E,P)."
   ]
  },
  {
   "cell_type": "code",
   "execution_count": null,
   "metadata": {},
   "outputs": [],
   "source": [
    "?- gen(0,5,X)."
   ]
  },
  {
   "cell_type": "markdown",
   "metadata": {
    "slideshow": {
     "slide_type": "slide"
    }
   },
   "source": [
    "## Iteratively search for candidate programs"
   ]
  },
  {
   "cell_type": "code",
   "execution_count": null,
   "metadata": {},
   "outputs": [],
   "source": [
    "synthesize(T,P) :-                                                                  \n",
    "  gen(0,10,D), type([],P,T,D).     "
   ]
  },
  {
   "cell_type": "markdown",
   "metadata": {
    "slideshow": {
     "slide_type": "slide"
    }
   },
   "source": [
    "## Synthesis\n",
    "\n",
    "Get me those programs whose type is `int`."
   ]
  },
  {
   "cell_type": "code",
   "execution_count": null,
   "metadata": {
    "scrolled": true
   },
   "outputs": [],
   "source": [
    "?- synthesize(int,P) {1000}."
   ]
  },
  {
   "cell_type": "markdown",
   "metadata": {
    "slideshow": {
     "slide_type": "slide"
    }
   },
   "source": [
    "## Synthesis\n",
    "\n",
    "Let's ask for something more interesting. \n",
    "\n",
    "Get me the program whose type is `A * B -> A`. One answer: $\\lambda p.\\fst{p}$."
   ]
  },
  {
   "cell_type": "code",
   "execution_count": null,
   "metadata": {
    "scrolled": false
   },
   "outputs": [],
   "source": [
    "?- synthesize((A*B)->A,P)."
   ]
  },
  {
   "cell_type": "markdown",
   "metadata": {
    "slideshow": {
     "slide_type": "slide"
    }
   },
   "source": [
    "## Synthesis\n",
    "\n",
    "* Valid but uninteresting. \n",
    "+ We are interested in \"Most general program(s)\"; dual of most general type during inference.\n",
    "  - The program that doesn't specialise `A` and `B`. \n",
    "+ In other words, types must remain polymorphic."
   ]
  },
  {
   "cell_type": "markdown",
   "metadata": {
    "slideshow": {
     "slide_type": "slide"
    }
   },
   "source": [
    "## Synthesize\n",
    "\n",
    "Get me the program whose type is `A * B -> A`, where `A` and `B` remain polymorphic."
   ]
  },
  {
   "cell_type": "code",
   "execution_count": null,
   "metadata": {},
   "outputs": [],
   "source": [
    "?- synthesize((A*B)->A,P), var(A), var(B) {1}."
   ]
  },
  {
   "cell_type": "markdown",
   "metadata": {
    "slideshow": {
     "slide_type": "fragment"
    }
   },
   "source": [
    "That's the program we are looking for: $\\lambda p.\\fst{p}$."
   ]
  },
  {
   "cell_type": "markdown",
   "metadata": {
    "slideshow": {
     "slide_type": "fragment"
    }
   },
   "source": [
    "Aside: `var/1` is a built-in Prolog predicate which is `true` if its input argument is a variable."
   ]
  },
  {
   "cell_type": "markdown",
   "metadata": {
    "slideshow": {
     "slide_type": "slide"
    }
   },
   "source": [
    "## Synthesize\n",
    "\n",
    "Get me the program whose type is `A*(B*C) -> B`, where `A`,`B`,`C` remain polymorphic."
   ]
  },
  {
   "cell_type": "code",
   "execution_count": null,
   "metadata": {
    "slideshow": {
     "slide_type": "fragment"
    }
   },
   "outputs": [],
   "source": [
    "?- synthesize((A*(B*C))->B,P), var(A), var(B), var(C) {1}."
   ]
  },
  {
   "cell_type": "markdown",
   "metadata": {
    "slideshow": {
     "slide_type": "fragment"
    }
   },
   "source": [
    "`A`, `B`, `C` should not unify."
   ]
  },
  {
   "cell_type": "code",
   "execution_count": null,
   "metadata": {
    "slideshow": {
     "slide_type": "fragment"
    }
   },
   "outputs": [],
   "source": [
    "?- synthesize((A*(B*C))->B,P), var(A), var(B), var(C), dif(A,B) {1}."
   ]
  },
  {
   "cell_type": "markdown",
   "metadata": {
    "slideshow": {
     "slide_type": "fragment"
    }
   },
   "source": [
    "That's the program we are looking for: $\\lambda p.\\fst({\\snd{p}})$."
   ]
  }
 ],
 "metadata": {
  "celltoolbar": "Slideshow",
  "kernelspec": {
   "display_name": "SWI-Prolog",
   "language": "",
   "name": "jswipl"
  },
  "language_info": {
   "mimetype": "text/plain",
   "name": "swipl"
  }
 },
 "nbformat": 4,
 "nbformat_minor": 2
}
