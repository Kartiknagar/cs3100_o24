{
 "cells": [
  {
   "cell_type": "markdown",
   "metadata": {
    "slideshow": {
     "slide_type": "slide"
    }
   },
   "source": [
    "<div style=\"text-align:center\">\n",
    "<h1> Functional Programming </h1>\n",
    "</div>"
   ]
  },
  {
   "cell_type": "markdown",
   "metadata": {
    "slideshow": {
     "slide_type": "slide"
    }
   },
   "source": [
    "## Recap\n",
    "\n",
    "<h4> Last Time: </h4>\n",
    "\n",
    "* Why study programming languages?\n"
   ]
  },
  {
   "cell_type": "markdown",
   "metadata": {
    "slideshow": {
     "slide_type": "slide"
    }
   },
   "source": [
    "## What is a functional language?\n",
    "\n",
    "A functional language:\n",
    "\n",
    "* defines computations as **mathematical functions**\n",
    "* avoids **mutable state**\n",
    "\n",
    "**State:** information maintained by a computation\n",
    "\n",
    "**Mutable:** can be changed (antonym: *immutable*)"
   ]
  },
  {
   "cell_type": "markdown",
   "metadata": {
    "slideshow": {
     "slide_type": "slide"
    }
   },
   "source": [
    "## Function in a functional language\n",
    "\n",
    "A **function** maps an input to an output.\n",
    "* For the same input, it always produces the same output.\n",
    "\n",
    "In functional languages, functions are **first-class**.\n",
    "* Can be given as input to other functions.\n",
    "* A function can produce another function as output.\n",
    "\n"
   ]
  },
  {
   "cell_type": "markdown",
   "metadata": {
    "slideshow": {
     "slide_type": "slide"
    }
   },
   "source": [
    "## Imperative programming\n",
    "\n",
    "Languages such as C/Java involve *mutable* state that changes throughout an execution.\n",
    "\n",
    "```c\n",
    "x = x+1;\n",
    "a[i] = 42;\n",
    "p->next = p->next->next;\n",
    "```\n",
    "\n",
    "Functions/methods have **side effects**:\n",
    "\n",
    "```c\n",
    "int x = 0;\n",
    "int incr_x () {\n",
    "    x++;\n",
    "    return x;\n",
    "}\n",
    "```"
   ]
  },
  {
   "cell_type": "markdown",
   "metadata": {
    "slideshow": {
     "slide_type": "slide"
    }
   },
   "source": [
    "## Mutability\n",
    "\n",
    "**The fantasy of mutability:**\n",
    "* It's easy to reason about: the machine does this, then this..."
   ]
  },
  {
   "cell_type": "markdown",
   "metadata": {
    "slideshow": {
     "slide_type": "fragment"
    }
   },
   "source": [
    "**The reality of mutability:**\n",
    "* Machines are good at complicated manipulation of state\n",
    "* Humans are not good at understanding it!\n",
    "* Mutability breaks **referential transparency**: ability to replace expression with another without affecting result of computation\n",
    "  + If `y = f(x)`, we cannot replace every occurrence of `f(x)` with `y`, because `f(x)` may have side-effects.\n",
    "* A function `foo(x)` in C/C++/Java may give different outputs for same input `x` depending on when it is called.\n",
    "    + Not a mathematical function!"
   ]
  },
  {
   "cell_type": "markdown",
   "metadata": {
    "slideshow": {
     "slide_type": "slide"
    }
   },
   "source": [
    "## Functional Programming \n",
    "\n",
    "**Expressions** specify *what to compute*\n",
    "* Variables never change value\n",
    "* Functions never have side effects\n",
    "\n",
    "The power of immutability:\n",
    "* No need to think about state\n",
    "* Powerful ways to build (and reason about) correct programs"
   ]
  },
  {
   "cell_type": "markdown",
   "metadata": {
    "slideshow": {
     "slide_type": "slide"
    }
   },
   "source": [
    "## Why study functional programming?\n",
    "\n",
    "1. Functional programming languages predict the future."
   ]
  },
  {
   "cell_type": "markdown",
   "metadata": {
    "slideshow": {
     "slide_type": "slide"
    }
   },
   "source": [
    "## 1. Functional programming languages predict the future\n",
    "\n",
    "* Garbage collection\n",
    "  + Java [1995], LISP [1958]\n",
    "* Generics\n",
    "  + Java 5 [2004], ML [1990]\n",
    "* Higher-order functions\n",
    "  + C#3.0 [2007], Java 8 [2014], LISP [1958]\n",
    "* Type inference\n",
    "  + C++11 [2011], Java 7 [2011] and 8, ML [1990]\n",
    "* **What's next?**"
   ]
  },
  {
   "cell_type": "markdown",
   "metadata": {
    "slideshow": {
     "slide_type": "slide"
    }
   },
   "source": [
    "## Why study functional programming?\n",
    "\n",
    "1. Functional programming languages predict the future.\n",
    "2. Functional programming languages are used in the industry (*not as popular as imperative languages*)."
   ]
  },
  {
   "cell_type": "markdown",
   "metadata": {
    "slideshow": {
     "slide_type": "slide"
    }
   },
   "source": [
    "## 2. Functional Programmming in Industry\n",
    "\n",
    "* Java 8 -- Oracle\n",
    "* F#, C# 3.0, LINQ -- Microsoft\n",
    "* Scala -- Twitter, Foursquare, LinkedIn\n",
    "* Haskell -- Facebook, Barclays, AT&T, Hasura (founded by IITM Alumni).\n",
    "* Erlang -- Facebook, Amazon, WhatsApp\n",
    "* OCaml -- Facebook, Bloomberg, Citrix, JaneStreet, Tezos Blockchain "
   ]
  },
  {
   "cell_type": "markdown",
   "metadata": {
    "slideshow": {
     "slide_type": "slide"
    }
   },
   "source": [
    "## Why study functional programming?\n",
    "\n",
    "1. Functional programming languages predict the future.\n",
    "2. Functional programming languages are *sometimes* used in the industry.\n",
    "3. Functional programming languages are **elegant**. "
   ]
  },
  {
   "cell_type": "markdown",
   "metadata": {
    "slideshow": {
     "slide_type": "slide"
    }
   },
   "source": [
    "## Does aesthetics matter?\n",
    "\n",
    "You'll often hear that functional programming code is beautiful, concise, stylish, refined, etc. But does it matter?"
   ]
  },
  {
   "cell_type": "markdown",
   "metadata": {
    "slideshow": {
     "slide_type": "fragment"
    }
   },
   "source": [
    "<h2> YES! </h2>\n",
    "\n",
    "* Who reads code?\n",
    "  + Machines\n",
    "  + Humans\n",
    "* Elegant code is easier to read and maintain\n",
    "* Elegant code might (not) be easier to write"
   ]
  },
  {
   "cell_type": "markdown",
   "metadata": {
    "slideshow": {
     "slide_type": "slide"
    }
   },
   "source": [
    "## OCaml\n",
    "\n",
    "* A pretty good language for writing beautiful programs.\n",
    "* O=Objective, Caml=Categorical Abstract Machine Language;not important.\n",
    "* ML is a family of languages; originally the \"meta-language\" for verifying programs\n",
    "\n",
    "<center>\n",
    "\n",
    "<img src=\"images/ocaml.png\" alt=\"OCaml\" height=\"300\" width=\"300\">\n",
    "</center>\n"
   ]
  },
  {
   "cell_type": "markdown",
   "metadata": {
    "slideshow": {
     "slide_type": "slide"
    }
   },
   "source": [
    "## OCaml has many powerful features\n",
    "\n",
    "* Immutable programming\n",
    "* Algebraic datatypes and pattern matching\n",
    "* First-class functions\n",
    "* Static type-checking\n",
    "* Automatic type inference\n",
    "* Parametric polymorphism\n",
    "* Garbage collection\n",
    "* Modules\n",
    "  \n",
    "<div style=\"text-align:right\"> <h3> But no language is perfect... <h3> </div>"
   ]
  },
  {
   "cell_type": "markdown",
   "metadata": {
    "slideshow": {
     "slide_type": "notes"
    }
   },
   "source": [
    "* Immutable programming\n",
    "  + Variable’s values cannot destructively be changed; makes reasoning about program easier!\n",
    "* Algebraic datatypes and pattern matching\n",
    "  + Makes definition and manipulation of complex data structures easy to express\n",
    "* First-class functions\n",
    "  + Functions can be passed around like ordinary values\n",
    "* Static type-checking\n",
    "  + Reduce number of run-time errors\n",
    "* Automatic type inference\n",
    "  + No burden to write down types of every single variable\n",
    "* Parametric polymorphism\n",
    "  + Enables construction of abstractions that work across many data types\n",
    "* Garbage collection\n",
    "  + Automated memory management eliminates many run-time errors\n",
    "* Modules\n",
    "  + Advanced system for structuring large systems"
   ]
  },
  {
   "cell_type": "markdown",
   "metadata": {
    "slideshow": {
     "slide_type": "slide"
    }
   },
   "source": [
    "## Languages are tools\n",
    "\n",
    "* There's no universally perfect tool\n",
    "  + There's no universally perfect language\n",
    "* OCaml is good for this course because:\n",
    "  + good mix of functional & imperative features\n",
    "  + relatively easy to reason about meaning of programs\n",
    "* But OCaml isn't perfect\n",
    "  + there will be features you miss from language X\n",
    "  + there will be annoyances based on your expectations – **keep an open mind, try to have fun**"
   ]
  },
  {
   "cell_type": "markdown",
   "metadata": {
    "slideshow": {
     "slide_type": "notes"
    }
   },
   "source": [
    "See also the famous paper titled [\"Why Functional Programming Matters?\"](https://www.cs.kent.ac.uk/people/staff/dat/miranda/whyfp90.pdf) by John Huges."
   ]
  }
 ],
 "metadata": {
  "celltoolbar": "Slideshow",
  "kernelspec": {
   "display_name": "OCaml 4.10",
   "language": "OCaml",
   "name": "ocaml-jupyter"
  },
  "language_info": {
   "codemirror_mode": "text/x-ocaml",
   "file_extension": ".ml",
   "mimetype": "text/x-ocaml",
   "name": "OCaml",
   "nbconverter_exporter": null,
   "pygments_lexer": "OCaml",
   "version": "4.10.0"
  }
 },
 "nbformat": 4,
 "nbformat_minor": 2
}
