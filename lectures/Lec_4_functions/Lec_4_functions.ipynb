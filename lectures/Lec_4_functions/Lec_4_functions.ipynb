{
 "cells": [
  {
   "cell_type": "markdown",
   "metadata": {
    "slideshow": {
     "slide_type": "slide"
    }
   },
   "source": [
    "<div style=\"text-align:center\">\n",
    "    <h1> Functions </h1>\n",
    "</div>"
   ]
  },
  {
   "cell_type": "markdown",
   "metadata": {
    "slideshow": {
     "slide_type": "slide"
    }
   },
   "source": [
    "## Anonymous Function\n",
    "\n",
    "OCaml has support for anonymous function expressions. The syntax is\n",
    "\n",
    "```ocaml\n",
    "fun x1 ... xn -> e\n",
    "```\n",
    "\n",
    "* A function is a value; no further computation to do.\n",
    "* In particular, `e` is not evaluated until the function is applied."
   ]
  },
  {
   "cell_type": "markdown",
   "metadata": {
    "slideshow": {
     "slide_type": "slide"
    }
   },
   "source": [
    "## Anonymous Functions"
   ]
  },
  {
   "cell_type": "code",
   "execution_count": null,
   "metadata": {
    "slideshow": {
     "slide_type": "-"
    }
   },
   "outputs": [],
   "source": [
    "fun x -> x +. 1."
   ]
  },
  {
   "cell_type": "markdown",
   "metadata": {
    "slideshow": {
     "slide_type": "fragment"
    }
   },
   "source": [
    "The function type `float -> float` says that it takes one argument of type `float` and returns a value of type `float`."
   ]
  },
  {
   "cell_type": "markdown",
   "metadata": {
    "slideshow": {
     "slide_type": "slide"
    }
   },
   "source": [
    "## Functions are first-class\n",
    "\n",
    "Can use them *anywhere* we can use values:\n",
    "\n",
    "* Functions can **take** functions as arguments\n",
    "* Functions can **return** functions as arguments\n",
    "\n",
    "As we will see, this is an incredibly powerful language feature. "
   ]
  },
  {
   "cell_type": "markdown",
   "metadata": {
    "slideshow": {
     "slide_type": "slide"
    }
   },
   "source": [
    "## Function application\n",
    "\n",
    "The syntax is \n",
    "\n",
    "```ocaml\n",
    "e0 e1 ... en\n",
    "```\n",
    "* No parentheses necessary"
   ]
  },
  {
   "cell_type": "markdown",
   "metadata": {
    "slideshow": {
     "slide_type": "slide"
    }
   },
   "source": [
    "## Function Application Evaluation\n",
    "\n",
    "```ocaml\n",
    "e0 e1 ... en\n",
    "```\n",
    "\n",
    "* Evaluate `e0 ... en` to values `v0 ... vn`\n",
    "* Type checking will ensure that `v0` is a function `fun x1 ... xn -> e`\n",
    "* Substitute `vi` for `xi` in `e` yielding new expression `e'`\n",
    "* Evaluate `e'` to a value `v`, which is result"
   ]
  },
  {
   "cell_type": "markdown",
   "metadata": {
    "slideshow": {
     "slide_type": "slide"
    }
   },
   "source": [
    "## Function Application"
   ]
  },
  {
   "cell_type": "code",
   "execution_count": null,
   "metadata": {
    "slideshow": {
     "slide_type": "-"
    }
   },
   "outputs": [],
   "source": [
    "(fun x -> x + 1) 1"
   ]
  },
  {
   "cell_type": "code",
   "execution_count": null,
   "metadata": {},
   "outputs": [],
   "source": [
    "(fun x y z -> x + y + z) 1 2 3"
   ]
  },
  {
   "cell_type": "markdown",
   "metadata": {
    "slideshow": {
     "slide_type": "slide"
    }
   },
   "source": [
    "## Multi-argument functions are syntactic sugar"
   ]
  },
  {
   "cell_type": "markdown",
   "metadata": {
    "slideshow": {
     "slide_type": "-"
    }
   },
   "source": [
    "The function\n",
    "\n",
    "```ocaml\n",
    "(fun x y z -> x + y + z) 1 2 3\n",
    "```\n",
    "\n",
    "is syntactic sugar for"
   ]
  },
  {
   "cell_type": "code",
   "execution_count": null,
   "metadata": {},
   "outputs": [],
   "source": [
    "(fun x -> fun y -> fun z -> x + y + z) 1 2 3"
   ]
  },
  {
   "cell_type": "markdown",
   "metadata": {
    "slideshow": {
     "slide_type": "fragment"
    }
   },
   "source": [
    "Every OCaml function takes exactly one argument."
   ]
  },
  {
   "cell_type": "markdown",
   "metadata": {
    "slideshow": {
     "slide_type": "slide"
    }
   },
   "source": [
    "## Function definition\n",
    "\n",
    "We can name functions using `let`.\n",
    "\n",
    "```ocaml\n",
    "let succ = fun x -> x + 1\n",
    "```\n",
    "\n",
    "which is semantically equivalent to\n",
    "\n",
    "```ocaml\n",
    "let succ x = x + 1\n",
    "```\n",
    "\n",
    "You'll see the latter form more often."
   ]
  },
  {
   "cell_type": "markdown",
   "metadata": {
    "slideshow": {
     "slide_type": "slide"
    }
   },
   "source": [
    "## Function definition"
   ]
  },
  {
   "cell_type": "code",
   "execution_count": null,
   "metadata": {},
   "outputs": [],
   "source": [
    "let succ x = x + 1"
   ]
  },
  {
   "cell_type": "code",
   "execution_count": null,
   "metadata": {},
   "outputs": [],
   "source": [
    "succ 10"
   ]
  },
  {
   "cell_type": "markdown",
   "metadata": {
    "slideshow": {
     "slide_type": "slide"
    }
   },
   "source": [
    "## Function definition"
   ]
  },
  {
   "cell_type": "code",
   "execution_count": null,
   "metadata": {
    "slideshow": {
     "slide_type": "-"
    }
   },
   "outputs": [],
   "source": [
    "let add x y = x + y"
   ]
  },
  {
   "cell_type": "code",
   "execution_count": null,
   "metadata": {},
   "outputs": [],
   "source": [
    "let add = fun x -> fun y -> x + y"
   ]
  },
  {
   "cell_type": "code",
   "execution_count": null,
   "metadata": {},
   "outputs": [],
   "source": [
    "add 5 10"
   ]
  },
  {
   "cell_type": "markdown",
   "metadata": {
    "slideshow": {
     "slide_type": "slide"
    }
   },
   "source": [
    "## Function types are right associative\n",
    "\n",
    "```ocaml\n",
    "int -> int -> int\n",
    "```\n",
    "\n",
    "is equivalent to\n",
    "\n",
    "```ocaml\n",
    "int -> (int -> int)\n",
    "```"
   ]
  },
  {
   "cell_type": "code",
   "execution_count": null,
   "metadata": {},
   "outputs": [],
   "source": [
    "let add : int -> (int -> int) = \n",
    "  fun x -> fun y -> x + y"
   ]
  },
  {
   "cell_type": "markdown",
   "metadata": {
    "slideshow": {
     "slide_type": "fragment"
    }
   },
   "source": [
    "This reading is quite useful!"
   ]
  },
  {
   "cell_type": "markdown",
   "metadata": {
    "slideshow": {
     "slide_type": "slide"
    }
   },
   "source": [
    "## Partial Application\n",
    "\n",
    "A function of type\n",
    "\n",
    "```ocaml\n",
    "int -> int -> int -> int\n",
    "```\n",
    "\n",
    "can be read as \n",
    "\n",
    "```ocaml\n",
    "int -> (int -> int -> int)\n",
    "```\n",
    "\n",
    "Take 1 argument and return a function!"
   ]
  },
  {
   "cell_type": "markdown",
   "metadata": {
    "slideshow": {
     "slide_type": "slide"
    }
   },
   "source": [
    "## Partial Application\n",
    "\n",
    "```ocaml\n",
    "(fun x y z -> x + y + z) 1\n",
    "```\n",
    "\n",
    "returns a function \n",
    "\n",
    "```ocaml\n",
    "(fun y z -> 1 + y + z)\n",
    "```"
   ]
  },
  {
   "cell_type": "code",
   "execution_count": null,
   "metadata": {},
   "outputs": [],
   "source": [
    "let foo = (fun x y z -> x + y + z) 1"
   ]
  },
  {
   "cell_type": "code",
   "execution_count": null,
   "metadata": {},
   "outputs": [],
   "source": [
    "foo 2 3"
   ]
  },
  {
   "cell_type": "markdown",
   "metadata": {
    "slideshow": {
     "slide_type": "slide"
    }
   },
   "source": [
    "## Partial Application\n",
    "\n",
    "A more useful partial application example is defining `succ` and `pred` functions from `add`."
   ]
  },
  {
   "cell_type": "code",
   "execution_count": null,
   "metadata": {},
   "outputs": [],
   "source": [
    "let succ = add 1\n",
    "let pred = add (-1)"
   ]
  },
  {
   "cell_type": "code",
   "execution_count": null,
   "metadata": {},
   "outputs": [],
   "source": [
    "succ 10"
   ]
  },
  {
   "cell_type": "code",
   "execution_count": null,
   "metadata": {},
   "outputs": [],
   "source": [
    "pred 10"
   ]
  },
  {
   "cell_type": "markdown",
   "metadata": {
    "slideshow": {
     "slide_type": "slide"
    }
   },
   "source": [
    "## Function Application is left associative\n",
    "\n",
    "```ocaml\n",
    "e0 e1 e2 e3\n",
    "```\n",
    "is equivalent to\n",
    "\n",
    "```ocaml\n",
    "(((e0 e1) e2) e3)\n",
    "```\n",
    "\n",
    "Read\n",
    "\n",
    "```ocaml\n",
    "(fun x -> fun y -> fun z -> x + y + z) 1 2 3\n",
    "```\n",
    "\n",
    "as \n",
    "\n",
    "```ocaml\n",
    "((((fun x -> fun y -> fun z -> x + y + z) 1) 2) 3)\n",
    "```"
   ]
  },
  {
   "cell_type": "code",
   "execution_count": 1,
   "metadata": {},
   "outputs": [
    {
     "data": {
      "text/plain": [
       "- : int = 6\n"
      ]
     },
     "execution_count": 1,
     "metadata": {},
     "output_type": "execute_result"
    }
   ],
   "source": [
    "((((fun x -> fun y -> fun z -> x + y + z) 1) 2) 3)"
   ]
  },
  {
   "cell_type": "markdown",
   "metadata": {
    "slideshow": {
     "slide_type": "slide"
    }
   },
   "source": [
    "## Recursive Functions\n",
    "\n",
    "Recursive functions can call themselves. The syntax for recursive function definition is:\n",
    "\n",
    "```ocaml\n",
    "let rec foo x = ...\n",
    "```\n",
    "\n",
    "Notice the `rec` key word."
   ]
  },
  {
   "cell_type": "markdown",
   "metadata": {
    "slideshow": {
     "slide_type": "slide"
    }
   },
   "source": [
    "## Recursive Functions"
   ]
  },
  {
   "cell_type": "code",
   "execution_count": null,
   "metadata": {
    "slideshow": {
     "slide_type": "-"
    }
   },
   "outputs": [],
   "source": [
    "let rec sum_of_first_n n = \n",
    "  if n <= 0 then 0\n",
    "  else n + sum_of_first_n (n-1)"
   ]
  },
  {
   "cell_type": "code",
   "execution_count": null,
   "metadata": {},
   "outputs": [],
   "source": [
    "sum_of_first_n 5"
   ]
  },
  {
   "cell_type": "markdown",
   "metadata": {
    "slideshow": {
     "slide_type": "slide"
    }
   },
   "source": [
    "## Tracing functions in Jupyter\n",
    "\n",
    "Jupyter (really the ocaml top-level behind the scenes) provides support for tracing the execution of functions."
   ]
  },
  {
   "cell_type": "code",
   "execution_count": null,
   "metadata": {},
   "outputs": [],
   "source": [
    "#trace sum_of_first_n;;\n",
    "\n",
    "sum_of_first_n 3;;"
   ]
  },
  {
   "cell_type": "code",
   "execution_count": null,
   "metadata": {
    "slideshow": {
     "slide_type": "slide"
    }
   },
   "outputs": [],
   "source": [
    "#untrace sum_of_first_n"
   ]
  },
  {
   "cell_type": "markdown",
   "metadata": {
    "slideshow": {
     "slide_type": "slide"
    }
   },
   "source": [
    "## Recursive Fibonacci number\n",
    "\n",
    "Implement a recursive function that computes the nth fibonacci number. The fibonacci sequence is `[0;1;1;2;3;5;8;...]`."
   ]
  },
  {
   "cell_type": "code",
   "execution_count": null,
   "metadata": {},
   "outputs": [],
   "source": [
    "let rec fib n = \n",
    "  if n = 0 then 0\n",
    "  else if n = 1 then 1\n",
    "  else fib (n - 2) + fib (n - 1)"
   ]
  },
  {
   "cell_type": "code",
   "execution_count": null,
   "metadata": {},
   "outputs": [],
   "source": [
    "assert (fib 10 = 55)"
   ]
  },
  {
   "cell_type": "markdown",
   "metadata": {
    "slideshow": {
     "slide_type": "notes"
    }
   },
   "source": [
    "In OCaml, the expression `assert e` raises a fatal error if `e` evaluates to `false`. If `e` is `true`, then `assert e` evaluates to `true`."
   ]
  },
  {
   "cell_type": "markdown",
   "metadata": {
    "slideshow": {
     "slide_type": "slide"
    }
   },
   "source": [
    "## Mutually recursive functions"
   ]
  },
  {
   "cell_type": "markdown",
   "metadata": {
    "slideshow": {
     "slide_type": "notes"
    }
   },
   "source": [
    "Mutually recursive functions are a set of functions that can call each other. They are defined using\n",
    "\n",
    "```\n",
    "let rec f1 v1 v2 ... vn =\n",
    "  ...\n",
    "and f2 v1 v2 ... vn =\n",
    "   ...\n",
    "...\n",
    "and fn v1 v2 ... vn =\n",
    "   ...\n",
    "```\n",
    "\n",
    "where the functions `f1` to `fn` can call each other. "
   ]
  },
  {
   "cell_type": "code",
   "execution_count": null,
   "metadata": {},
   "outputs": [],
   "source": [
    "let rec even n =\n",
    "  if n = 0 then true\n",
    "  else odd (n-1)\n",
    "  \n",
    "and odd n = \n",
    "  if n = 0 then false \n",
    "  else even (n-1)"
   ]
  },
  {
   "cell_type": "markdown",
   "metadata": {
    "slideshow": {
     "slide_type": "slide"
    }
   },
   "source": [
    "## Recursing too deep\n",
    "\n",
    "Let's invoke `sum_of_first_n` with larger numbers. "
   ]
  },
  {
   "cell_type": "code",
   "execution_count": null,
   "metadata": {},
   "outputs": [],
   "source": [
    "sum_of_first_n 1000000"
   ]
  },
  {
   "cell_type": "markdown",
   "metadata": {
    "slideshow": {
     "slide_type": "slide"
    }
   },
   "source": [
    "## Stack buildup\n",
    "\n",
    "```ocaml\n",
    "let rec sum_of_first_n n = \n",
    "  if n <= 0 then 0\n",
    "  else n + sum_of_first_n (n-1)\n",
    "```\n",
    "\n",
    "Some work `\"+ n\"` left to do after the recursive call returns. This builds up stack frames."
   ]
  },
  {
   "cell_type": "markdown",
   "metadata": {
    "slideshow": {
     "slide_type": "slide"
    }
   },
   "source": [
    "## Stack buildup\n",
    "\n",
    "For `sum_of_first_n 5`:\n",
    "\n",
    "<center>\n",
    "\n",
    "<img src=\"images/stack1.svg\" width=\"150\">\n",
    "</center>"
   ]
  },
  {
   "cell_type": "markdown",
   "metadata": {
    "slideshow": {
     "slide_type": "slide"
    }
   },
   "source": [
    "## Stack buildup\n",
    "\n",
    "For `sum_of_first_n 5`:\n",
    "\n",
    "<center>\n",
    "\n",
    "<img src=\"images/stack2.svg\" width=\"225\">\n",
    "</center>"
   ]
  },
  {
   "cell_type": "markdown",
   "metadata": {
    "slideshow": {
     "slide_type": "slide"
    }
   },
   "source": [
    "## Tail recursion\n",
    "\n",
    "Rewrite the function such that the recursive call is the last thing that the function does:"
   ]
  },
  {
   "cell_type": "code",
   "execution_count": null,
   "metadata": {},
   "outputs": [],
   "source": [
    "let rec sum_of_first_n_tailrec acc n = \n",
    "  if n <= 0 then acc\n",
    "  else sum_of_first_n_tailrec (n + acc) (n-1)\n",
    "  \n",
    "let sum_of_first_n_tailrec n = sum_of_first_n_tailrec 0 n"
   ]
  },
  {
   "cell_type": "code",
   "execution_count": null,
   "metadata": {},
   "outputs": [],
   "source": [
    "sum_of_first_n_tailrec 1000000000"
   ]
  },
  {
   "cell_type": "markdown",
   "metadata": {
    "slideshow": {
     "slide_type": "slide"
    }
   },
   "source": [
    "## Tail recursion\n",
    "\n",
    "```ocaml\n",
    "let rec sum_of_first_n_tailrec n acc = \n",
    "  if n <= 0 then acc\n",
    "  else sum_of_first_n_tailrec (n-1) (n + acc)\n",
    "```\n",
    "\n",
    "* No work left to do when the recursive call returns except return result to caller.\n",
    "* OCaml compiler does **tail call optimisation** that pops current call frame before invoking recursive call. \n",
    "  + No stack buildup => equivalent to writing a tight loop. "
   ]
  }
 ],
 "metadata": {
  "celltoolbar": "Slideshow",
  "kernelspec": {
   "display_name": "OCaml 4.10",
   "language": "OCaml",
   "name": "ocaml-jupyter"
  },
  "language_info": {
   "codemirror_mode": "text/x-ocaml",
   "file_extension": ".ml",
   "mimetype": "text/x-ocaml",
   "name": "OCaml",
   "nbconverter_exporter": null,
   "pygments_lexer": "OCaml",
   "version": "4.10.0"
  }
 },
 "nbformat": 4,
 "nbformat_minor": 2
}
