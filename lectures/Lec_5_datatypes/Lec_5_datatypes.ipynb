{
 "cells": [
  {
   "cell_type": "markdown",
   "metadata": {
    "slideshow": {
     "slide_type": "slide"
    }
   },
   "source": [
    "<div style=\"text-align:center\">\n",
    "    <h1> Datatypes </h1>\n",
    "</div>"
   ]
  },
  {
   "cell_type": "markdown",
   "metadata": {
    "slideshow": {
     "slide_type": "slide"
    }
   },
   "source": [
    "## Records\n",
    "\n",
    "* A record type is a composite of other data types, each of which is named.\n",
    "  + Equivalent to `struct` in C\n",
    "* A simple example is a point record containing x, y and z fields:"
   ]
  },
  {
   "cell_type": "code",
   "execution_count": null,
   "metadata": {},
   "outputs": [],
   "source": [
    "type point = {\n",
    "  x : int;\n",
    "  y : int;\n",
    "  z : int;\n",
    "}"
   ]
  },
  {
   "cell_type": "markdown",
   "metadata": {
    "slideshow": {
     "slide_type": "fragment"
    }
   },
   "source": [
    "* Note that each field name must start with a lowercase letter"
   ]
  },
  {
   "cell_type": "markdown",
   "metadata": {
    "slideshow": {
     "slide_type": "slide"
    }
   },
   "source": [
    "## Records: Creation and access\n",
    "\n",
    "We can create instances of our point type using `{ ... }`, and access the elements of a point using the `.` operator:"
   ]
  },
  {
   "cell_type": "code",
   "execution_count": null,
   "metadata": {
    "slideshow": {
     "slide_type": "fragment"
    }
   },
   "outputs": [],
   "source": [
    "let origin:point = { y = 0; x = 0;z = 0 }\n",
    "\n",
    "let get_y (r:point) = r.y\n",
    "let y = get_y origin\n"
   ]
  },
  {
   "cell_type": "markdown",
   "metadata": {
    "slideshow": {
     "slide_type": "slide"
    }
   },
   "source": [
    "## Records: Functional update\n",
    "\n",
    "* New records can also be created from existing records using the `with` keyword."
   ]
  },
  {
   "cell_type": "code",
   "execution_count": null,
   "metadata": {
    "slideshow": {
     "slide_type": "fragment"
    }
   },
   "outputs": [],
   "source": [
    "let p:point = { origin with z = 10 }"
   ]
  },
  {
   "cell_type": "markdown",
   "metadata": {
    "slideshow": {
     "slide_type": "fragment"
    }
   },
   "source": [
    "* `p` is a new record with the same fields as `origin` except `z`.\n",
    "* `origin` remains unchanged!"
   ]
  },
  {
   "cell_type": "code",
   "execution_count": null,
   "metadata": {
    "slideshow": {
     "slide_type": "fragment"
    }
   },
   "outputs": [],
   "source": [
    "origin"
   ]
  },
  {
   "cell_type": "markdown",
   "metadata": {
    "slideshow": {
     "slide_type": "slide"
    }
   },
   "source": [
    "## Records: Field punning\n",
    "\n",
    "Another useful trick with records is field punning, which allows you to replace:"
   ]
  },
  {
   "cell_type": "code",
   "execution_count": null,
   "metadata": {},
   "outputs": [],
   "source": [
    "let mk_point x y z = { x = x; y = y; z = z }"
   ]
  },
  {
   "cell_type": "markdown",
   "metadata": {
    "slideshow": {
     "slide_type": "fragment"
    }
   },
   "source": [
    "with "
   ]
  },
  {
   "cell_type": "code",
   "execution_count": null,
   "metadata": {},
   "outputs": [],
   "source": [
    "let mk_point x y z = { x; y; z }"
   ]
  },
  {
   "cell_type": "markdown",
   "metadata": {
    "slideshow": {
     "slide_type": "slide"
    }
   },
   "source": [
    "## Tuples\n",
    "\n",
    "* Like records, tuples are composite of other data types.\n",
    "    + Unlike records, the fields are not named, but are identified by position."
   ]
  },
  {
   "cell_type": "code",
   "execution_count": null,
   "metadata": {},
   "outputs": [],
   "source": [
    "let t1 = (1, 2, 10)\n",
    "let t2 = (true, \"Hello\")\n",
    "let t3 = (1, (true, \"Hello\"))"
   ]
  },
  {
   "cell_type": "markdown",
   "metadata": {
    "slideshow": {
     "slide_type": "fragment"
    }
   },
   "source": [
    "For accessing individual fields of a tuple, we need to use \"pattern-matching\", which we will study in the next few lectures."
   ]
  },
  {
   "cell_type": "markdown",
   "metadata": {
    "slideshow": {
     "slide_type": "slide"
    }
   },
   "source": [
    "## Product Types\n",
    "\n",
    "* Records and tuples are known as **product types**. \n",
    "  + Each value of a product type includes all of the values that constitute the product. \n",
    "  \n",
    "```ocaml\n",
    "type person_r = {name: string; age: int; height: float}\n",
    "type person_t = string * int * float\n",
    "```\n",
    "\n",
    "* Records are indexed by *names* whereas *tuples* are indexed by positions (1st, 2nd, etc.)."
   ]
  },
  {
   "cell_type": "markdown",
   "metadata": {
    "slideshow": {
     "slide_type": "slide"
    }
   },
   "source": [
    "## Type aliases\n",
    "\n",
    "OCaml supports the definition of aliases for existing types. For example,"
   ]
  },
  {
   "cell_type": "code",
   "execution_count": null,
   "metadata": {},
   "outputs": [],
   "source": [
    "type int_float_pair = int * float"
   ]
  },
  {
   "cell_type": "code",
   "execution_count": null,
   "metadata": {
    "slideshow": {
     "slide_type": "fragment"
    }
   },
   "outputs": [],
   "source": [
    "let x = (10, 3.14)"
   ]
  },
  {
   "cell_type": "code",
   "execution_count": null,
   "metadata": {
    "slideshow": {
     "slide_type": "-"
    }
   },
   "outputs": [],
   "source": [
    "let y : int_float_pair = x"
   ]
  },
  {
   "cell_type": "markdown",
   "metadata": {
    "slideshow": {
     "slide_type": "slide"
    }
   },
   "source": [
    "## Is there a _sum_ type?"
   ]
  },
  {
   "cell_type": "markdown",
   "metadata": {
    "slideshow": {
     "slide_type": "fragment"
    }
   },
   "source": [
    "<center>\n",
    "\n",
    "<h1> VARIANTS </h1>\n",
    "</center>"
   ]
  },
  {
   "cell_type": "markdown",
   "metadata": {
    "slideshow": {
     "slide_type": "fragment"
    }
   },
   "source": [
    "* A variant is a data type represeting a value that can be one of several possibilities.\n",
    "    + The closest concept in C or Java is `enum`.\n",
    "    + However, variants are much more powerful and expressive."
   ]
  },
  {
   "cell_type": "code",
   "execution_count": null,
   "metadata": {
    "slideshow": {
     "slide_type": "slide"
    }
   },
   "outputs": [],
   "source": [
    "type day = Sun | Mon | Tue | Wed | Thu | Fri | Sat\n",
    "let d = Tue"
   ]
  },
  {
   "cell_type": "markdown",
   "metadata": {
    "slideshow": {
     "slide_type": "fragment"
    }
   },
   "source": [
    "* Each constructor name must begin with an uppercase letter.\n",
    "* A constructor is already a value."
   ]
  },
  {
   "cell_type": "code",
   "execution_count": null,
   "metadata": {
    "slideshow": {
     "slide_type": "slide"
    }
   },
   "outputs": [],
   "source": [
    "type color = \n",
    "  | Red\n",
    "  | Green\n",
    "  | Blue"
   ]
  },
  {
   "cell_type": "code",
   "execution_count": null,
   "metadata": {},
   "outputs": [],
   "source": [
    "let v:color*color = (Green , Red)"
   ]
  },
  {
   "cell_type": "markdown",
   "metadata": {
    "slideshow": {
     "slide_type": "slide"
    }
   },
   "source": [
    "## Variants that carry data"
   ]
  },
  {
   "cell_type": "code",
   "execution_count": null,
   "metadata": {
    "slideshow": {
     "slide_type": "slide"
    }
   },
   "outputs": [],
   "source": [
    "type point = {x : int; y : int}\n",
    "\n",
    "type shape = \n",
    "  | Circle of point * float (* center, radius *)\n",
    "  | Rect of point * point   (* lower-left, upper-right *)\n",
    "  | ColorPoint of point * color"
   ]
  },
  {
   "cell_type": "code",
   "execution_count": null,
   "metadata": {},
   "outputs": [],
   "source": [
    "Circle ({x=4;y=3}, 2.5)"
   ]
  },
  {
   "cell_type": "code",
   "execution_count": null,
   "metadata": {},
   "outputs": [],
   "source": [
    "Rect ({x=3;y=4}, {x=7;y=9})"
   ]
  },
  {
   "cell_type": "markdown",
   "metadata": {
    "slideshow": {
     "slide_type": "slide"
    }
   },
   "source": [
    "## Variants that carry data\n",
    "\n",
    "The type definition syntax is:\n",
    "\n",
    "```ocaml\n",
    "type t = \n",
    "| C1 of t1\n",
    "| C2 of t2\n",
    "| C3 of t3\n",
    "| ...\n",
    "```\n",
    "\n",
    "* C1, C2, C2 are known as constructors\n",
    "* t1, t2 and t3 are data carried by constructor\n",
    "* Note that the `of ti` part is optional (i.e. a constructor may not carry any data)\n",
    "* Also known as **Algebraic Data Types**"
   ]
  },
  {
   "cell_type": "markdown",
   "metadata": {
    "slideshow": {
     "slide_type": "slide"
    }
   },
   "source": [
    "## Recursive variant types\n",
    "\n",
    "Let's define an integer list"
   ]
  },
  {
   "cell_type": "code",
   "execution_count": null,
   "metadata": {},
   "outputs": [],
   "source": [
    "type intlist = \n",
    "  | INil\n",
    "  | ICons of int * intlist"
   ]
  },
  {
   "cell_type": "code",
   "execution_count": null,
   "metadata": {},
   "outputs": [],
   "source": [
    "ICons (1, ICons (2, ICons (3, INil)))"
   ]
  },
  {
   "cell_type": "markdown",
   "metadata": {
    "slideshow": {
     "slide_type": "fragment"
    }
   },
   "source": [
    "* `Nil` and `Cons` originate from Lisp."
   ]
  },
  {
   "cell_type": "markdown",
   "metadata": {
    "slideshow": {
     "slide_type": "slide"
    }
   },
   "source": [
    "## String List\n",
    "\n",
    "```ocaml\n",
    "type stringlist =\n",
    "  | SNil\n",
    "  | Scons of string * stringlist\n",
    "```"
   ]
  },
  {
   "cell_type": "markdown",
   "metadata": {
    "slideshow": {
     "slide_type": "fragment"
    }
   },
   "source": [
    "* Now what about `pointlist`, `shapelist`, etc?"
   ]
  },
  {
   "cell_type": "markdown",
   "metadata": {
    "slideshow": {
     "slide_type": "slide"
    }
   },
   "source": [
    "## Parameterized Variants"
   ]
  },
  {
   "cell_type": "code",
   "execution_count": null,
   "metadata": {},
   "outputs": [],
   "source": [
    "type 'a lst = \n",
    "  |  Nil\n",
    "  | Cons of 'a * 'a lst"
   ]
  },
  {
   "cell_type": "code",
   "execution_count": null,
   "metadata": {
    "slideshow": {
     "slide_type": "fragment"
    }
   },
   "outputs": [],
   "source": [
    "Cons (1, Cons (2, Nil))"
   ]
  },
  {
   "cell_type": "code",
   "execution_count": null,
   "metadata": {
    "slideshow": {
     "slide_type": "fragment"
    }
   },
   "outputs": [],
   "source": [
    "Cons (\"Hello\", Cons(\"World\", Nil))"
   ]
  },
  {
   "cell_type": "markdown",
   "metadata": {
    "slideshow": {
     "slide_type": "slide"
    }
   },
   "source": [
    "## 'a is a Type Variable\n",
    "\n",
    "* **Variable**: name which is bound to a value\n",
    "* **Type Variable**: name which is bound to a type"
   ]
  },
  {
   "cell_type": "markdown",
   "metadata": {
    "slideshow": {
     "slide_type": "fragment"
    }
   },
   "source": [
    "* Java example is `List<T>`\n",
    "* C++ example is `std::vector<T>`"
   ]
  },
  {
   "cell_type": "markdown",
   "metadata": {
    "slideshow": {
     "slide_type": "fragment"
    }
   },
   "source": [
    "* OCaml syntax for type variable is a single quote followed by an identifier\n",
    "  + '`foo`, `'key`, '`value`\n",
    "* Most often just `'a`, `'b`. \n",
    "  + Pronounced \"alpha\", \"beta\" or \"quote a\", \"quote b\"."
   ]
  },
  {
   "cell_type": "markdown",
   "metadata": {
    "slideshow": {
     "slide_type": "slide"
    }
   },
   "source": [
    "## Polymorphism\n",
    "\n",
    "* The type `'a lst` that we had defined earlier is a **polymorphic data type**.\n",
    "  + poly = many, morph = change. \n",
    "* Write functionality that works for many data types.\n",
    "  + Related to Java Generics and C++ template instantiation.\n",
    "* In `'a lst`, `lst` is known as a **type constructor**.\n",
    "  + constructs types such as `int lst`, `string lst`, `shape lst`, etc."
   ]
  },
  {
   "cell_type": "markdown",
   "metadata": {
    "slideshow": {
     "slide_type": "slide"
    }
   },
   "source": [
    "## OCaml built-in lists are just variants\n",
    "\n",
    "OCaml effectively codes up lists as variants:\n",
    "\n",
    "\n",
    "```ocaml\n",
    "type 'a list = [] | :: of 'a * 'a list\n",
    "```\n",
    "\n",
    "* `[]` and `::` are constuctors. \n",
    "* Just a bit of syntactic magic to use `[]` and `::` as constructors rather than regular (alphanumeric) identifiers.\n",
    "* Notice that all list elements must have the same type (`'a`)"
   ]
  },
  {
   "cell_type": "markdown",
   "metadata": {
    "slideshow": {
     "slide_type": "slide"
    }
   },
   "source": [
    "## OCaml Lists"
   ]
  },
  {
   "cell_type": "code",
   "execution_count": null,
   "metadata": {
    "slideshow": {
     "slide_type": "-"
    }
   },
   "outputs": [],
   "source": [
    "[]"
   ]
  },
  {
   "cell_type": "code",
   "execution_count": null,
   "metadata": {},
   "outputs": [],
   "source": [
    "1::2::[]"
   ]
  },
  {
   "cell_type": "markdown",
   "metadata": {
    "slideshow": {
     "slide_type": "fragment"
    }
   },
   "source": [
    "can also write is as"
   ]
  },
  {
   "cell_type": "code",
   "execution_count": null,
   "metadata": {},
   "outputs": [],
   "source": [
    "[1;2]"
   ]
  },
  {
   "cell_type": "markdown",
   "metadata": {
    "slideshow": {
     "slide_type": "slide"
    }
   },
   "source": [
    "## `::` is right-associative"
   ]
  },
  {
   "cell_type": "code",
   "execution_count": null,
   "metadata": {},
   "outputs": [],
   "source": [
    "1::2::[]"
   ]
  },
  {
   "cell_type": "markdown",
   "metadata": {},
   "source": [
    "is equivalent to"
   ]
  },
  {
   "cell_type": "code",
   "execution_count": null,
   "metadata": {},
   "outputs": [],
   "source": [
    "1::(2::[])"
   ]
  },
  {
   "cell_type": "markdown",
   "metadata": {
    "slideshow": {
     "slide_type": "slide"
    }
   },
   "source": [
    "## Lists with different element types\n",
    "\n",
    "We can define a variant type for the list contents:"
   ]
  },
  {
   "cell_type": "code",
   "execution_count": null,
   "metadata": {},
   "outputs": [],
   "source": [
    "type int_or_string = Int of int | String of string\n",
    "\n",
    "let l = [Int 1; String \"Hello\"; Int 2; String \"World\"]"
   ]
  },
  {
   "cell_type": "markdown",
   "metadata": {
    "slideshow": {
     "slide_type": "slide"
    }
   },
   "source": [
    "## Binary Trees"
   ]
  },
  {
   "cell_type": "code",
   "execution_count": null,
   "metadata": {},
   "outputs": [],
   "source": [
    "type 'a tree = \n",
    "  Leaf \n",
    "| Node of 'a tree (* left *) * 'a (* value *) * 'a tree (* right *)"
   ]
  },
  {
   "cell_type": "markdown",
   "metadata": {},
   "source": [
    "In OCaml, `(* ... *)` is how you write down comments in OCaml"
   ]
  },
  {
   "cell_type": "code",
   "execution_count": null,
   "metadata": {
    "slideshow": {
     "slide_type": ""
    }
   },
   "outputs": [],
   "source": [
    "let t = Node (Leaf, 0.0, Node (Leaf, 1.0, Leaf))"
   ]
  },
  {
   "cell_type": "markdown",
   "metadata": {
    "slideshow": {
     "slide_type": "slide"
    }
   },
   "source": [
    "## OCaml Option Type\n",
    "\n",
    "\n",
    "```ocaml\n",
    "type 'a option = None | Some of 'a\n",
    "```\n"
   ]
  },
  {
   "cell_type": "code",
   "execution_count": null,
   "metadata": {
    "slideshow": {
     "slide_type": "fragment"
    }
   },
   "outputs": [],
   "source": [
    "None"
   ]
  },
  {
   "cell_type": "code",
   "execution_count": null,
   "metadata": {},
   "outputs": [],
   "source": [
    "Some 10"
   ]
  },
  {
   "cell_type": "code",
   "execution_count": null,
   "metadata": {},
   "outputs": [],
   "source": [
    "Some \"Hello\""
   ]
  },
  {
   "cell_type": "markdown",
   "metadata": {
    "slideshow": {
     "slide_type": "slide"
    }
   },
   "source": [
    "## When to use option types\n",
    "\n",
    "```ocaml\n",
    "type student = { name : string; rollno : string; \n",
    "                 marks : int}\n",
    "```"
   ]
  },
  {
   "cell_type": "markdown",
   "metadata": {
    "slideshow": {
     "slide_type": "fragment"
    }
   },
   "source": [
    "* what value will you assign for `marks` field before the exams are taken?\n",
    "  + `0` is not a good answer since it might also be the case that the student actually scored 0."
   ]
  },
  {
   "cell_type": "markdown",
   "metadata": {
    "slideshow": {
     "slide_type": "fragment"
    }
   },
   "source": [
    "```ocaml\n",
    "type student = { name : string; rollno : string; \n",
    "                 marks : int option }\n",
    "```\n",
    "\n",
    "* Use `None` to indicate the exam has not been taken."
   ]
  },
  {
   "cell_type": "markdown",
   "metadata": {
    "slideshow": {
     "slide_type": "slide"
    }
   },
   "source": [
    "## Question\n",
    "\n",
    "Given records, variants and tuples, which one would you pick for the following cases?\n",
    "\n",
    "1. Represent currency denominations 10, 20, 50, 100, 200, 500, 2000.\n",
    "2. Students who have name and roll numbers.\n",
    "3. A meal which has starter, main course and dessert."
   ]
  },
  {
   "cell_type": "markdown",
   "metadata": {
    "slideshow": {
     "slide_type": "slide"
    }
   },
   "source": [
    "## Question\n",
    "1. Represent currency denominations 10, 20, 50, 100, 200, 500, 2000.\n",
    "```ocaml\n",
    "type denomination = D10 | D20 | D50 | D100 | D200 | D500 | D2000\n",
    "```\n",
    "2. Students who have name and roll numbers.\n",
    "```ocaml\n",
    "type student = {name : string; roll_no : string}\n",
    "```\n",
    "3. A meal which has starter, main course and dessert.\n",
    "```ocaml\n",
    "type dessert = {starter : string; main_course: string; dessert: string}\n",
    "```"
   ]
  },
  {
   "cell_type": "markdown",
   "metadata": {
    "slideshow": {
     "slide_type": "slide"
    }
   },
   "source": [
    "## What about tuples?\n",
    "\n",
    "Could have used tuples for \n",
    "\n",
    "2. Students who have name and roll numbers.\n",
    "3. A meal which has starter, main course and dessert.\n",
    "\n",
    "but\n",
    "\n",
    "* Tuples are convenient for local uses\n",
    "  + Returning a pair of values\n",
    "* Records useful to global uses\n",
    "  + _Tuples with documentation_"
   ]
  }
 ],
 "metadata": {
  "celltoolbar": "Slideshow",
  "kernelspec": {
   "display_name": "OCaml 4.10",
   "language": "OCaml",
   "name": "ocaml-jupyter"
  },
  "language_info": {
   "codemirror_mode": "text/x-ocaml",
   "file_extension": ".ml",
   "mimetype": "text/x-ocaml",
   "name": "OCaml",
   "nbconverter_exporter": null,
   "pygments_lexer": "OCaml",
   "version": "4.10.0"
  }
 },
 "nbformat": 4,
 "nbformat_minor": 2
}
