{
 "cells": [
  {
   "cell_type": "markdown",
   "metadata": {
    "slideshow": {
     "slide_type": "slide"
    }
   },
   "source": [
    "<center>\n",
    "\n",
    "<h1 style=\"text-align:center\"> Lambda Calculus : Semantics </h1>\n",
    "</center>"
   ]
  },
  {
   "cell_type": "markdown",
   "metadata": {
    "slideshow": {
     "slide_type": "slide"
    }
   },
   "source": [
    "## β-reduction\n",
    "\n",
    "* The dynamic semantics of lambda calculus is also called β-reduction\n",
    "* A term of the form $(\\lambda x.M) ~N$ is called a **β-redex**.\n",
    "  + β-reduction replaces $(\\lambda x.M) ~N$ with $M[N/x]$.\n",
    "* A term without β-reduxes is said to be in **β-normal form**."
   ]
  },
  {
   "cell_type": "markdown",
   "metadata": {
    "slideshow": {
     "slide_type": "slide"
    }
   },
   "source": [
    "## β-reduction, formally\n",
    "\n",
    "$\n",
    "\\require{color}\n",
    "\\newcommand{\\inferrule}[2]{\\displaystyle{\\frac{#1}{#2}}}\n",
    "\\newcommand{\\yb}[1]{\\colorbox{yellow}{$#1$}}\n",
    "\\newcommand{\\rb}[1]{\\colorbox{red}{$#1$}}\n",
    "\\newcommand{\\betastar}{\\rightarrow_{\\beta^*}}\n",
    "$\n",
    "\n",
    "\\\\[\n",
    "\\begin{array}{cc}\n",
    "\\inferrule{}{(\\lambda x.M)~N \\rightarrow_{\\beta} M[N/x]} \\color{red} \\textrm{[APP]} &\n",
    "\\inferrule{M \\rightarrow_{\\beta} M'}{M~N \\rightarrow_{\\beta} M'~N} \\color{red} \\textrm{[CONG-1]}\n",
    " \\\\ \\\\\n",
    "\\inferrule{N \\rightarrow_{\\beta} N'}{M~N \\rightarrow_{\\beta} M~N'} \\color{red} \\textrm{[CONG-2]} &\n",
    "\\inferrule{M \\rightarrow_{\\beta} M'}{\\lambda x.M \\rightarrow_{\\beta} \\lambda x.M'} \\color{red} \\textrm{[ABS]}\n",
    "\\end{array}\n",
    "\\\\]"
   ]
  },
  {
   "cell_type": "markdown",
   "metadata": {
    "slideshow": {
     "slide_type": "slide"
    }
   },
   "source": [
    "## Example\n",
    "\n",
    "\\\\[\n",
    "\\begin{array}{rlr}\n",
    " & (\\lambda \\yb{x}.x ~x) ~\\yb{((\\lambda x. y) ~z)} \\\\ \n",
    "\\rightarrow_{\\beta} & ((\\lambda \\yb{x}. y) ~\\yb{z}) ~~((\\lambda x. y) ~z) & \\color{red} \\textrm{[APP]} \\\\ \n",
    "\\rightarrow_{\\beta} & y ~((\\lambda \\yb{x}. y) ~\\yb{z}) & \\color{red} \\textrm{[APP]}, \\textrm{[CONG-1]} \\\\\n",
    "\\rightarrow_{\\beta} & y ~y & \\color{red} \\textrm{[APP]}, \\textrm{[CONG-2]}\n",
    "\\end{array}\n",
    "\\\\]\n"
   ]
  },
  {
   "cell_type": "markdown",
   "metadata": {
    "slideshow": {
     "slide_type": "slide"
    }
   },
   "source": [
    "## Example\n",
    "\n",
    "\\\\[\n",
    "\\begin{array}{rlr}\n",
    " & (\\lambda \\yb{x}.x ~x) ~\\yb{((\\lambda x. y) ~z)} \\\\ \n",
    "\\rightarrow_{\\beta} & ((\\lambda x. y) ~z) ~~((\\lambda \\yb{x}. y) ~\\yb{z}) & \\color{red} \\textrm{[APP]}  \\\\\n",
    "\\rightarrow_{\\beta} & ((\\lambda \\yb{x}. y) ~\\yb{z}) ~y & \\color{red} \\textrm{[APP]}, \\textrm{[CONG-2]}\\\\\n",
    "\\rightarrow_{\\beta} & y ~y & \\color{red} \\textrm{[APP]}, \\textrm{[CONG-1]}\n",
    "\\end{array}\n",
    "\\\\]\n"
   ]
  },
  {
   "cell_type": "markdown",
   "metadata": {
    "slideshow": {
     "slide_type": "slide"
    }
   },
   "source": [
    "## Example\n",
    "\n",
    "\\\\[\n",
    "\\begin{array}{rlr}\n",
    " & (\\lambda x.x ~x) ((\\lambda \\colorbox{yellow}{$x$}. y) ~\\yb{z}) \\\\ \n",
    "\\rightarrow_{\\beta} & (\\lambda \\yb{x}.x ~x) ~\\yb{y} & \\color{red} \\textrm{[APP]}, \\textrm{[CONG-2]} \\\\\n",
    "\\rightarrow_{\\beta} & y ~y & \\color{red} \\textrm{[APP]}\n",
    "\\end{array}\n",
    "\\\\]"
   ]
  },
  {
   "cell_type": "markdown",
   "metadata": {
    "slideshow": {
     "slide_type": "slide"
    }
   },
   "source": [
    "## Exercise\n",
    "\n",
    "Reduce the following lambda terms to $\\beta$-normal form.\n",
    "\n",
    "* $(\\lambda t. \\lambda f. t)\\ x\\ y$\n",
    "* $(\\lambda t. \\lambda f. t)\\ (\\lambda x.x)\\ y$\n",
    "* $(\\lambda x.x) ((\\lambda x.\\lambda y.\\ x\\ y)\\ a\\ b)$\n",
    "* $((\\lambda s. \\lambda z. s\\ (s\\ z))\\ s)\\ ((\\lambda s. \\lambda z. s\\ z)s\\ z)$"
   ]
  },
  {
   "cell_type": "markdown",
   "metadata": {
    "slideshow": {
     "slide_type": "slide"
    }
   },
   "source": [
    "## Defining β$^*$ : Multiple steps of β-reduction\n",
    "\n",
    "$\\beta^*$ is the reflexive-transitive closure of $\\beta$:\n",
    "\n",
    "\\\\[\n",
    "\\begin{array}{c}\n",
    "\\inferrule{M =_\\alpha M'}{M \\rightarrow_{\\beta^*} M'} \\\\ \\\\\n",
    "\\inferrule{M \\rightarrow_{\\beta} M' \\quad M' \\rightarrow_{\\beta^*} M''}{M \\rightarrow_{\\beta^*} M''}\n",
    "\\end{array}\n",
    "\\\\]"
   ]
  },
  {
   "cell_type": "markdown",
   "metadata": {
    "slideshow": {
     "slide_type": "slide"
    }
   },
   "source": [
    "## Church-Rosser Theorem\n",
    "\n",
    "If $M \\betastar M_1$ and $M \\betastar M_2$ then there exists $M_1'$ and $M_2'$ such that $M_1 \\betastar M_1'$, $M_2 \\betastar M_2'$ and $M_1' =_\\alpha M_2'$.\n",
    "\n",
    "<center>\n",
    "    \n",
    "<img src=\"images/church_rosser.png\" width=\"600\">\n",
    "</center>"
   ]
  },
  {
   "cell_type": "markdown",
   "metadata": {
    "slideshow": {
     "slide_type": "slide"
    }
   },
   "source": [
    "## β-normal form\n",
    "\n",
    "* \"β-normal form\" $\\Rightarrow$ \"contains no reduxes\"\n",
    "* **Theorem** (Uniqueness of β-normal forms). If $M \\betastar N_1$ and $M \\betastar N_2$ and $N_1$ and $N_2$ are in β-normal form, then $N_1 =_{\\alpha} N_2$."
   ]
  },
  {
   "cell_type": "markdown",
   "metadata": {
    "slideshow": {
     "slide_type": "fragment"
    }
   },
   "source": [
    "* **Proof.** By Church-Rosser, obtain $N_1'$, $N_2'$ such that $N_1 \\betastar N_1'$ and $N_2 \\betastar N_2'$ and $N_1' =_\\alpha N_2'$. But $N_1$ and $N_2$ are in β-normal form. Hence, $N_1 =_{\\alpha} N_1' =_{\\alpha} N_2' =_\\alpha N_2$."
   ]
  },
  {
   "cell_type": "markdown",
   "metadata": {
    "slideshow": {
     "slide_type": "slide"
    }
   },
   "source": [
    "## β-equivalence\n",
    "\n",
    "$M_1 =_{\\beta} M_2$ iff there exists $M_1'$ and $M_2'$ such that $M_1 \\betastar M_1'$ and $M_2 \\betastar M_2'$ and $M_1' =_\\alpha M_2'$.\n"
   ]
  },
  {
   "cell_type": "markdown",
   "metadata": {
    "slideshow": {
     "slide_type": "fragment"
    }
   },
   "source": [
    "\n",
    "**Lemma:** If $M \\rightarrow_{\\beta^*} M'$, then $M =_\\beta M'$."
   ]
  },
  {
   "cell_type": "markdown",
   "metadata": {
    "slideshow": {
     "slide_type": "slide"
    }
   },
   "source": [
    "## $\\alpha$-equivalence and $\\beta$-equivalence\n",
    "\n",
    "In OCaml, we might say,\n",
    "\n",
    "* `(fun x -> x + 1) 1` $=_{\\alpha}$ `(fun y -> y + 1) 1`\n",
    "* `(fun x -> x + 1) 1` $=_{\\beta}$ `(fun y -> y + 1) 1`\n",
    "* `(fun x -> x + 1) 1` $=_{\\beta}$ `(fun y -> y) 2`\n",
    "* `(fun x -> x + 1) 1` $\\neq_{\\alpha}$ `(fun y -> y) 2`"
   ]
  },
  {
   "cell_type": "markdown",
   "metadata": {
    "slideshow": {
     "slide_type": "slide"
    }
   },
   "source": [
    "## Possible Non-termination\n",
    "\n",
    "Some terms do not have a normal form\n",
    "\n",
    "\\\\[\n",
    "\\begin{array}{rcl}\n",
    "\\Omega & = & (\\lambda x.x ~x) ~(\\lambda x.x ~x) \\\\\n",
    "       & \\rightarrow_{\\beta} & (\\lambda x.x ~x) ~(\\lambda x.x ~x) \\\\\n",
    "       & \\rightarrow_{\\beta} & (\\lambda x.x ~x) ~(\\lambda x.x ~x) \\\\\n",
    "       & \\rightarrow_{\\beta} & \\ldots\n",
    "\\end{array}\n",
    "\\\\]"
   ]
  },
  {
   "cell_type": "markdown",
   "metadata": {
    "slideshow": {
     "slide_type": "fragment"
    }
   },
   "source": [
    "Such terms are said to **diverge**."
   ]
  },
  {
   "cell_type": "markdown",
   "metadata": {
    "slideshow": {
     "slide_type": "slide"
    }
   },
   "source": [
    "## Possible Non-termination\n",
    "\n",
    "Other terms may or may not terminate based on the redux chosen to reduce.\n",
    "\n",
    "\\\\[\n",
    "\\begin{array}{rl}\n",
    " & (\\lambda \\yb{x}.y) ~\\yb{((\\lambda x.x ~x) ~(\\lambda x.x ~x))} \\\\\n",
    "\\rightarrow_{\\beta} & y\n",
    "\\end{array}\n",
    "\\\\]"
   ]
  },
  {
   "cell_type": "markdown",
   "metadata": {
    "slideshow": {
     "slide_type": "fragment"
    }
   },
   "source": [
    "\\\\[\n",
    "\\begin{array}{rl}\n",
    " & (\\lambda x.y) ~((\\lambda \\yb{x}.x ~x) ~\\yb{(\\lambda x.x ~x)}) \\\\\n",
    "\\rightarrow_{\\beta} & (\\lambda x.y) ~((\\lambda \\yb{x}.x ~x) \\yb{(\\lambda x.x ~x)}) \\\\\n",
    "\\rightarrow_{\\beta} & \\ldots\n",
    "\\end{array}\n",
    "\\\\]"
   ]
  },
  {
   "cell_type": "markdown",
   "metadata": {
    "slideshow": {
     "slide_type": "slide"
    }
   },
   "source": [
    "## Reduction Strategies\n",
    "\n",
    "* Several different reduction strategies have been studied for lambda calculus.\n",
    "* The β reduction we have seen so far is known as **full β-reduction**\n",
    "  + Any redex in the term can be reduced at any time.\n"
   ]
  },
  {
   "cell_type": "markdown",
   "metadata": {
    "slideshow": {
     "slide_type": "slide"
    }
   },
   "source": [
    "## Full β-reduction formally (recall)\n",
    "\n",
    "\\\\[\n",
    "\\begin{array}{cc}\n",
    "\\inferrule{}{(\\lambda x.M)~N \\rightarrow_{\\beta} M[N/x]} \\color{red} \\textrm{[APP]} &\n",
    "\\inferrule{M \\rightarrow_{\\beta} M'}{M~N \\rightarrow_{\\beta} M'~N} \\color{red} \\textrm{[CONG-1]}\n",
    " \\\\ \\\\\n",
    "\\inferrule{N \\rightarrow_{\\beta} N'}{M~N \\rightarrow_{\\beta} M~N'} \\color{red} \\textrm{[CONG-2]} &\n",
    "\\inferrule{M \\rightarrow_{\\beta} M'}{\\lambda x.M \\rightarrow_{\\beta} \\lambda x.M'} \\color{red} \\textrm{[ABS]}\n",
    "\\end{array}\n",
    "\\\\]"
   ]
  },
  {
   "cell_type": "markdown",
   "metadata": {
    "slideshow": {
     "slide_type": "fragment"
    }
   },
   "source": [
    "* There may be multiple applicable rules for a term.\n",
    "  + The reduction is said to be non-deterministic. "
   ]
  },
  {
   "cell_type": "markdown",
   "metadata": {
    "slideshow": {
     "slide_type": "slide"
    }
   },
   "source": [
    "## Full β-reduction\n",
    "\n",
    "For example, we can choose to reduce the innermost redex first:\n",
    "\n",
    "\\\\[\n",
    "\\begin{array}{rl}\n",
    "  & (\\lambda x.x) ((\\lambda x.x) ~(\\lambda z.(\\lambda x.x) ~z)) \\\\\n",
    "=_{\\alpha} & id ~(id ~(\\lambda z.\\yb{id ~z})) \\\\\n",
    "\\rightarrow_{\\beta} & id ~(\\yb{id ~(\\lambda z.z)}) \\\\\n",
    "\\rightarrow_{\\beta} & \\yb{id ~(\\lambda z.z)} \\\\\n",
    "\\rightarrow_{\\beta} & \\lambda z.z \\\\\n",
    "\\end{array}\n",
    "\\\\]"
   ]
  },
  {
   "cell_type": "markdown",
   "metadata": {
    "slideshow": {
     "slide_type": "slide"
    }
   },
   "source": [
    "## Normal order strategy\n",
    "\n",
    "Reduce leftmost, outermost redex first.\n",
    "\n",
    "\\\\[\n",
    "\\begin{array}{rlr}\n",
    "& \\yb{id ~(id ~(\\lambda z.id ~z))} \\\\\n",
    "\\rightarrow_{\\hat{\\beta}} & \\yb{id ~(\\lambda z.id ~z)} & \\color{red} \\textrm{[APP]} \\\\\n",
    "\\rightarrow_{\\hat{\\beta}} & \\lambda z.\\yb{id ~z}  & \\color{red} \\textrm{[APP]} \\\\\n",
    "\\rightarrow_{\\hat{\\beta}} & \\lambda z.z & \\color{red} \\textrm{[APP]}, \\textrm{[ABS]} \\\\\n",
    "\\end{array}\n",
    "\\\\]"
   ]
  },
  {
   "cell_type": "code",
   "execution_count": 1,
   "metadata": {
    "slideshow": {
     "slide_type": "slide"
    }
   },
   "outputs": [
    {
     "name": "stdout",
     "output_type": "stream",
     "text": [
      "val eval_cbv : ?log:bool -> string -> string = <fun>\n",
      "val eval_cbn : ?log:bool -> string -> string = <fun>\n",
      "val eval_normal : ?log:bool -> string -> string = <fun>\n"
     ]
    }
   ],
   "source": [
    "#use \"init.ml\""
   ]
  },
  {
   "cell_type": "code",
   "execution_count": 2,
   "metadata": {
    "slideshow": {
     "slide_type": "fragment"
    }
   },
   "outputs": [
    {
     "name": "stdout",
     "output_type": "stream",
     "text": [
      "= (λx.x) (λx.x) ((λx.x) (λz.(λx.x) z))\n",
      "= (λx.x) ((λx.x) (λz.(λx.x) z))\n",
      "= (λx.x) (λz.(λx.x) z)\n",
      "= λz.(λx.x) z\n",
      "= λz.z\n"
     ]
    },
    {
     "data": {
      "text/plain": [
       "- : string = \"λz.z\"\n"
      ]
     },
     "execution_count": 2,
     "metadata": {},
     "output_type": "execute_result"
    }
   ],
   "source": [
    "eval_normal ~log:true \"((\\\\x.x) (\\\\x.x)) ((\\\\x.x) (\\\\z.(\\\\x.x) z))\""
   ]
  },
  {
   "cell_type": "markdown",
   "metadata": {
    "slideshow": {
     "slide_type": "slide"
    }
   },
   "source": [
    "## Normal order strategy, formally\n",
    "\n",
    "\\\\[\n",
    "\\begin{array}{cc}\n",
    "\\inferrule{}{(\\lambda x.M)~N \\rightarrow_{\\hat{\\beta}} M[N/x]} \\color{red} \\textrm{[N-APP]} & \n",
    "\\inferrule{M \\neq \\lambda x.M_1 \\quad M \\rightarrow_{\\hat{\\beta}} M'}{M~N \\rightarrow_{\\hat{\\beta}} M'~N} \\color{red} \\textrm{[N-CONG-1]} \\\\\n",
    "\\\\\n",
    "\\inferrule{M \\neq \\lambda x.M_1 \\quad M \\nrightarrow_{\\hat{\\beta}} \\quad N \\rightarrow_{\\hat{\\beta}} N'}{M~N \\rightarrow_{\\hat{\\beta}} M~N'} \\color{red} \\textrm{[N-CONG-2]} &\n",
    "\\inferrule{M \\rightarrow_{\\hat{\\beta}} M'}{\\lambda x.M \\rightarrow_{\\hat{\\beta}} \\lambda x.M'} \\color{red} \\textrm{[N-ABS]}\n",
    "\\end{array}\n",
    "\\\\]"
   ]
  },
  {
   "cell_type": "markdown",
   "metadata": {
    "slideshow": {
     "slide_type": "fragment"
    }
   },
   "source": [
    "* Rules are deterministic. (how?)"
   ]
  },
  {
   "cell_type": "markdown",
   "metadata": {
    "slideshow": {
     "slide_type": "slide"
    }
   },
   "source": [
    "## Normal order strategy: Example\n",
    "\n",
    "\n",
    "<center>    \n",
    "    \n",
    "<img src=\"images/church_rosser.png\" width=\"600\">\n",
    "</center>\n",
    "\n",
    "Which reduction path will be picked by Normal order strategy?"
   ]
  },
  {
   "cell_type": "markdown",
   "metadata": {
    "slideshow": {
     "slide_type": "fragment"
    }
   },
   "source": [
    "Normal order strategy will pick the middle path"
   ]
  },
  {
   "cell_type": "markdown",
   "metadata": {
    "slideshow": {
     "slide_type": "slide"
    }
   },
   "source": [
    "## Quiz\n",
    "\n",
    "$\\Omega = (\\lambda x.x ~x) ~(\\lambda x.x ~x)$\n",
    "\n",
    "* Will normal order strategy converge on $\\Omega$?\n",
    "* What about on $(\\lambda x. y)\\ \\Omega$?\n"
   ]
  },
  {
   "cell_type": "markdown",
   "metadata": {
    "slideshow": {
     "slide_type": "slide"
    }
   },
   "source": [
    "## Call-by-name, formally\n",
    "\n",
    "Call-by-name strategy is even more restrictive.\n",
    "\\\\[\n",
    "\\begin{array}{cc}\n",
    "\\inferrule{}{(\\lambda x.M)~N \\rightarrow_{\\beta N} M[N/x]} & \\color{red} \\textrm{[CBN-APP]} \\\\\n",
    "\\inferrule{M \\neq \\lambda x.M_1 \\quad M \\rightarrow_{\\beta N} M'}{M ~N\\rightarrow_{\\beta N} M' ~N} & \\color{red} \\textrm{[CBN-CONG]}\n",
    "\\end{array}\n",
    "\\\\]\n",
    "\n",
    "* CONG-2 and ABS reductions are not allowed.\n",
    "  + Arguments not reduced unless they appear on the function position (i.e. leftmost). \n",
    "  + Is a win if arguments not used.\n",
    "  + Same reduxes may need to be reduced multiple times.\n",
    "  + No reduction under abstraction."
   ]
  },
  {
   "cell_type": "markdown",
   "metadata": {
    "slideshow": {
     "slide_type": "slide"
    }
   },
   "source": [
    "## No CONG-2: Reducing the same redex multiple times\n",
    "\n",
    "\\\\[\n",
    "\\begin{array}{cl}\n",
    "& (\\lambda \\yb{x}. (x ~y) ~(x ~z)) ~\\yb{((\\lambda x.x) ~a)} \\\\\n",
    "\\rightarrow_{\\beta N} & (\\rb{((\\lambda x.x) ~a)} ~y) ~~(\\rb{((\\lambda x.x) ~a)} ~z)\\\\\n",
    "\\rightarrow_{\\beta N} & (a ~ y) ~ (((\\lambda x.x) ~a) ~z)\\\\\n",
    "\\nrightarrow_{\\beta N}\n",
    "\\end{array}\n",
    "\\\\]"
   ]
  },
  {
   "cell_type": "markdown",
   "metadata": {
    "slideshow": {
     "slide_type": "slide"
    }
   },
   "source": [
    "## No ABS\n",
    "\n",
    "  \n",
    "\\\\[\n",
    "\\begin{array}{rl}\n",
    "& \\yb{id ~(id ~(\\lambda z.id ~z))} \\\\\n",
    "\\rightarrow_{\\beta N} & \\yb{id ~(\\lambda z.id ~z)} \\\\\n",
    "\\rightarrow_{\\beta N} & \\lambda z.id ~z \\\\\n",
    "\\nrightarrow_{\\beta N}\n",
    "\\end{array}\n",
    "\\\\]"
   ]
  },
  {
   "cell_type": "code",
   "execution_count": 3,
   "metadata": {
    "slideshow": {
     "slide_type": "slide"
    }
   },
   "outputs": [
    {
     "name": "stdout",
     "output_type": "stream",
     "text": [
      "= (λx.x) ((λx.x) (λz.(λx.x) z))\n",
      "= (λx.x) (λz.(λx.x) z)\n",
      "= λz.(λx.x) z\n"
     ]
    },
    {
     "data": {
      "text/plain": [
       "- : string = \"λz.(λx.x) z\"\n"
      ]
     },
     "execution_count": 3,
     "metadata": {},
     "output_type": "execute_result"
    }
   ],
   "source": [
    "eval_cbn ~log:true \"(\\\\x.x) ((\\\\x.x) (\\\\z.(\\\\x.x) z))\""
   ]
  },
  {
   "cell_type": "markdown",
   "metadata": {
    "slideshow": {
     "slide_type": "slide"
    }
   },
   "source": [
    "## Call-by-name strategy: Example\n",
    "\n",
    "\n",
    "<center>    \n",
    "    \n",
    "<img src=\"images/church_rosser.png\" width=\"600\">\n",
    "</center>\n",
    "\n",
    "Which reduction path will be picked by Call-by-name strategy?"
   ]
  },
  {
   "cell_type": "markdown",
   "metadata": {
    "slideshow": {
     "slide_type": "fragment"
    }
   },
   "source": [
    "Call-by-name strategy will also pick the middle path, but will stop reduction at $y\\ ((\\lambda x. y)\\ z)$"
   ]
  },
  {
   "cell_type": "markdown",
   "metadata": {
    "slideshow": {
     "slide_type": "slide"
    }
   },
   "source": [
    "## Call-by-value, formally\n",
    "\n",
    "Always reduce functions and then arguments before application\n",
    "\n",
    "\\\\[\n",
    "\\begin{array}{cc}\n",
    "\\inferrule{M \\rightarrow_{\\beta V} M'}{M ~N\\rightarrow_{\\beta V} M' ~N} \\color{red} \\textrm{[CBV-CONG-1]} &\n",
    "\\inferrule{M \\nrightarrow_{\\beta V} \\quad N \\rightarrow_{\\beta V} N'}{M ~N\\rightarrow_{\\beta V} M ~N'} \\color{red} \\textrm{[CBV-CONG-2]}\n",
    "\\end{array}\n",
    "\\\\]\n",
    "\n",
    "\\\\[\n",
    "\\begin{array}{c}\n",
    "\\inferrule{N \\nrightarrow_{\\beta V}}{(\\lambda x.M)~N \\rightarrow_{\\beta V} M[N/x]} \\color{red} \\textrm{[CBV-APP]}\n",
    "\\end{array}\n",
    "\\\\]\n",
    "\n",
    "* Also known as **strict evaluation**\n",
    "  + Still no reduction under abstraction.\n",
    "  + Used by almost all functional languages, including OCaml."
   ]
  },
  {
   "cell_type": "markdown",
   "metadata": {
    "slideshow": {
     "slide_type": "slide"
    }
   },
   "source": [
    "## Call-by-value\n",
    "\n",
    "Always reduce functions and then arguments before application.\n",
    "\n",
    "\\\\[\n",
    "\\begin{array}{rlr}\n",
    "& id ~(\\yb{id ~(\\lambda z.id ~z)}) \\\\\n",
    "\\rightarrow_{\\beta V} & \\yb{id ~(\\lambda z.id ~z)} & \\color{red} \\textrm{[APP]}, \\textrm{[CONG-2]} \\\\\n",
    "\\rightarrow_{\\beta V} & \\lambda z.id ~z & \\color{red} \\textrm{[APP]} \\\\\n",
    "\\nrightarrow_{\\beta V}\n",
    "\\end{array}\n",
    "\\\\]\n"
   ]
  },
  {
   "cell_type": "markdown",
   "metadata": {
    "slideshow": {
     "slide_type": "slide"
    }
   },
   "source": [
    "## Call-by-value strategy: Example\n",
    "\n",
    "\n",
    "<center>    \n",
    "    \n",
    "<img src=\"images/church_rosser.png\" width=\"600\">\n",
    "</center>\n",
    "\n",
    "Which reduction path will be picked by Call-by-value strategy?"
   ]
  },
  {
   "cell_type": "markdown",
   "metadata": {
    "slideshow": {
     "slide_type": "fragment"
    }
   },
   "source": [
    "Call-by-value strategy will pick the rightmost path."
   ]
  },
  {
   "cell_type": "code",
   "execution_count": null,
   "metadata": {
    "slideshow": {
     "slide_type": "slide"
    }
   },
   "outputs": [],
   "source": [
    "eval_cbv ~log:true \"(\\\\x.x) ((\\\\x.x) (\\\\z.(\\\\x.x) z))\""
   ]
  },
  {
   "cell_type": "markdown",
   "metadata": {
    "slideshow": {
     "slide_type": "slide"
    }
   },
   "source": [
    "## Normalization\n",
    "\n",
    "Given a term and a reduction strategy, the term is said to normalise under that reduction strategy if reducing that term leads to a β-normal form.\n"
   ]
  },
  {
   "cell_type": "markdown",
   "metadata": {
    "slideshow": {
     "slide_type": "fragment"
    }
   },
   "source": [
    "**Weak Normalisation:** A term is said to weakly normalise under a given reduction strategy if there exists some sequence of reductions leading to a β-normal form. \n",
    "\n",
    "**Strong Normalisation:** A term is said to strongly normalise under a given reduction strategy if every reduction leads to a β-normal form."
   ]
  },
  {
   "cell_type": "markdown",
   "metadata": {
    "slideshow": {
     "slide_type": "fragment"
    }
   },
   "source": [
    "No distinction between weak and strong if the reduction is **deterministic** (normal order, call-by-name and call-by-value)."
   ]
  },
  {
   "cell_type": "markdown",
   "metadata": {
    "slideshow": {
     "slide_type": "slide"
    }
   },
   "source": [
    "## Normalization: Examples\n",
    "\n",
    "* $\\Omega = (\\lambda x.x ~x) ~(\\lambda x.x ~x)$ is \n",
    "  + Neither weakly or strongly normalising under full-beta, normal order, call-by-name and call-by-value reduction strategies.\n",
    "* $(\\lambda x.y) ~\\Omega$ is\n",
    "  + Weakly normalising but not strongly normalising under full beta reduction.\n",
    "  + Strongly normalises under normal order and call-by-name.\n",
    "  + Does not normalise under call-by-value."
   ]
  },
  {
   "cell_type": "code",
   "execution_count": null,
   "metadata": {
    "slideshow": {
     "slide_type": "slide"
    }
   },
   "outputs": [],
   "source": [
    "eval_normal ~log:true \"(\\\\x.y) ((\\\\x.x x) (\\\\x.x x))\""
   ]
  },
  {
   "cell_type": "code",
   "execution_count": null,
   "metadata": {},
   "outputs": [],
   "source": [
    "eval_cbn ~log:true \"(\\\\x.y) ((\\\\x.x x) (\\\\x.x x))\""
   ]
  },
  {
   "cell_type": "code",
   "execution_count": null,
   "metadata": {
    "slideshow": {
     "slide_type": "slide"
    }
   },
   "outputs": [],
   "source": [
    "eval_cbv ~log:true \"(\\\\x.y) ((\\\\x.x x) (\\\\x.x x))\""
   ]
  },
  {
   "cell_type": "markdown",
   "metadata": {
    "slideshow": {
     "slide_type": "slide"
    }
   },
   "source": [
    "## Normalization: Examples\n",
    "\n",
    "* $\\lambda x.x$ is strongly normalising\n",
    "  + Every beta-normal form is strongly normalising.\n",
    "* $(\\lambda x.y) ~((\\lambda x.x) ~(\\lambda x.x))$ is\n",
    "  + Strongly normalising under full-beta, normal order, call-by-name and call-by-value."
   ]
  },
  {
   "cell_type": "code",
   "execution_count": null,
   "metadata": {
    "slideshow": {
     "slide_type": "slide"
    }
   },
   "outputs": [],
   "source": [
    "eval_cbv ~log:true \"(\\\\x.y) ((\\\\x.x) (\\\\x.x))\""
   ]
  },
  {
   "cell_type": "code",
   "execution_count": null,
   "metadata": {
    "slideshow": {
     "slide_type": "fragment"
    }
   },
   "outputs": [],
   "source": [
    "eval_cbn ~log:true \"(\\\\x.y) ((\\\\x.x) (\\\\x.x))\""
   ]
  },
  {
   "cell_type": "code",
   "execution_count": null,
   "metadata": {
    "slideshow": {
     "slide_type": "fragment"
    }
   },
   "outputs": [],
   "source": [
    "eval_normal ~log:true \"(\\\\x.y) ((\\\\x.x) (\\\\x.x))\""
   ]
  },
  {
   "cell_type": "markdown",
   "metadata": {
    "slideshow": {
     "slide_type": "slide"
    }
   },
   "source": [
    "## Extensionality\n",
    "\n",
    "* Is β-equivalence the best notion of \"equality\" between λ-terms?\n",
    "  + We do not have $(\\lambda x. f ~x) =_{\\beta} f$.\n",
    "  + But, $(\\lambda x. f ~x) ~M =_{\\beta} f~M$, for any $M$."
   ]
  },
  {
   "cell_type": "markdown",
   "metadata": {
    "slideshow": {
     "slide_type": "fragment"
    }
   },
   "source": [
    "Add $\\eta$-equivalence\n",
    "\n",
    "\\\\[\n",
    "\\inferrule{x \\notin FV(M)}{\\lambda x.M~x =_{\\eta} M}\n",
    "\\\\]\n",
    "\n",
    "$\\beta\\eta$-equivalence captures equality of lambda terms nicely."
   ]
  },
  {
   "cell_type": "markdown",
   "metadata": {
    "slideshow": {
     "slide_type": "slide"
    }
   },
   "source": [
    "## 𝜂-reduction\n",
    "\n",
    "\\\\[\n",
    "\\inferrule{x \\notin FV(M)}{\\lambda x.M~x \\rightarrow_{\\eta} M} \\color{red} \\textrm{[ETA]}\n",
    "\\\\]\n"
   ]
  },
  {
   "cell_type": "markdown",
   "metadata": {
    "slideshow": {
     "slide_type": "fragment"
    }
   },
   "source": [
    "For $\\beta \\eta$-reduction, add the [ETA] rule along with the other $\\beta$-reduction rules.\n",
    "\n",
    "A lambda term is in $\\beta \\eta$-normal form if none of the rules for $\\beta \\eta$-reduction can be applied.\n",
    "\n",
    "$M_1 =_{\\beta \\eta} M_2$ iff there exists $M_1'$ and $M_2'$ such that $M_1 \\rightarrow_{\\beta \\eta}^* M_1'$ and $M_2 \\rightarrow_{\\beta \\eta}^* M_2'$ and $M_1' =_\\alpha M_2'$."
   ]
  },
  {
   "cell_type": "markdown",
   "metadata": {
    "slideshow": {
     "slide_type": "slide"
    }
   },
   "source": [
    "We have applied this rule informally throughout the class in our OCaml examples.\n",
    "\n",
    "```ocaml\n",
    "let is_zero x = (x = 0) in\n",
    "List.map (fun x -> is_zero x) l\n",
    "```\n",
    "\n",
    "equivalent to\n",
    "\n",
    "```ocaml\n",
    "let is_zero x = (x = 0) in\n",
    "List.map is_zero l\n",
    "```"
   ]
  }
 ],
 "metadata": {
  "celltoolbar": "Slideshow",
  "kernelspec": {
   "display_name": "OCaml 4.10",
   "language": "OCaml",
   "name": "ocaml-jupyter"
  },
  "language_info": {
   "codemirror_mode": "text/x-ocaml",
   "file_extension": ".ml",
   "mimetype": "text/x-ocaml",
   "name": "OCaml",
   "nbconverter_exporter": null,
   "pygments_lexer": "OCaml",
   "version": "4.10.0"
  }
 },
 "nbformat": 4,
 "nbformat_minor": 2
}
