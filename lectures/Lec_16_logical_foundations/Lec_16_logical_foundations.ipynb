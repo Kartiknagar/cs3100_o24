{
 "cells": [
  {
   "cell_type": "markdown",
   "metadata": {
    "slideshow": {
     "slide_type": "slide"
    }
   },
   "source": [
    "<center>\n",
    "\n",
    "<h1> Logical Foundations </h1>\n",
    "</center>"
   ]
  },
  {
   "cell_type": "markdown",
   "metadata": {
    "slideshow": {
     "slide_type": "slide"
    }
   },
   "source": [
    "## Review\n",
    "\n",
    "### Previously\n",
    "\n",
    "* Prolog basics\n",
    "\n",
    "### This lecture\n",
    "\n",
    "* Logical foundations of prolog\n",
    "  + First-order logic\n",
    "    * Syntax, Semantics and properties\n",
    "  + Definite Clause programs\n",
    "    * Syntax, semantics, connection to prolog, SLD resolution\n",
    "* Learning Goal:\n",
    "  + Understand where Prolog comes from."
   ]
  },
  {
   "cell_type": "markdown",
   "metadata": {
    "slideshow": {
     "slide_type": "slide"
    }
   },
   "source": [
    "## First-order logic\n",
    "\n",
    "Terms and functions:\n",
    "\n",
    "\\\\[\n",
    "\\begin{array}{rcl}\n",
    "\\text{term} & := & \\text{constant} ~\\mid~ \\text{variable} ~\\mid~ \\text{functions} \\\\\n",
    "\\text{functions} & := & f(t1,t2,...,tn) \\\\\n",
    "          &    & \\quad \\text{where f is a function symbol.} \\\\\n",
    "          &    & \\quad \\text{where t1,t2... are terms.}\n",
    "\\end{array}\n",
    "\\\\]\n",
    " \n",
    "$\n",
    "\\newcommand{\\s}[1]{\\text{s}(#1)}\n",
    "\\newcommand{\\mul}[2]{\\text{mul}(#1,#2)}\n",
    "\\newcommand{\\square}[1]{\\text{square}(#1)}\n",
    "%\n",
    "\\newcommand{\\even}[1]{\\text{even}(#1)}\n",
    "\\newcommand{\\odd}[1]{\\text{odd}(#1)}\n",
    "\\newcommand{\\prime}[1]{\\text{prime}(#1)}\n",
    "\\newcommand{\\composite}[1]{\\text{composite}(#1)}\n",
    "\\newcommand{\\divides}[2]{\\text{divides}(#1,#2)}\n",
    "\\newcommand{\\gt}[2]{\\text{gt}(#1,#2)}\n",
    "\\newcommand{\\le}[2]{\\text{le}(#1,#2)}\n",
    "$"
   ]
  },
  {
   "cell_type": "markdown",
   "metadata": {
    "slideshow": {
     "slide_type": "slide"
    }
   },
   "source": [
    "## Natural numbers\n",
    "\n",
    "Consider the terms for encoding natural numbers $\\mathbb{N}$.\n",
    "\n",
    "* **Constant:** Let $z$ be $0$.\n",
    "* **Functions**: Given the natural numbers $x$ and $y$, let the function \n",
    "  + $\\s{x}$ represent the successor of $x$\n",
    "  + $\\mul{x}{y}$ represent the product of $x$ and $y$.\n",
    "  + $\\square{x}$ represent the square of $x$."
   ]
  },
  {
   "cell_type": "markdown",
   "metadata": {
    "slideshow": {
     "slide_type": "slide"
    }
   },
   "source": [
    "## First-order logic\n",
    "\n",
    "\\\\[\n",
    "\\begin{array}{rcl}\n",
    "t \\in \\text{term} & := & \\text{constant} ~\\mid~ \\text{variable} ~\\mid~ \\text{functions} \\\\ \\\\\n",
    "F,G \\in \\text{formulas} & :=   & p(t_1,\\ldots,t_n) \\quad \\text{where } p \\text{ is the predicate symbol} \\\\\n",
    "                 & \\mid & \\neg F \\mid F ~\\wedge~ G \\mid F ~\\vee~ G \\mid F \\rightarrow G \\mid F \\leftrightarrow G \\\\\n",
    "                 & \\mid & \\forall X.F \\mid \\exists X.G \\quad \\text{where } X \\text{ is a variable}\n",
    "\\end{array}\n",
    "\\\\]"
   ]
  },
  {
   "cell_type": "markdown",
   "metadata": {
    "slideshow": {
     "slide_type": "slide"
    }
   },
   "source": [
    "## Predicates on natural numbers\n",
    "\n",
    "* $\\even{x}$ - the natural number $x$ is even.\n",
    "* $\\odd{x}$ - the natural number $x$ is odd.\n",
    "* $\\prime{x}$ - the natural number $x$ is prime.\n",
    "* $\\divides{x}{y}$ - the natural number $x$ divides $y$.\n",
    "* $\\le{x}{y}$ - the natural number $x$ is less than or equal to $y$\n",
    "* $\\gt{x}{y}$ - the natural number $x$ is greater than $y$. "
   ]
  },
  {
   "cell_type": "markdown",
   "metadata": {
    "slideshow": {
     "slide_type": "slide"
    }
   },
   "source": [
    "## Precedence\n",
    "\n",
    "From strongest to weakest\n",
    "\n",
    "1. $\\neg$\n",
    "2. $\\vee$\n",
    "3. $\\wedge$\n",
    "4. $\\rightarrow, \\leftrightarrow$\n",
    "5. $\\forall, \\exists$"
   ]
  },
  {
   "cell_type": "markdown",
   "metadata": {
    "slideshow": {
     "slide_type": "slide"
    }
   },
   "source": [
    "## Precedence\n",
    "\n",
    "Hence,\n",
    "\n",
    "\\\\[\n",
    "\\neg b ~\\wedge~ c \\rightarrow a\n",
    "\\\\]\n",
    "\n",
    "is equivalent to\n",
    "\n",
    "\n",
    "\\\\[\n",
    "((\\neg b) ~\\wedge~ c) \\rightarrow a)\n",
    "\\\\]\n"
   ]
  },
  {
   "cell_type": "markdown",
   "metadata": {
    "slideshow": {
     "slide_type": "slide"
    }
   },
   "source": [
    "## Some statements on natural numbers\n",
    "\n",
    "* Every natural number is even or odd, but not both.\n",
    "  + $\\forall x. (\\even{x}~\\vee~ \\odd{x}) \\wedge \\neg(\\even{x} ~\\wedge~ \\odd{x})$\n",
    "* A natural number is even if and only if it is divisible by two.\n",
    "  + $\\forall x. \\even{x} \\leftrightarrow \\divides{2}{x}$\n",
    "* If some natural number, $x$, is even, then so is $x^2$.\n",
    "  + $\\forall x. \\even{x} \\rightarrow \\even{\\square{x}}$"
   ]
  },
  {
   "cell_type": "markdown",
   "metadata": {
    "slideshow": {
     "slide_type": "slide"
    }
   },
   "source": [
    "## Some statements on natural numbers.\n",
    "\n",
    "* There exists an odd composite (not prime) number.\n",
    "  + $\\exists x. \\odd{x} ~\\wedge~ \\composite{x}$\n",
    "* Every natural number greater than one has a prime divisor.\n",
    "  + $\\forall x. \\gt{x}{\\s{z}} \\rightarrow (\\exists p. \\prime{p} ~\\wedge~ \\divides{p}{x})$"
   ]
  },
  {
   "cell_type": "markdown",
   "metadata": {
    "slideshow": {
     "slide_type": "slide"
    }
   },
   "source": [
    "## Logical Equivalences\n",
    "\n",
    "\\\\[\n",
    "\\begin{array}{rcl}\n",
    "\\neg \\neg f & \\equiv & f \\\\\n",
    "f \\rightarrow g & \\equiv & \\neg f \\vee g \\\\\n",
    "f \\leftrightarrow g & \\equiv & (f \\rightarrow g) \\wedge (g \\rightarrow f)\\\\\n",
    "\\neg (f \\vee g) & \\equiv & \\neg f \\wedge \\neg g \\\\\n",
    "\\neg (f \\wedge g) & \\equiv & \\neg f \\vee \\neg g \\\\\n",
    "\\neg \\forall x. f(x) & \\equiv & \\exists x. \\neg f(x) \\\\\n",
    "\\neg \\exists x. f(x) & \\equiv & \\forall x. \\neg f(x) \\\\\n",
    "\\end{array}\n",
    "\\\\]"
   ]
  },
  {
   "cell_type": "markdown",
   "metadata": {
    "slideshow": {
     "slide_type": "slide"
    }
   },
   "source": [
    "## Logical Equivalences\n",
    "\n",
    "\\\\[\n",
    "\\begin{array}{rcl}\n",
    "\\forall x.(f(x) \\wedge g(x)) & \\equiv & (\\forall x.f(x)) \\wedge (\\forall x.g(x)) \\\\\n",
    "\\forall x.(f(x) \\vee g(x)) & \\not \\equiv & (\\forall x.f(x)) \\vee (\\forall x.g(x)) \\\\\n",
    "\\end{array}\n",
    "\\\\]\n",
    "\n",
    "Pick $f$ as $even$ and $g$ as $odd$.\n",
    "\n",
    "\\\\[\n",
    "\\begin{array}{rcl}\n",
    "\\forall x.(\\even{x} \\vee \\odd{x}) & \\not \\equiv & (\\forall x.\\even{x}) \\vee (\\forall x.\\odd{x}) \\\\\n",
    "\\end{array}\n",
    "\\\\]\n",
    "\n",
    "LHS is valid, RHS is not."
   ]
  },
  {
   "cell_type": "markdown",
   "metadata": {
    "slideshow": {
     "slide_type": "slide"
    }
   },
   "source": [
    "## Logical Equivalences\n",
    "\n",
    "\\\\[\n",
    "\\begin{array}{rcl}\n",
    "\\exists x.(f(x) \\vee g(x)) & \\equiv & (\\exists x.f(x)) \\vee (\\exists x.g(x)) \\\\\n",
    "\\exists x.(f(x) \\wedge g(x)) & \\not \\equiv & (\\exists x.f(x)) \\wedge (\\exists x.g(x)) \\\\\n",
    "\\end{array}\n",
    "\\\\]\n",
    "\n",
    "Pick $f$ as $even$ and $g$ as $odd$.\n",
    "\n",
    "\\\\[\n",
    "\\begin{array}{rcl}\n",
    "\\exists x.(\\even{x} \\wedge \\odd{x}) & \\not \\equiv & (\\exists x.\\even{x}) \\wedge (\\exists x.\\odd{x}) \\\\\n",
    "\\end{array}\n",
    "\\\\]\n",
    "\n",
    "RHS is valid, LHS is not."
   ]
  },
  {
   "cell_type": "markdown",
   "metadata": {
    "slideshow": {
     "slide_type": "slide"
    }
   },
   "source": [
    "## Definition: Interpretation\n",
    "\n",
    "* What we have seen so far is the syntax of first-order logic.\n",
    "  + **Semantics = meaning** of first-order logic formulas.\n",
    "* Given an alphabet $A$ from which terms are drawn from and a domain $\\mathcal{D}$, an **interpretation** maps:\n",
    "  + each constant $c \\in A$ to an element in $\\mathcal{D}$\n",
    "  + each $n$-ary function $f \\in A$ to a function $\\mathcal{D}^n \\rightarrow \\mathcal{D}$\n",
    "  + each $n$-ary predicate $p \\in A$ to a relation $D_1 \\times \\ldots \\times D_n$"
   ]
  },
  {
   "cell_type": "markdown",
   "metadata": {
    "slideshow": {
     "slide_type": "slide"
    }
   },
   "source": [
    "## Interpretation\n",
    "\n",
    "For our running example, choose the domain of natural numbers $\\mathbb{N}$ with\n",
    "\n",
    "* The constant $z$ maps to $0$.\n",
    "* The function $\\s{x}$ maps to the function $\\s{x} = x+1$\n",
    "* The predicate $~\\text{le}~$ maps to the relation $\\leq$"
   ]
  },
  {
   "cell_type": "markdown",
   "metadata": {
    "slideshow": {
     "slide_type": "slide"
    }
   },
   "source": [
    "## Definition: Models\n",
    "\n",
    "* A **model** for a set of first-order logic formulas is equivalent to the assignment to truth variables in propositional logic.\n",
    "  + $A \\wedge B$ is _satisfiable_ with $A = true$ and $B = true$.\n",
    "* An interpretation $M$ for a set of first-order logic formulas $P$ is a _model_ for $P$ iff every formula of $P$ is true in $M$.\n",
    "* If $M$ is a model for $f$, we write $M \\models f$, which is read as \"models\" or \"satisfies\".\n"
   ]
  },
  {
   "cell_type": "markdown",
   "metadata": {
    "slideshow": {
     "slide_type": "slide"
    }
   },
   "source": [
    "## Models\n",
    "\n",
    "Take $f = \\forall y.\\le{z}{y}$. The following are models for $f$\n",
    "\n",
    "* Domain $\\mathbb{N}$, $z$ maps to $0$, $\\s{x}$ maps to $\\s{x} = x + 1$ and $~\\text{le}~$ maps to $\\leq$.\n",
    "* Domain $\\mathbb{N}$, $z$ maps to $0$, $\\s{x}$ maps to $\\s{x} = x + 2$ and $~\\text{le}~$ maps to $\\leq$.\n",
    "* Domain $\\mathbb{N}$, $z$ maps to $0$, $\\s{x}$ maps to $\\s{x} = x$ and $~\\text{le}~$ maps to $\\leq$."
   ]
  },
  {
   "cell_type": "markdown",
   "metadata": {
    "slideshow": {
     "slide_type": "slide"
    }
   },
   "source": [
    "## Models\n",
    "\n",
    "Take $f = \\forall y.\\le{z}{y}$. The following are **not** models for $f$\n",
    "\n",
    "* The integer domain $\\mathbb{Z}$, $z$ maps to $0$, $\\s{x}$ maps to $\\s{x} = x + 1$ and $~\\text{le}~$ maps to $\\leq$.\n",
    "  + $\\forall y \\in \\mathbb{Z}. 0 \\leq y$ does not hold; pick $y = -1$. \n",
    "* Domain $\\mathbb{N}$, $z$ maps to $0$, $\\s{x}$ maps to $\\s{x} = x + 1$ and $~\\text{le}~$ maps to $\\geq$\n",
    "  + $\\forall y \\in \\mathbb{N}. 0 \\geq y$ does not hold; pick $y = 1$."
   ]
  },
  {
   "cell_type": "markdown",
   "metadata": {
    "slideshow": {
     "slide_type": "slide"
    }
   },
   "source": [
    "## Quiz\n",
    "\n",
    "Which of these interpretations are models of $f= \\forall y.le(z,y)$?\n",
    "\n",
    "1. Domain $\\mathbb{N} \\setminus \\{0\\}$, $z$ maps to 1, $s(x)$ maps to $s(x) = x+1$ and le maps to $\\leq$.\n",
    "2. Domain $\\mathbb{N} \\setminus \\{0\\}$, $z$ maps to 1, $s(x)$ maps to $s(x) = x*2$ and le maps to $\\leq$.\n",
    "3. Domain $\\mathbb{N}$, $z$ maps to 0, $s(x)$ maps to $s(x) = x + 1$ and le maps to $<$."
   ]
  },
  {
   "cell_type": "markdown",
   "metadata": {
    "slideshow": {
     "slide_type": "slide"
    }
   },
   "source": [
    "## Quiz\n",
    "\n",
    "Which of these interpretations are models of $f= \\forall y.le(z,y)$?\n",
    "\n",
    "1. Domain $\\mathbb{N} \\setminus \\{0\\}$, $z$ maps to 1, $s(x)$ maps to $s(x) = x+1$ and le maps to $\\leq$. **yes**\n",
    "2. Domain $\\mathbb{N} \\setminus \\{0\\}$, $z$ maps to 1, $s(x)$ maps to $s(x) = x*2$ and le maps to $\\leq$. **yes**\n",
    "3. Domain $\\mathbb{N}$, $z$ maps to 0, $s(x)$ maps to $s(x) = x + 1$ and le maps to $<$. **no**"
   ]
  },
  {
   "cell_type": "markdown",
   "metadata": {
    "slideshow": {
     "slide_type": "slide"
    }
   },
   "source": [
    "## Models\n",
    "\n",
    "* A set of formulas $P$ is said to be **satisfiable** if there is a model $M$ for $P$.\n",
    "* Some formulas do not have models. Easiest one is $f \\wedge \\neg f$\n",
    "  + Such (set of) formulas are said to be **unsatisfiable**."
   ]
  },
  {
   "cell_type": "markdown",
   "metadata": {
    "slideshow": {
     "slide_type": "slide"
    }
   },
   "source": [
    "## Definition: Validity \n",
    "  \n",
    "A formula $f$ is said to be **valid**, if it is true in every model (written as $\\models f$).\n",
    "\n",
    "_Validity_ of $f$ is usually proved by showing that $\\neg f$ is _unsatisfiable_.\n",
    "\n",
    "**Theorem:** It is undecidable whether a given first-order logic formula $f$ is **valid**."
   ]
  },
  {
   "cell_type": "markdown",
   "metadata": {
    "slideshow": {
     "slide_type": "slide"
    }
   },
   "source": [
    "## Can we do better?\n",
    "\n",
    "* Clearly, the full first-order logic is not a practical model for computation as it is undecidable. \n",
    "  + How can we do better?\n",
    "* Restrict the language such that the language is **semi-decidable**."
   ]
  },
  {
   "cell_type": "markdown",
   "metadata": {
    "slideshow": {
     "slide_type": "slide"
    }
   },
   "source": [
    "## Definition: Semi-decidability\n",
    "\n",
    "* A language $L$ is said to be **decidable** if there exists a turing machine that \n",
    "  + accepts every string in L and\n",
    "  + rejects every string not in L\n",
    "* A language $L$ is said to be **semi-decidable** if there exists a turing machine that\n",
    "  + accepts every string in L and\n",
    "  + for every string not in L, rejects it or loops forever."
   ]
  },
  {
   "cell_type": "markdown",
   "metadata": {
    "slideshow": {
     "slide_type": "slide"
    }
   },
   "source": [
    "## Definite logic programs\n",
    "\n",
    "* Definite clauses are such a restriction on first-order logic that is semi-decidable. \n",
    "* Prolog is basically programming with definite clauses. \n",
    "* In order to define definite clauses formally, we need some auxiliary definitions."
   ]
  },
  {
   "cell_type": "markdown",
   "metadata": {
    "slideshow": {
     "slide_type": "slide"
    }
   },
   "source": [
    "## Definition: Clauses\n",
    "\n",
    "* An **atomic formula** is a formula without connectives.\n",
    "  + $\\even{x}$ and $\\prime{x}$ \n",
    "  + but not $\\neg \\even{x}$, $\\even{x} \\vee \\prime{y}$\n",
    "* A **clause** is a first-order logic formula of the form $\\forall(L_1 \\vee \\ldots \\vee L_n)$, where every $L_i$ is an atomic formula (a postive literal) or the negation of an atomic formula (a negative literal)."
   ]
  },
  {
   "cell_type": "markdown",
   "metadata": {
    "slideshow": {
     "slide_type": "slide"
    }
   },
   "source": [
    "## Definition: Definite clauses\n",
    "\n",
    "* A **definite clause** is a clause with exactly one positive literal.\n",
    "  + $\\forall(A_0 \\vee \\neg A_1 \\ldots \\vee \\neg A_n)$\n",
    "  + Usually written down as, $A_0 \\leftarrow A_1 \\wedge \\ldots \\wedge A_n$, for $n \\geq 0$.\n",
    "  + or more simply, $A_0 \\leftarrow A_1, \\ldots, A_n$, for $n \\geq 0$.\n",
    "* A **definite program** is a finite set of definite clauses."
   ]
  },
  {
   "cell_type": "markdown",
   "metadata": {
    "slideshow": {
     "slide_type": "slide"
    }
   },
   "source": [
    "## Definite Clauses and Prolog\n",
    "\n",
    "* Prolog facts are definite clauses with no negative literals.\n",
    "  + The prolog fact `even(z)` is equivalent to \n",
    "  + the definite clause $\\even{z} \\leftarrow \\top$, where $\\top$ stands for true. \n",
    "* Prolog rules are definite clauses.\n",
    "  + The prolog rule `ancestor(X,Y) :- parent(X,Z), ancestor(Z,Y)` is equivalent to \n",
    "  + the definite clause $\\forall x,y,z. \\text{ancestor}(x,y) \\leftarrow \\text{parent}(x,z) ~\\wedge~ \\text{ancestor}(z,y)$\n",
    "  + which is equivalent to, $\\forall x,y. \\text{ancestor}(x,y) \\leftarrow \\exists z. \\text{parent}(x,z) ~\\wedge~ \\text{ancestor}(z,y)$"
   ]
  },
  {
   "cell_type": "markdown",
   "metadata": {
    "slideshow": {
     "slide_type": "slide"
    }
   },
   "source": [
    "## Consistency of Definite Clause Programs\n",
    "\n",
    "* Every definite clause program has a model!\n",
    "  + Every definite clause program is consistent.\n",
    "* Proof sketch\n",
    "  + there is no way to encode negative information in definite clause programs.\n",
    "    - Cannot encode \"1 is _not_ an even number\"\n",
    "  + Hence, there is no way to construct an inconsistent system (such as $f \\wedge \\neg f$).\n",
    "    - \"1 is an even number\" and \"1 is _not_ an even number\"\n",
    "  + Therefore, every definite clause program has a model."
   ]
  },
  {
   "cell_type": "markdown",
   "metadata": {
    "slideshow": {
     "slide_type": "slide"
    }
   },
   "source": [
    "## Models for Logic Programs\n",
    "\n",
    "* Every definite clause program has a model\n",
    "  + How do we compute this model?"
   ]
  },
  {
   "cell_type": "markdown",
   "metadata": {
    "slideshow": {
     "slide_type": "slide"
    }
   },
   "source": [
    "## Why should we compute the model?\n",
    "\n",
    "**Models:First-order logic :: Satisfying Assigments:Propositional logic**.\n",
    "\n",
    "Given the logic program:\n",
    "```prolog\n",
    "father(ned,robb).\n",
    "parent(X,Y) :- father(X,Y).\n",
    "ancestor(X,Y) :- parent(X,Y).\n",
    "ancestor(X,Y) :- parent(X,Z), ancestor(Z,Y).\n",
    "```\n",
    "The model of this program gives us assignments to `X` that satisfy the query \n",
    "```prolog\n",
    "?- ancestor(ned,X).\n",
    "```"
   ]
  },
  {
   "cell_type": "markdown",
   "metadata": {
    "slideshow": {
     "slide_type": "slide"
    }
   },
   "source": [
    "## How do we compute models of definite clause programs?\n",
    "\n",
    "<center>\n",
    "    <h3> In general, there are infinite number of models for any definite clause program.</h3> \n",
    "    <h3> We will define a \"canonical\" model using the alphabet of the program itself. </h3>\n",
    "</center>"
   ]
  },
  {
   "cell_type": "markdown",
   "metadata": {
    "slideshow": {
     "slide_type": "slide"
    }
   },
   "source": [
    "## Definition: Herbrand Universe\n",
    "\n",
    "Given a logic program $P$, the Herbrand universe of the logic program $U(P)$ is the set of all terms that can be formed from the constants and function symbols in $P$. \n",
    "\n",
    "For our encoding of natural numbers, with the constant $z$ and the function $s(x)$, the Herbrand universe is $\\{z,s(z),s(s(z)),\\ldots\\}$.\n",
    "  \n",
    "* If there are no function symbols, the Herbrand universe is finite.\n",
    "* If there are no constants, add an arbitrary constant to form the Herbrand universe."
   ]
  },
  {
   "cell_type": "markdown",
   "metadata": {
    "slideshow": {
     "slide_type": "slide"
    }
   },
   "source": [
    "## Definition: Herbrand Base\n",
    "\n",
    "* The Herbrand base, denoted by $B(P)$ is the set of all atomic formulae that can be formed from the predicates in $P$ and the terms of the Herbrand universe.\n",
    "* For our encoding of natural numbers, consider a program $P$, such that $\\even{x}$ is the only predicate in $P$.\n",
    "  + Then, $B(P) = \\{\\even{z},\\even{s(z)},\\ldots\\}$.\n",
    "* Herbrand base is infinite if Herbrand universe is."
   ]
  },
  {
   "cell_type": "markdown",
   "metadata": {
    "slideshow": {
     "slide_type": "slide"
    }
   },
   "source": [
    "## Herbrand Interpretation\n",
    "\n",
    "* The domain is the Herbrand Universe.\n",
    "* A constant $c$ in the alphabet maps to $c$ in the domain.\n",
    "* A function $f$ of arity $n$ maps elements $x_1,\\ldots, x_n$ in the domain to the element $f(x_1,\\ldots,x_n)$\n",
    "* A predicate $p$ is mapped to a subset of the Herbrand base for $p$.\n",
    "  + Recall that the Herbrand base for $p$ will be the set of all atomic formulae obtained by applying $p$ on terms of the Herbrand universe.\n",
    "## Thus, all Herbrand interpretations will have the same mapping for constants and functions"
   ]
  },
  {
   "cell_type": "markdown",
   "metadata": {
    "slideshow": {
     "slide_type": "slide"
    }
   },
   "source": [
    "## Definition: Herbrand model\n",
    "\n",
    "**Model:** A Herbrand interpretation $M$ of a logic program $P$ is defined to be a Herbrand model if for all _instantiations_ of the definite clause $A \\leftarrow B_1, B_2, \\ldots, B_n$ in $P$, if $B_1$ to $B_n$ belongs to $M$, then $A$ belongs to $M$.\n",
    "\n",
    "A instantiation of a formula is where all the variables are instantiated to terms from the interpretation.\n"
   ]
  },
  {
   "cell_type": "markdown",
   "metadata": {
    "slideshow": {
     "slide_type": "fragment"
    }
   },
   "source": [
    "Let the logic progam be\n",
    "\n",
    "```prolog\n",
    "even(z).\n",
    "even(s(s(X)) :- even(X).\n",
    "```\n",
    "\n",
    "A Herbrand model of this program includes $\\{\\even{z},\\even{s(s(z))},\\ldots\\}$.\n",
    "\n",
    "On the other hand, $\\{even(z)\\}$ is not a Herbrand model of this program."
   ]
  },
  {
   "cell_type": "markdown",
   "metadata": {
    "slideshow": {
     "slide_type": "slide"
    }
   },
   "source": [
    "## Herbrand Model\n",
    "\n",
    "* But a Herbrand model may also include elements from $S = \\{\\even{s(z)}, \\even{s(s(s(z)))},\\ldots\\}$.\n",
    "* Observations\n",
    "  + Herbrand base of a definite program P always is a Herbrand model of P.\n",
    "  + There may be infinite number of Herbrand models if the Herbrand base is infinite. "
   ]
  },
  {
   "cell_type": "markdown",
   "metadata": {
    "slideshow": {
     "slide_type": "slide"
    }
   },
   "source": [
    "## Least Herbrand Model\n",
    "\n",
    "* Hence, we define a Least Herbrand model, which is the intersection of every Herbrand model.\n",
    "  + Least Herbrand Model does not include elements from $S$.\n",
    "* Least Herbrand Model **precisely** defines the declarative meaning of the logic program.\n",
    "  + Every logic program has a least Herbrand model."
   ]
  },
  {
   "cell_type": "markdown",
   "metadata": {
    "slideshow": {
     "slide_type": "slide"
    }
   },
   "source": [
    "## Quiz\n",
    "\n",
    "Given a program $P$ with constants `robb`, `rickard` and `ned`, predicates `father/2` and `ancestor/2`, and facts `father(rickard,ned)` and `father(ned,robb)`, and rules `ancestor(X,Y) :- father(X,Y)` and `ancestor(X,Y) :- father(X,Z), ancestor(Z,Y)` which of these statements are true?\n",
    "1. Herbrand Universe $U(P)$ is infinite. \n",
    "2. Herbrand Base $B(P)$ is finite. \n",
    "3. `father(ancestor(robb))` $\\in B(P)$.\n",
    "4. $\\exists M$ such that `father(ned,ned)` $\\in M$, where $M$ is a Herbrand model of the program. \n",
    "5. $\\exists M$ such that `father(ned,ned)` $\\in M$, where $M$ is the least Herbrand model of the program."
   ]
  },
  {
   "cell_type": "markdown",
   "metadata": {
    "slideshow": {
     "slide_type": "slide"
    }
   },
   "source": [
    "## Quiz\n",
    "\n",
    "Given a language $P$ with constants `robb`, `rickard` and `ned`, predicates `father/2` and `ancestor/2`, and facts `father(rickard,ned)` and `father(ned,robb)`, and rules `ancestor(X,Y) :- father(X,Y)` and `ancestor(X,Y) :- father(X,Z), ancestor(Z,Y)` which of these statements are true?\n",
    "\n",
    "1. Herbrand Universe $U(P)$ is infinite. **false (no functions)**\n",
    "2. Herbrand Base $B(P)$ is finite. **true (no functions)**\n",
    "3. `father(ancestor(robb))` $\\in B(P)$. **false (arity mismatch)**\n",
    "4. $\\exists M$ such that `father(ned,ned)` $\\in M$, where $M$ is a Herbrand model of the program. **true**\n",
    "5. $\\exists M$ such that `father(ned,ned)` $\\in M$, where $M$ is the least Herbrand model of the program. **false**"
   ]
  },
  {
   "cell_type": "markdown",
   "metadata": {
    "slideshow": {
     "slide_type": "slide"
    }
   },
   "source": [
    "## Answering Prolog Queries\n",
    "\n",
    "* Least Herbrand Model is only used to discuss semantics\n",
    "  + We don't compute the Least Herbrand Model to answer queries.\n",
    "* How does prolog compute the answers to queries?"
   ]
  },
  {
   "cell_type": "markdown",
   "metadata": {
    "slideshow": {
     "slide_type": "slide"
    }
   },
   "source": [
    "## SLD Resolution\n",
    "\n",
    "* Prolog uses SLD resolution for computing answers to queries w.r.t. the Least Herbrand Model\n",
    "  + SLD = Selective Linear Resolution with Definite Clauses.\n",
    "* SLD is a semi-decidable decision procedure.\n",
    "  + Prolog has non-termination!\n",
    "  + If the query is satisfiable, Prolog will definitely terminate.\n",
    "  + If the query is unsatisfiable, Prolog may not terminate."
   ]
  },
  {
   "cell_type": "markdown",
   "metadata": {
    "slideshow": {
     "slide_type": "slide"
    }
   },
   "source": [
    "## Inference rules\n",
    "\n",
    "\\\\[\n",
    "\\begin{array}{cccc}\n",
    "\\displaystyle{\\frac{f \\quad f \\rightarrow g}{g}} & (\\textrm{Modus Ponens}) &\n",
    "\\qquad \\displaystyle{\\frac{\\forall x. f(x)}{f(t)}} & (\\textrm{Instantiation}) \\\\ \\\\\n",
    "\\displaystyle{\\frac{f(t)}{\\exists x. f(x)}} &  (\\textrm{Generalization}) & \n",
    "\\end{array}\n",
    "\\\\]"
   ]
  },
  {
   "cell_type": "markdown",
   "metadata": {
    "slideshow": {
     "slide_type": "slide"
    }
   },
   "source": [
    "## SLD Resolution example\n",
    "\n",
    "```prolog\n",
    "father(rickard,ned).\n",
    "father(rickard,brandon).\n",
    "father(rickard,lyanna).\n",
    "father(ned,robb).\n",
    "father(ned,sansa).\n",
    "father(ned,arya).\n",
    "parent(X,Y) :- father(X,Y).\n",
    "ancestor(X,Y) :- parent(X,Y).\n",
    "ancestor(X,Y) :- parent(X,Z), ancestor(Z,Y).\n",
    "?- ancestor(rickard, robb).\n",
    "```"
   ]
  },
  {
   "cell_type": "markdown",
   "metadata": {
    "slideshow": {
     "slide_type": "slide"
    }
   },
   "source": [
    "## SLD Resolution example\n",
    "\n",
    "* Is $\\text{ancestor(rickard,robb)} \\in \\text{LeastHerbrandModel(P)}$?\n",
    "  + How can I derive `ancestor(rickard,robb)`?\n",
    "* I can see a rule `ancestor(X,Y) :- parent(X,Y)` which allows me to derive `ancestor(X,Y)`.\n",
    "  + the logical equivalent is, $\\forall x,y.ancestor(x,y) \\leftarrow parent(x,y)$.\n",
    "* **Deduce**: \n",
    "  + Apply *Instantiation* rule and pick $x = rickard$ and $y = robb$.\n",
    "  + Apply *Modus Ponens* rule on the result to get a new goal $parent(rickard,robb)$.\n",
    "* The original goal to derive `ancestor(rickard,robb)` has been replaced by the goal to derive `parent(rickard,robb)`. "
   ]
  },
  {
   "cell_type": "markdown",
   "metadata": {
    "slideshow": {
     "slide_type": "slide"
    }
   },
   "source": [
    "## SLD Resolution example\n",
    "\n",
    "* How can you derive `parent(rickard,robb)`?\n",
    "* Observe the rule `parent(X,Y) :- father(X,Y)`\n",
    "  + logical equivalent is $\\forall x,y. parent(x,y) \\leftarrow father(x,y)$.\n",
    "* **Deduce**: Apply rules *Instantiation* and *Modus Ponens*.\n",
    "* New goal: `father(rickard,robb)`.\n",
    "* No fact matches this goal!\n",
    "  + **Backtrack!**"
   ]
  },
  {
   "cell_type": "markdown",
   "metadata": {
    "slideshow": {
     "slide_type": "slide"
    }
   },
   "source": [
    "## SLD Resolution example\n",
    "\n",
    "* How can I derive `ancestor(rickard, robb)`?\n",
    "* Observe the rule `ancestor(X,Y) :- parent(X,Z), ancestor(Z,Y)`\n",
    "  + logical equivalent is $\\forall x,y,z. ancestor(x,y) \\leftarrow. parent(x,z) \\wedge ancestor(z,y)$\n",
    "* **Deduce**: Apply rules *Instantiation* and *Modus Ponens*\n",
    "* We get two new goals, `parent(rickard,Z)` and `ancestor(Z,robb)` where `Z` is the same variable."
   ]
  },
  {
   "cell_type": "markdown",
   "metadata": {
    "slideshow": {
     "slide_type": "slide"
    }
   },
   "source": [
    "## SLD Resolution example\n",
    "\n",
    "* The goal `parent(rickard,Z)` in turn leads to the goal `father(rickard,Z)`.\n",
    "  + The first rule `father(rickard,ned)` unifies with this goal with `Z = ned`.\n",
    "  + Hence, the first goal is proved.\n",
    "* The other goal is now specialised to `ancestor(ned,robb)`.\n",
    "* The second goal can now be proved as `ancestor(ned,robb)` $\\leftarrow$ `parent(ned,robb)` $\\leftarrow$ `father(ned,robb)`.\n",
    "  + We have a fact `father(ned,robb)`. Hence, proved."
   ]
  },
  {
   "cell_type": "markdown",
   "metadata": {
    "slideshow": {
     "slide_type": "slide"
    }
   },
   "source": [
    "## SLD Resolution example\n",
    "\n",
    "By deriving `q = ancestor(rickard,robb)` from the given program $P$, we have shown that $q \\in \\text{LeastHerbrandModel(P)}$. "
   ]
  },
  {
   "cell_type": "markdown",
   "metadata": {
    "slideshow": {
     "slide_type": "slide"
    }
   },
   "source": [
    "## Tracing in SWI-Prolog\n",
    "\n",
    "```\n",
    "father(rickard,ned).\n",
    "father(rickard,brandon).\n",
    "father(rickard,lyanna).\n",
    "father(ned,robb).\n",
    "father(ned,sansa).\n",
    "father(ned,arya).\n",
    "parent(X,Y) :- father(X,Y).\n",
    "ancestor(X,Y) :- parent(X,Y).\n",
    "ancestor(X,Y) :- parent(X,Z), ancestor(Z,Y).\n",
    "?- ancestor(rickard, robb).\n",
    "```"
   ]
  },
  {
   "cell_type": "markdown",
   "metadata": {
    "slideshow": {
     "slide_type": "slide"
    }
   },
   "source": [
    "# Tracing in SWI-Prolog\n",
    "\n",
    "<img src=\"images/swipl_1.png\"  width=\"350\">"
   ]
  },
  {
   "cell_type": "markdown",
   "metadata": {
    "slideshow": {
     "slide_type": "slide"
    }
   },
   "source": [
    "# Tracing in SWI-Prolog\n",
    "\n",
    "<img src=\"images/swipl_2.png\"  width=\"350\">"
   ]
  },
  {
   "cell_type": "markdown",
   "metadata": {
    "slideshow": {
     "slide_type": "slide"
    }
   },
   "source": [
    "## Computation is deduction\n",
    "\n",
    "* When a prolog program computes the result of the query, it is performing logical deduction through SLD resolution. \n",
    "* In our example,\n",
    "  1. We picked the clauses in the order they appear in the program\n",
    "  2. Did a depth-first search for proof\n",
    "  3. Given the conjunction of goals $g1 \\wedge g2$, chose to prove $g1$ first. \n",
    "* SWI-Prolog implementation has the same behaviour\n",
    "  + Other prolog implementation may choose different strategies: BFS instead of DFS, pick last conjunct in a conjunction of goals, etc."
   ]
  }
 ],
 "metadata": {
  "celltoolbar": "Slideshow",
  "kernelspec": {
   "display_name": "SWI-Prolog",
   "language": "",
   "name": "jswipl"
  },
  "language_info": {
   "mimetype": "text/plain",
   "name": "swipl"
  },
  "rise": {
   "scroll": true
  }
 },
 "nbformat": 4,
 "nbformat_minor": 2
}
