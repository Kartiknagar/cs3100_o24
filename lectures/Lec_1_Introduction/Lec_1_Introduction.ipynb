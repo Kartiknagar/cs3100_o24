{
 "cells": [
  {
   "cell_type": "markdown",
   "metadata": {
    "slideshow": {
     "slide_type": "slide"
    }
   },
   "source": [
    "<div style=\"text-align:center\">\n",
    "<h1> CS3100 Paradigms of Programming </h1>\n",
    "<h2> July-November 2024 </h2>\n",
    "<h2> Kartik Nagar </h2>\n",
    "</div>"
   ]
  },
  {
   "cell_type": "markdown",
   "metadata": {
    "slideshow": {
     "slide_type": "slide"
    }
   },
   "source": [
    "## What?\n",
    "\n",
    "<img src=\"images/paradigm.png\">\n",
    "\n",
    "**Paradigms of Programming:** Different patterns used in programming (languages)\n",
    "\n",
    "Recall that a programming language is just an artificial language designed to communicate instructions to a computer"
   ]
  },
  {
   "cell_type": "markdown",
   "metadata": {
    "slideshow": {
     "slide_type": "slide"
    }
   },
   "source": [
    "## Have you ever wondered\n",
    "\n",
    "* Why are there so many programming languages? (with new ones being continuously developed)"
   ]
  },
  {
   "cell_type": "markdown",
   "metadata": {
    "slideshow": {
     "slide_type": "fragment"
    }
   },
   "source": [
    "* What is the real differentiating factor between different programming languages? (We are not talking about syntactic differences)"
   ]
  },
  {
   "cell_type": "markdown",
   "metadata": {
    "slideshow": {
     "slide_type": "fragment"
    }
   },
   "source": [
    "* Why don't people just use assembly language?"
   ]
  },
  {
   "cell_type": "markdown",
   "metadata": {
    "slideshow": {
     "slide_type": "fragment"
    }
   },
   "source": [
    "* What are the \"must-have\" features for any programming languages?"
   ]
  },
  {
   "cell_type": "markdown",
   "metadata": {
    "slideshow": {
     "slide_type": "slide"
    }
   },
   "source": [
    "## Single instruction programming language\n",
    "\n",
    "```c\n",
    "subleq a, b, c   // *b = *b - *a\n",
    "                 // if (*b ≤ 0) goto c\n",
    "```"
   ]
  },
  {
   "cell_type": "markdown",
   "metadata": {
    "slideshow": {
     "slide_type": "fragment"
    }
   },
   "source": [
    "If the branch target is the next instruction, then drop the third argument.\n",
    "\n",
    "    subleq a, b\n",
    "    \n",
    "is equivalent to\n",
    "\n",
    "        subleq a, b, L1\n",
    "    L1: ..."
   ]
  },
  {
   "cell_type": "markdown",
   "metadata": {
    "slideshow": {
     "slide_type": "slide"
    }
   },
   "source": [
    "## What does this program do?\n",
    "\n",
    "```c\n",
    "// initially *Z = 0\n",
    "subleq a, Z\n",
    "subleq Z, b\n",
    "subleq Z, Z\n",
    "```"
   ]
  },
  {
   "cell_type": "markdown",
   "metadata": {
    "slideshow": {
     "slide_type": "slide"
    }
   },
   "source": [
    "## What does this program do?\n",
    "\n",
    "```c\n",
    "// initially *Z = 0\n",
    "subleq a, Z // *Z = *Z - *a \n",
    "            // *Z = -(*a)\n",
    "subleq Z, b // *b = *b - *Z\n",
    "            // *b = *b - (-*a) \n",
    "            // *b = *b + *a\n",
    "subleq Z, Z // *Z = *Z - *Z\n",
    "            // *Z = 0\n",
    "```"
   ]
  },
  {
   "cell_type": "markdown",
   "metadata": {
    "slideshow": {
     "slide_type": "fragment"
    }
   },
   "source": [
    "**Answer:** *b = *a + *b (Addition)"
   ]
  },
  {
   "cell_type": "markdown",
   "metadata": {
    "slideshow": {
     "slide_type": "slide"
    }
   },
   "source": [
    "## What does this program do?\n",
    "\n",
    "```c\n",
    "// initially *Z = 0\n",
    "subleq b, b\n",
    "subleq a, Z\n",
    "subleq Z, b\n",
    "subleq Z, Z\n",
    "```"
   ]
  },
  {
   "cell_type": "markdown",
   "metadata": {
    "slideshow": {
     "slide_type": "fragment"
    }
   },
   "source": [
    "**Answer:** *b = *a (Assignment)"
   ]
  },
  {
   "cell_type": "markdown",
   "metadata": {
    "slideshow": {
     "slide_type": "slide"
    }
   },
   "source": [
    "## In fact, this one instruction PL is as powerful as *every* PL.\n",
    "\n",
    "* But good luck writing quicksort in this PL\n",
    "  + let alone Swiggy\n",
    "  + ..or Facebook\n",
    "  + ..or Linux\n",
    "  + ..or Grand Theft Auto V."
   ]
  },
  {
   "cell_type": "markdown",
   "metadata": {
    "slideshow": {
     "slide_type": "notes"
    }
   },
   "source": [
    "The `subleq` instruction is from [One Instruction Set Computer](https://en.wikipedia.org/wiki/One_instruction_set_computer). If you thought such a machine is hypothetical, think again. It has been shown that the [x86 `mov` instruction is turing complete](https://esolangs.org/wiki/Mov) and is as powerful as every programming language. "
   ]
  },
  {
   "cell_type": "markdown",
   "metadata": {
    "slideshow": {
     "slide_type": "slide"
    }
   },
   "source": [
    "# The Goal of CS3100\n",
    "\n",
    "<div style=\"text-align:center\">\n",
    "<h2 style=\"color:blue\"> Become a better programmer <h2>\n",
    "<h2> through the study of <h2>\n",
    "<h2 style=\"color:green\"> programming languages <h2>\n",
    "</div>"
   ]
  },
  {
   "cell_type": "markdown",
   "metadata": {
    "slideshow": {
     "slide_type": "slide"
    }
   },
   "source": [
    "## What do we mean by \"Programming Languages\"?\n",
    "\n",
    "**Programming Languages:** Language design, implementation, semantics, compilers, interpreters, runtime systems, programming methodology, testing, verification, security, reliability ...\n",
    "\n",
    "Adjacent to **Software Engineering** in the CS family tree."
   ]
  },
  {
   "cell_type": "markdown",
   "metadata": {
    "slideshow": {
     "slide_type": "slide"
    }
   },
   "source": [
    "### Linguistic Relativity\n",
    "\n",
    "```\n",
    "The principle of linguistic relativity holds that the \n",
    "structure of a language affects its speakers world view \n",
    "or cognition.\n",
    "```"
   ]
  },
  {
   "cell_type": "markdown",
   "metadata": {
    "slideshow": {
     "slide_type": "fragment"
    }
   },
   "source": [
    "Applying this principle to programming languages:\n",
    "\n",
    "<center>\n",
    "    <i> Programming Language shapes Programming Thought </i>\n",
    "</center>\n",
    "\n",
    "Language affects how ideas and computation are expressed.\n",
    "\n",
    "**In this course, you will learn new PL concepts which will change the way you think about programming.**"
   ]
  },
  {
   "cell_type": "markdown",
   "metadata": {
    "slideshow": {
     "slide_type": "slide"
    }
   },
   "source": [
    "## Goal: Increased capacity to express ideas\n",
    "\n",
    "Different programming languages have **different features**, leading to new **software development thought processes**\n",
    "\n"
   ]
  },
  {
   "cell_type": "markdown",
   "metadata": {
    "slideshow": {
     "slide_type": "slide"
    }
   },
   "source": [
    "## Goal: Learn New Languages / Constructs\n",
    "\n",
    "New ways to *describe* and *organize* computation, to create programs that are:\n",
    "\n",
    "* Correct\n",
    "* Readable\n",
    "* Extendable\n",
    "* Reusable"
   ]
  },
  {
   "cell_type": "markdown",
   "metadata": {
    "slideshow": {
     "slide_type": "slide"
    }
   },
   "source": [
    "## New languages come (and go ..)\n",
    "\n",
    "* In this course, the aim is not to teach you one programming language\n",
    "  + though we will do that invariably\n",
    "* There was no \n",
    "  + Java 25 years ago\n",
    "  + C# 20 years ago\n",
    "  + Rust 12 years ago\n",
    "  + WebAssembly 4 years ago\n",
    "* _What may come next?_"
   ]
  },
  {
   "cell_type": "markdown",
   "metadata": {
    "slideshow": {
     "slide_type": "slide"
    }
   },
   "source": [
    "## Goal: Learn the Anatomy of PL\n",
    "\n",
    "* What makes a programming language?\n",
    "* Which features are *fundamental* and which are *syntactic sugar*?\n"
   ]
  },
  {
   "cell_type": "markdown",
   "metadata": {
    "slideshow": {
     "slide_type": "slide"
    }
   },
   "source": [
    "## Goal: How to Design new Languages\n",
    "\n",
    "New hot languages being designed in industry as we speak:\n",
    "\n",
    "* Flow, React @ Facebook\n",
    "* Rust @ Mozilla\n",
    "* TypeScript @ Microsoft\n",
    "* Swift @ Apple\n",
    "* WebAssembly @ Google + Mozilla + Microsoft\n",
    "\n"
   ]
  },
  {
   "cell_type": "markdown",
   "metadata": {
    "slideshow": {
     "slide_type": "slide"
    }
   },
   "source": [
    "## Goal: How to Design new Languages\n",
    "\n",
    "Buried in every large system is a (domain-specific) language\n",
    "\n",
    "* DB: SQL\n",
    "* Word, Excel: Formulas, Macros, VBScript\n",
    "* Emacs: LISP\n",
    "* Latex, shell scripts, makefiles, …\n",
    "* All the smart contract languages on *Blockchains*.\n",
    "\n",
    "If you work on a large system, you **will** design a new PL!"
   ]
  },
  {
   "cell_type": "markdown",
   "metadata": {
    "slideshow": {
     "slide_type": "slide"
    }
   },
   "source": [
    "## Goal: Enable You To Choose Right PL\n",
    "\n",
    "But isn’t that decided by\n",
    "\n",
    "* Libraries\n",
    "* Standards\n",
    "* Hiring\n",
    "* Your Boss?!\n",
    "\n",
    "Learn about different programming paradigms so that you can make **informed** choices"
   ]
  },
  {
   "cell_type": "markdown",
   "metadata": {
    "slideshow": {
     "slide_type": "slide"
    }
   },
   "source": [
    "<img src=\"images/paradigms.png\">\n",
    "\n",
    "Src: \"Programming Paradigms for Dummies: What Every Programmer Should Know\" by Peter Van Roy"
   ]
  },
  {
   "cell_type": "markdown",
   "metadata": {
    "slideshow": {
     "slide_type": "slide"
    }
   },
   "source": [
    "## Course Syllabus\n",
    "\n",
    "* **Functional Programming:** OCaml & Lambda Calculus\n",
    "* **Logic Programming:** Prolog"
   ]
  },
  {
   "cell_type": "markdown",
   "metadata": {
    "slideshow": {
     "slide_type": "slide"
    }
   },
   "source": [
    "## Are OCaml & Prolog the best choices?\n",
    "\n",
    "Asking\n",
    "\n",
    "<center> <h3> What is the best programming language? </h3> </center>\n",
    "\n",
    "is similar to asking\n",
    "\n",
    "<center> <h3> What is the best car? </h3> </center>\n",
    "\n",
    "</br> </br>\n",
    "\n",
    "<center> <h3> What is the best shoe? </h3> </center>"
   ]
  },
  {
   "cell_type": "markdown",
   "metadata": {
    "slideshow": {
     "slide_type": "slide"
    }
   },
   "source": [
    "## Cars/Shoes\n",
    "\n",
    "* Different cars are good at rather different things:\n",
    "  + Winning a Formula 1 race\n",
    "  + Driving to the mall\n",
    "  + off-roading\n",
    "  + Hauling a mattress\n",
    "* Same with shoes:\n",
    "  + Playing cricket\n",
    "  + Going to the beach\n",
    "  + Going to a formal dinner"
   ]
  },
  {
   "cell_type": "markdown",
   "metadata": {
    "slideshow": {
     "slide_type": "slide"
    }
   },
   "source": [
    "## Five aspects of learning a PL\n",
    "\n",
    "1. **Syntax:** How do you write language constructs?\n",
    "2. **Semantics:** What do programs mean? (Type checking, evaluation rules)\n",
    "3. **Idioms:** What are typical patterns for using language features to express your computation?\n",
    "4. **Libraries:** What facilities does the language (or a third-party project) provide as “standard”? (E.g., file access, data structures)\n",
    "5. **Tools:** What do language implementations provide to make your job easier? (E.g., top-level, debugger, GUI editor, ...)\n",
    "\n",
    "\n",
    "* Breaking a new PL down into these pieces makes it easier to learn."
   ]
  },
  {
   "cell_type": "markdown",
   "metadata": {
    "slideshow": {
     "slide_type": "slide"
    }
   },
   "source": [
    "## Our Focus\n",
    "\n",
    "We will focus on **semantics** and **idioms**\n",
    "\n",
    "* **Semantics:** Correct reasoning about programs, interfaces, and compilers requires a precise knowledge of semantics\n",
    "  + Not “I feel that conditional expressions might work like this”\n",
    "  + Not “I like curly braces more than parentheses”\n",
    "  + Much of software development is  precise interfaces\n",
    "* **Idioms:** Common _patterns_ of programming\n",
    "  + Best to see in multiple settings, including where they shine\n",
    "\n"
   ]
  },
  {
   "cell_type": "markdown",
   "metadata": {
    "slideshow": {
     "slide_type": "slide"
    }
   },
   "source": [
    "## Not our focus\n",
    "\n",
    "**Libraries** and **tools** are a secondary: throughout your career you’ll learn new ones on the job every year\n",
    "\n",
    "* **Syntax** is a \"fact\"; almost always boring\n",
    "  + People obsess over subjective preferences\n",
    "  + There is no point in complaining about syntax"
   ]
  },
  {
   "cell_type": "markdown",
   "metadata": {
    "slideshow": {
     "slide_type": "slide"
    }
   },
   "source": [
    "## Course Logistics\n",
    "\n",
    "### Course website \n",
    "\n",
    "* https://kartiknagar.github.io/courses/pop-jul2024/\n",
    "  + Schedule, References, Software links\n",
    "* Course Moodle page\n",
    "  + Assignment submissions  \n",
    "* Course Google Space: CS3100-Jul-2024. If you have not yet been added, please send me an email.\n",
    "  + All official course communication will be through the google space\n"
   ]
  },
  {
   "cell_type": "markdown",
   "metadata": {
    "slideshow": {
     "slide_type": "slide"
    }
   },
   "source": [
    "## Course Logistics\n",
    "\n",
    "### Lectures\n",
    "\n",
    "* Slot E (Tue 11 AM, Wed 10 AM, Thu 8 AM)\n",
    "* Delivered through interactive Jupyter notebooks.\n",
    "* Instruction for setting up available on [course website](https://kartiknagar.github.io/courses/pop-jul2024/references/).\n",
    "* You can practice inside the lecture slides itself!\n",
    "* The lecture notebook will be uploaded before the slot."
   ]
  },
  {
   "cell_type": "markdown",
   "metadata": {
    "slideshow": {
     "slide_type": "slide"
    }
   },
   "source": [
    "## Grading\n",
    "\n",
    "* Assignments [Total 6, 3% + (5 * 9%)]: 48%\n",
    " + Must be done in jupyter notebooks\n",
    "* Quiz 1 and 2: 11 % each\n",
    "* Endsem Exam: 30%\n",
    "* Attendance: as per institute requirements"
   ]
  },
  {
   "cell_type": "markdown",
   "metadata": {
    "slideshow": {
     "slide_type": "slide"
    }
   },
   "source": [
    "## Tentative Assignment Schedule (Deadlines)\n",
    "\n",
    "0: August 9\n",
    "\n",
    "1: August 24\n",
    "\n",
    "2: September 7\n",
    "\n",
    "3: September 28\n",
    "\n",
    "4: October 19\n",
    "\n",
    "5: November 9"
   ]
  },
  {
   "cell_type": "markdown",
   "metadata": {
    "slideshow": {
     "slide_type": "slide"
    }
   },
   "source": [
    "## Late Submission Policy\n",
    "\n",
    "* There will be a total of **5 grace days** during which late submissions will not be penalized.\n",
    "* 5 grace days must be used across the entire semester.\n",
    "* Once grace days are exhaused, late submissions will not be evaluated.\n",
    "* Please feel free to use them when necessary!"
   ]
  },
  {
   "cell_type": "markdown",
   "metadata": {
    "slideshow": {
     "slide_type": "slide"
    }
   },
   "source": [
    "## Plagiarism\n",
    "\n",
    "* Will strictly follow institute policy for plagiarism\n",
    "  + 0% for that assignment + 1 grade drop penalty.\n",
    "  + \"U\" grade for repeated plagiarism.\n",
    "* We will also check for plagiarism against submissions from previous years."
   ]
  },
  {
   "cell_type": "markdown",
   "metadata": {
    "slideshow": {
     "slide_type": "slide"
    }
   },
   "source": [
    "## Software\n",
    "\n",
    "* We will use OCaml and Prolog in this course. The installation information is available in the [course webpage](https://kartiknagar.github.io/courses/pop-jul2023/software/).\n",
    "* Docker image is available for lectures in Jupyter notebooks.\n",
    "* If you want, you can also locally install OCaml on your machine. This is not required. \n",
    "  + Installation instructions are on the course webpage.\n",
    "  + Get familiar with `utop` (a great top-level for OCaml) "
   ]
  },
  {
   "cell_type": "markdown",
   "metadata": {
    "slideshow": {
     "slide_type": "slide"
    }
   },
   "source": [
    "## Acknowledgements\n",
    "\n",
    "The course heavily borrows material from an earlier offering by [KC Sivaramakrishnan](https://kcsrk.info/) and the course CS3100 from Cornell University."
   ]
  }
 ],
 "metadata": {
  "celltoolbar": "Slideshow",
  "kernelspec": {
   "display_name": "OCaml 4.10",
   "language": "OCaml",
   "name": "ocaml-jupyter"
  },
  "language_info": {
   "codemirror_mode": "text/x-ocaml",
   "file_extension": ".ml",
   "mimetype": "text/x-ocaml",
   "name": "OCaml",
   "nbconverter_exporter": null,
   "pygments_lexer": "OCaml",
   "version": "4.10.0"
  }
 },
 "nbformat": 4,
 "nbformat_minor": 2
}
