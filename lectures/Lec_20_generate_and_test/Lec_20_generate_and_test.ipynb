{
 "cells": [
  {
   "cell_type": "markdown",
   "metadata": {
    "slideshow": {
     "slide_type": "slide"
    }
   },
   "source": [
    "<center>\n",
    "\n",
    "<h1> Generate and Test </h1>\n",
    "</center>"
   ]
  },
  {
   "cell_type": "markdown",
   "metadata": {
    "slideshow": {
     "slide_type": "slide"
    }
   },
   "source": [
    "## Take from a list\n",
    "\n",
    "`take(HasX,X,NoX)` removes exactly one element `X` from the list `HasX` with the result list being `NoX`. "
   ]
  },
  {
   "cell_type": "code",
   "execution_count": null,
   "metadata": {
    "slideshow": {
     "slide_type": "fragment"
    }
   },
   "outputs": [],
   "source": [
    "take([X|T],X,T).\n",
    "take([H|T],X,[H|S]) :- take(T,X,S)."
   ]
  },
  {
   "cell_type": "markdown",
   "metadata": {
    "slideshow": {
     "slide_type": "fragment"
    }
   },
   "source": [
    "Read the second clause as, \"Given a list `[H|T]` you can take `X` from the list and leave `[H|S]` if you can take `X` from `T` and leave `S`\"."
   ]
  },
  {
   "cell_type": "markdown",
   "metadata": {
    "slideshow": {
     "slide_type": "slide"
    }
   },
   "source": [
    "## Take from a list"
   ]
  },
  {
   "cell_type": "code",
   "execution_count": null,
   "metadata": {},
   "outputs": [],
   "source": [
    "?- take([1,2,3],1,Y)."
   ]
  },
  {
   "cell_type": "code",
   "execution_count": null,
   "metadata": {},
   "outputs": [],
   "source": [
    "?- take([2,3],1,X)."
   ]
  },
  {
   "cell_type": "code",
   "execution_count": null,
   "metadata": {},
   "outputs": [],
   "source": [
    "?- take([1,2,3,1],X,Y)."
   ]
  },
  {
   "cell_type": "markdown",
   "metadata": {
    "slideshow": {
     "slide_type": "slide"
    }
   },
   "source": [
    "## Permutation\n",
    "\n",
    "We can now build permutation using take."
   ]
  },
  {
   "cell_type": "code",
   "execution_count": null,
   "metadata": {
    "slideshow": {
     "slide_type": "fragment"
    }
   },
   "outputs": [],
   "source": [
    "perm([],[]).\n",
    "perm(L,[H|T]) :- take(L,H,R), perm(R,T)."
   ]
  },
  {
   "cell_type": "code",
   "execution_count": null,
   "metadata": {
    "slideshow": {
     "slide_type": "fragment"
    }
   },
   "outputs": [],
   "source": [
    "?- perm([1,2,3],X)."
   ]
  },
  {
   "cell_type": "markdown",
   "metadata": {
    "slideshow": {
     "slide_type": "slide"
    }
   },
   "source": [
    "## Generate and test\n",
    "\n",
    "* A design pattern for logic programming.\n",
    "* Generate a candidate solution and then test if the solution satisfies the condition."
   ]
  },
  {
   "attachments": {
    "image.png": {
     "image/png": "[encoded data removed]"
    }
   },
   "cell_type": "markdown",
   "metadata": {
    "slideshow": {
     "slide_type": "slide"
    }
   },
   "source": [
    "## Dutch national flag\n",
    "\n",
    "<center>\n",
    "    \n",
    "<img src=\"attachment:image.png\" alt=\"dutch flag\" width=\"400\">\n",
    "</center>\n",
    "\n",
    "* A famous problem formulated by Edsger Dijkstra.\n",
    "* Given a list with colours red, white and blue, return a list such that it has all the reds, and then white followed by blue.\n",
    "  + Essentially a sorting problem."
   ]
  },
  {
   "cell_type": "markdown",
   "metadata": {
    "slideshow": {
     "slide_type": "slide"
    }
   },
   "source": [
    "## Dutch national flag\n",
    "\n",
    "Implement a predicate `checkFlag(L)` to see whether the list `L` contains the colours in the right order."
   ]
  },
  {
   "cell_type": "code",
   "execution_count": null,
   "metadata": {
    "slideshow": {
     "slide_type": "fragment"
    }
   },
   "outputs": [],
   "source": [
    "checkRed([red|T]) :- checkRed(T).\n",
    "checkRed([white|T]) :- checkWhite(T).\n",
    "checkWhite([white|T]) :- checkWhite(T).\n",
    "checkWhite([blue|T]) :- checkBlue(T).\n",
    "checkBlue([blue|T]) :- checkBlue(T).\n",
    "checkBlue([]).\n",
    "checkFlag(L) :- checkRed(L)."
   ]
  },
  {
   "cell_type": "code",
   "execution_count": null,
   "metadata": {
    "slideshow": {
     "slide_type": "fragment"
    }
   },
   "outputs": [],
   "source": [
    "?- checkFlag([red,white,blue,blue])."
   ]
  },
  {
   "cell_type": "code",
   "execution_count": null,
   "metadata": {
    "slideshow": {
     "slide_type": "fragment"
    }
   },
   "outputs": [],
   "source": [
    "?- checkFlag([white,red,blue,blue])."
   ]
  },
  {
   "cell_type": "markdown",
   "metadata": {
    "slideshow": {
     "slide_type": "slide"
    }
   },
   "source": [
    "## Quiz\n",
    "```\n",
    "checkRed([red|T]) :- checkRed(T).\n",
    "checkRed([white|T]) :- checkWhite(T).\n",
    "checkWhite([white|T]) :- checkWhite(T).\n",
    "checkWhite([blue|T]) :- checkBlue(T).\n",
    "checkBlue([blue|T]) :- checkBlue(T).\n",
    "checkBlue([]).\n",
    "checkFlag(L) :- checkRed(L).\n",
    "```\n",
    "What is the result of \n",
    "\n",
    "1. `?- checkFlag([white,blue]).`\n",
    "2. `?- checkFlag([blue]).`\n",
    "3. `?- checkFlag([]).`"
   ]
  },
  {
   "cell_type": "markdown",
   "metadata": {
    "slideshow": {
     "slide_type": "slide"
    }
   },
   "source": [
    "## Quiz\n",
    "```\n",
    "checkRed([red|T]) :- checkRed(T).\n",
    "checkRed([white|T]) :- checkWhite(T).\n",
    "checkWhite([white|T]) :- checkWhite(T).\n",
    "checkWhite([blue|T]) :- checkBlue(T).\n",
    "checkBlue([blue|T]) :- checkBlue(T).\n",
    "checkBlue([]).\n",
    "checkFlag(L) :- checkRed(L).\n",
    "```\n",
    "What is the result of \n",
    "\n",
    "1. `?- checkFlag([white,blue]).` **true**\n",
    "2. `?- checkFlag([blue]).` **false**\n",
    "3. `?- checkFlag([]).` **false**\n",
    "\n",
    "How can we prevent the first predicate from holding?"
   ]
  },
  {
   "cell_type": "markdown",
   "metadata": {
    "slideshow": {
     "slide_type": "slide"
    }
   },
   "source": [
    "## Better flag check\n",
    "\n",
    "Introduce a new state `chkRed2` in the transition system."
   ]
  },
  {
   "cell_type": "code",
   "execution_count": null,
   "metadata": {},
   "outputs": [],
   "source": [
    "chkRed([red|T]) :- chkRed2(T).\n",
    "chkRed2([red|T]) :- chkRed2(T).\n",
    "chkRed2([white|T]) :- chkWhite(T).\n",
    "chkWhite([white|T]) :- chkWhite(T).\n",
    "chkWhite([blue|T]) :- chkBlue(T).\n",
    "chkBlue([blue|T]) :- chkBlue(T).\n",
    "chkBlue([]).\n",
    "chkFlag(L) :- chkRed(L)."
   ]
  },
  {
   "cell_type": "code",
   "execution_count": null,
   "metadata": {},
   "outputs": [],
   "source": [
    "?- chkFlag([white,blue])."
   ]
  },
  {
   "cell_type": "markdown",
   "metadata": {
    "slideshow": {
     "slide_type": "slide"
    }
   },
   "source": [
    "## Make the dutch national flag\n",
    "\n",
    "Using the predicate `mkFlag(L,F)` which makes the flag `F` from the list of colours in `L`. "
   ]
  },
  {
   "cell_type": "code",
   "execution_count": null,
   "metadata": {},
   "outputs": [],
   "source": [
    "mkFlag(L,F) :- perm(L,F), chkFlag(F)."
   ]
  },
  {
   "cell_type": "code",
   "execution_count": null,
   "metadata": {},
   "outputs": [],
   "source": [
    "?- mkFlag([white,red,blue,blue,blue],F) {1}."
   ]
  },
  {
   "cell_type": "markdown",
   "metadata": {},
   "source": [
    "In the above, `perm` is the generate and `chkFlag` is the test."
   ]
  },
  {
   "cell_type": "markdown",
   "metadata": {
    "slideshow": {
     "slide_type": "slide"
    }
   },
   "source": [
    "## Essence of generate and test\n",
    "\n",
    "1. Generate a solution.\n",
    "2. Test if it is valid.\n",
    "3. If not valid, backtrack and try another solution."
   ]
  },
  {
   "cell_type": "markdown",
   "metadata": {
    "slideshow": {
     "slide_type": "slide"
    }
   },
   "source": [
    "## Sorting\n",
    "\n",
    "We can generalise our solution to the Dutch national flag problem to sorting. \n",
    "\n",
    "Let us define a predicate `sorted(L)` which holds if `L` is sorted."
   ]
  },
  {
   "cell_type": "code",
   "execution_count": null,
   "metadata": {
    "slideshow": {
     "slide_type": "fragment"
    }
   },
   "outputs": [],
   "source": [
    "sorted([]).\n",
    "sorted([H]).\n",
    "sorted([A,B|T]) :- A =< B, sorted([B|T])."
   ]
  },
  {
   "cell_type": "markdown",
   "metadata": {
    "slideshow": {
     "slide_type": "slide"
    }
   },
   "source": [
    "## Sorting"
   ]
  },
  {
   "cell_type": "code",
   "execution_count": null,
   "metadata": {},
   "outputs": [],
   "source": [
    "?- sorted([1,2,3,4])."
   ]
  },
  {
   "cell_type": "code",
   "execution_count": null,
   "metadata": {
    "scrolled": true
   },
   "outputs": [],
   "source": [
    "?- sorted([1,3,2,4])."
   ]
  },
  {
   "cell_type": "markdown",
   "metadata": {
    "slideshow": {
     "slide_type": "slide"
    }
   },
   "source": [
    "## Sorting\n",
    "\n",
    "Now sorting can be defined using the predicate `permsort(L,SL)`, where `SL` is the sorted version of `L`."
   ]
  },
  {
   "cell_type": "code",
   "execution_count": null,
   "metadata": {},
   "outputs": [],
   "source": [
    "permsort(L,SL) :- perm(L,SL), sorted(SL)."
   ]
  },
  {
   "cell_type": "code",
   "execution_count": null,
   "metadata": {},
   "outputs": [],
   "source": [
    "?- permsort([1,3,5,2,4,6], SL)."
   ]
  },
  {
   "cell_type": "markdown",
   "metadata": {
    "slideshow": {
     "slide_type": "slide"
    }
   },
   "source": [
    "## Sorting"
   ]
  },
  {
   "cell_type": "markdown",
   "metadata": {},
   "source": [
    "* Generating all the permutations and checking for sortedness is a terrible idea.\n",
    "* A better approach is to divide and conquer."
   ]
  },
  {
   "cell_type": "markdown",
   "metadata": {
    "slideshow": {
     "slide_type": "slide"
    }
   },
   "source": [
    "## Quicksort\n",
    "\n",
    "* A bit of a digression from generate and test.\n",
    "* Use divide and conquer to sort the results.\n",
    "* First, define the predicate `partition(L,X,LES,GS)` that given a list `L` and an element `X` partitions the list into two. \n",
    "  + The first is `LES` which contains elements from `L` less than or equal to `X` and \n",
    "  + `GS` which contains elements from `L` greater than `X`."
   ]
  },
  {
   "cell_type": "markdown",
   "metadata": {
    "slideshow": {
     "slide_type": "slide"
    }
   },
   "source": [
    "## Quicksort\n",
    "\n",
    "Let's first define a partition predicate `partition(Xs,X,Ls,Rs)` that partitions elements in `Xs` into `Ls` and `Rs` where $\\forall E \\in Ls. E =< X$ and $\\forall E \\in Rs. E > X$."
   ]
  },
  {
   "cell_type": "code",
   "execution_count": null,
   "metadata": {
    "slideshow": {
     "slide_type": "fragment"
    }
   },
   "outputs": [],
   "source": [
    "partition([],Y,[],[]).\n",
    "partition([X|Xs],Y,[X|Ls],Rs) :- X =< Y, partition(Xs,Y,Ls,Rs).\n",
    "partition([X|Xs],Y,Ls,[X|Rs]) :- X > Y, partition(Xs,Y,Ls,Rs)."
   ]
  },
  {
   "cell_type": "code",
   "execution_count": null,
   "metadata": {
    "slideshow": {
     "slide_type": "fragment"
    }
   },
   "outputs": [],
   "source": [
    "?- partition([6,5,3,2,1,0],4,X,Y)."
   ]
  },
  {
   "cell_type": "markdown",
   "metadata": {
    "slideshow": {
     "slide_type": "slide"
    }
   },
   "source": [
    "## Quicksort\n",
    "\n",
    "Quicksort works by partitioning the list into two, sorting each one, and appending to get the resultant sorted list."
   ]
  },
  {
   "cell_type": "code",
   "execution_count": null,
   "metadata": {
    "slideshow": {
     "slide_type": "fragment"
    }
   },
   "outputs": [],
   "source": [
    "quicksort([H|T],SL) :-\n",
    "  partition(T,H,Ls,Rs),\n",
    "  quicksort(Ls,SLs),\n",
    "  quicksort(Rs,SRs),\n",
    "  append(SLs,[H|SRs],SL).\n",
    "quicksort([],[])."
   ]
  },
  {
   "cell_type": "code",
   "execution_count": null,
   "metadata": {},
   "outputs": [],
   "source": [
    "?- quicksort([6,5,4,3,2,1,0],SL)."
   ]
  },
  {
   "attachments": {
    "image.png": {
     "image/png": "[encoded data removed]"
    }
   },
   "cell_type": "markdown",
   "metadata": {
    "slideshow": {
     "slide_type": "slide"
    }
   },
   "source": [
    "## N-Queens problem\n",
    "\n",
    "Find the assignment of N-queens on a NxN chessboard such that none of the queens threaten each other. \n",
    "\n",
    "<center>\n",
    "    \n",
    "<img src=\"attachment:image.png\" width=\"300\">\n",
    "</center>"
   ]
  },
  {
   "cell_type": "markdown",
   "metadata": {
    "slideshow": {
     "slide_type": "slide"
    }
   },
   "source": [
    "## N-Queens Problem\n",
    "\n",
    "* If two queens are on the same row or same column, they threaten each other. \n",
    "  + So design the data structure such that such cases are ruled out **by construction**.\n",
    "  + Make invalid states unrepresentable."
   ]
  },
  {
   "cell_type": "markdown",
   "metadata": {
    "slideshow": {
     "slide_type": "slide"
    }
   },
   "source": [
    "## N-Queens Problem\n",
    "\n",
    "* Represent the positions of the queens as a permutation of `[1,2,3,...,N]`.\n",
    "  + Each number represents the position of the queen in that row.\n",
    "  + `[1,2,3,...]` says that the first queen is on (1,1), second on (2,2), ...\n",
    "  + The soution, if it exists, is a permutation of this. \n",
    "* Importantly, two queens cannot be on the same row or column.\n",
    "  + No need to check for this condition while checking validity.\n",
    "  + Such permutations aren't even generated, making the search fast. "
   ]
  },
  {
   "attachments": {
    "image.png": {
     "image/png": "[encoded data removed]"
    }
   },
   "cell_type": "markdown",
   "metadata": {
    "slideshow": {
     "slide_type": "slide"
    }
   },
   "source": [
    "## N-Queens problem\n",
    "<center>\n",
    "    \n",
    "<img src=\"attachment:image.png\" width=300>\n",
    "</center>"
   ]
  },
  {
   "cell_type": "code",
   "execution_count": null,
   "metadata": {},
   "outputs": [],
   "source": [
    "checkBoard([H|T]) :- L is H-1, R is H+1, checkQueen(T,L,R), checkBoard(T).\n",
    "checkQueen([H|T],L,R) :- H =\\= L, H =\\= R, LN is L-1, RN is R+1, checkQueen(T,LN,RN).\n",
    "checkBoard([]).\n",
    "checkQueen([],_,_)."
   ]
  },
  {
   "cell_type": "code",
   "execution_count": null,
   "metadata": {},
   "outputs": [],
   "source": [
    "?- checkBoard([1,6,8,3,7,4,2,5])."
   ]
  },
  {
   "cell_type": "markdown",
   "metadata": {
    "slideshow": {
     "slide_type": "slide"
    }
   },
   "source": [
    "## N-Queens Problem\n",
    "\n",
    "Use `mkList(N,I)` to generate the initial board assignment."
   ]
  },
  {
   "cell_type": "code",
   "execution_count": null,
   "metadata": {},
   "outputs": [],
   "source": [
    "mkList(0,[]).\n",
    "mkList(N,L) :- N > 0, M is N-1, mkList(M,P), append(P,[N],L)."
   ]
  },
  {
   "cell_type": "code",
   "execution_count": null,
   "metadata": {},
   "outputs": [],
   "source": [
    "?- mkList(8,X)."
   ]
  },
  {
   "cell_type": "code",
   "execution_count": null,
   "metadata": {},
   "outputs": [],
   "source": [
    "nqueens(N,B) :- mkList(N,I), perm(I,B), checkBoard(B)."
   ]
  },
  {
   "cell_type": "markdown",
   "metadata": {
    "slideshow": {
     "slide_type": "slide"
    }
   },
   "source": [
    "## N-queens Problem"
   ]
  },
  {
   "cell_type": "code",
   "execution_count": null,
   "metadata": {},
   "outputs": [],
   "source": [
    "?- nqueens(8,B) {1}."
   ]
  },
  {
   "cell_type": "markdown",
   "metadata": {
    "slideshow": {
     "slide_type": ""
    }
   },
   "source": [
    "There are [92 solutions](https://en.wikipedia.org/wiki/Eight_queens_puzzle) to 8-Queens problem. We can find them all. "
   ]
  },
  {
   "cell_type": "code",
   "execution_count": null,
   "metadata": {},
   "outputs": [],
   "source": [
    "?- nqueens(8,B) {92}."
   ]
  }
 ],
 "metadata": {
  "celltoolbar": "Slideshow",
  "kernelspec": {
   "display_name": "SWI-Prolog",
   "language": "",
   "name": "jswipl"
  },
  "language_info": {
   "mimetype": "text/plain",
   "name": "swipl"
  }
 },
 "nbformat": 4,
 "nbformat_minor": 2
}
