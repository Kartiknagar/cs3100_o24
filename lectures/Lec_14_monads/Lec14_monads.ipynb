{
 "cells": [
  {
   "cell_type": "markdown",
   "metadata": {
    "slideshow": {
     "slide_type": "slide"
    }
   },
   "source": [
    "<center>\n",
    "\n",
    "<h1 style=\"text-align:center\"> Monads </h1>\n",
    "</center>"
   ]
  },
  {
   "cell_type": "markdown",
   "metadata": {
    "slideshow": {
     "slide_type": "slide"
    }
   },
   "source": [
    "\n",
    "* Monads\n",
    "  + Dealing with **effects** in a **pure** setting"
   ]
  },
  {
   "cell_type": "markdown",
   "metadata": {
    "slideshow": {
     "slide_type": "slide"
    }
   },
   "source": [
    "## Whence Monads\n",
    "\n",
    "* The term \"monad\" comes from **Category Theory**\n",
    "  + Category theory is the study of mathematical abstractions.\n",
    "  + Out of scope for this course.\n",
    "  + We will focus on **programming with monads**."
   ]
  },
  {
   "cell_type": "markdown",
   "metadata": {
    "slideshow": {
     "slide_type": "slide"
    }
   },
   "source": [
    "## Monads for programming\n",
    "\n",
    "* Monads were popularized by the Haskell programming language\n",
    "  + Haskell is **purely functional** programming languages\n",
    "  + Unlike OCaml, Haskell separates pure code from side-effecting code through the use of monads.\n",
    "* Monads are a way to *simulate* and *encapsulate* effects in a pure setting\n",
    "  + ... similar to how we simulated advanced language features in lambda calculus encodings.\n",
    "* Monad is an _idiom_ / _a design pattern_\n",
    "  + not a primitive language feature"
   ]
  },
  {
   "cell_type": "markdown",
   "metadata": {
    "slideshow": {
     "slide_type": "slide"
    }
   },
   "source": [
    "## What is a Monad?\n",
    "\n",
    "A monad is any implementation that satisfies the following signature:"
   ]
  },
  {
   "cell_type": "code",
   "execution_count": null,
   "metadata": {},
   "outputs": [],
   "source": [
    "module type Monad = sig\n",
    "  type 'a t                                 (* computation *)\n",
    "  val return : 'a -> 'a t                   (* lift a value to a computation *)\n",
    "  val bind   : 'a t -> ('a -> 'b t) -> 'b t (* sequence two computations *)\n",
    "end"
   ]
  },
  {
   "cell_type": "markdown",
   "metadata": {},
   "source": [
    "and the **monad laws**."
   ]
  },
  {
   "cell_type": "markdown",
   "metadata": {
    "slideshow": {
     "slide_type": "slide"
    }
   },
   "source": [
    "## Is that it?\n",
    "\n",
    "* All of this seems **very abstract** (as many FP concepts are).\n",
    "* An example will help us see the pattern.\n",
    "* Let's write an interpreter for arithmetic expressions"
   ]
  },
  {
   "cell_type": "markdown",
   "metadata": {
    "slideshow": {
     "slide_type": "slide"
    }
   },
   "source": [
    "## Interpreting artihmetic expressions"
   ]
  },
  {
   "cell_type": "code",
   "execution_count": 1,
   "metadata": {
    "slideshow": {
     "slide_type": "-"
    }
   },
   "outputs": [
    {
     "data": {
      "text/plain": [
       "type expr = Val of int | Plus of expr * expr | Div of expr * expr\n"
      ]
     },
     "execution_count": 1,
     "metadata": {},
     "output_type": "execute_result"
    }
   ],
   "source": [
    "type expr = \n",
    "| Val of int \n",
    "| Plus of expr * expr \n",
    "| Div of expr * expr"
   ]
  },
  {
   "cell_type": "markdown",
   "metadata": {
    "slideshow": {
     "slide_type": "slide"
    }
   },
   "source": [
    "## Interpreting artihmetic expressions"
   ]
  },
  {
   "cell_type": "markdown",
   "metadata": {
    "slideshow": {
     "slide_type": "-"
    }
   },
   "source": [
    "* Our goal is to make the interpreter a **total function**.\n",
    "  + Produces a **value** for every arithmetic expression."
   ]
  },
  {
   "cell_type": "code",
   "execution_count": 2,
   "metadata": {},
   "outputs": [
    {
     "data": {
      "text/plain": [
       "val eval : expr -> int = <fun>\n"
      ]
     },
     "execution_count": 2,
     "metadata": {},
     "output_type": "execute_result"
    }
   ],
   "source": [
    "let rec eval e = match e with\n",
    "  | Val v -> v\n",
    "  | Plus (e1,e2) -> \n",
    "    let v1 = eval e1 in\n",
    "    let v2 = eval e2 in\n",
    "    v1 + v2\n",
    "  | Div (e1,e2) -> \n",
    "    let v1 = eval e1 in\n",
    "    let v2 = eval e2 in\n",
    "    v1 / v2"
   ]
  },
  {
   "cell_type": "markdown",
   "metadata": {
    "slideshow": {
     "slide_type": "slide"
    }
   },
   "source": [
    "## Interpreting arithmetic expressions : examples"
   ]
  },
  {
   "cell_type": "code",
   "execution_count": 3,
   "metadata": {},
   "outputs": [
    {
     "data": {
      "text/plain": [
       "- : int = 9\n"
      ]
     },
     "execution_count": 3,
     "metadata": {},
     "output_type": "execute_result"
    }
   ],
   "source": [
    "eval (Plus (Div (Val 4, Val 2), Val 7)) (* 4 / 2 + 7 *)"
   ]
  },
  {
   "cell_type": "markdown",
   "metadata": {
    "slideshow": {
     "slide_type": "slide"
    }
   },
   "source": [
    "## Division by zero"
   ]
  },
  {
   "cell_type": "markdown",
   "metadata": {},
   "source": [
    "This looks fine. But what happens if the denominator in the division is a 0."
   ]
  },
  {
   "cell_type": "code",
   "execution_count": 4,
   "metadata": {
    "slideshow": {
     "slide_type": "fragment"
    }
   },
   "outputs": [
    {
     "ename": "error",
     "evalue": "runtime_error",
     "output_type": "error",
     "traceback": [
      "\u001b[31mException: Division_by_zero.\nRaised by primitive operation at unknown location\nCalled from file \"toplevel/toploop.ml\", line 212, characters 17-27\n\u001b[0m"
     ]
    }
   ],
   "source": [
    "eval (Div (Val 1, Val 0))"
   ]
  },
  {
   "cell_type": "markdown",
   "metadata": {},
   "source": [
    "* Recall that our goal is to make the interpreter a **total function**\n",
    "  + Due to exceptions, the function is not total.\n",
    "\n",
    "How can we avoid this?"
   ]
  },
  {
   "cell_type": "markdown",
   "metadata": {
    "slideshow": {
     "slide_type": "slide"
    }
   },
   "source": [
    "## Interpreting Arithmetic Expressions: Take 2\n",
    "\n",
    "* Rewrite `eval` function to have the type `expr -> int option`\n",
    "  + Return `None` for division by zero."
   ]
  },
  {
   "cell_type": "code",
   "execution_count": 5,
   "metadata": {},
   "outputs": [
    {
     "data": {
      "text/plain": [
       "val eval : expr -> int option = <fun>\n"
      ]
     },
     "execution_count": 5,
     "metadata": {},
     "output_type": "execute_result"
    }
   ],
   "source": [
    "let rec eval e = match e with\n",
    "  | Val v -> Some v\n",
    "  | Plus (e1,e2) ->\n",
    "      begin match eval e1 with \n",
    "      | None -> None\n",
    "      | Some v1 -> \n",
    "          match eval e2 with\n",
    "          | None -> None \n",
    "          | Some v2 -> Some (v1 + v2)\n",
    "      end\n",
    "  | Div (e1,e2) ->\n",
    "      begin match eval e1 with \n",
    "      | None -> None\n",
    "      | Some v1 -> \n",
    "          match eval e2 with\n",
    "          | None -> None \n",
    "          | Some v2 -> if v2 = 0 then None else Some (v1 / v2)\n",
    "      end"
   ]
  },
  {
   "cell_type": "markdown",
   "metadata": {
    "slideshow": {
     "slide_type": "slide"
    }
   },
   "source": [
    "## Interpreting Arithmetic Expressions: Take 2"
   ]
  },
  {
   "cell_type": "code",
   "execution_count": 6,
   "metadata": {},
   "outputs": [
    {
     "data": {
      "text/plain": [
       "- : int option = Some 9\n"
      ]
     },
     "execution_count": 6,
     "metadata": {},
     "output_type": "execute_result"
    }
   ],
   "source": [
    "eval (Plus (Div (Val 4, Val 2), Val 7)) (* 4 / 2 + 7 *)"
   ]
  },
  {
   "cell_type": "code",
   "execution_count": 7,
   "metadata": {},
   "outputs": [
    {
     "data": {
      "text/plain": [
       "- : int option = None\n"
      ]
     },
     "execution_count": 7,
     "metadata": {},
     "output_type": "execute_result"
    }
   ],
   "source": [
    "eval (Div (Val 1, Val 0)) (* 1 / 0 *)"
   ]
  },
  {
   "cell_type": "markdown",
   "metadata": {
    "slideshow": {
     "slide_type": "slide"
    }
   },
   "source": [
    "## Abstraction\n",
    "\n",
    "* There is a lot of repeated code in the interpreter above.\n",
    "  + Factor out common code."
   ]
  },
  {
   "cell_type": "code",
   "execution_count": 8,
   "metadata": {},
   "outputs": [
    {
     "data": {
      "text/plain": [
       "val return : 'a -> 'a option = <fun>\n"
      ]
     },
     "execution_count": 8,
     "metadata": {},
     "output_type": "execute_result"
    }
   ],
   "source": [
    "let return v = Some v"
   ]
  },
  {
   "cell_type": "code",
   "execution_count": 9,
   "metadata": {},
   "outputs": [
    {
     "data": {
      "text/plain": [
       "val bind : 'a option -> ('a -> 'b option) -> 'b option = <fun>\n"
      ]
     },
     "execution_count": 9,
     "metadata": {},
     "output_type": "execute_result"
    }
   ],
   "source": [
    "let bind m f = match m with\n",
    "  | None -> None \n",
    "  | Some v -> f v"
   ]
  },
  {
   "cell_type": "markdown",
   "metadata": {
    "slideshow": {
     "slide_type": "-"
    }
   },
   "source": [
    "**Convention:** Using the names `return` and `bind` to match with the `Monad` module. But you could have alternatively picked any name. "
   ]
  },
  {
   "cell_type": "markdown",
   "metadata": {
    "slideshow": {
     "slide_type": "slide"
    }
   },
   "source": [
    "## Abstraction \n",
    "\n",
    "Let's rewrite the interpreter using these functions.\n",
    "\n",
    "```ocaml\n",
    "let return v = Some v\n",
    "\n",
    "let bind m f = match m with\n",
    "  | None -> None \n",
    "  | Some v -> f v\n",
    "```"
   ]
  },
  {
   "cell_type": "code",
   "execution_count": 10,
   "metadata": {},
   "outputs": [
    {
     "data": {
      "text/plain": [
       "val eval : expr -> int option = <fun>\n"
      ]
     },
     "execution_count": 10,
     "metadata": {},
     "output_type": "execute_result"
    }
   ],
   "source": [
    "let rec eval e = match e with\n",
    "  | Val v -> return v\n",
    "  | Plus (e1,e2) ->\n",
    "      bind (eval e1) (fun v1 -> \n",
    "      bind (eval e2) (fun v2 ->\n",
    "      return (v1+v2)))\n",
    "  | Div (e1,e2) ->\n",
    "      bind (eval e1) (fun v1 -> \n",
    "      bind (eval e2) (fun v2 ->\n",
    "      if v2 = 0 then None else return (v1 / v2)))"
   ]
  },
  {
   "cell_type": "markdown",
   "metadata": {
    "slideshow": {
     "slide_type": "notes"
    }
   },
   "source": [
    "This is written in a suggestive way so as to lead onto nice syntax."
   ]
  },
  {
   "cell_type": "markdown",
   "metadata": {
    "slideshow": {
     "slide_type": "slide"
    }
   },
   "source": [
    "## Infix bind operation\n",
    "\n",
    "Usually `bind` is defined as an infix function `>>=`."
   ]
  },
  {
   "cell_type": "code",
   "execution_count": 11,
   "metadata": {},
   "outputs": [
    {
     "data": {
      "text/plain": [
       "val ( >>= ) : 'a option -> ('a -> 'b option) -> 'b option = <fun>\n"
      ]
     },
     "execution_count": 11,
     "metadata": {},
     "output_type": "execute_result"
    }
   ],
   "source": [
    "let (>>=) = bind"
   ]
  },
  {
   "cell_type": "code",
   "execution_count": 12,
   "metadata": {},
   "outputs": [
    {
     "data": {
      "text/plain": [
       "val eval : expr -> int option = <fun>\n"
      ]
     },
     "execution_count": 12,
     "metadata": {},
     "output_type": "execute_result"
    }
   ],
   "source": [
    "let rec eval e = match e with\n",
    "  | Val v -> return v\n",
    "  | Plus (e1,e2) ->\n",
    "      eval e1 >>= fun v1 -> \n",
    "      eval e2 >>= fun v2 ->\n",
    "      return (v1+v2)\n",
    "  | Div (e1,e2) ->\n",
    "      eval e1 >>= fun v1 -> \n",
    "      eval e2 >>= fun v2 ->\n",
    "      if v2 = 0 then None else return (v1 / v2)"
   ]
  },
  {
   "cell_type": "markdown",
   "metadata": {
    "slideshow": {
     "slide_type": "slide"
    }
   },
   "source": [
    "## `let*` syntax extension \n",
    "\n",
    "Since OCaml 4.08 released in June 2019, there is new syntax for making it easier to write monadic programs."
   ]
  },
  {
   "cell_type": "code",
   "execution_count": 13,
   "metadata": {},
   "outputs": [
    {
     "data": {
      "text/plain": [
       "val ( let* ) : 'a option -> ('a -> 'b option) -> 'b option = <fun>\n"
      ]
     },
     "execution_count": 13,
     "metadata": {},
     "output_type": "execute_result"
    }
   ],
   "source": [
    "let ( let* ) = bind"
   ]
  },
  {
   "cell_type": "markdown",
   "metadata": {
    "slideshow": {
     "slide_type": "slide"
    }
   },
   "source": [
    "## `let*` syntax extension \n"
   ]
  },
  {
   "cell_type": "code",
   "execution_count": 14,
   "metadata": {},
   "outputs": [
    {
     "data": {
      "text/plain": [
       "val eval : expr -> int option = <fun>\n"
      ]
     },
     "execution_count": 14,
     "metadata": {},
     "output_type": "execute_result"
    }
   ],
   "source": [
    "let rec eval e = match e with\n",
    "  | Val v -> return v\n",
    "  | Plus (e1,e2) ->\n",
    "      let* v1 = eval e1 in\n",
    "      let* v2 = eval e2 in\n",
    "      return (v1+v2)\n",
    "  | Div (e1,e2) ->\n",
    "      let* v1 = eval e1 in \n",
    "      let* v2 = eval e2 in\n",
    "      if v2 = 0 then None \n",
    "      else return (v1 / v2)"
   ]
  },
  {
   "cell_type": "markdown",
   "metadata": {
    "slideshow": {
     "slide_type": "slide"
    }
   },
   "source": [
    "## Compare this to our initial take\n",
    "\n",
    "```ocaml\n",
    "let rec eval e = match e with\n",
    "  | Val v -> v\n",
    "  | Plus (e1,e2) -> \n",
    "    let v1 = eval e1 in\n",
    "    let v2 = eval e2 in\n",
    "    v1 + v2\n",
    "  | Div (e1,e2) -> \n",
    "    let v1 = eval e1 in\n",
    "    let v2 = eval e2 in\n",
    "    v1 / v2\n",
    "```\n",
    "\n",
    "There are additional `return` and `let*`, but the overall structure remains the same. "
   ]
  },
  {
   "cell_type": "markdown",
   "metadata": {
    "slideshow": {
     "slide_type": "slide"
    }
   },
   "source": [
    "## Modularise\n",
    "\n",
    "* The `return` and `let*` we have defined for the interpreter works for any computation on option type. \n",
    "  + Put them in a module, we get the **Option Monad**.\n",
    "* Option monad _simulates_ **exceptions**."
   ]
  },
  {
   "cell_type": "code",
   "execution_count": 15,
   "metadata": {},
   "outputs": [
    {
     "data": {
      "text/plain": [
       "module type MONAD =\n",
       "  sig\n",
       "    type 'a t\n",
       "    val return : 'a -> 'a t\n",
       "    val ( let* ) : 'a t -> ('a -> 'b t) -> 'b t\n",
       "  end\n"
      ]
     },
     "execution_count": 15,
     "metadata": {},
     "output_type": "execute_result"
    },
    {
     "data": {
      "text/plain": [
       "module OptionMonad :\n",
       "  sig\n",
       "    type 'a t = 'a option\n",
       "    val return : 'a -> 'a t\n",
       "    val ( let* ) : 'a t -> ('a -> 'b t) -> 'b t\n",
       "  end\n"
      ]
     },
     "execution_count": 15,
     "metadata": {},
     "output_type": "execute_result"
    }
   ],
   "source": [
    "module type MONAD = sig\n",
    "  type 'a t                                  (* computation *)\n",
    "  val return  : 'a -> 'a t                   (* lift a value to a computation *)\n",
    "  val (let*)  : 'a t -> ('a -> 'b t) -> 'b t (* sequence two computations *)\n",
    "end\n",
    "\n",
    "module OptionMonad : (MONAD with type 'a t = 'a option) = struct\n",
    "  type 'a t = 'a option\n",
    "  let return v = Some v\n",
    "  let (let*) m f = match m with\n",
    "  | Some v -> f v\n",
    "  | None -> None\n",
    "end"
   ]
  },
  {
   "cell_type": "markdown",
   "metadata": {
    "slideshow": {
     "slide_type": "slide"
    }
   },
   "source": [
    "## Monad Laws\n",
    "\n",
    "Monad laws constrain what the `return` and `>>=` can do.\n",
    "\n",
    "Any implementation of the monad signature must satisfy the following laws:\n",
    "\n",
    "\n",
    "```ocaml\n",
    "1. return v >>= f   ≡  f v   (* Left Identity *)\n",
    "2. v >>= return     ≡  v     (* Right Identity *)\n",
    "3. (m >>= f) >>= g  ≡  m >>= (fun x -> f x >>= g) \n",
    "                             (* Associativity *)\n",
    "```"
   ]
  },
  {
   "cell_type": "markdown",
   "metadata": {
    "slideshow": {
     "slide_type": "slide"
    }
   },
   "source": [
    "## Option monad satisifies monad laws\n",
    "\n",
    "**Left Identity**: `return v >>= f  ≡  f v`\n",
    "\n",
    "```ocaml\n",
    "  return v >>= f\n",
    "≡ (Some v) >>= f  (* by definition of return *)\n",
    "≡ match Some v with \n",
    "  | None   -> None \n",
    "  | Some v -> f v \n",
    "                  (* by definition of >>= *)\n",
    "≡ f v             (* by beta reduction *)\n",
    "```\n",
    "\n",
    "**Exercice:** Prove other laws."
   ]
  },
  {
   "cell_type": "markdown",
   "metadata": {
    "slideshow": {
     "slide_type": "slide"
    }
   },
   "source": [
    "## Simulating state\n",
    "\n",
    "* Recall, monads simulate **effects** in a **pure** setting.\n",
    "  + **option** monad simulates **exceptions**\n",
    "* How can we simulate **mutability**?\n",
    "  + For a start, a single, typed, mutable location in the whole program.\n",
    "  + Operations to `get` the current state and `put` a new state."
   ]
  },
  {
   "cell_type": "markdown",
   "metadata": {
    "slideshow": {
     "slide_type": "fragment"
    }
   },
   "source": [
    "**Idea:** _Thread_ the state through the program.\n",
    "\n",
    "_Threading_ the state means passing the state as an additional argument to _every_ function and returning the new state along with the function result."
   ]
  },
  {
   "cell_type": "markdown",
   "metadata": {
    "slideshow": {
     "slide_type": "slide"
    }
   },
   "source": [
    "## Threading the state\n",
    "\n",
    "What does threading the state look like? \n",
    "\n",
    "The usual Fibonacci function looks like:"
   ]
  },
  {
   "cell_type": "code",
   "execution_count": 16,
   "metadata": {},
   "outputs": [
    {
     "data": {
      "text/plain": [
       "val fib : int -> int = <fun>\n"
      ]
     },
     "execution_count": 16,
     "metadata": {},
     "output_type": "execute_result"
    }
   ],
   "source": [
    "let rec fib n = \n",
    "  if n < 2 then 1 \n",
    "  else fib (n-1) + fib (n-2)"
   ]
  },
  {
   "cell_type": "markdown",
   "metadata": {
    "slideshow": {
     "slide_type": "slide"
    }
   },
   "source": [
    "## Threading the state"
   ]
  },
  {
   "cell_type": "markdown",
   "metadata": {},
   "source": [
    "Here is the Fibonacci function that threads the state through as \n",
    "\n",
    "* the last additional argument and \n",
    "* returns a pair of the new state and the result of the function"
   ]
  },
  {
   "cell_type": "code",
   "execution_count": 17,
   "metadata": {},
   "outputs": [
    {
     "data": {
      "text/plain": [
       "val fib : int -> 'a -> 'a * int = <fun>\n"
      ]
     },
     "execution_count": 17,
     "metadata": {},
     "output_type": "execute_result"
    }
   ],
   "source": [
    "let rec fib n (s (* threaded state *)) = \n",
    "  if n < 2 then (s, 1) \n",
    "  else \n",
    "    let (s1, v1) = fib (n-1) s in\n",
    "    let (s2, v2) = fib (n-2) s1 in\n",
    "    (s2, v1 + v2)\n"
   ]
  },
  {
   "cell_type": "markdown",
   "metadata": {},
   "source": [
    "The above function neither reads the state nor writes to the state."
   ]
  },
  {
   "cell_type": "markdown",
   "metadata": {
    "slideshow": {
     "slide_type": "slide"
    }
   },
   "source": [
    "## Remove tedium\n",
    "\n",
    "Quite tedious to write functions that explicitly thread the state through (and possibly not even touch it).\n",
    "\n",
    "**Note:** Using the type variable `state` for the state type.\n",
    "\n",
    "```ocaml\n",
    "val fib : int -> state -> state * int\n",
    "\n",
    "let rec fib n (s (* threaded state *)) = \n",
    "  if n < 2 then (s, 1) \n",
    "  else \n",
    "    let (s1, v1) = fib (n-1) s in\n",
    "    let (s2, v2) = fib (n-2) s1 in\n",
    "    (s2, v1 + v2)\n",
    "```\n",
    "\n"
   ]
  },
  {
   "cell_type": "markdown",
   "metadata": {
    "slideshow": {
     "slide_type": "slide"
    }
   },
   "source": [
    "## Remove tedium\n",
    "\n",
    "Look at the types:\n",
    "```ocaml\n",
    "type state\n",
    "val fib : int -> state -> (state, int)\n",
    "```\n",
    "Identify the monadic pattern:\n",
    "```ocaml\n",
    "type state\n",
    "type 'a t (* computation type *) = state -> (state, 'a)\n",
    "val fib : int -> int t\n",
    "```\n",
    "`'a` is the return type of the computation."
   ]
  },
  {
   "cell_type": "markdown",
   "metadata": {
    "slideshow": {
     "slide_type": "slide"
    }
   },
   "source": [
    "## `bind` computations\n",
    "\n",
    "How to make this better?\n",
    "\n",
    "```ocaml\n",
    "...\n",
    "    let (s1, v1) = fib (n-1) s in\n",
    "    let (s2, v2) = fib (n-2) s1 in\n",
    "    (s2, v1 + v2)\n",
    "```    \n",
    "\n",
    "Use `bind` to forward the state to the subsequent computation. \n",
    "\n",
    "\n",
    "```ocaml\n",
    "type state\n",
    "type 'a t = state -> (state, 'a) (* computation *)\n",
    "\n",
    "let bind (m : 'a t) (f : 'a -> 'b t) : 'b t = \n",
    "  fun s (* current state *) ->\n",
    "    let (s': state, v : 'a) = m s in\n",
    "    let (s'': state, res: 'b) = f v s' in\n",
    "    (s'' (* resultant state *), res)\n",
    "\n",
    "let return (v : 'a) = fun s -> (s,v)\n",
    "```"
   ]
  },
  {
   "cell_type": "markdown",
   "metadata": {
    "slideshow": {
     "slide_type": "slide"
    }
   },
   "source": [
    "## `bind` computations\n",
    "\n",
    "With `let (let*) = bind`, we get:\n",
    "\n",
    "```ocaml\n",
    "...\n",
    "    let* v1 = fib (n-1) in\n",
    "    let* v2 = fib (n-2) in\n",
    "    return (v1 + v2)\n",
    "```\n",
    "\n",
    "👍"
   ]
  },
  {
   "cell_type": "markdown",
   "metadata": {
    "slideshow": {
     "slide_type": "slide"
    }
   },
   "source": [
    "## Manipulating the state\n",
    "\n",
    "In order to read and write the state, we implement the following functions.\n",
    "\n",
    "```ocaml\n",
    "type state\n",
    "type 'a t = state -> (state, 'a) (* computation *)\n",
    "\n",
    "let get = fun (s:state) -> (s,s)  \n",
    "\n",
    "let put ns = fun (s:state) -> (ns,())\n",
    "\n",
    "```"
   ]
  },
  {
   "cell_type": "markdown",
   "metadata": {
    "slideshow": {
     "slide_type": "slide"
    }
   },
   "source": [
    "## State Monad\n",
    "\n",
    "What we've defined is a state monad.\n",
    "\n",
    "* A State Monad introduces a **single, typed mutable cell**.\n",
    "* Offers\n",
    "  + `get` and `put` functions for reading and writing the state, and \n",
    "  + Also includes a `run_state` function for performing computations with an initial state."
   ]
  },
  {
   "cell_type": "markdown",
   "metadata": {
    "slideshow": {
     "slide_type": "slide"
    }
   },
   "source": [
    "## State Monad"
   ]
  },
  {
   "cell_type": "code",
   "execution_count": 40,
   "metadata": {
    "slideshow": {
     "slide_type": "-"
    }
   },
   "outputs": [
    {
     "data": {
      "text/plain": [
       "module type STATE =\n",
       "  sig\n",
       "    type state\n",
       "    type 'a t\n",
       "    val return : 'a -> 'a t\n",
       "    val ( let* ) : 'a t -> ('a -> 'b t) -> 'b t\n",
       "    val get : state t\n",
       "    val put : state -> unit t\n",
       "    val run_state : 'a t -> state -> state * 'a\n",
       "  end\n"
      ]
     },
     "execution_count": 40,
     "metadata": {},
     "output_type": "execute_result"
    }
   ],
   "source": [
    "module type STATE = sig\n",
    "  type state\n",
    "  include MONAD\n",
    "  val get : state t\n",
    "  val put : state -> unit t\n",
    "  val run_state : 'a t \n",
    "                -> state  (* initial state *)\n",
    "                -> state (* final state *) * 'a\n",
    "end"
   ]
  },
  {
   "cell_type": "markdown",
   "metadata": {
    "slideshow": {
     "slide_type": "slide"
    }
   },
   "source": [
    "## State Monad\n",
    "\n",
    "Here's an implementation of the `STATE` monad, parameterised by the type of the state:"
   ]
  },
  {
   "cell_type": "code",
   "execution_count": 41,
   "metadata": {},
   "outputs": [
    {
     "data": {
      "text/plain": [
       "module State :\n",
       "  functor (S : sig type t end) ->\n",
       "    sig\n",
       "      type state = S.t\n",
       "      type 'a t\n",
       "      val return : 'a -> 'a t\n",
       "      val ( let* ) : 'a t -> ('a -> 'b t) -> 'b t\n",
       "      val get : state t\n",
       "      val put : state -> unit t\n",
       "      val run_state : 'a t -> state -> state * 'a\n",
       "    end\n"
      ]
     },
     "execution_count": 41,
     "metadata": {},
     "output_type": "execute_result"
    }
   ],
   "source": [
    "module State (S : sig type t end) \n",
    "  : STATE with type state = S.t = struct\n",
    "\n",
    "  type state = S.t\n",
    "  type 'a t = state -> state * 'a (* computation *)\n",
    "\n",
    "  let return v = fun s -> (s, v)\n",
    "\n",
    "  let (let*) m f = fun s -> \n",
    "    let (s', a) = m s in \n",
    "    f a s'\n",
    "\n",
    "  let get = fun s -> (s, s)\n",
    "\n",
    "  let put s' = fun _ -> (s', ())\n",
    "\n",
    "  let run_state m init = m init\n",
    "end"
   ]
  },
  {
   "cell_type": "markdown",
   "metadata": {
    "slideshow": {
     "slide_type": "slide"
    }
   },
   "source": [
    "## Using State Monad"
   ]
  },
  {
   "cell_type": "code",
   "execution_count": 42,
   "metadata": {},
   "outputs": [
    {
     "data": {
      "text/plain": [
       "module IntState :\n",
       "  sig\n",
       "    type state = int\n",
       "    type 'a t\n",
       "    val return : 'a -> 'a t\n",
       "    val ( let* ) : 'a t -> ('a -> 'b t) -> 'b t\n",
       "    val get : state t\n",
       "    val put : state -> unit t\n",
       "    val run_state : 'a t -> state -> state * 'a\n",
       "  end\n"
      ]
     },
     "execution_count": 42,
     "metadata": {},
     "output_type": "execute_result"
    },
    {
     "data": {
      "text/plain": [
       "val inc : int -> unit IntState.t = <fun>\n"
      ]
     },
     "execution_count": 42,
     "metadata": {},
     "output_type": "execute_result"
    },
    {
     "data": {
      "text/plain": [
       "val dec : int -> unit IntState.t = <fun>\n"
      ]
     },
     "execution_count": 42,
     "metadata": {},
     "output_type": "execute_result"
    },
    {
     "data": {
      "text/plain": [
       "val double : unit IntState.t = <abstr>\n"
      ]
     },
     "execution_count": 42,
     "metadata": {},
     "output_type": "execute_result"
    }
   ],
   "source": [
    "module IntState = State (struct type t = int end)\n",
    "open IntState \n",
    "\n",
    "(* [inc v] increments the state by [v] *)\n",
    "let inc v = \n",
    "  let* s = get in \n",
    "  put (s+v)\n",
    "\n",
    "(* [dec v] decrements the state by [v] *)\n",
    "let dec v = \n",
    "  let* s = get in\n",
    "  put (s-v)\n",
    "\n",
    "(* [double] doubles the state *)\n",
    "let double =\n",
    "  let* s = get in\n",
    "  put (s*2)"
   ]
  },
  {
   "cell_type": "markdown",
   "metadata": {
    "slideshow": {
     "slide_type": "slide"
    }
   },
   "source": [
    "## Using State Monad"
   ]
  },
  {
   "cell_type": "code",
   "execution_count": 43,
   "metadata": {},
   "outputs": [
    {
     "data": {
      "text/plain": [
       "- : IntState.state * unit = (50, ())\n"
      ]
     },
     "execution_count": 43,
     "metadata": {},
     "output_type": "execute_result"
    }
   ],
   "source": [
    "let comp = \n",
    "  let* _ = inc 20 in\n",
    "  let* _ = double in\n",
    "  dec 10\n",
    "in\n",
    "\n",
    "IntState.run_state comp 10"
   ]
  },
  {
   "cell_type": "code",
   "execution_count": 44,
   "metadata": {
    "slideshow": {
     "slide_type": "fragment"
    }
   },
   "outputs": [
    {
     "data": {
      "text/plain": [
       "module FloatState :\n",
       "  sig\n",
       "    type state = float\n",
       "    type 'a t\n",
       "    val return : 'a -> 'a t\n",
       "    val ( let* ) : 'a t -> ('a -> 'b t) -> 'b t\n",
       "    val get : state t\n",
       "    val put : state -> unit t\n",
       "    val run_state : 'a t -> state -> state * 'a\n",
       "  end\n"
      ]
     },
     "execution_count": 44,
     "metadata": {},
     "output_type": "execute_result"
    },
    {
     "data": {
      "text/plain": [
       "val comp : string FloatState.t = <abstr>\n"
      ]
     },
     "execution_count": 44,
     "metadata": {},
     "output_type": "execute_result"
    },
    {
     "data": {
      "text/plain": [
       "- : FloatState.state * string = (6.4, \"Hello, world\")\n"
      ]
     },
     "execution_count": 44,
     "metadata": {},
     "output_type": "execute_result"
    }
   ],
   "source": [
    "module FloatState = State (struct type t = float end)\n",
    "open FloatState\n",
    "\n",
    "let comp = \n",
    "  let* v = get in \n",
    "  let* _ = put (v +. 1.0) in\n",
    "  return \"Hello, world\"\n",
    ";;\n",
    "\n",
    "run_state  comp 5.4"
   ]
  },
  {
   "cell_type": "markdown",
   "metadata": {
    "slideshow": {
     "slide_type": "slide"
    }
   },
   "source": [
    "## Fibonacci, again (in a monad)"
   ]
  },
  {
   "cell_type": "code",
   "execution_count": 45,
   "metadata": {},
   "outputs": [
    {
     "data": {
      "text/plain": [
       "val fib : int -> int t = <fun>\n"
      ]
     },
     "execution_count": 45,
     "metadata": {},
     "output_type": "execute_result"
    },
    {
     "data": {
      "text/plain": [
       "val fib_state : unit t = <abstr>\n"
      ]
     },
     "execution_count": 45,
     "metadata": {},
     "output_type": "execute_result"
    },
    {
     "data": {
      "text/plain": [
       "- : state * unit = (89, ())\n"
      ]
     },
     "execution_count": 45,
     "metadata": {},
     "output_type": "execute_result"
    }
   ],
   "source": [
    "open State (struct type t = int end)\n",
    "\n",
    "let rec fib n = \n",
    "  if n < 2 then return 1\n",
    "  else\n",
    "    let* v1 = fib (n-1) in\n",
    "    let* v2 = fib (n-2) in\n",
    "    return (v1 + v2)\n",
    "\n",
    "let fib_state = \n",
    "  let* n = get in\n",
    "  let* r = fib n in\n",
    "  put r\n",
    ";;\n",
    "  \n",
    "run_state fib_state 10 "
   ]
  },
  {
   "cell_type": "markdown",
   "metadata": {
    "slideshow": {
     "slide_type": "slide"
    }
   },
   "source": [
    "## State monad satisfies monad laws\n",
    "\n",
    "**Right Associativity**: `v >>= return  ≡  v`\n",
    "\n",
    "```ocaml\n",
    "  v >>= return\n",
    "≡ fun s -> \n",
    "    let (s', a) = v s in \n",
    "    return a s' (* by definition of >>= *)\n",
    "≡ fun s -> \n",
    "    let (s', a) = v s in \n",
    "    (fun v s -> (s,v)) a s' (* by definition of return *)\n",
    "≡ fun s -> let (s', a) = v s in (s',a) (* by beta reduction *)\n",
    "≡ fun s -> v s (* by eta reduction *)\n",
    "≡ v (* by eta reduction *)\n",
    "```\n",
    "\n",
    "**Exercise**: Prove other laws."
   ]
  },
  {
   "cell_type": "markdown",
   "metadata": {
    "slideshow": {
     "slide_type": "slide"
    }
   },
   "source": [
    "## Exercise: Writer Monad\n",
    "\n",
    "Suppose we want to maintain a log of all function calls made during a computation."
   ]
  },
  {
   "cell_type": "code",
   "execution_count": null,
   "metadata": {},
   "outputs": [],
   "source": [
    "let inc x = x + 1;;\n",
    "let dec x = x - 1;;\n",
    "let id x = \n",
    "  let v1 = inc x in\n",
    "  let v2 = dec v1 in\n",
    "  v2"
   ]
  },
  {
   "cell_type": "markdown",
   "metadata": {
    "slideshow": {
     "slide_type": "slide"
    }
   },
   "source": [
    "We first introduce a `log` function:"
   ]
  },
  {
   "cell_type": "code",
   "execution_count": null,
   "metadata": {},
   "outputs": [],
   "source": [
    "let log name f x = (\"Called \" ^ name ^ \" on \" ^ string_of_int x ^ \";\",f x)"
   ]
  },
  {
   "cell_type": "code",
   "execution_count": null,
   "metadata": {},
   "outputs": [],
   "source": [
    "log \"inc\" inc 5"
   ]
  },
  {
   "cell_type": "markdown",
   "metadata": {
    "slideshow": {
     "slide_type": "slide"
    }
   },
   "source": [
    "Design a WRITER MONAD module such that the following computation:\n",
    "```ocaml\n",
    "let id x = \n",
    "  let* v1 = log \"inc\" inc x in\n",
    "  let* v2 = log \"dec\" dec v1 in\n",
    "  return v2;;\n",
    "  \n",
    "id 5  \n",
    "```\n",
    "generates the result\n",
    "\n",
    "```ocaml\n",
    "(\"Called inc on 5;Called dec on 6;\",5)\n",
    "```"
   ]
  }
 ],
 "metadata": {
  "celltoolbar": "Slideshow",
  "kernelspec": {
   "display_name": "OCaml 4.10",
   "language": "OCaml",
   "name": "ocaml-jupyter"
  },
  "language_info": {
   "codemirror_mode": "text/x-ocaml",
   "file_extension": ".ml",
   "mimetype": "text/x-ocaml",
   "name": "OCaml",
   "nbconverter_exporter": null,
   "pygments_lexer": "OCaml",
   "version": "4.10.0"
  }
 },
 "nbformat": 4,
 "nbformat_minor": 2
}
