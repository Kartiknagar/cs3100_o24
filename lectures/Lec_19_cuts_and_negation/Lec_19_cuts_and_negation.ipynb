{
 "cells": [
  {
   "cell_type": "markdown",
   "metadata": {
    "slideshow": {
     "slide_type": "slide"
    }
   },
   "source": [
    "<center>\n",
    "\n",
    "<h1> Cuts and Negation </h1>\n",
    "</center>"
   ]
  },
  {
   "cell_type": "markdown",
   "metadata": {
    "slideshow": {
     "slide_type": "slide"
    }
   },
   "source": [
    "## Review\n",
    "\n",
    "### Previously\n",
    "\n",
    "* Control in Prolog: an abstract interpreter for prolog programs\n",
    "\n",
    "### This lecture\n",
    "\n",
    "* Cuts\n",
    "  + A mechanism for pruning Prolog search trees\n",
    "  + Red and Green cuts"
   ]
  },
  {
   "cell_type": "markdown",
   "metadata": {
    "slideshow": {
     "slide_type": "slide"
    }
   },
   "source": [
    "## Evaluator\n",
    "\n",
    "Consider a simple evaluator for arithmetic expressions."
   ]
  },
  {
   "cell_type": "code",
   "execution_count": null,
   "metadata": {},
   "outputs": [],
   "source": [
    "eval(plus(A,B),C) :- eval(A,VA), eval(B,VB), C is VA + VB.\n",
    "eval(mult(A,B),C) :- eval(A,VA), eval(B,VB), C is VA * VB.\n",
    "eval(A,A)."
   ]
  },
  {
   "cell_type": "markdown",
   "metadata": {
    "slideshow": {
     "slide_type": "slide"
    }
   },
   "source": [
    "## Evaluator\n",
    "\n",
    "What is the result of evaluating `1 + (4 * 5)`?"
   ]
  },
  {
   "cell_type": "code",
   "execution_count": null,
   "metadata": {
    "slideshow": {
     "slide_type": "fragment"
    }
   },
   "outputs": [],
   "source": [
    "?- eval(plus(1,mult(4,5)),X) {1}."
   ]
  },
  {
   "cell_type": "code",
   "execution_count": null,
   "metadata": {
    "slideshow": {
     "slide_type": "fragment"
    }
   },
   "outputs": [],
   "source": [
    "?- eval(plus(1,mult(4,5)),X) {2}."
   ]
  },
  {
   "cell_type": "markdown",
   "metadata": {
    "slideshow": {
     "slide_type": "fragment"
    }
   },
   "source": [
    "`eval(A,A)` unfies with goals such as `eval(mult(4,5),VB)` :-("
   ]
  },
  {
   "cell_type": "markdown",
   "metadata": {
    "slideshow": {
     "slide_type": "slide"
    }
   },
   "source": [
    "## Fixing the evaluator - with wrapper\n",
    "\n",
    "Wrap the values in a function `value`."
   ]
  },
  {
   "cell_type": "code",
   "execution_count": null,
   "metadata": {},
   "outputs": [],
   "source": [
    "eval2(plus(A,B),C) :- eval2(A,VA), eval2(B,VB), C is VA + VB.\n",
    "eval2(mult(A,B),C) :- eval2(A,VA), eval2(B,VB), C is VA * VB.\n",
    "eval2(value(A),A)."
   ]
  },
  {
   "cell_type": "code",
   "execution_count": null,
   "metadata": {
    "scrolled": true
   },
   "outputs": [],
   "source": [
    "?- eval2(plus(value(1),mult(value(4),value(5))),X)."
   ]
  },
  {
   "cell_type": "markdown",
   "metadata": {
    "slideshow": {
     "slide_type": "slide"
    }
   },
   "source": [
    "## Fixing the evaluator - with cut\n",
    "\n",
    "* The **cut** is an extra-logical (outside pure logic) operator that prunes the search trees. \n",
    "* When the evaluation cross a cut, it prunes\n",
    "  + All the subsequent possible branches in the head of the rule.\n",
    "  + All the subsequent possible branches in the preceeding sub-goals in the same rule."
   ]
  },
  {
   "cell_type": "code",
   "execution_count": null,
   "metadata": {},
   "outputs": [],
   "source": [
    "eval3(plus(A,B),C) :- !, eval3(A,VA), eval3(B,VB), C is VA + VB.\n",
    "eval3(mult(A,B),C) :- !, eval3(A,VA), eval3(B,VB), C is VA * VB.\n",
    "eval3(A,A)."
   ]
  },
  {
   "cell_type": "code",
   "execution_count": null,
   "metadata": {},
   "outputs": [],
   "source": [
    "?- eval3(plus(1,mult(4,5)),X)."
   ]
  },
  {
   "cell_type": "markdown",
   "metadata": {
    "slideshow": {
     "slide_type": "slide"
    }
   },
   "source": [
    "## Cut behaviour"
   ]
  },
  {
   "cell_type": "code",
   "execution_count": null,
   "metadata": {},
   "outputs": [],
   "source": [
    "p(a).\n",
    "p(b).\n",
    "r(c).\n",
    "q(X) :- p(X), !.\n",
    "q(X) :- r(X)."
   ]
  },
  {
   "cell_type": "code",
   "execution_count": null,
   "metadata": {},
   "outputs": [],
   "source": [
    "?- q(X)."
   ]
  },
  {
   "cell_type": "markdown",
   "metadata": {
    "slideshow": {
     "slide_type": "slide"
    }
   },
   "source": [
    "## Cut behaviour"
   ]
  },
  {
   "cell_type": "code",
   "execution_count": null,
   "metadata": {},
   "outputs": [],
   "source": [
    "p2(a).\n",
    "p2(b).\n",
    "r2(c).\n",
    "q2(X) :- !, p2(X).\n",
    "q2(X) :- r2(X)."
   ]
  },
  {
   "cell_type": "code",
   "execution_count": null,
   "metadata": {},
   "outputs": [],
   "source": [
    "?- q2(X)."
   ]
  },
  {
   "cell_type": "markdown",
   "metadata": {
    "slideshow": {
     "slide_type": "slide"
    }
   },
   "source": [
    "## Quiz\n",
    "\n",
    "```prolog\n",
    "split([],[],[]).\n",
    "split([H|T],[H|L],R) :- H < 5, split(T,L,R).\n",
    "split([H|T],L,[H|R]) :- H >= 5, split(T,L,R).\n",
    "```\n",
    "\n",
    "What is the result of `?- split([1,3,5,7,9],L,R)`?\n",
    "\n",
    "    1. L=[1,3], R=[5,7,9]\n",
    "    2. L=[1,3,5], R=[7,9]\n",
    "    3. false\n",
    "    4. L=[1,3], R=[7,9]"
   ]
  },
  {
   "cell_type": "markdown",
   "metadata": {
    "slideshow": {
     "slide_type": "slide"
    }
   },
   "source": [
    "## Quiz\n",
    "\n",
    "```prolog\n",
    "split([],[],[]).\n",
    "split([H|T],[H|L],R) :- H < 5, split(T,L,R).\n",
    "split([H|T],L,[H|R]) :- H >= 5, split(T,L,R).\n",
    "```\n",
    "\n",
    "What is the result of `?- split([1,3,5,7,9],L,R)`?\n",
    "\n",
    "    1. L=[1,3], R=[5,7,9] ✔️\n",
    "    2. L=[1,3,5], R=[7,9]\n",
    "    3. false\n",
    "    4. L=[1,3], R=[7,9]"
   ]
  },
  {
   "cell_type": "markdown",
   "metadata": {
    "slideshow": {
     "slide_type": "slide"
    }
   },
   "source": [
    "## Split"
   ]
  },
  {
   "cell_type": "code",
   "execution_count": null,
   "metadata": {},
   "outputs": [],
   "source": [
    "split([],[],[]).\n",
    "split([H|T],[H|L],R) :- H < 5, split(T,L,R).\n",
    "split([H|T],L,[H|R]) :- H >= 5, split(T,L,R)."
   ]
  },
  {
   "cell_type": "code",
   "execution_count": null,
   "metadata": {},
   "outputs": [],
   "source": [
    "?- split([1,2,3,4,5,6,7,8,9],L,R)."
   ]
  },
  {
   "cell_type": "markdown",
   "metadata": {
    "slideshow": {
     "slide_type": "fragment"
    }
   },
   "source": [
    "* Observe that the last two cases are mutually exclusive. \n",
    "  + But Prolog still searches through the third rule, if second rule was successfully matched."
   ]
  },
  {
   "cell_type": "markdown",
   "metadata": {
    "slideshow": {
     "slide_type": "slide"
    }
   },
   "source": [
    "## Split with cut"
   ]
  },
  {
   "cell_type": "code",
   "execution_count": null,
   "metadata": {},
   "outputs": [],
   "source": [
    "split2([],[],[]).\n",
    "split2([H|T],[H|L],R) :- H < 5, !, split2(T,L,R).\n",
    "split2([H|T],L,[H|R]) :- H >= 5, !, split2(T,L,R)."
   ]
  },
  {
   "cell_type": "code",
   "execution_count": null,
   "metadata": {},
   "outputs": [],
   "source": [
    "?- split2([1,2,3,4,5,6,7,8,9],L,R)."
   ]
  },
  {
   "cell_type": "markdown",
   "metadata": {
    "slideshow": {
     "slide_type": "fragment"
    }
   },
   "source": [
    "* The second `!` is unnecessary as there are no further choices.\n",
    "  + In fact, the predicate `H >= 5` is unnecessary since the only way to end up here is if the first rule failed.\n",
    "  + But better to leave it there for readability.\n",
    "* Recommendation:\n",
    "  + Use cut to optimise execution, but retain predicates which help readability. "
   ]
  },
  {
   "cell_type": "markdown",
   "metadata": {
    "slideshow": {
     "slide_type": "slide"
    }
   },
   "source": [
    "## Minimum with cut\n",
    "\n",
    "We want to implement `min(X,Y,Z)` such that `Z` is the minimum among `X` and `Y`. Which of the following are correct?\n",
    "\n",
    "\n",
    "1. ```prolog\n",
    "min(X,Y,X) :- X =< Y.\n",
    "min(X,Y,Y).\n",
    "```\n",
    "2. ```prolog\n",
    "min(X,Y,X) :- X =< Y.\n",
    "min(X,Y,Y) :- X > Y.\n",
    "```\n",
    "\n",
    "3. ```prolog\n",
    "min(X,Y,X) :- !, X =< Y.\n",
    "min(X,Y,Y).\n",
    "```\n",
    "4. ```prolog\n",
    "min(X,Y,X) :- X =< Y, !.\n",
    "min(X,Y,Y).\n",
    "```\n"
   ]
  },
  {
   "cell_type": "markdown",
   "metadata": {
    "slideshow": {
     "slide_type": "slide"
    }
   },
   "source": [
    "## Quiz\n",
    "\n",
    "What is the logical meaning of these clauses?\n",
    "\n",
    "```prolog\n",
    "p :- a,b.\n",
    "p :- c.\n",
    "```\n",
    "\n",
    "1. $p \\leftarrow (a \\wedge b) \\vee c$.\n",
    "2. $p \\leftarrow a \\wedge b \\wedge c$.\n",
    "3. $p \\leftarrow (a \\wedge b) \\vee (\\neg a \\wedge c)$.\n",
    "4. $p \\leftarrow a \\wedge (b \\vee c)$."
   ]
  },
  {
   "cell_type": "markdown",
   "metadata": {
    "slideshow": {
     "slide_type": "slide"
    }
   },
   "source": [
    "## Quiz\n",
    "\n",
    "What is the logical meaning of these clauses?\n",
    "\n",
    "```prolog\n",
    "p :- a,b.\n",
    "p :- c.\n",
    "```\n",
    "\n",
    "1. $p \\leftarrow (a \\wedge b) \\vee c$. **✓**\n",
    "2. $p \\leftarrow a \\wedge b \\wedge c$.\n",
    "3. $p \\leftarrow (a \\wedge b) \\vee (\\neg a \\wedge c)$.\n",
    "4. $p \\leftarrow a \\wedge (b \\vee c)$."
   ]
  },
  {
   "cell_type": "markdown",
   "metadata": {
    "slideshow": {
     "slide_type": "slide"
    }
   },
   "source": [
    "## Quiz\n",
    "\n",
    "What is the logical meaning of these clauses?\n",
    "\n",
    "```prolog\n",
    "p :- a,!,b.\n",
    "p :- c.\n",
    "```\n",
    "\n",
    "1. $p \\leftarrow (a \\wedge b) \\vee c$.\n",
    "2. $p \\leftarrow a \\wedge b \\wedge c$.\n",
    "3. $p \\leftarrow (a \\wedge b) \\vee (\\neg a \\wedge c)$.\n",
    "4. $p \\leftarrow a \\wedge (b \\vee c)$."
   ]
  },
  {
   "cell_type": "markdown",
   "metadata": {
    "slideshow": {
     "slide_type": "slide"
    }
   },
   "source": [
    "## Quiz\n",
    "\n",
    "What is the logical meaning of these clauses?\n",
    "\n",
    "```prolog\n",
    "p :- a,!,b.\n",
    "p :- c.\n",
    "```\n",
    "\n",
    "1. $p \\leftarrow (a \\wedge b) \\vee c$.\n",
    "2. $p \\leftarrow a \\wedge b \\wedge c$.\n",
    "3. $p \\leftarrow (a \\wedge b) \\vee (\\neg a \\wedge c)$.  **✓**\n",
    "4. $p \\leftarrow a \\wedge (b \\vee c)$."
   ]
  },
  {
   "cell_type": "markdown",
   "metadata": {
    "slideshow": {
     "slide_type": "slide"
    }
   },
   "source": [
    "## Red and Green cuts\n",
    "\n",
    "```prolog\n",
    "p :- a,!,b.\n",
    "p :- c.\n",
    "```\n",
    "\n",
    "Since the cut above changes the logical meaning of the program, it is known as **Red cut**.\n",
    "\n",
    "```prolog\n",
    "split([],[],[]).\n",
    "split([H|T],[H|L],R) :- H < 5, !, split(T,L,R).\n",
    "split([H|T],L,[H|R]) :- H >= 5, split(T,L,R).\n",
    "```\n",
    "\n",
    "The cut in split does not change the logical meaning of the program. Hence, it is called **Green cut**."
   ]
  },
  {
   "cell_type": "markdown",
   "metadata": {
    "slideshow": {
     "slide_type": "slide"
    }
   },
   "source": [
    "## Remove Stutter"
   ]
  },
  {
   "cell_type": "code",
   "execution_count": null,
   "metadata": {},
   "outputs": [],
   "source": [
    "remove_stutter([],[]). \n",
    "remove_stutter([H],[H]).\n",
    "remove_stutter([H,H|T],L) :- !, remove_stutter([H|T],L).\n",
    "remove_stutter([X,Y|T],[X|L]) :- remove_stutter([Y|T],L)."
   ]
  },
  {
   "cell_type": "code",
   "execution_count": null,
   "metadata": {},
   "outputs": [],
   "source": [
    "?- remove_stutter([1,1,2,2,2,3,4,1,1],X)."
   ]
  },
  {
   "cell_type": "markdown",
   "metadata": {
    "slideshow": {
     "slide_type": "slide"
    }
   },
   "source": [
    "## Remove Stutter\n",
    "\n",
    "Can be equivalently written as:"
   ]
  },
  {
   "cell_type": "code",
   "execution_count": null,
   "metadata": {},
   "outputs": [],
   "source": [
    "remove_stutter2([],[]).\n",
    "remove_stutter2([H],[H]).\n",
    "remove_stutter2([H,H|T],L) :- remove_stutter2([H|T],L).\n",
    "remove_stutter2([X,Y|T],[X|L]) :- not(X=Y), remove_stutter2([Y|T],L)."
   ]
  },
  {
   "cell_type": "code",
   "execution_count": null,
   "metadata": {},
   "outputs": [],
   "source": [
    "?- remove_stutter2([1,1,2,2,2,3,4,1,1],X)."
   ]
  },
  {
   "cell_type": "markdown",
   "metadata": {
    "slideshow": {
     "slide_type": "slide"
    }
   },
   "source": [
    "## Negation\n",
    "\n",
    "* What is the relationship between cut and negation?\n",
    "* With the use of negation, the clause is no longer a definite clause. What's going on here?"
   ]
  },
  {
   "cell_type": "markdown",
   "metadata": {
    "slideshow": {
     "slide_type": "slide"
    }
   },
   "source": [
    "## Quiz\n",
    "\n",
    "What does this do?\n",
    "\n",
    "```prolog\n",
    "a :- !, 1=2.\n",
    "?- a.\n",
    "```\n",
    "\n",
    "1. successfully unfies 1 with 2\n",
    "2. throws an exception\n",
    "3. loops indefinitely\n",
    "4. fails"
   ]
  },
  {
   "cell_type": "markdown",
   "metadata": {
    "slideshow": {
     "slide_type": "slide"
    }
   },
   "source": [
    "## Quiz\n",
    "\n",
    "What does this do?\n",
    "\n",
    "```prolog\n",
    "a :- !, 1=2.\n",
    "?- a.\n",
    "```\n",
    "\n",
    "1. successfully unfies 1 with 2\n",
    "2. throws an exception\n",
    "3. loops indefinitely\n",
    "4. fails **✓**\n",
    "\n",
    "\n",
    "\n",
    "You can give a better name for `a/0`: `fail/0`.\n",
    "  + Prolog has an built-in predicate `fail/0`, which always fails. "
   ]
  },
  {
   "cell_type": "markdown",
   "metadata": {
    "slideshow": {
     "slide_type": "slide"
    }
   },
   "source": [
    "## Quiz\n",
    "\n",
    "What does this do?\n",
    "\n",
    "```prolog\n",
    "a(A,A) :- !,fail.\n",
    "a(_,_).\n",
    "```\n",
    "\n",
    "1. unifies the two arguments\n",
    "2. succeeds if the arguments unify\n",
    "3. succeeds if the arguments don't unify\n",
    "4. always fails"
   ]
  },
  {
   "cell_type": "markdown",
   "metadata": {
    "slideshow": {
     "slide_type": "slide"
    }
   },
   "source": [
    "## Quiz\n",
    "\n",
    "What does this do?\n",
    "\n",
    "```prolog\n",
    "a(A,A) :- !,fail.\n",
    "a(_,_).\n",
    "```\n",
    "\n",
    "1. unifies the two arguments\n",
    "2. succeeds if the arguments unify\n",
    "3. succeeds if the arguments don't unify **✓**\n",
    "4. always fails\n",
    "\n",
    "You can give a better name for `a/2`: `is_different/2`."
   ]
  },
  {
   "cell_type": "markdown",
   "metadata": {
    "slideshow": {
     "slide_type": "slide"
    }
   },
   "source": [
    "## Failure on unification\n",
    "\n",
    "Same as earlier definition with renaming."
   ]
  },
  {
   "cell_type": "code",
   "execution_count": 3,
   "metadata": {},
   "outputs": [
    {
     "name": "stdout",
     "output_type": "stream",
     "text": [
      "Added 2 clauses(s)."
     ]
    }
   ],
   "source": [
    "is_different(A,A) :- !,fail.\n",
    "is_different(_,_)."
   ]
  },
  {
   "cell_type": "code",
   "execution_count": 4,
   "metadata": {},
   "outputs": [
    {
     "name": "stdout",
     "output_type": "stream",
     "text": [
      "true."
     ]
    }
   ],
   "source": [
    "?- is_different(m,n)."
   ]
  },
  {
   "cell_type": "markdown",
   "metadata": {
    "slideshow": {
     "slide_type": "fragment"
    }
   },
   "source": [
    "* Prolog also has a built-in operator `\\==` for `is_different`"
   ]
  },
  {
   "cell_type": "code",
   "execution_count": 7,
   "metadata": {
    "slideshow": {
     "slide_type": "fragment"
    }
   },
   "outputs": [
    {
     "name": "stdout",
     "output_type": "stream",
     "text": [
      "true."
     ]
    }
   ],
   "source": [
    "?- m \\== n."
   ]
  },
  {
   "cell_type": "markdown",
   "metadata": {
    "slideshow": {
     "slide_type": "slide"
    }
   },
   "source": [
    "## Negation by failure\n",
    "\n",
    "We can now implement `not` using negation-by-failure.\n",
    "\n",
    "```prolog\n",
    "not(A) :- A,!,fail.\n",
    "not(_).\n",
    "```"
   ]
  },
  {
   "cell_type": "code",
   "execution_count": null,
   "metadata": {},
   "outputs": [],
   "source": [
    "?- not(1=2)."
   ]
  },
  {
   "cell_type": "markdown",
   "metadata": {},
   "source": [
    "* `not/1` is a built-in in Prolog.\n",
    "* You may also write `not(A)` as `\\+A`. "
   ]
  },
  {
   "cell_type": "markdown",
   "metadata": {
    "slideshow": {
     "slide_type": "slide"
    }
   },
   "source": [
    "## Quiz\n",
    "\n",
    "What sort of a cut is this?\n",
    "\n",
    "```prolog\n",
    "not(A) :- A,!,fail.\n",
    "not(_).\n",
    "```\n",
    "\n",
    "1. red.\n",
    "2. amber.\n",
    "3. green."
   ]
  },
  {
   "cell_type": "markdown",
   "metadata": {
    "slideshow": {
     "slide_type": "slide"
    }
   },
   "source": [
    "## Quiz\n",
    "\n",
    "What sort of a cut is this?\n",
    "\n",
    "```prolog\n",
    "not(A) :- A,!,fail.\n",
    "not(_).\n",
    "```\n",
    "\n",
    "1. red. **✓**\n",
    "2. amber.\n",
    "3. green.\n",
    "\n",
    "If the cut were not there, then the first rule would always fail, but the second rule will always succeed."
   ]
  },
  {
   "cell_type": "markdown",
   "metadata": {
    "slideshow": {
     "slide_type": "slide"
    }
   },
   "source": [
    "## Closed world assumption\n",
    "\n",
    "Everything that is true in the \"world\" is stated (or can be derived from) the clauses in the program. \n",
    "\n",
    "`not` is based on the closed world assumption.\n",
    "\n",
    "`not(A)` holds if it cannot be shown from the given clauses that `A` holds."
   ]
  },
  {
   "cell_type": "markdown",
   "metadata": {
    "slideshow": {
     "slide_type": "slide"
    }
   },
   "source": [
    "## Example: Buying a phone"
   ]
  },
  {
   "cell_type": "code",
   "execution_count": null,
   "metadata": {},
   "outputs": [],
   "source": [
    "goodPhone(iphone).\n",
    "goodPhone(oneplus).\n",
    "expensive(iphone).\n",
    "\n",
    "bargain(X) :- goodPhone(X), not(expensive(X))."
   ]
  },
  {
   "cell_type": "code",
   "execution_count": null,
   "metadata": {},
   "outputs": [],
   "source": [
    "?- bargain(X)."
   ]
  },
  {
   "cell_type": "markdown",
   "metadata": {
    "slideshow": {
     "slide_type": "slide"
    }
   },
   "source": [
    "## Simple mistake with negation"
   ]
  },
  {
   "cell_type": "code",
   "execution_count": null,
   "metadata": {},
   "outputs": [],
   "source": [
    "goodPhone2(oneplus).\n",
    "goodPhone2(iphone).\n",
    "expensive2(iphone).\n",
    "\n",
    "bargain2(X) :- not(expensive2(X)), goodPhone2(X)."
   ]
  },
  {
   "cell_type": "code",
   "execution_count": null,
   "metadata": {
    "scrolled": false
   },
   "outputs": [],
   "source": [
    "?- bargain2(X)."
   ]
  },
  {
   "cell_type": "markdown",
   "metadata": {
    "slideshow": {
     "slide_type": "slide"
    }
   },
   "source": [
    "## What went wrong?\n",
    "\n",
    "Trace through:\n",
    "\n",
    "```prolog\n",
    "goodPhone2(iphone).\n",
    "goodPhone2(oneplus).\n",
    "expensive2(iphone).\n",
    "\n",
    "not(A) :- A,!,fail.\n",
    "not(_).\n",
    "\n",
    "bargain2(X) :- not(expensive2(X)), goodPhone2(X).\n",
    "\n",
    "?- bargain2(X).\n",
    "```"
   ]
  },
  {
   "cell_type": "markdown",
   "metadata": {
    "slideshow": {
     "slide_type": "slide"
    }
   },
   "source": [
    "## When using negation remember the quantifier\n",
    "\n",
    "Our negation is not a logical one.\n",
    "\n",
    "`expensive2(X)` is $\\exists x.expensive2(x)$.\n",
    "\n",
    "Our `not(expensive2(X))` is $\\neg (\\exists x.expensive2(x)) \\equiv \\forall x.\\neg expensive2(x))$\n",
    "\n",
    "Hence, the rule\n",
    "\n",
    "```prolog\n",
    "bargain2(X) :- not(expensive2(X)), goodPhone2(X).\n",
    "```\n",
    "\n",
    "will only succeed if there are no expensive phones, which is not our intention.\n",
    "\n",
    "* **Recommendation**: Use `not(T)` only when `T` is ground. \n",
    "  + This was the case in the first example."
   ]
  }
 ],
 "metadata": {
  "celltoolbar": "Slideshow",
  "kernelspec": {
   "display_name": "SWI-Prolog",
   "language": "",
   "name": "jswipl"
  },
  "language_info": {
   "mimetype": "text/plain",
   "name": "swipl"
  }
 },
 "nbformat": 4,
 "nbformat_minor": 2
}
