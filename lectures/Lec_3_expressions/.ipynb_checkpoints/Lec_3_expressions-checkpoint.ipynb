{
 "cells": [
  {
   "cell_type": "markdown",
   "metadata": {
    "slideshow": {
     "slide_type": "slide"
    }
   },
   "source": [
    "<div style=\"text-align:center\">\n",
    "    <h1> Expressions </h1>\n",
    "</div>"
   ]
  },
  {
   "cell_type": "markdown",
   "metadata": {
    "slideshow": {
     "slide_type": "slide"
    }
   },
   "source": [
    "## Expressions\n",
    "\n",
    "Every kind of expression has:\n",
    "\n",
    "* **Syntax**\n",
    "* **Semantics:**\n",
    "  + Type-checking rules (static semantics): produce a type or fail with an error message\n",
    "  + Evaluation rules (dynamic semantics): produce a value\n",
    "    * (or exception or infinite loop)\n",
    "    * **Used only on expressions that type-check** (static vs dynamic languages)"
   ]
  },
  {
   "cell_type": "markdown",
   "metadata": {
    "slideshow": {
     "slide_type": "slide"
    }
   },
   "source": [
    "## Values\n",
    "\n",
    "A *value* is an expression that does not need further evaluation.\n",
    "\n",
    "<center>\n",
    "    \n",
    "<img src=\"images/val-expr.svg\" width=\"300\">\n",
    "</center>"
   ]
  },
  {
   "cell_type": "markdown",
   "metadata": {
    "slideshow": {
     "slide_type": "slide"
    }
   },
   "source": [
    "## Values in OCaml"
   ]
  },
  {
   "cell_type": "code",
   "execution_count": 13,
   "metadata": {
    "slideshow": {
     "slide_type": "-"
    }
   },
   "outputs": [
    {
     "data": {
      "text/plain": [
       "- : int = 42\n"
      ]
     },
     "execution_count": 13,
     "metadata": {},
     "output_type": "execute_result"
    }
   ],
   "source": [
    "42"
   ]
  },
  {
   "cell_type": "code",
   "execution_count": 14,
   "metadata": {},
   "outputs": [
    {
     "data": {
      "text/plain": [
       "- : string = \"Hello\"\n"
      ]
     },
     "execution_count": 14,
     "metadata": {},
     "output_type": "execute_result"
    }
   ],
   "source": [
    "\"Hello\""
   ]
  },
  {
   "cell_type": "code",
   "execution_count": 15,
   "metadata": {},
   "outputs": [
    {
     "data": {
      "text/plain": [
       "- : float = 3.1415\n"
      ]
     },
     "execution_count": 15,
     "metadata": {},
     "output_type": "execute_result"
    }
   ],
   "source": [
    "3.1415"
   ]
  },
  {
   "cell_type": "markdown",
   "metadata": {
    "slideshow": {
     "slide_type": "fragment"
    }
   },
   "source": [
    "* Observe that the values have \n",
    "  + static semantics: types `int`, `string`, `float`.\n",
    "  + dynamic semantics: the value itself."
   ]
  },
  {
   "cell_type": "markdown",
   "metadata": {
    "slideshow": {
     "slide_type": "slide"
    }
   },
   "source": [
    "## Type Inference and annotation\n",
    "\n",
    "* OCaml compiler **infers** types\n",
    "  + Compilation fails with type error if it can't\n",
    "  + Hard part of language design: guaranteeing compiler can infer types when program is correctly written\n",
    "* You can manually annotate types anywhere – Replace `e` with `(e : t)`\n",
    "  + Useful for resolving type errors\n"
   ]
  },
  {
   "cell_type": "code",
   "execution_count": 17,
   "metadata": {
    "slideshow": {
     "slide_type": "fragment"
    }
   },
   "outputs": [
    {
     "ename": "error",
     "evalue": "compile_error",
     "output_type": "error",
     "traceback": [
      "File \"[17]\", line 1, characters 1-5:\n1 | (42.4 : int)\n     ^^^^\nError: This expression has type float but an expression was expected of type\n         int\n"
     ]
    }
   ],
   "source": [
    "(42.4 : int)"
   ]
  },
  {
   "cell_type": "markdown",
   "metadata": {
    "slideshow": {
     "slide_type": "slide"
    }
   },
   "source": [
    "## More values\n",
    "\n",
    "OCaml also supports other values. See [manual](https://caml.inria.fr/pub/docs/manual-ocaml/values.html)."
   ]
  },
  {
   "cell_type": "code",
   "execution_count": 18,
   "metadata": {
    "slideshow": {
     "slide_type": "-"
    }
   },
   "outputs": [
    {
     "data": {
      "text/plain": [
       "- : unit = ()\n"
      ]
     },
     "execution_count": 18,
     "metadata": {},
     "output_type": "execute_result"
    }
   ],
   "source": [
    "()"
   ]
  },
  {
   "cell_type": "code",
   "execution_count": 19,
   "metadata": {},
   "outputs": [
    {
     "data": {
      "text/plain": [
       "- : int * string * bool * float = (1, \"hello\", true, 3.4)\n"
      ]
     },
     "execution_count": 19,
     "metadata": {},
     "output_type": "execute_result"
    }
   ],
   "source": [
    "(1,\"hello\", true, 3.4)"
   ]
  },
  {
   "cell_type": "code",
   "execution_count": 20,
   "metadata": {},
   "outputs": [
    {
     "data": {
      "text/plain": [
       "- : int list = [1; 2; 3]\n"
      ]
     },
     "execution_count": 20,
     "metadata": {},
     "output_type": "execute_result"
    }
   ],
   "source": [
    "[1;2;3]"
   ]
  },
  {
   "cell_type": "code",
   "execution_count": 21,
   "metadata": {},
   "outputs": [
    {
     "data": {
      "text/plain": [
       "- : int array = [|1; 2; 3|]\n"
      ]
     },
     "execution_count": 21,
     "metadata": {},
     "output_type": "execute_result"
    }
   ],
   "source": [
    "[|1;2;3|]"
   ]
  },
  {
   "cell_type": "markdown",
   "metadata": {
    "slideshow": {
     "slide_type": "slide"
    }
   },
   "source": [
    "## Static vs Dynamic distinction\n",
    "\n",
    "Static typing helps catch lots errors at compile time.\n",
    "\n",
    "Which of these is a static error?"
   ]
  },
  {
   "cell_type": "code",
   "execution_count": 29,
   "metadata": {},
   "outputs": [
    {
     "ename": "error",
     "evalue": "compile_error",
     "output_type": "error",
     "traceback": [
      "File \"[29]\", line 1, characters 5-9:\n1 | 23 = 45.0\n         ^^^^\nError: This expression has type float but an expression was expected of type\n         int\n"
     ]
    }
   ],
   "source": [
    "23 = 45.0"
   ]
  },
  {
   "cell_type": "code",
   "execution_count": 23,
   "metadata": {},
   "outputs": [
    {
     "data": {
      "text/plain": [
       "- : bool = false\n"
      ]
     },
     "execution_count": 23,
     "metadata": {},
     "output_type": "execute_result"
    }
   ],
   "source": [
    "23 = 45"
   ]
  },
  {
   "cell_type": "markdown",
   "metadata": {
    "slideshow": {
     "slide_type": "slide"
    }
   },
   "source": [
    "## If expression\n",
    "\n",
    "```ocaml\n",
    "if e1 then e2 else e3\n",
    "```\n",
    "\n",
    "* **Static Semantics:** \n",
    "  + If `e1` has type `bool` and \n",
    "  + `e2` has type `t` and `e3` has type `t` then \n",
    "  + `if e1 then e2 else e3` has type `t`.\n",
    "* **Dynamic Semantics:** \n",
    "  + If `e1` evaluates to `true`, \n",
    "  + then evaluate `e2`, \n",
    "  + else evaluate `e3`"
   ]
  },
  {
   "cell_type": "code",
   "execution_count": 27,
   "metadata": {
    "slideshow": {
     "slide_type": "slide"
    }
   },
   "outputs": [
    {
     "data": {
      "text/plain": [
       "- : string = \"World\"\n"
      ]
     },
     "execution_count": 27,
     "metadata": {},
     "output_type": "execute_result"
    }
   ],
   "source": [
    "if 32 = 31 then \"Hello\" else \"World\""
   ]
  },
  {
   "cell_type": "code",
   "execution_count": 28,
   "metadata": {},
   "outputs": [
    {
     "ename": "error",
     "evalue": "compile_error",
     "output_type": "error",
     "traceback": [
      "File \"[28]\", line 1, characters 21-25:\n1 | if true then 13 else 13.4\n                         ^^^^\nError: This expression has type float but an expression was expected of type\n         int\n"
     ]
    }
   ],
   "source": [
    "if true then 13 else 13.4"
   ]
  },
  {
   "cell_type": "markdown",
   "metadata": {
    "slideshow": {
     "slide_type": "slide"
    }
   },
   "source": [
    "## Recap\n",
    "\n",
    "* Why FP?\n",
    "* Expressions in OCaml\n",
    " + Static semantics: Type Checking\n",
    " + Dynamic semantics: Evaluation\n"
   ]
  },
  {
   "cell_type": "markdown",
   "metadata": {
    "slideshow": {
     "slide_type": "slide"
    }
   },
   "source": [
    "## More Formally\n",
    "\n",
    "<script type=\"text/x-mathjax-config\">\n",
    "  MathJax.Hub.Config({ TeX: { extensions: [\"color.js\"] }});\n",
    "</script>\n",
    "\n",
    "$\n",
    "\\newcommand{\\inferrule}[2]{\\displaystyle{\\frac{#1}{#2}}}\n",
    "\\newcommand{\\ite}[3]{\\text{if }{#1}\\text{ then }{#2}\\text{ else }{#3}}\n",
    "\\newcommand{\\t}[1]{\\color{green}{#1}}\n",
    "\\newcommand{\\true}{\\color{purple}{true}}\n",
    "\\newcommand{\\false}{\\color{purple}{false}}\n",
    "\\newcommand{\\letin}[3]{\\text{let }{{#1} = {#2}}\\text{ in }{#3}}\n",
    "$\n",
    "\n",
    "**Static Semantics of if expression**\n",
    "\n",
    "\\\\[\n",
    "\\inferrule{e1:\\t{bool} \\quad e2:\\t{t} \\quad e3:\\t{t}}{\\ite{e1}{e2}{e3} : \\t{t}}\n",
    "\\\\]\n",
    "\n",
    "(omits some details which we will cover in later lectures)\n",
    "\n",
    "#### to be read as\n",
    "\n",
    "\\\\[\n",
    "\\inferrule{Premise_1 \\quad Premise_2 \\quad \\ldots \\quad Premise_N}{Conclusion}\n",
    "\\\\]\n",
    "\n",
    "Such rules are known as inference rules. "
   ]
  },
  {
   "cell_type": "markdown",
   "metadata": {
    "slideshow": {
     "slide_type": "slide"
    }
   },
   "source": [
    "## Dynamic semantics of if expression\n",
    "\n",
    "\n",
    "For the case when the predicate evaluates to `true`:\n",
    "\n",
    "\\\\[\n",
    "\\inferrule{e1 \\rightarrow \\true \\quad e2 \\rightarrow v}{\\ite{e1}{e2}{e3} \\rightarrow v}\n",
    "\\\\]\n",
    "\n",
    "For the case when the predicate evaluates to `false`:\n",
    "\n",
    "\\\\[\n",
    "\\inferrule{e1 \\rightarrow \\false \\quad e3 \\rightarrow v}{\\ite{e1}{e2}{e3} \\rightarrow v}\n",
    "\\\\]\n",
    "\n",
    "Read $\\rightarrow$ as *evaluates to*."
   ]
  },
  {
   "cell_type": "markdown",
   "metadata": {
    "slideshow": {
     "slide_type": "slide"
    }
   },
   "source": [
    "## Let expression\n",
    "\n",
    "```ocaml\n",
    "let x = e1 in e2\n",
    "```\n",
    "\n",
    "* `x` is an identifier\n",
    "* `e1` is the binding expression\n",
    "* `e2` is the body expression\n",
    "* `let x = e1 in e2` is itself an expression"
   ]
  },
  {
   "cell_type": "code",
   "execution_count": null,
   "metadata": {
    "slideshow": {
     "slide_type": "slide"
    }
   },
   "outputs": [],
   "source": [
    "let x = 5 in x + 5"
   ]
  },
  {
   "cell_type": "code",
   "execution_count": null,
   "metadata": {
    "slideshow": {
     "slide_type": "slide"
    }
   },
   "outputs": [],
   "source": [
    "let x = 5 in\n",
    "let y = 10 in \n",
    "x + y"
   ]
  },
  {
   "cell_type": "code",
   "execution_count": null,
   "metadata": {
    "slideshow": {
     "slide_type": "slide"
    }
   },
   "outputs": [],
   "source": [
    "let x = 5 in\n",
    "let x = 10 in\n",
    "x"
   ]
  },
  {
   "cell_type": "markdown",
   "metadata": {
    "slideshow": {
     "slide_type": "slide"
    }
   },
   "source": [
    "## Scopes & shadowing\n",
    "\n",
    "```ocaml\n",
    "let x = 5 in \n",
    "let x = 10 in\n",
    "x\n",
    "```\n",
    "\n",
    "is parsed as\n",
    "\n",
    "```ocaml\n",
    "let x = 5 in\n",
    "(let x = 10 in\n",
    " x)\n",
    "```\n",
    "\n",
    "* Importantly, `x` is not mutated; there are two `x`s in different **scopes**.\n",
    "* Inner definitions **shadow** the outer definitions. "
   ]
  },
  {
   "cell_type": "markdown",
   "metadata": {
    "slideshow": {
     "slide_type": "slide"
    }
   },
   "source": [
    "## What is the result of this expression?"
   ]
  },
  {
   "cell_type": "code",
   "execution_count": null,
   "metadata": {
    "slideshow": {
     "slide_type": "-"
    }
   },
   "outputs": [],
   "source": [
    "let x = 5 in\n",
    "let y = \n",
    "  let x = 10 in\n",
    "  x\n",
    "in\n",
    "x+y"
   ]
  },
  {
   "cell_type": "markdown",
   "metadata": {
    "slideshow": {
     "slide_type": "slide"
    }
   },
   "source": [
    "## let at the top-level\n",
    "\n",
    "```ocaml\n",
    "let x = e\n",
    "```\n",
    "is implicitly, \"**in** the rest of the program text\""
   ]
  },
  {
   "cell_type": "code",
   "execution_count": null,
   "metadata": {
    "slideshow": {
     "slide_type": "slide"
    }
   },
   "outputs": [],
   "source": [
    "let a = \"Hello\""
   ]
  },
  {
   "cell_type": "code",
   "execution_count": null,
   "metadata": {},
   "outputs": [],
   "source": [
    "let b = \"World\""
   ]
  },
  {
   "cell_type": "code",
   "execution_count": null,
   "metadata": {},
   "outputs": [],
   "source": [
    "let c = a ^ \" \" ^ b"
   ]
  },
  {
   "cell_type": "markdown",
   "metadata": {
    "slideshow": {
     "slide_type": "notes"
    }
   },
   "source": [
    "`^` is the operator from string concatenation. "
   ]
  },
  {
   "cell_type": "markdown",
   "metadata": {
    "slideshow": {
     "slide_type": "slide"
    }
   },
   "source": [
    "## Definitions\n",
    "\n",
    "* The top-level `let x = e` are known as **definitions**.\n",
    "* Definitions give name to a value.\n",
    "* Definitions are not expressions, or vice versa.\n",
    "* But definitions syntactically contain expressions.\n",
    "\n",
    "<center>\n",
    "    \n",
    "<img src=\"images/val-expr-defn.svg\">\n",
    "</center>"
   ]
  },
  {
   "cell_type": "markdown",
   "metadata": {
    "slideshow": {
     "slide_type": "slide"
    }
   },
   "source": [
    "## Let expression\n",
    "\n",
    "```ocaml\n",
    "let x = e1 in e2\n",
    "```\n",
    "\n",
    "**Static semantics**\n",
    "\n",
    "\\\\[\n",
    "\\inferrule{x : \\t{t1} \\quad e1 : \\t{t1} \\quad e2 : \\t{t2}}{\\letin{x}{e1}{e2} : \\t{t2}}\n",
    "\\\\]\n",
    "\n",
    "(again omits some details)\n",
    "\n",
    "**Dynamic semantics**\n",
    "\n",
    "\\\\[\n",
    "\\inferrule{e1 \\rightarrow v1 \\quad \\text{substituting } v1 \\text{ for } x \\text{ in } e2 \\rightarrow v2}\n",
    "{\\letin{x}{e1}{e2} \\rightarrow v2}\n",
    "\\\\]"
   ]
  },
  {
   "cell_type": "markdown",
   "metadata": {
    "slideshow": {
     "slide_type": "slide"
    }
   },
   "source": [
    "## Exercise\n",
    "\n",
    "* In OCaml, we cannot use `+` for floating point addition, and instead have to use `+.`. \n",
    "  + Why do you think this is the case?"
   ]
  },
  {
   "cell_type": "code",
   "execution_count": null,
   "metadata": {},
   "outputs": [],
   "source": [
    "5.4 +. 6.0"
   ]
  },
  {
   "cell_type": "markdown",
   "metadata": {
    "slideshow": {
     "slide_type": "slide"
    }
   },
   "source": [
    "## Exercise\n",
    "\n",
    "Write down the static semantics for `+` and `+.`. "
   ]
  }
 ],
 "metadata": {
  "celltoolbar": "Slideshow",
  "kernelspec": {
   "display_name": "OCaml 4.10",
   "language": "OCaml",
   "name": "ocaml-jupyter"
  },
  "language_info": {
   "codemirror_mode": "text/x-ocaml",
   "file_extension": ".ml",
   "mimetype": "text/x-ocaml",
   "name": "OCaml",
   "nbconverter_exporter": null,
   "pygments_lexer": "OCaml",
   "version": "4.10.0"
  }
 },
 "nbformat": 4,
 "nbformat_minor": 2
}
