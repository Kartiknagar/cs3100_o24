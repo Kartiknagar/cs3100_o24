{
 "cells": [
  {
   "cell_type": "markdown",
   "metadata": {
    "slideshow": {
     "slide_type": "slide"
    }
   },
   "source": [
    "<center>\n",
    "\n",
    "<h1 style=\"text-align:center\"> Pattern Matching </h1>\n",
    "</center>"
   ]
  },
  {
   "cell_type": "markdown",
   "metadata": {
    "slideshow": {
     "slide_type": "slide"
    }
   },
   "source": [
    "## Pattern Matching\n",
    "\n",
    "* Pattern matching is data deconstruction\n",
    "  + Match on the *shape* of data\n",
    "  + Extract part(s) of data\n",
    "* Typically used to extract data from values of record, tuple and variant types\n",
    "  \n",
    "### Syntax\n",
    "\n",
    "```ocaml\n",
    "match e with\n",
    "| p1 -> e1\n",
    "| p2 -> e2\n",
    "...\n",
    "| pn -> en\n",
    "```\n",
    "\n",
    "* p1 ... pn are patterns."
   ]
  },
  {
   "cell_type": "markdown",
   "metadata": {
    "slideshow": {
     "slide_type": "slide"
    }
   },
   "source": [
    "## Pattern Matching on Records"
   ]
  },
  {
   "cell_type": "code",
   "execution_count": null,
   "metadata": {},
   "outputs": [],
   "source": [
    "type record_type = {f1:int; f2:int; f3:int}\n",
    "let r : record_type = {f1 = 1; f2 = 2; f3 = 3}\n"
   ]
  },
  {
   "cell_type": "code",
   "execution_count": null,
   "metadata": {},
   "outputs": [],
   "source": [
    "match r with {f1 = v1; f2 = v2; f3 = v3} -> v1"
   ]
  },
  {
   "cell_type": "markdown",
   "metadata": {
    "slideshow": {
     "slide_type": "fragment"
    }
   },
   "source": [
    "Not much useful here, better to use the dot notation for extracting field values"
   ]
  },
  {
   "cell_type": "markdown",
   "metadata": {
    "slideshow": {
     "slide_type": "slide"
    }
   },
   "source": [
    "## Pattern Matching on Tuples"
   ]
  },
  {
   "cell_type": "code",
   "execution_count": null,
   "metadata": {},
   "outputs": [],
   "source": [
    "type int_3_tuple = int * int * int\n",
    "let t : int_3_tuple = (1,2,3)"
   ]
  },
  {
   "cell_type": "code",
   "execution_count": null,
   "metadata": {},
   "outputs": [],
   "source": [
    "match t with (x,y,z) -> x"
   ]
  },
  {
   "cell_type": "markdown",
   "metadata": {
    "slideshow": {
     "slide_type": "fragment"
    }
   },
   "source": [
    "Pattern matching is the only way to access data from tuples!"
   ]
  },
  {
   "cell_type": "markdown",
   "metadata": {
    "slideshow": {
     "slide_type": "slide"
    }
   },
   "source": [
    "## Pattern Matching on Variants"
   ]
  },
  {
   "cell_type": "code",
   "execution_count": null,
   "metadata": {
    "slideshow": {
     "slide_type": "-"
    }
   },
   "outputs": [],
   "source": [
    "type point = float * float\n",
    "\n",
    "type shape = \n",
    "  | Circle of point * float (* center, radius *)\n",
    "  | Rect of point * point   (* lower-left, upper-right *)\n",
    "  \n",
    "let area s = match s with\n",
    "  | Circle (c, r) -> Float.pi *. (r ** 2.0)\n",
    "  | Rect ((x1,y1), (x2,y2)) -> (x2 -. x1) *. (y2 -. y1)"
   ]
  },
  {
   "cell_type": "markdown",
   "metadata": {
    "slideshow": {
     "slide_type": "slide"
    }
   },
   "source": [
    "## Pattern Matching on Lists\n",
    "\n",
    "```ocaml\n",
    "type 'a list = [] | :: of 'a * 'a list\n",
    "```\n",
    "\n",
    "* For lists, the patterns allowed follow from the constructors\n",
    "  + The pattern `[]` matches the value `[]`.\n",
    "  + The pattern `h::t`\n",
    "    - matches `2::[]`, binding `h` to `2` and `t` to `[]`.\n",
    "    - matches `2::3::[]`, binding `h` to `2` and `t` to `3::[]`.\n",
    "  + The pattern `_` is a **wildcard pattern** and matches anything. "
   ]
  },
  {
   "cell_type": "code",
   "execution_count": null,
   "metadata": {
    "slideshow": {
     "slide_type": "slide"
    }
   },
   "outputs": [],
   "source": [
    "let list_status l =\n",
    "  match l with\n",
    "  | [] -> print_endline \"The list is empty\"\n",
    "  | h::t -> Printf.printf \"The list is non-empty. Head = %d\\n%!\" h"
   ]
  },
  {
   "cell_type": "code",
   "execution_count": null,
   "metadata": {
    "slideshow": {
     "slide_type": "fragment"
    }
   },
   "outputs": [],
   "source": [
    "list_status []"
   ]
  },
  {
   "cell_type": "code",
   "execution_count": null,
   "metadata": {
    "slideshow": {
     "slide_type": "fragment"
    }
   },
   "outputs": [],
   "source": [
    "list_status [1;2;3]"
   ]
  },
  {
   "cell_type": "code",
   "execution_count": null,
   "metadata": {
    "slideshow": {
     "slide_type": "fragment"
    }
   },
   "outputs": [],
   "source": [
    "list_status (2::[3;4])"
   ]
  },
  {
   "cell_type": "markdown",
   "metadata": {
    "slideshow": {
     "slide_type": "slide"
    }
   },
   "source": [
    "## Advantages of pattern matching\n",
    "\n",
    "1. You cannot forget to match a case (Exhaustivity warning)"
   ]
  },
  {
   "cell_type": "code",
   "execution_count": null,
   "metadata": {
    "slideshow": {
     "slide_type": "fragment"
    }
   },
   "outputs": [],
   "source": [
    "let list_status l = \n",
    "  match l with \n",
    "  | [] -> print_endline \"The list is empty\"\n",
    "  | h1::h2::t -> Printf.printf \"The list is non-empty. 2nd element = %d\\n%!\" h2\n"
   ]
  },
  {
   "cell_type": "markdown",
   "metadata": {
    "slideshow": {
     "slide_type": "slide"
    }
   },
   "source": [
    "## Advantages of pattern matching\n",
    "1. You cannot forget to match a case (Exhaustivity warning)\n",
    "2. You cannot duplicate a case (Unused case warning)"
   ]
  },
  {
   "cell_type": "code",
   "execution_count": null,
   "metadata": {
    "slideshow": {
     "slide_type": "fragment"
    }
   },
   "outputs": [],
   "source": [
    "let list_status l = \n",
    "  match l with \n",
    "  | [] -> print_endline \"The list is empty\"\n",
    "  | h::t -> Printf.printf \"The list is non-empty. Head =%d\\n%!\" h\n",
    "  | h1::h2::t -> Printf.printf \"The list is non-empty. 2nd element=%d\\n%!\" h1"
   ]
  },
  {
   "cell_type": "markdown",
   "metadata": {
    "slideshow": {
     "slide_type": "slide"
    }
   },
   "source": [
    "## Advantages of pattern matching\n",
    "\n",
    "1. You cannot forget to match a case (Exhaustivity warning)\n",
    "2. You cannot duplicate a case (Unused case warning)\n",
    "\n",
    "<h3> Pattern matching leads to elegant, concise, beautiful code <h3>"
   ]
  },
  {
   "cell_type": "markdown",
   "metadata": {
    "slideshow": {
     "slide_type": "slide"
    }
   },
   "source": [
    "## Length of list"
   ]
  },
  {
   "cell_type": "code",
   "execution_count": null,
   "metadata": {},
   "outputs": [],
   "source": [
    "let rec length l =\n",
    "  match l with\n",
    "  | [] -> 0\n",
    "  | h::t -> 1 + length t"
   ]
  },
  {
   "cell_type": "markdown",
   "metadata": {
    "slideshow": {
     "slide_type": "fragment"
    }
   },
   "source": [
    "What is wrong with this code?"
   ]
  },
  {
   "cell_type": "markdown",
   "metadata": {
    "slideshow": {
     "slide_type": "slide"
    }
   },
   "source": [
    "## Length of list (tail recursive)"
   ]
  },
  {
   "cell_type": "code",
   "execution_count": null,
   "metadata": {
    "slideshow": {
     "slide_type": "-"
    }
   },
   "outputs": [],
   "source": [
    "let rec length' l acc =\n",
    "  match l with\n",
    "  | [] -> acc\n",
    "  | h::t -> length' t (1+acc)\n",
    "  \n",
    "let length l = length' l 0"
   ]
  },
  {
   "cell_type": "code",
   "execution_count": null,
   "metadata": {},
   "outputs": [],
   "source": [
    "length [1;2;3;4]"
   ]
  },
  {
   "cell_type": "markdown",
   "metadata": {
    "slideshow": {
     "slide_type": "slide"
    }
   },
   "source": [
    "## Match ordering\n",
    "\n",
    "The patterns are matched in the order that they are written down."
   ]
  },
  {
   "cell_type": "code",
   "execution_count": null,
   "metadata": {},
   "outputs": [],
   "source": [
    "let is_empty l =\n",
    "  match l with\n",
    "  | [] -> true\n",
    "  | _ -> false"
   ]
  },
  {
   "cell_type": "markdown",
   "metadata": {
    "slideshow": {
     "slide_type": "slide"
    }
   },
   "source": [
    "## nth \n",
    "\n",
    "Implement indexing into the list\n",
    "\n",
    "```ocaml\n",
    " nth : 'a list -> int -> 'a option\n",
    "```"
   ]
  },
  {
   "cell_type": "code",
   "execution_count": null,
   "metadata": {
    "slideshow": {
     "slide_type": "fragment"
    }
   },
   "outputs": [],
   "source": [
    "let rec nth l n = \n",
    "  match (l, n) with\n",
    "  | (hd::_, 0) -> Some hd\n",
    "  | (hd::tl, n) -> nth tl (n-1)\n",
    "  | _ -> None"
   ]
  },
  {
   "cell_type": "code",
   "execution_count": null,
   "metadata": {},
   "outputs": [],
   "source": [
    "nth [1;2;3] 4"
   ]
  },
  {
   "cell_type": "markdown",
   "metadata": {
    "slideshow": {
     "slide_type": "slide"
    }
   },
   "source": [
    "## reverse\n",
    "\n",
    "Implement the reverse of a list."
   ]
  },
  {
   "cell_type": "code",
   "execution_count": null,
   "metadata": {
    "scrolled": true
   },
   "outputs": [],
   "source": [
    "let rec rev_list l acc = \n",
    "  match l with\n",
    "  | [] -> acc\n",
    "  | hd::tl -> rev_list tl (hd::acc)\n",
    "\n",
    "let rev_list l = rev_list l []"
   ]
  },
  {
   "cell_type": "code",
   "execution_count": null,
   "metadata": {},
   "outputs": [],
   "source": [
    "assert (rev_list [1;2;3] = [3;2;1])"
   ]
  },
  {
   "cell_type": "markdown",
   "metadata": {
    "slideshow": {
     "slide_type": "slide"
    }
   },
   "source": [
    "## append\n",
    "\n",
    "Implement the append of two lists.\n",
    "\n",
    "```ocaml\n",
    "  append : 'a list -> 'a list -> 'a list\n",
    "```"
   ]
  },
  {
   "cell_type": "code",
   "execution_count": null,
   "metadata": {},
   "outputs": [],
   "source": [
    "[1;2;3] @ [4]"
   ]
  },
  {
   "cell_type": "code",
   "execution_count": null,
   "metadata": {},
   "outputs": [],
   "source": [
    "let rec append l1 l2 = \n",
    "  match l1 with\n",
    "  | [] -> l2\n",
    "  | hd::tl -> hd::(append tl l2)"
   ]
  },
  {
   "cell_type": "code",
   "execution_count": null,
   "metadata": {},
   "outputs": [],
   "source": [
    "append [1;2;3] [4;5;6]"
   ]
  },
  {
   "cell_type": "markdown",
   "metadata": {
    "slideshow": {
     "slide_type": "slide"
    }
   },
   "source": [
    "## Nested Matching\n",
    "\n"
   ]
  },
  {
   "cell_type": "code",
   "execution_count": 2,
   "metadata": {},
   "outputs": [
    {
     "data": {
      "text/plain": [
       "type color = Red | Green | Blue\n"
      ]
     },
     "execution_count": 2,
     "metadata": {},
     "output_type": "execute_result"
    },
    {
     "data": {
      "text/plain": [
       "type point = { x : int; y : int; }\n"
      ]
     },
     "execution_count": 2,
     "metadata": {},
     "output_type": "execute_result"
    },
    {
     "data": {
      "text/plain": [
       "type shape =\n",
       "    Circle of point * float\n",
       "  | Rect of point * point\n",
       "  | ColorPoint of point * color\n"
      ]
     },
     "execution_count": 2,
     "metadata": {},
     "output_type": "execute_result"
    }
   ],
   "source": [
    "type color = Red | Green | Blue\n",
    "\n",
    "type point = {x : int; y : int}\n",
    "\n",
    "type shape = \n",
    "  | Circle of point * float (* center, radius *)\n",
    "  | Rect of point * point   (* lower-left, upper-right *)\n",
    "  | ColorPoint of point * color"
   ]
  },
  {
   "cell_type": "markdown",
   "metadata": {
    "slideshow": {
     "slide_type": "slide"
    }
   },
   "source": [
    "## Nested Matching\n",
    "\n",
    "Is the first shape in a list of shapes a red point?"
   ]
  },
  {
   "cell_type": "code",
   "execution_count": null,
   "metadata": {},
   "outputs": [],
   "source": [
    "let is_hd_red_point l = \n",
    "  match l with\n",
    "  | (ColorPoint(_,Red))::_ -> true\n",
    "  | _ -> false"
   ]
  },
  {
   "cell_type": "markdown",
   "metadata": {
    "slideshow": {
     "slide_type": "slide"
    }
   },
   "source": [
    "## Nested Matching\n",
    "\n",
    "Filer the coordinates of all green colorpoints"
   ]
  },
  {
   "cell_type": "code",
   "execution_count": 3,
   "metadata": {},
   "outputs": [
    {
     "data": {
      "text/plain": [
       "val filter_green_point : shape list -> (int * int) list = <fun>\n"
      ]
     },
     "execution_count": 3,
     "metadata": {},
     "output_type": "execute_result"
    }
   ],
   "source": [
    "let rec filter_green_point l =\n",
    "  match l with\n",
    "  | [] -> []\n",
    "  | ColorPoint(p, Green)::tl ->\n",
    "      (p.x, p.y) :: (filter_green_point tl)\n",
    "  | _::tl -> filter_green_point tl"
   ]
  },
  {
   "cell_type": "code",
   "execution_count": 4,
   "metadata": {},
   "outputs": [
    {
     "data": {
      "text/plain": [
       "- : (int * int) list = [(0, 0); (4, 6)]\n"
      ]
     },
     "execution_count": 4,
     "metadata": {},
     "output_type": "execute_result"
    }
   ],
   "source": [
    "filter_green_point [Rect ({x=1;y=1},{x=2;y=2});\n",
    "                   ColorPoint ({x=0;y=0}, Green);\n",
    "                   Circle ({x=1;y=3}, 5.4);\n",
    "                   ColorPoint ({x=4;y=6}, Green)]"
   ]
  },
  {
   "cell_type": "markdown",
   "metadata": {
    "slideshow": {
     "slide_type": "slide"
    }
   },
   "source": [
    "## Exceptions\n",
    "\n",
    "* OCaml has support for exceptions. \n",
    "  + Similar to the ones found in C++ & Java.\n",
    "* Exceptions are (mostly) just variants."
   ]
  },
  {
   "cell_type": "code",
   "execution_count": null,
   "metadata": {
    "slideshow": {
     "slide_type": "fragment"
    }
   },
   "outputs": [],
   "source": [
    "exception MyException of string"
   ]
  },
  {
   "cell_type": "markdown",
   "metadata": {
    "slideshow": {
     "slide_type": "slide"
    }
   },
   "source": [
    "## Exceptions are just values"
   ]
  },
  {
   "cell_type": "code",
   "execution_count": null,
   "metadata": {
    "slideshow": {
     "slide_type": "-"
    }
   },
   "outputs": [],
   "source": [
    "let v = MyException \"Hello\""
   ]
  },
  {
   "cell_type": "markdown",
   "metadata": {
    "slideshow": {
     "slide_type": "fragment"
    }
   },
   "source": [
    "* The type `exn` is an **built-in extensible variant type**.\n",
    "  + New constructors of this type can be added after its original declaration."
   ]
  },
  {
   "cell_type": "markdown",
   "metadata": {
    "slideshow": {
     "slide_type": "slide"
    }
   },
   "source": [
    "## Raising Exceptions\n",
    "\n",
    "* Exceptions are raised with `raise e` where `e` is of type `exn`."
   ]
  },
  {
   "cell_type": "code",
   "execution_count": null,
   "metadata": {},
   "outputs": [],
   "source": [
    "raise (MyException \"Hello\")"
   ]
  },
  {
   "cell_type": "markdown",
   "metadata": {
    "slideshow": {
     "slide_type": "slide"
    }
   },
   "source": [
    "## Handling exception\n",
    "\n",
    "* Handling exceptions is similar to pattern matching."
   ]
  },
  {
   "cell_type": "code",
   "execution_count": null,
   "metadata": {
    "slideshow": {
     "slide_type": "fragment"
    }
   },
   "outputs": [],
   "source": [
    "try \n",
    "  raise (MyException \"Hello\") \n",
    "with MyException h -> print_endline h"
   ]
  },
  {
   "cell_type": "code",
   "execution_count": null,
   "metadata": {
    "slideshow": {
     "slide_type": "fragment"
    }
   },
   "outputs": [],
   "source": [
    "try\n",
    "  raise (MyException \"Hello\")\n",
    "with e -> \n",
    "  print_endline (Printexc.to_string e); \n",
    "  raise e"
   ]
  },
  {
   "cell_type": "markdown",
   "metadata": {
    "slideshow": {
     "slide_type": "slide"
    }
   },
   "source": [
    "## Some built-in exceptions"
   ]
  },
  {
   "cell_type": "code",
   "execution_count": null,
   "metadata": {},
   "outputs": [],
   "source": [
    "assert (1 = 2)"
   ]
  },
  {
   "cell_type": "code",
   "execution_count": null,
   "metadata": {
    "slideshow": {
     "slide_type": "fragment"
    }
   },
   "outputs": [],
   "source": [
    "try \n",
    "  assert (1=2) \n",
    "with Assert_failure _ -> print_endline \"Saw Assert_failure\""
   ]
  },
  {
   "cell_type": "markdown",
   "metadata": {
    "slideshow": {
     "slide_type": "slide"
    }
   },
   "source": [
    "## Some built-in exceptions"
   ]
  },
  {
   "cell_type": "code",
   "execution_count": null,
   "metadata": {},
   "outputs": [],
   "source": [
    "let fibonacci (n : int) : int = failwith \"not implemented\""
   ]
  },
  {
   "cell_type": "code",
   "execution_count": null,
   "metadata": {
    "slideshow": {
     "slide_type": "fragment"
    }
   },
   "outputs": [],
   "source": [
    "fibonacci 10"
   ]
  },
  {
   "cell_type": "markdown",
   "metadata": {
    "slideshow": {
     "slide_type": "slide"
    }
   },
   "source": [
    "## Some built-in exceptions"
   ]
  },
  {
   "cell_type": "code",
   "execution_count": null,
   "metadata": {
    "scrolled": true
   },
   "outputs": [],
   "source": [
    "try fibonacci 10 with Failure _ -> print_endline \"not implemented\""
   ]
  },
  {
   "cell_type": "markdown",
   "metadata": {
    "slideshow": {
     "slide_type": "fragment"
    }
   },
   "source": [
    "Exception handler should return the same value as the computation being handled. "
   ]
  },
  {
   "cell_type": "code",
   "execution_count": null,
   "metadata": {},
   "outputs": [],
   "source": [
    "try fibonacci 10 with Failure _ -> (print_endline \"not implemented\"; -1)"
   ]
  },
  {
   "cell_type": "markdown",
   "metadata": {
    "slideshow": {
     "slide_type": "slide"
    }
   },
   "source": [
    "## Find the green point\n",
    "\n",
    "Given a list of shapes return a point whose colour is green. Otherwise, raise `NoGreenPoint` exception."
   ]
  },
  {
   "cell_type": "code",
   "execution_count": null,
   "metadata": {
    "slideshow": {
     "slide_type": "fragment"
    }
   },
   "outputs": [],
   "source": [
    "exception NoGreenPoint\n",
    "\n",
    "let rec find_green_point l = \n",
    "  match l with\n",
    "  | [] -> raise NoGreenPoint\n",
    "  | h::tl ->\n",
    "    match h with\n",
    "    | ColorPoint (p, Green) -> p\n",
    "    | _ -> find_green_point tl"
   ]
  },
  {
   "cell_type": "markdown",
   "metadata": {
    "slideshow": {
     "slide_type": "slide"
    }
   },
   "source": [
    "## Find the green point"
   ]
  },
  {
   "cell_type": "code",
   "execution_count": null,
   "metadata": {},
   "outputs": [],
   "source": [
    "find_green_point []"
   ]
  },
  {
   "cell_type": "code",
   "execution_count": null,
   "metadata": {},
   "outputs": [],
   "source": [
    "find_green_point [Rect ({x=1;y=1},{x=2;y=2}); ColorPoint ({x=0;y=0}, Green)]"
   ]
  },
  {
   "cell_type": "markdown",
   "metadata": {
    "slideshow": {
     "slide_type": "slide"
    }
   },
   "source": [
    "## Handling the exception\n",
    "\n",
    "Given a list of shapes return `Some p` where `p` is a green point. Otherwise, return `None`."
   ]
  },
  {
   "cell_type": "code",
   "execution_count": null,
   "metadata": {
    "slideshow": {
     "slide_type": "fragment"
    }
   },
   "outputs": [],
   "source": [
    "let find_green_point_opt l =\n",
    "  try Some(find_green_point l) with\n",
    "  | NoGreenPoint -> None"
   ]
  },
  {
   "cell_type": "code",
   "execution_count": null,
   "metadata": {},
   "outputs": [],
   "source": [
    "find_green_point_opt []"
   ]
  },
  {
   "cell_type": "code",
   "execution_count": null,
   "metadata": {},
   "outputs": [],
   "source": [
    "find_green_point_opt [Rect ({x=1;y=1},{x=2;y=2}); ColorPoint ({x=0;y=0}, Green)]"
   ]
  },
  {
   "cell_type": "markdown",
   "metadata": {
    "slideshow": {
     "slide_type": "slide"
    }
   },
   "source": [
    "## Exceptions: Recommendations\n",
    "\n",
    "* Avoid exceptions in your code.\n",
    "  + Unhandled exceptions are runtime errors; aim to avoid this.\n",
    "* No exhaustiveness check for exceptions (why?).\n",
    "* Whenever you might need to use exceptions, think whether you can replace that with\n",
    "\n",
    "```ocaml\n",
    "type 'a option = None | Some of 'a\n",
    "```\n",
    "\n",
    "or \n",
    "\n",
    "```ocaml\n",
    "type ('a,'b) result = Ok of 'a | Error of 'b\n",
    "```"
   ]
  },
  {
   "cell_type": "markdown",
   "metadata": {
    "slideshow": {
     "slide_type": "slide"
    }
   },
   "source": [
    "## Exercise \n",
    "\n",
    "`List.hd : 'a list -> 'a` and `List.tl: 'a list -> 'a list` are functions from the [list standard library](https://caml.inria.fr/pub/docs/manual-ocaml/libref/List.html). They raise exception when the given list is empty. Implement safe versions of the functions whose signatures are:"
   ]
  },
  {
   "cell_type": "code",
   "execution_count": null,
   "metadata": {},
   "outputs": [],
   "source": [
    "let safe_hd (l : 'a list) : 'a option = failwith \"not implemented\"\n",
    "let safe_tl (l : 'a list) : 'a list option = failwith \"not implemented\""
   ]
  },
  {
   "cell_type": "markdown",
   "metadata": {
    "slideshow": {
     "slide_type": "slide"
    }
   },
   "source": [
    "## Exercise\n",
    "\n",
    "Consider the types"
   ]
  },
  {
   "cell_type": "code",
   "execution_count": null,
   "metadata": {},
   "outputs": [],
   "source": [
    "type traversal = Preorder | Inorder | Postorder\n",
    "\n",
    "type 'a tree = Leaf | Node of 'a tree * 'a * 'a tree"
   ]
  },
  {
   "cell_type": "markdown",
   "metadata": {},
   "source": [
    "Implement the function `traverse`, which takes a tree and a traversal and returns a list of values visited in that traversal"
   ]
  }
 ],
 "metadata": {
  "celltoolbar": "Slideshow",
  "kernelspec": {
   "display_name": "OCaml 4.10",
   "language": "OCaml",
   "name": "ocaml-jupyter"
  },
  "language_info": {
   "codemirror_mode": "text/x-ocaml",
   "file_extension": ".ml",
   "mimetype": "text/x-ocaml",
   "name": "OCaml",
   "nbconverter_exporter": null,
   "pygments_lexer": "OCaml",
   "version": "4.10.0"
  }
 },
 "nbformat": 4,
 "nbformat_minor": 2
}
