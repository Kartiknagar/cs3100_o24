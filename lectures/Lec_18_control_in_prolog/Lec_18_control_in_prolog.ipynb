{
 "cells": [
  {
   "cell_type": "markdown",
   "metadata": {
    "slideshow": {
     "slide_type": "slide"
    }
   },
   "source": [
    "<center>\n",
    "\n",
    "<h1> Control in Prolog </h1>\n",
    "</center>"
   ]
  },
  {
   "cell_type": "markdown",
   "metadata": {
    "slideshow": {
     "slide_type": "slide"
    }
   },
   "source": [
    "## Review\n",
    "\n",
    "### Previously\n",
    "\n",
    "* Programming with Lists, Arithmetic, Backtracking, Choice Points\n",
    "\n",
    "### This lecture\n",
    "\n",
    "* Control in Prolog\n",
    "  + Rule order and Goal order\n",
    "  + An abstract interpreter for logic programs\n",
    "    * Unification, Substitution"
   ]
  },
  {
   "cell_type": "markdown",
   "metadata": {
    "slideshow": {
     "slide_type": "slide"
    }
   },
   "source": [
    "## Programming in Prolog = Logic + Control\n",
    "\n",
    "* Logic: facts, rules and queries\n",
    "* Control: how prolog chooses the rules and goals, among several available options.\n",
    "\n",
    "There are two main control decisions: **Rule Order & Goal Order.**"
   ]
  },
  {
   "cell_type": "markdown",
   "metadata": {
    "slideshow": {
     "slide_type": "slide"
    }
   },
   "source": [
    "## Programming in Prolog = Logic + Control\n",
    "\n",
    "* **Rule order**: Given a program with a collection of facts and rules, in which order do you choose to pick fact/rule to unify.\n",
    "  + SWI-Prolog chooses the **first** applicable fact/rule in the order in which they appear in the program.\n",
    "* **Goal order**: Given a set of goals to resolve, which goal do you choose\n",
    "  + SWI-Prolog: chooses the **left-most** subgoal. \n",
    "  \n",
    "Rule order and goal order influences program behaviour. "
   ]
  },
  {
   "cell_type": "markdown",
   "metadata": {
    "slideshow": {
     "slide_type": "slide"
    }
   },
   "source": [
    "## Sublist in Prolog\n",
    "\n",
    "```\n",
    "<-------X-------->\n",
    "+-------------------------------+\n",
    "|      |    S    |              |  \n",
    "+-------------------------------+\n",
    "<--------------Z---------------->\n",
    "```\n",
    "\n",
    "We can specify `S` in two seemingly equivalent ways.\n",
    "\n",
    "* prefix X of Z and suffix S of X.\n",
    "* suffix S of X and prefix X of Z."
   ]
  },
  {
   "cell_type": "markdown",
   "metadata": {
    "slideshow": {
     "slide_type": "slide"
    }
   },
   "source": [
    "## Sublist in Prolog\n",
    "\n",
    "The corresponding prolog queries are:"
   ]
  },
  {
   "cell_type": "code",
   "execution_count": null,
   "metadata": {},
   "outputs": [],
   "source": [
    "append([],Q,Q).\n",
    "append([H | P], Q, [H | R]) :- append(P, Q, R).\n",
    "prefix(X,Z) :- append(X,Y,Z).\n",
    "suffix(Y,Z) :- append(X,Y,Z).\n",
    "sublist1(S,Z) :- prefix(X,Z), suffix(S,X).\n",
    "sublist2(S,Z) :- suffix(S,X), prefix(X,Z)."
   ]
  },
  {
   "cell_type": "markdown",
   "metadata": {
    "slideshow": {
     "slide_type": "slide"
    }
   },
   "source": [
    "## Sublist in Prolog\n",
    "\n",
    "They should produce the same result:"
   ]
  },
  {
   "cell_type": "code",
   "execution_count": null,
   "metadata": {},
   "outputs": [],
   "source": [
    "?- sublist1([a],[a,b,c])."
   ]
  },
  {
   "cell_type": "code",
   "execution_count": null,
   "metadata": {},
   "outputs": [],
   "source": [
    "?- sublist2([a],[a,b,c])."
   ]
  },
  {
   "cell_type": "markdown",
   "metadata": {
    "slideshow": {
     "slide_type": "slide"
    }
   },
   "source": [
    "## Goal order changes solutions\n",
    "\n",
    "Consider the query:"
   ]
  },
  {
   "cell_type": "code",
   "execution_count": null,
   "metadata": {},
   "outputs": [],
   "source": [
    "?- suffix([a],X), prefix(X,[a,b,c]) {1}."
   ]
  },
  {
   "cell_type": "code",
   "execution_count": null,
   "metadata": {},
   "outputs": [],
   "source": [
    "?- suffix([a],X), prefix(X,[a,b,c]) {2}."
   ]
  },
  {
   "cell_type": "markdown",
   "metadata": {},
   "source": [
    "**Exercise**: Trace by hand."
   ]
  },
  {
   "cell_type": "markdown",
   "metadata": {
    "slideshow": {
     "slide_type": "slide"
    }
   },
   "source": [
    "## Goal order changes solutions\n",
    "\n",
    "Consider the query:"
   ]
  },
  {
   "cell_type": "code",
   "execution_count": null,
   "metadata": {},
   "outputs": [],
   "source": [
    "?- prefix(L,[a,b,c]), suffix([a],L)."
   ]
  },
  {
   "cell_type": "markdown",
   "metadata": {},
   "source": [
    "has precisely one answer.\n",
    "\n",
    "**Exercise**: Trace by hand."
   ]
  },
  {
   "cell_type": "markdown",
   "metadata": {
    "slideshow": {
     "slide_type": "slide"
    }
   },
   "source": [
    "## Rule order affects the search for solutions\n",
    "\n",
    "Consider the definition `appen2` which reorders the rules from `append`."
   ]
  },
  {
   "cell_type": "code",
   "execution_count": null,
   "metadata": {
    "scrolled": true
   },
   "outputs": [],
   "source": [
    "appen2([H | P], Q, [H | R]) :- appen2(P, Q, R).\n",
    "appen2([],Q,Q)."
   ]
  },
  {
   "cell_type": "markdown",
   "metadata": {
    "slideshow": {
     "slide_type": "slide"
    }
   },
   "source": [
    "## Rule order affects the search for solutions\n",
    "\n",
    "Consider the query:"
   ]
  },
  {
   "cell_type": "code",
   "execution_count": null,
   "metadata": {
    "scrolled": true
   },
   "outputs": [],
   "source": [
    "?- append(X,[c],Z) {5}."
   ]
  },
  {
   "cell_type": "code",
   "execution_count": null,
   "metadata": {},
   "outputs": [],
   "source": [
    "?- appen2(X,[c],Z) {1}."
   ]
  },
  {
   "cell_type": "markdown",
   "metadata": {},
   "source": [
    "goes down an infinite search path.\n",
    "\n",
    "**Exercise**: Trace by hand."
   ]
  },
  {
   "cell_type": "markdown",
   "metadata": {
    "slideshow": {
     "slide_type": "slide"
    }
   },
   "source": [
    "## Occurs check problem\n",
    "\n",
    "Consider the query"
   ]
  },
  {
   "cell_type": "code",
   "execution_count": null,
   "metadata": {},
   "outputs": [],
   "source": [
    "?- append([],E,[a,b|E])."
   ]
  },
  {
   "cell_type": "markdown",
   "metadata": {},
   "source": [
    "goes down an infinite search path. (Must restart kernel).\n",
    "\n",
    "**Exercise:** Trace by hand to verify why."
   ]
  },
  {
   "cell_type": "markdown",
   "metadata": {
    "slideshow": {
     "slide_type": "slide"
    }
   },
   "source": [
    "## Occurs check problem\n",
    "\n",
    "Consider the query\n",
    "\n",
    "```\n",
    "?- append([],E,[a,b | E]).\n",
    "```\n",
    "\n",
    "* In order to unify this with, `append([],Y,Y)`, we will unify `E = [a,b | E]`, whose solution is `E = [a,b,a,b,a,b,...]`.\n",
    "* Most prolog implementations do not check whether `E` appears on the RHS term.\n",
    "  + infinite loop on unification.\n",
    "* Some versions of prolog creates cyclic terms (like OCaml recursive values), but most don't. "
   ]
  },
  {
   "cell_type": "markdown",
   "metadata": {
    "slideshow": {
     "slide_type": "slide"
    }
   },
   "source": [
    "## Occurs check problem\n",
    "\n",
    "You can explicitly turn on occurs check in SWI Prolog. "
   ]
  },
  {
   "cell_type": "code",
   "execution_count": 1,
   "metadata": {},
   "outputs": [
    {
     "name": "stdout",
     "output_type": "stream",
     "text": [
      "true."
     ]
    }
   ],
   "source": [
    "?- set_prolog_flag(occurs_check,true)."
   ]
  },
  {
   "cell_type": "code",
   "execution_count": 2,
   "metadata": {},
   "outputs": [
    {
     "name": "stdout",
     "output_type": "stream",
     "text": [
      "false."
     ]
    }
   ],
   "source": [
    "?- append([],E,[a,b | E])."
   ]
  },
  {
   "cell_type": "markdown",
   "metadata": {
    "slideshow": {
     "slide_type": "slide"
    }
   },
   "source": [
    "## Occurs check problem\n",
    "\n",
    "You can explicitly turn occurs check in SWI Prolog to an **error**."
   ]
  },
  {
   "cell_type": "code",
   "execution_count": null,
   "metadata": {},
   "outputs": [],
   "source": [
    "?- set_prolog_flag(occurs_check,error)."
   ]
  },
  {
   "cell_type": "code",
   "execution_count": null,
   "metadata": {},
   "outputs": [],
   "source": [
    "?- append([],E,[a,b | E])."
   ]
  },
  {
   "cell_type": "markdown",
   "metadata": {
    "slideshow": {
     "slide_type": "slide"
    }
   },
   "source": [
    "## Abstract interpreter for logic programs\n",
    "\n",
    "We can precisely define the influence of rule and goal orders by describing an **abstract interpreter** for logic programs.\n",
    "\n",
    "First, we will start off with some definitions of ideas that we have informally seen earlier. "
   ]
  },
  {
   "cell_type": "markdown",
   "metadata": {
    "slideshow": {
     "slide_type": "slide"
    }
   },
   "source": [
    "## Substitution\n",
    "\n",
    "A substitution is a finite set of pairs of terms $\\{X_1/t_1, \\ldots, X_n/t_n\\}$ where each $t_i$ is a term and each $X_i$ is a variable such that $X_i \\neq t_i$ and $X_i \\neq X_j$ if $i \\neq j$.\n",
    "\n",
    "The empty substitution is denoted by $\\epsilon$.\n",
    "\n",
    "For example, $\\sigma = \\{X/[1,2,3], Y/Z, Z/f(a,b)\\}$ is valid substitution."
   ]
  },
  {
   "cell_type": "markdown",
   "metadata": {
    "slideshow": {
     "slide_type": "slide"
    }
   },
   "source": [
    "## Quiz\n",
    "\n",
    "Is this a valid substitution? \n",
    "\n",
    "\\\\[\n",
    "\\{X/Y,Y/X,Z/Z,A/a1,A/a2,m/n\\}\n",
    "\\\\]"
   ]
  },
  {
   "cell_type": "markdown",
   "metadata": {
    "slideshow": {
     "slide_type": "slide"
    }
   },
   "source": [
    "## Quiz\n",
    "\n",
    "Is this a valid substitution? \n",
    "\n",
    "\\\\[\n",
    "\\sigma = \\{X/Y,Y/X,Z/Z,A/a1,A/a2,m/n\\}\n",
    "\\\\]\n",
    "\n",
    "No. \n",
    "\n",
    "* $Z/Z$ should not be in $\\sigma$.\n",
    "* Variable $A$ has two substitutions $A/a1$ and $A/a2$, which is incorrect.\n",
    "* $m/n$ is not a valid substitution; $m$ should be a variable.\n",
    "* $X/Y,Y/X \\in \\sigma$ is fine. "
   ]
  },
  {
   "cell_type": "markdown",
   "metadata": {
    "slideshow": {
     "slide_type": "slide"
    }
   },
   "source": [
    "## Application of substitution\n",
    "\n",
    "The application of substitution $\\sigma$ to a variable $X$, written as $X\\sigma$ is defined \n",
    "\n",
    "\\\\[\n",
    "X\\sigma = \n",
    "\\begin{cases}\n",
    "t \\text{ if } X/t \\in \\sigma \\\\\n",
    "X \\text{ otherwise}\n",
    "\\end{cases}\n",
    "\\\\]"
   ]
  },
  {
   "cell_type": "markdown",
   "metadata": {
    "slideshow": {
     "slide_type": "slide"
    }
   },
   "source": [
    "## Application of substitution\n",
    "\n",
    "Let $\\sigma$ be a substitution $\\{X_1/t_1, \\ldots, X_n/t_n\\}$ and $E$ a term or a formula. The application $E\\sigma$ of $\\sigma$ to $E$ is obtained by **simultaneously** replacing every occurrence of $X_i$ in E with $t_i$. \n",
    "\n",
    "Given $\\sigma = \\{X/[1,2,3], Y/Z, Z/f(a,b)\\}$ and $E = f(X,Y,Z)$, $E\\sigma = f([1,2,3],Z,f(a,b))$.\n",
    "\n",
    "Now, $E\\sigma$ is known as an **instance** of $E$."
   ]
  },
  {
   "cell_type": "markdown",
   "metadata": {
    "slideshow": {
     "slide_type": "slide"
    }
   },
   "source": [
    "## Composition of substitutions\n",
    "\n",
    "Consider two substitutions $\\theta$ and $\\sigma$. Then, the composition is defined as $\\theta\\sigma$. \n",
    "\n",
    "Intuitively, we will apply the substitution $\\theta$ before $\\sigma$ in $\\theta\\sigma$. \n",
    "\n",
    "Consider $\\theta = \\{X/Y,Z/a\\}$ and $\\sigma = \\{Y/X,Z/b\\}$. Then, $\\theta\\sigma = \\{Y/X,Z/a\\}$.\n",
    "\n",
    "Let $\\theta = \\{X_1/s_1, \\ldots, X_n/s_n\\}$ and $\\sigma = \\{Y_1/t_1, \\ldots, Y_n/t_n\\}$ be two substitutions. The composition $\\theta\\sigma$ is the set obtained from the set:\n",
    "\n",
    "\\\\[\n",
    "\\{X_1/(s_1\\sigma), \\ldots, X_n/(s_n\\sigma),Y_1/t_1,\\ldots,Y_n/t_n\\}\n",
    "\\\\]\n",
    "\n",
    "1. and removing all $~X_i/(s_i\\sigma)~$ for which $X_i$ is syntactically equal to $s_i\\sigma$ and \n",
    "2. and removing those $Y_i/t_i$ for which $Y_i$ is the same as some $X_j$.\n",
    "\n"
   ]
  },
  {
   "cell_type": "markdown",
   "metadata": {
    "slideshow": {
     "slide_type": "slide"
    }
   },
   "source": [
    "## Properties of substitutions\n",
    "\n",
    "Let $\\theta$, $\\sigma$ and $\\gamma$ be substitutions, $\\epsilon$ be empty substitution, and let $E$ by a term or a formula. Then:\n",
    "\n",
    "* $E(\\theta\\sigma) = (E\\theta)\\sigma$\n",
    "* $(\\theta\\sigma)\\gamma = \\theta(\\sigma\\gamma)$\n",
    "* $\\epsilon\\theta = \\theta\\epsilon = \\theta$.\n",
    "* $\\theta = \\theta\\theta$ iff $Dom(\\theta) \\cap Range(\\theta) = \\emptyset$.\n",
    "\n",
    "For example, let $\\theta = \\{X/Y,Y/X\\}$. Then, $\\theta\\theta = \\epsilon \\neq \\theta$."
   ]
  },
  {
   "cell_type": "markdown",
   "metadata": {
    "slideshow": {
     "slide_type": "slide"
    }
   },
   "source": [
    "## Properties of substitutions\n",
    "\n",
    "In general, composition of substitutions is not commutative. For example,\n",
    "\n",
    "\\\\[\n",
    "\\{X/f(Y)\\}\\{Y/a\\} = \\{X/f(a),Y/a\\} \\neq \\{Y/a\\}\\{X/f(Y)\\} = \\{Y/a,X/f(Y)\\}\n",
    "\\\\]"
   ]
  },
  {
   "cell_type": "markdown",
   "metadata": {
    "slideshow": {
     "slide_type": "slide"
    }
   },
   "source": [
    "## Unifier\n",
    "\n",
    "Let $s$ and $t$ be two terms. A substitution $\\sigma$ is a unifier for $s$ and $t$ if $s\\sigma$ and $t\\sigma$ are syntactically equal. \n",
    "\n",
    "Let $s = f(X,Y)$ and $t = f(g(Z),Z)$. \n",
    "\n",
    "Let $\\sigma = \\{X/g(Z), Y/Z\\}$ and $\\theta = \\{X/g(a),Y/a,Z/a\\}$. Both $\\sigma$ and $\\theta$ are unifiers for $s$ and $t$. \n",
    "\n",
    "A substitution $\\sigma$ is more general than another substitution $\\theta$ if there exists a substitution $\\omega$ such that $\\theta = \\sigma\\omega$.\n",
    "\n",
    "In the previous example, $\\theta = \\sigma\\{Z/a\\}$. Hence, $\\sigma$ is more general than $\\theta$."
   ]
  },
  {
   "cell_type": "markdown",
   "metadata": {
    "slideshow": {
     "slide_type": "slide"
    }
   },
   "source": [
    "## Most general unifier\n",
    "\n",
    "A unfier is said to be the most general unfier (mgu) of two terms if it is more general than any other unfier of the terms.\n",
    "\n",
    "A pair of terms may have more than one most general unifier. \n",
    "\n",
    "For example, for the terms $f(X,X)$ and $f(Y,Z)$, the unifiers $\\theta = \\{X/Y,Z/Y\\}$ and $\\sigma = \\{X/Z,Y/Z\\}$ are both most general unifier. \n",
    "\n",
    "$\\theta = \\sigma\\{Z/Y\\}$ and $\\sigma = \\theta\\{Y/Z\\}$.\n",
    "\n",
    "If the unfiers $\\theta$ and $\\sigma$ are both mgus, then there is a substitution $\\gamma = \\{X_1/Y_1,\\ldots,X_n/Y_n\\}$ where $X_i$ and $Y_i$ are variables such that $\\theta = \\sigma\\gamma$.\n",
    "\n",
    "Intuitively, mgu $\\theta$ can be obtained from mgu $\\sigma$ by **renaming** the variables."
   ]
  },
  {
   "cell_type": "markdown",
   "metadata": {
    "slideshow": {
     "slide_type": "slide"
    }
   },
   "source": [
    "## Quiz\n",
    "\n",
    "What is the mgu of $f(X,X,Y)$ and $f(Y,Z,a)$\n",
    "\n",
    "1. $\\{X/a,Y/a,Z/a\\}$\n",
    "2. $\\{X/b,Y/b,Z/b\\}$\n",
    "3. $\\{X/Y,Z/Y\\}$\n",
    "4. $\\epsilon$"
   ]
  },
  {
   "cell_type": "markdown",
   "metadata": {
    "slideshow": {
     "slide_type": "slide"
    }
   },
   "source": [
    "## Quiz\n",
    "\n",
    "What is the mgu of $f(X,X,Y)$ and $f(Y,Z,a)$\n",
    "\n",
    "1. $\\{X/a,Y/a,Z/a\\}$ **✓**\n",
    "2. $\\{X/b,Y/b,Z/b\\}$\n",
    "3. $\\{X/Y,Z/Y\\}$\n",
    "4. $\\epsilon$"
   ]
  },
  {
   "cell_type": "markdown",
   "metadata": {
    "slideshow": {
     "slide_type": "notes"
    }
   },
   "source": [
    "## Algorithm for computing mgu (with occurs check enabled)\n",
    "\n",
    "**Input:** Two terms $T_1$ and $T_2$ to be unified.\n",
    "\n",
    "**Output:** $\\theta$, the mgu if $T_1$ and $T_2$ or raises *FAIL* exception.\n",
    "\n",
    "**Algorithm:** $mgu(T_1,T_2)$.\n",
    "\n",
    "```\n",
    "mgu(X,Y,𝜃) = \n",
    "  X = X𝜃\n",
    "  Y = Y𝜃\n",
    "  case \n",
    "    X is a variable that does not occur in Y:\n",
    "      return (𝜃{X/Y}) (* composition *) \n",
    "    Y is a variable that does not occur in X:\n",
    "      return (𝜃{Y/X}) (* composition *) \n",
    "    X and Y are identical constants or variables:\n",
    "      return 𝜃\n",
    "    X is f(X1,...,Xn) and Y is f(Y1,...,Yn):\n",
    "      return (fold (fun 𝜃 (X,Y) -> mgu(X,Y,𝜃)) 𝜃 [(X1,Y1);...;(Xn,Yn)])\n",
    "    otherwise:\n",
    "      raise FAIL\n",
    "}\n",
    "\n",
    "let mgu(X,Y) = mgu(X,Y,ϵ)\n",
    "```"
   ]
  },
  {
   "cell_type": "markdown",
   "metadata": {
    "slideshow": {
     "slide_type": "notes"
    }
   },
   "source": [
    "## Trace\n",
    "\n",
    "\\\\[\n",
    "\\begin{array}{rl}\n",
    "  & mgu(f(X,X,Y),f(Y,Z,a)) \\\\\n",
    "= & mgu(f(X,X,Y),f(Y,Z,a),\\epsilon) \\\\\n",
    "= & \\text{fold} ~(\\text{fun} ~\\theta ~(X,Y) \\rightarrow mgu(X,Y,\\theta)) ~\\epsilon ~[(X,Y);(X,Z);(Y,a)] \\\\\n",
    "  & \\quad mgu(X,Y,\\epsilon) = \\\\\n",
    "  & \\quad \\quad X\\epsilon = X, Y\\epsilon = Y \\\\\n",
    "  & \\quad \\quad \\epsilon\\{X/Y\\} = \\{X/Y\\} \\\\\n",
    "= & \\text{fold} ~(\\text{fun} ~\\theta ~(X,Y) \\rightarrow mgu(X,Y,\\theta)) ~\\{X/Y\\} ~[(X,Z);(Y,a)] \\\\\n",
    "  & \\quad mgu(X,Z,\\{X/Y\\}) = \\\\\n",
    "  & \\quad \\quad X\\{X/Y\\} = Y, Z\\{X/Y\\} = Z \\\\\n",
    "  & \\quad \\quad \\{X/Y\\}\\{Y/Z\\}  = \\{X/Z,Y/Z\\} \\\\\n",
    "= & \\text{fold} ~(\\text{fun} ~\\theta ~(X,Y) \\rightarrow mgu(X,Y,\\theta)) ~\\{X/Z,Y/Z\\} ~[(Y,a)] \\\\\n",
    "  & \\quad mgu(Y,a,\\{X/Z,Y/Z\\}) = \\\\\n",
    "  & \\quad \\quad Y\\{X/Z,Y/Z\\} = Z, a\\{X/Z,Y/Z\\} = a \\\\\n",
    "  & \\quad \\quad \\{X/Z,Y/Z\\}\\{Z/a\\} = \\{X/a,Y/a,Z/a\\} \\\\\n",
    "= & \\{X/a,Y/a,Z/a\\}\\\\\n",
    "\\end{array}\n",
    "\\\\]"
   ]
  },
  {
   "cell_type": "markdown",
   "metadata": {
    "slideshow": {
     "slide_type": "slide"
    }
   },
   "source": [
    "## Abstract interpreter\n",
    "\n",
    "**Input**: A goal G and a program P\n",
    "\n",
    "**Output:** An instance of G that is a logical consequence of P, or **false** otherwise. \n",
    "\n",
    "**Algorithm:** run(P,G)\n",
    "\n",
    "**Note:** _Resolvant_ is list of goals.\n",
    "\n",
    "```\n",
    "Initialise resolvent to G.\n",
    "while (the resolvent is not empty) {\n",
    "  choose a goal A from the resolvent //goal order\n",
    "  choose a (renamed) clause A' <- B1,...,Bn from P //rule order\n",
    "      such that A and A' unify with mgu 𝜃\n",
    "    (if no such goal and clause exist, exit the while loop).\n",
    "  replace A by B1,...,Bn in the resolvent\n",
    "  apply 𝜃 to the resolvent and G\n",
    "}\n",
    "If the resolvent is empty, then output G, else output false. \n",
    "```"
   ]
  },
  {
   "cell_type": "markdown",
   "metadata": {
    "slideshow": {
     "slide_type": "slide"
    }
   },
   "source": [
    "## Abstract interpreter is non-deterministic\n",
    "\n",
    "* Observe that the abstract interpreter deliberately does not encode the rule and goal order explicitly.\n",
    "  + Nor does it encode what happens on failure to prove a goal (no backtracking).\n",
    "  + How does it work then?\n",
    "\n",
    "Consider the program:\n",
    "\n",
    "```\n",
    "plus(1,3,4).\n",
    "plus(2,2,4).\n",
    "even(2).\n",
    "```\n",
    "\n",
    "and the goal `plus(X,Y,4), even(X)`.\n",
    "\n",
    "* Both `plus(2,2,4)` and `plus(1,3,4)` unify with `plus(X,Y,4)`. \n",
    "* But only `plus(2,2,4)` ensures that the second goal `even(X)` is satisfied. \n",
    "* Since the abstract interpreter in non-deterministic, one of its behaviours is to choose `plus(2,2,4)`, which will lead to success without failure."
   ]
  },
  {
   "cell_type": "markdown",
   "metadata": {
    "slideshow": {
     "slide_type": "slide"
    }
   },
   "source": [
    "## Abstract interpreter is non-deterministic\n",
    "\n",
    "```\n",
    "plus(1,3,4).\n",
    "plus(2,2,4).\n",
    "even(2).\n",
    "```\n",
    "\n",
    "and the goal `plus(X,Y,4), even(X)`.\n",
    "\n",
    "OTOH, if the second goal `even(X)` is chosen as the first to resolve, then it will only unify with `even(2)`, which will change the other goal to `plus(2,Y,4)` which leaves only one choice.\n",
    "\n",
    "**Non-determinism is essential for correctness of abstract interpreter.**"
   ]
  },
  {
   "cell_type": "markdown",
   "metadata": {
    "slideshow": {
     "slide_type": "slide"
    }
   },
   "source": [
    "## Backtracking and choice points\n",
    "\n",
    "* The abstract interpreter does not explicitly encode backtracking (recover from bad choices) and choice points (present more than one result).\n",
    "* The program is said to be **deterministic**, if there is exactly one clause from the program to reduce each goal.\n",
    "  + No backtracking and choice points are necessary. "
   ]
  }
 ],
 "metadata": {
  "celltoolbar": "Slideshow",
  "kernelspec": {
   "display_name": "SWI-Prolog",
   "language": "",
   "name": "jswipl"
  },
  "language_info": {
   "mimetype": "text/plain",
   "name": "swipl"
  }
 },
 "nbformat": 4,
 "nbformat_minor": 2
}
